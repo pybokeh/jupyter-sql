{
 "cells": [
  {
   "cell_type": "markdown",
   "metadata": {},
   "source": [
    "# Installing JupyterLab Server"
   ]
  },
  {
   "cell_type": "markdown",
   "metadata": {},
   "source": [
    "- [Documentation](https://jupyter-server.readthedocs.io/en/latest/index.html) for installing jupyterlab server\n",
    "- Review [this](https://jupyter-server.readthedocs.io/en/latest/operators/public-server.html) for setting up the jupyterlab server"
   ]
  },
  {
   "cell_type": "markdown",
   "metadata": {},
   "source": [
    "### Installing with conda or pip"
   ]
  },
  {
   "cell_type": "code",
   "execution_count": null,
   "metadata": {},
   "outputs": [],
   "source": [
    "# On Windows, install using conda command from Anaconda/Miniconda distribution\n",
    "conda install jupyterlab\n",
    "\n",
    "# Otherwise:\n",
    "pip install jupyterlab"
   ]
  },
  {
   "cell_type": "markdown",
   "metadata": {},
   "source": [
    "### How to register other Python environments to your Jupyter Lab/Notebook Server (aka installing other kernels)"
   ]
  },
  {
   "cell_type": "markdown",
   "metadata": {},
   "source": [
    "The process entails first activating the other Python virtual environment and then installing ipykernel: ```conda install ipykernel``` or ```pip install ipykernel```"
   ]
  },
  {
   "cell_type": "markdown",
   "metadata": {},
   "source": [
    "Then issue the following command:"
   ]
  },
  {
   "cell_type": "markdown",
   "metadata": {},
   "source": [
    "```python -m ipykernel install --user --name myenv --display-name \"Python (myenv)\"```"
   ]
  },
  {
   "cell_type": "markdown",
   "metadata": {},
   "source": [
    "This [article](https://janakiev.com/blog/jupyter-virtual-envs/) explains the process in detail."
   ]
  },
  {
   "cell_type": "markdown",
   "metadata": {},
   "source": [
    "The ```--name``` value is used by Jupyter internally. These commands will overwrite any existing kernel with the same name. ```--display-name``` is what you see in the notebook menus.  For more info on working with multiple kernels, visit this [page](https://ipython.readthedocs.io/en/stable/install/kernel_install.html#kernels-for-different-environments)."
   ]
  },
  {
   "cell_type": "markdown",
   "metadata": {},
   "source": [
    "Then deactivate the virtual environment and then activate the virtual environment that has jupyter lab installed."
   ]
  },
  {
   "cell_type": "markdown",
   "metadata": {},
   "source": [
    "You can run this command to see what ```kernelspec```s are installed: ```jupyter kernelspec list```"
   ]
  },
  {
   "cell_type": "markdown",
   "metadata": {},
   "source": [
    "To obtain list of installed kernels:"
   ]
  },
  {
   "cell_type": "markdown",
   "metadata": {},
   "source": [
    "```jupyter kernelspec list```"
   ]
  },
  {
   "cell_type": "markdown",
   "metadata": {},
   "source": [
    "To delete a kernel:"
   ]
  },
  {
   "cell_type": "markdown",
   "metadata": {},
   "source": [
    "```jupyter kernelspec uninstall [kernel_name]```"
   ]
  },
  {
   "cell_type": "markdown",
   "metadata": {},
   "source": [
    "# Setting up jupyterlab server"
   ]
  },
  {
   "cell_type": "markdown",
   "metadata": {},
   "source": [
    "[Documentation](https://jupyter-server.readthedocs.io/en/latest/operators/public-server.html) for setting up the jupyterlab server."
   ]
  },
  {
   "cell_type": "markdown",
   "metadata": {},
   "source": [
    "**Create environment [variables](https://jupyter.readthedocs.io/en/latest/projects/jupyter-directories.html) to override default location where config file and extensions will be saved**"
   ]
  },
  {
   "cell_type": "code",
   "execution_count": null,
   "metadata": {
    "collapsed": true,
    "jupyter": {
     "outputs_hidden": true
    }
   },
   "outputs": [],
   "source": [
    "# Create JUPYTER_CONFIG_DIR (where config file will be saved) and \n",
    "# JUPYTER_DATA_DIR (where extensions will be saved) environment variables\n",
    "# In Windows, you can either create a .bat file or in advanced settings, do:\n",
    "set JUPYTER_CONFIG_DIR=your_path\n",
    "set JUPYTER_PATH=your_path\n",
    "set IPYTHONDIR=your_path\n",
    "\n",
    "# In Windows, to see the current value of a environment variable: echo %<env_variable>% or set <env_variable>\n",
    "# To persist the environment variables, add the set commands above in a .bat file or use Windows GUI\n",
    "\n",
    "# In Linux\n",
    "export JUPYTER_CONFIG_DIR=your_path\n",
    "export JUPYTER_PATH=your_path\n",
    "export IPYTHONDIR=your_path\n",
    "\n",
    "# To persist these environment variables for just your account, add them to the end of your ~/.profile file,\n",
    "# then \"update\" your profile by doing: source ~/.profile\n",
    "# To print the value of an environment variable: printenv <env_variable>"
   ]
  },
  {
   "cell_type": "markdown",
   "metadata": {},
   "source": [
    "**Generate config file and modify it to customize jupyter server for your needs.**"
   ]
  },
  {
   "cell_type": "code",
   "execution_count": null,
   "metadata": {
    "collapsed": true,
    "jupyter": {
     "outputs_hidden": true
    }
   },
   "outputs": [],
   "source": [
    "# With your environment activated and at the terminal, execute this to create a profile:\n",
    "jupyter server --generate-config\n",
    "\n",
    "# To confirm location of configuration file, at terminal:\n",
    "jupyter --config-dir\n",
    "\n",
    "# To confirm location of data directory (where installed extensions are saved), at terminal:\n",
    "jupyter --data-dir\n",
    "\n",
    "# or to get all paths:\n",
    "jupyter --paths\n",
    "\n",
    "# Then edit the jupyter_notebook_config.py file located at JUPYTER_CONFIG_DIR\n",
    "# Uncomment the following lines, if not already:\n",
    "c.ServerApp.ip = '127.0.0.1'\n",
    "c.ServerApp.port = 8888\n",
    "c.ServerApp.open_browser = False\n",
    "c.ServerApp.enable_mathjax = True\n",
    "c.ServerApp.base_url = '/jupyter/'  # or whatever you want to call it\n",
    "c.ServerApp.notebook_dir = '/home/user/your_notebook_dir'  # linux\n",
    "# or on Windows:\n",
    "c.ServerApp.notebbook_dir = r'D:\\your_notebook_dir'\n",
    "\n",
    "# That should be it!"
   ]
  },
  {
   "cell_type": "markdown",
   "metadata": {},
   "source": [
    "**Don't forget to [secure](https://jupyter-server.readthedocs.io/en/latest/operators/public-server.html) your jupyterlab server** by issuing this command at the terminal:<br>\n",
    "```jupyter server password```"
   ]
  },
  {
   "cell_type": "markdown",
   "metadata": {},
   "source": [
    "# Note on --user versus --sys-prefix options"
   ]
  },
  {
   "cell_type": "markdown",
   "metadata": {},
   "source": [
    "When installing extensions, if you are using virtual environments, it is recommended you use the --sys-prefix option when invoking pip install or conda install command.  What this does is install extensions to your ```my_environment\\share``` directory"
   ]
  },
  {
   "cell_type": "markdown",
   "metadata": {},
   "source": [
    "# Useful terminal commands especially for debugging:"
   ]
  },
  {
   "cell_type": "markdown",
   "metadata": {},
   "source": [
    "To list location of installed kernels:\n",
    "- ```jupyter kernelspec list```\n",
    "\n",
    "To list config, data, and runtime paths:\n",
    "- ```jupyter --paths```\n",
    "\n",
    "To view all environment variables (Windows):\n",
    "- set or set *specific_env_variable*\n",
    "\n",
    "To view all environment variables (Ubuntu):\n",
    "- printenv or printenv *specific_env_variable*"
   ]
  },
  {
   "cell_type": "markdown",
   "metadata": {},
   "source": [
    "## (DEPRECATED with JupyterLab 3.0) Installing ipywidgets - deprecated?  I think ipywidgets come installed with jupyter"
   ]
  },
  {
   "cell_type": "markdown",
   "metadata": {},
   "source": [
    "**NOTE:** - it is recommended that you use the --sys-prefix when installing extensions when using virtual environments.  This will override the JUPYTER_PATH environment variable as well if set."
   ]
  },
  {
   "cell_type": "markdown",
   "metadata": {},
   "source": [
    "pip install ipywidgets\n",
    "\n",
    "jupyter nbextension install --sys-prefix --py widgetsnbextension\n",
    "\n",
    "jupyter nbextension enable --py --sys-prefix widgetsnbextension"
   ]
  },
  {
   "cell_type": "markdown",
   "metadata": {},
   "source": [
    "## (DEPRECATED with JupyterLab 3.0) Installing the Notebook Extensions Configurator"
   ]
  },
  {
   "cell_type": "markdown",
   "metadata": {},
   "source": [
    "One step with conda:<br>\n",
    "```conda install -c conda-forge jupyter_nbextensions_configurator```\n",
    "\n",
    "or<br><br>\n",
    "Two steps with pip:<br>\n",
    "```pip install jupyter_nbextensions_configurator```<br>\n",
    "```jupyter nbextensions_configurator enable --sys-prefix```"
   ]
  },
  {
   "cell_type": "markdown",
   "metadata": {},
   "source": [
    "**NOTE:** ```--sys-prefix``` if using virtual environment, otherwise use ```--user```"
   ]
  },
  {
   "cell_type": "markdown",
   "metadata": {},
   "source": [
    "# (DEPRECATED with JupyterLab 3.0) Installing Notebook Extensions"
   ]
  },
  {
   "cell_type": "markdown",
   "metadata": {},
   "source": [
    "**NOTE:** - it is recommended that you use the --sys-prefix when installing extensions when using virtual environments.  This will override the JUPYTER_PATH environment variable as well if set."
   ]
  },
  {
   "cell_type": "markdown",
   "metadata": {},
   "source": [
    "[Documentation](https://github.com/ipython-contrib/IPython-notebook-extensions/) for installing notebook extensions.\n",
    "\n",
    "\n",
    "If installing with pip, it is a 2 step process:\n",
    "\n",
    "    1) pip install jupyter_contrib_nbextensions\n",
    "    2) jupyter contrib nbextension install --sys-prefix\n",
    "    \n",
    "With conda,it is a 1 step process:\n",
    "\n",
    "    - conda install -c conda-forge jupyter_contrib_nbextensions"
   ]
  },
  {
   "cell_type": "markdown",
   "metadata": {},
   "source": [
    "The extensions json configuration file can be found at: ```JUPYTER_CONFIG_DIR\\nbconfig\\notebook.json```"
   ]
  },
  {
   "cell_type": "markdown",
   "metadata": {},
   "source": [
    "# (DEPRECATED with JupyterLab 3.0) Configuring RISE Slide Show Extension"
   ]
  },
  {
   "cell_type": "markdown",
   "metadata": {},
   "source": [
    "Locate your ```CONFIG``` using jupyter command: ```jupyter --paths```"
   ]
  },
  {
   "cell_type": "markdown",
   "metadata": {},
   "source": [
    "**Then execute the following:**"
   ]
  },
  {
   "cell_type": "code",
   "execution_count": null,
   "metadata": {},
   "outputs": [],
   "source": [
    "from traitlets.config.manager import BaseJSONConfigManager\n",
    "path = \"/home/pybokeh/envs/notebook/etc/jupyter/nbconfig\"\n",
    "cm = BaseJSONConfigManager(config_dir=path)\n",
    "cm.update(\"livereveal\", {\n",
    "              \"scroll\": True,\n",
    "})"
   ]
  },
  {
   "cell_type": "markdown",
   "metadata": {},
   "source": [
    "**This will create or update a livereveal.json file located in your jupyter CONFIG directory**"
   ]
  },
  {
   "cell_type": "markdown",
   "metadata": {},
   "source": [
    "See [documentation](https://rise.readthedocs.io) for more details/options."
   ]
  },
  {
   "cell_type": "markdown",
   "metadata": {},
   "source": [
    "#### To host slides with a specific IP address:"
   ]
  },
  {
   "cell_type": "markdown",
   "metadata": {},
   "source": [
    "jupyter nbconvert your_slides.ipynb --to slides --post serve --ServePostProcessor.ip=\"your_ip\""
   ]
  }
 ],
 "metadata": {
  "hide_input": false,
  "kernelspec": {
   "display_name": "Python 3",
   "language": "python",
   "name": "python3"
  },
  "language_info": {
   "codemirror_mode": {
    "name": "ipython",
    "version": 3
   },
   "file_extension": ".py",
   "mimetype": "text/x-python",
   "name": "python",
   "nbconvert_exporter": "python",
   "pygments_lexer": "ipython3",
   "version": "3.8.5"
  },
  "varInspector": {
   "cols": {
    "lenName": 16,
    "lenType": 16,
    "lenVar": 40
   },
   "kernels_config": {
    "python": {
     "delete_cmd_postfix": "",
     "delete_cmd_prefix": "del ",
     "library": "var_list.py",
     "varRefreshCmd": "print(var_dic_list())"
    },
    "r": {
     "delete_cmd_postfix": ") ",
     "delete_cmd_prefix": "rm(",
     "library": "var_list.r",
     "varRefreshCmd": "cat(var_dic_list()) "
    }
   },
   "types_to_exclude": [
    "module",
    "function",
    "builtin_function_or_method",
    "instance",
    "_Feature"
   ],
   "window_display": false
  }
 },
 "nbformat": 4,
 "nbformat_minor": 4
}
