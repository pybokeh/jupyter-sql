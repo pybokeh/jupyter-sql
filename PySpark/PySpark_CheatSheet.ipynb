{
 "cells": [
  {
   "cell_type": "markdown",
   "id": "b53947ed-3385-4a7e-b3e9-3e8f65bb7cda",
   "metadata": {},
   "source": [
    "# Table of Contents"
   ]
  },
  {
   "cell_type": "markdown",
   "id": "c65ecf7f-ec2f-461d-b577-dfb3ae12de0a",
   "metadata": {},
   "source": [
    "## Input / Reading Data"
   ]
  },
  {
   "cell_type": "code",
   "execution_count": 1,
   "id": "037a0ecf-544f-4d19-be62-862016260a14",
   "metadata": {},
   "outputs": [],
   "source": [
    "from pyspark.sql import SparkSession\n",
    "spark = SparkSession.builder.master(\"local[*]\").getOrCreate()\n",
    "spark.conf.set(\"spark.sql.repl.eagerEval.enabled\", True) # Property used to format output tables better"
   ]
  },
  {
   "cell_type": "markdown",
   "id": "0b5e3f60-a4c5-4cda-beb9-dd815ca518e1",
   "metadata": {},
   "source": [
    "Sample data can be obtained from [here](https://jacobceles.github.io/knowledge_repo/colab_and_pyspark/cars.csv)."
   ]
  },
  {
   "cell_type": "markdown",
   "id": "1991eb8b-1a17-4281-babc-3221525b626b",
   "metadata": {},
   "source": [
    "#### Read csv file by infering or guessing schema"
   ]
  },
  {
   "cell_type": "code",
   "execution_count": 2,
   "id": "577c2f43-78af-4704-8df6-0f8dd4f535fc",
   "metadata": {},
   "outputs": [],
   "source": [
    "df = spark.read.csv('data/cars.csv', header=True, sep=\";\")"
   ]
  },
  {
   "cell_type": "code",
   "execution_count": 3,
   "id": "451fcd41-3635-47e7-987a-b8f2069e6d36",
   "metadata": {},
   "outputs": [
    {
     "name": "stdout",
     "output_type": "stream",
     "text": [
      "+--------------------+----+---------+------------+----------+------+------------+-----+------+\n",
      "|                 Car| MPG|Cylinders|Displacement|Horsepower|Weight|Acceleration|Model|Origin|\n",
      "+--------------------+----+---------+------------+----------+------+------------+-----+------+\n",
      "|Chevrolet Chevell...|18.0|        8|       307.0|     130.0| 3504.|        12.0|   70|    US|\n",
      "|   Buick Skylark 320|15.0|        8|       350.0|     165.0| 3693.|        11.5|   70|    US|\n",
      "|  Plymouth Satellite|18.0|        8|       318.0|     150.0| 3436.|        11.0|   70|    US|\n",
      "|       AMC Rebel SST|16.0|        8|       304.0|     150.0| 3433.|        12.0|   70|    US|\n",
      "|         Ford Torino|17.0|        8|       302.0|     140.0| 3449.|        10.5|   70|    US|\n",
      "+--------------------+----+---------+------------+----------+------+------------+-----+------+\n",
      "only showing top 5 rows\n",
      "\n"
     ]
    }
   ],
   "source": [
    "df.show(5)"
   ]
  },
  {
   "cell_type": "code",
   "execution_count": 4,
   "id": "e1f62653-0911-4cd1-a6c5-7f4eceff08b2",
   "metadata": {},
   "outputs": [
    {
     "name": "stdout",
     "output_type": "stream",
     "text": [
      "root\n",
      " |-- Car: string (nullable = true)\n",
      " |-- MPG: string (nullable = true)\n",
      " |-- Cylinders: string (nullable = true)\n",
      " |-- Displacement: string (nullable = true)\n",
      " |-- Horsepower: string (nullable = true)\n",
      " |-- Weight: string (nullable = true)\n",
      " |-- Acceleration: string (nullable = true)\n",
      " |-- Model: string (nullable = true)\n",
      " |-- Origin: string (nullable = true)\n",
      "\n"
     ]
    }
   ],
   "source": [
    "df.printSchema()"
   ]
  },
  {
   "cell_type": "markdown",
   "id": "d638ea9e-daf5-4b03-b5b9-e751ae989e70",
   "metadata": {},
   "source": [
    "#### Explicitly defining schema"
   ]
  },
  {
   "cell_type": "code",
   "execution_count": 5,
   "id": "21c857db-1950-4e45-bf1a-b26b7fb1067d",
   "metadata": {},
   "outputs": [],
   "source": [
    "from pyspark.sql.types import *"
   ]
  },
  {
   "cell_type": "code",
   "execution_count": 6,
   "id": "a0dcf822-7925-45f8-be43-0e33ca6aed01",
   "metadata": {},
   "outputs": [],
   "source": [
    "schema = StructType([\n",
    "    StructField(\"Car\", StringType(),True),\n",
    "    StructField(\"MPG\", DoubleType(),True),\n",
    "    StructField(\"Cylinders\", IntegerType(),True),\n",
    "    StructField(\"Displacement\", DoubleType(), True),\n",
    "    StructField(\"Horsepower\", DoubleType(), True),\n",
    "    StructField(\"Weight\", DoubleType(), True),\n",
    "    StructField(\"Acceleration\", IntegerType(), True),\n",
    "    StructField(\"Model\", IntegerType(), True),\n",
    "    StructField(\"Origin\", StringType(), True)\n",
    "  ])"
   ]
  },
  {
   "cell_type": "code",
   "execution_count": 7,
   "id": "631e2f4a-de57-424f-848f-4f89d3ba16fb",
   "metadata": {},
   "outputs": [],
   "source": [
    "df = spark.read.csv('data/cars.csv', header=True, sep=\";\", schema=schema)"
   ]
  },
  {
   "cell_type": "code",
   "execution_count": 8,
   "id": "46553d3a-b22f-4f4f-9721-fcf3c8181079",
   "metadata": {},
   "outputs": [
    {
     "name": "stdout",
     "output_type": "stream",
     "text": [
      "root\n",
      " |-- Car: string (nullable = true)\n",
      " |-- MPG: double (nullable = true)\n",
      " |-- Cylinders: integer (nullable = true)\n",
      " |-- Displacement: double (nullable = true)\n",
      " |-- Horsepower: double (nullable = true)\n",
      " |-- Weight: double (nullable = true)\n",
      " |-- Acceleration: integer (nullable = true)\n",
      " |-- Model: integer (nullable = true)\n",
      " |-- Origin: string (nullable = true)\n",
      "\n"
     ]
    }
   ],
   "source": [
    "df.printSchema()"
   ]
  },
  {
   "cell_type": "code",
   "execution_count": 9,
   "id": "869a898e-da63-4602-a626-9ba1283733ff",
   "metadata": {},
   "outputs": [
    {
     "name": "stdout",
     "output_type": "stream",
     "text": [
      "+--------------------+----+---------+------------+----------+------+------------+-----+------+\n",
      "|                 Car| MPG|Cylinders|Displacement|Horsepower|Weight|Acceleration|Model|Origin|\n",
      "+--------------------+----+---------+------------+----------+------+------------+-----+------+\n",
      "|Chevrolet Chevell...|18.0|        8|       307.0|     130.0|3504.0|        null|   70|    US|\n",
      "|   Buick Skylark 320|15.0|        8|       350.0|     165.0|3693.0|        null|   70|    US|\n",
      "|  Plymouth Satellite|18.0|        8|       318.0|     150.0|3436.0|        null|   70|    US|\n",
      "|       AMC Rebel SST|16.0|        8|       304.0|     150.0|3433.0|        null|   70|    US|\n",
      "|         Ford Torino|17.0|        8|       302.0|     140.0|3449.0|        null|   70|    US|\n",
      "+--------------------+----+---------+------------+----------+------+------------+-----+------+\n",
      "only showing top 5 rows\n",
      "\n"
     ]
    }
   ],
   "source": [
    "df.show(5)"
   ]
  },
  {
   "cell_type": "markdown",
   "id": "8c1bc4eb-0ac5-4060-8644-24a2c41069f1",
   "metadata": {},
   "source": [
    "## Data Transformations"
   ]
  },
  {
   "cell_type": "markdown",
   "id": "280e9342-9202-4223-ba58-d7d11658e637",
   "metadata": {},
   "source": [
    "#### Split String into Array Tokens and Make New Columns From Them"
   ]
  },
  {
   "cell_type": "code",
   "execution_count": 10,
   "id": "41ae9161-0e84-4134-971a-d0721cee31f7",
   "metadata": {},
   "outputs": [],
   "source": [
    "from pyspark.sql.functions import split, col"
   ]
  },
  {
   "cell_type": "code",
   "execution_count": 11,
   "id": "169b694f-4246-4a32-94e6-fbf63af0b75a",
   "metadata": {},
   "outputs": [],
   "source": [
    "df = df.withColumn(\n",
    "    \"Make\", split(col(\"Car\"), \" \")\n",
    "    .getItem(0)\n",
    ").withColumn(\n",
    "    \"Model\", split(col(\"Car\"), \" \")\n",
    "    .getItem(1)\n",
    ")"
   ]
  },
  {
   "cell_type": "code",
   "execution_count": 12,
   "id": "4eb921f7-14d5-4db0-99af-2ff6576ffe00",
   "metadata": {},
   "outputs": [
    {
     "name": "stdout",
     "output_type": "stream",
     "text": [
      "+-------------------------+----+---------+------------+----------+------+------------+---------+------+---------+\n",
      "|Car                      |MPG |Cylinders|Displacement|Horsepower|Weight|Acceleration|Model    |Origin|Make     |\n",
      "+-------------------------+----+---------+------------+----------+------+------------+---------+------+---------+\n",
      "|Chevrolet Chevelle Malibu|18.0|8        |307.0       |130.0     |3504.0|null        |Chevelle |US    |Chevrolet|\n",
      "|Buick Skylark 320        |15.0|8        |350.0       |165.0     |3693.0|null        |Skylark  |US    |Buick    |\n",
      "|Plymouth Satellite       |18.0|8        |318.0       |150.0     |3436.0|null        |Satellite|US    |Plymouth |\n",
      "|AMC Rebel SST            |16.0|8        |304.0       |150.0     |3433.0|null        |Rebel    |US    |AMC      |\n",
      "|Ford Torino              |17.0|8        |302.0       |140.0     |3449.0|null        |Torino   |US    |Ford     |\n",
      "+-------------------------+----+---------+------------+----------+------+------------+---------+------+---------+\n",
      "only showing top 5 rows\n",
      "\n"
     ]
    }
   ],
   "source": [
    "df.show(5, truncate=False)"
   ]
  },
  {
   "cell_type": "markdown",
   "id": "108af1fb-69ff-49b4-944d-ab37c1c3ca60",
   "metadata": {},
   "source": [
    "#### Order by Single Column"
   ]
  },
  {
   "cell_type": "code",
   "execution_count": 13,
   "id": "8c8c029c-b119-49cd-92b1-404bcdb566bd",
   "metadata": {},
   "outputs": [
    {
     "name": "stdout",
     "output_type": "stream",
     "text": [
      "+-------------------------------+----+---------+------------+----------+------+------------+------+------+----------+\n",
      "|Car                            |MPG |Cylinders|Displacement|Horsepower|Weight|Acceleration|Model |Origin|Make      |\n",
      "+-------------------------------+----+---------+------------+----------+------+------------+------+------+----------+\n",
      "|Mazda GLC                      |46.6|4        |86.0        |65.0      |2110.0|null        |GLC   |Japan |Mazda     |\n",
      "|Honda Civic 1500 gl            |44.6|4        |91.0        |67.0      |1850.0|null        |Civic |Japan |Honda     |\n",
      "|Volkswagen Rabbit C (Diesel)   |44.3|4        |90.0        |48.0      |2085.0|null        |Rabbit|Europe|Volkswagen|\n",
      "|Volkswagen Pickup              |44.0|4        |97.0        |52.0      |2130.0|null        |Pickup|Europe|Volkswagen|\n",
      "|Volkswagen Dasher (diesel)     |43.4|4        |90.0        |48.0      |2335.0|null        |Dasher|Europe|Volkswagen|\n",
      "|Volkswagen Rabbit Custom Diesel|43.1|4        |90.0        |48.0      |1985.0|null        |Rabbit|Europe|Volkswagen|\n",
      "|Volkswagen Rabbit              |41.5|4        |98.0        |76.0      |2144.0|null        |Rabbit|Europe|Volkswagen|\n",
      "|Renault Lecar Deluxe           |40.9|4        |85.0        |0.0       |1835.0|null        |Lecar |Europe|Renault   |\n",
      "|Datsun 210                     |40.8|4        |85.0        |65.0      |2110.0|null        |210   |Japan |Datsun    |\n",
      "|Datsun B210 GX                 |39.4|4        |85.0        |70.0      |2070.0|null        |B210  |Japan |Datsun    |\n",
      "+-------------------------------+----+---------+------------+----------+------+------------+------+------+----------+\n",
      "only showing top 10 rows\n",
      "\n"
     ]
    }
   ],
   "source": [
    "df.orderBy('MPG', ascending=False).show(10, truncate=False)"
   ]
  },
  {
   "cell_type": "markdown",
   "id": "27ec2137-73f7-4740-9036-5d604366475b",
   "metadata": {},
   "source": [
    "#### Order By Multiple Columns"
   ]
  },
  {
   "cell_type": "code",
   "execution_count": 14,
   "id": "11318f8f-6dd2-40de-91ab-7d28ba086315",
   "metadata": {},
   "outputs": [
    {
     "name": "stdout",
     "output_type": "stream",
     "text": [
      "+-------------------------------+----+---------+------------+----------+------+------------+------+------+----------+\n",
      "|Car                            |MPG |Cylinders|Displacement|Horsepower|Weight|Acceleration|Model |Origin|Make      |\n",
      "+-------------------------------+----+---------+------------+----------+------+------------+------+------+----------+\n",
      "|Mazda GLC                      |46.6|4        |86.0        |65.0      |2110.0|null        |GLC   |Japan |Mazda     |\n",
      "|Honda Civic 1500 gl            |44.6|4        |91.0        |67.0      |1850.0|null        |Civic |Japan |Honda     |\n",
      "|Volkswagen Rabbit C (Diesel)   |44.3|4        |90.0        |48.0      |2085.0|null        |Rabbit|Europe|Volkswagen|\n",
      "|Volkswagen Pickup              |44.0|4        |97.0        |52.0      |2130.0|null        |Pickup|Europe|Volkswagen|\n",
      "|Volkswagen Dasher (diesel)     |43.4|4        |90.0        |48.0      |2335.0|null        |Dasher|Europe|Volkswagen|\n",
      "|Volkswagen Rabbit Custom Diesel|43.1|4        |90.0        |48.0      |1985.0|null        |Rabbit|Europe|Volkswagen|\n",
      "|Volkswagen Rabbit              |41.5|4        |98.0        |76.0      |2144.0|null        |Rabbit|Europe|Volkswagen|\n",
      "|Renault Lecar Deluxe           |40.9|4        |85.0        |0.0       |1835.0|null        |Lecar |Europe|Renault   |\n",
      "|Datsun 210                     |40.8|4        |85.0        |65.0      |2110.0|null        |210   |Japan |Datsun    |\n",
      "|Datsun B210 GX                 |39.4|4        |85.0        |70.0      |2070.0|null        |B210  |Japan |Datsun    |\n",
      "+-------------------------------+----+---------+------------+----------+------+------------+------+------+----------+\n",
      "only showing top 10 rows\n",
      "\n"
     ]
    }
   ],
   "source": [
    "df.orderBy(['MPG','Displacement'], ascending=[False, True]).show(10, truncate=False)"
   ]
  },
  {
   "cell_type": "markdown",
   "id": "6e254f8a-8a45-4375-b965-0ce5de66265f",
   "metadata": {},
   "source": [
    "#### Re-Arrange Columns using `select()`"
   ]
  },
  {
   "cell_type": "code",
   "execution_count": 15,
   "id": "a2c87957-0040-4f1a-8e74-942d221af823",
   "metadata": {},
   "outputs": [
    {
     "data": {
      "text/html": [
       "<table border='1'>\n",
       "<tr><th>Make</th><th>Model</th><th>MPG</th><th>Cylinders</th><th>Displacement</th><th>Horsepower</th><th>Weight</th><th>Acceleration</th><th>Origin</th></tr>\n",
       "<tr><td>Chevrolet</td><td>Chevelle</td><td>18.0</td><td>8</td><td>307.0</td><td>130.0</td><td>3504.0</td><td>null</td><td>US</td></tr>\n",
       "<tr><td>Buick</td><td>Skylark</td><td>15.0</td><td>8</td><td>350.0</td><td>165.0</td><td>3693.0</td><td>null</td><td>US</td></tr>\n",
       "<tr><td>Plymouth</td><td>Satellite</td><td>18.0</td><td>8</td><td>318.0</td><td>150.0</td><td>3436.0</td><td>null</td><td>US</td></tr>\n",
       "<tr><td>AMC</td><td>Rebel</td><td>16.0</td><td>8</td><td>304.0</td><td>150.0</td><td>3433.0</td><td>null</td><td>US</td></tr>\n",
       "<tr><td>Ford</td><td>Torino</td><td>17.0</td><td>8</td><td>302.0</td><td>140.0</td><td>3449.0</td><td>null</td><td>US</td></tr>\n",
       "<tr><td>Ford</td><td>Galaxie</td><td>15.0</td><td>8</td><td>429.0</td><td>198.0</td><td>4341.0</td><td>null</td><td>US</td></tr>\n",
       "<tr><td>Chevrolet</td><td>Impala</td><td>14.0</td><td>8</td><td>454.0</td><td>220.0</td><td>4354.0</td><td>null</td><td>US</td></tr>\n",
       "<tr><td>Plymouth</td><td>Fury</td><td>14.0</td><td>8</td><td>440.0</td><td>215.0</td><td>4312.0</td><td>null</td><td>US</td></tr>\n",
       "<tr><td>Pontiac</td><td>Catalina</td><td>14.0</td><td>8</td><td>455.0</td><td>225.0</td><td>4425.0</td><td>null</td><td>US</td></tr>\n",
       "<tr><td>AMC</td><td>Ambassador</td><td>15.0</td><td>8</td><td>390.0</td><td>190.0</td><td>3850.0</td><td>null</td><td>US</td></tr>\n",
       "<tr><td>Citroen</td><td>DS-21</td><td>0.0</td><td>4</td><td>133.0</td><td>115.0</td><td>3090.0</td><td>null</td><td>Europe</td></tr>\n",
       "<tr><td>Chevrolet</td><td>Chevelle</td><td>0.0</td><td>8</td><td>350.0</td><td>165.0</td><td>4142.0</td><td>null</td><td>US</td></tr>\n",
       "<tr><td>Ford</td><td>Torino</td><td>0.0</td><td>8</td><td>351.0</td><td>153.0</td><td>4034.0</td><td>null</td><td>US</td></tr>\n",
       "<tr><td>Plymouth</td><td>Satellite</td><td>0.0</td><td>8</td><td>383.0</td><td>175.0</td><td>4166.0</td><td>null</td><td>US</td></tr>\n",
       "<tr><td>AMC</td><td>Rebel</td><td>0.0</td><td>8</td><td>360.0</td><td>175.0</td><td>3850.0</td><td>null</td><td>US</td></tr>\n",
       "<tr><td>Dodge</td><td>Challenger</td><td>15.0</td><td>8</td><td>383.0</td><td>170.0</td><td>3563.0</td><td>null</td><td>US</td></tr>\n",
       "<tr><td>Plymouth</td><td>&#x27;Cuda</td><td>14.0</td><td>8</td><td>340.0</td><td>160.0</td><td>3609.0</td><td>null</td><td>US</td></tr>\n",
       "<tr><td>Ford</td><td>Mustang</td><td>0.0</td><td>8</td><td>302.0</td><td>140.0</td><td>3353.0</td><td>null</td><td>US</td></tr>\n",
       "<tr><td>Chevrolet</td><td>Monte</td><td>15.0</td><td>8</td><td>400.0</td><td>150.0</td><td>3761.0</td><td>null</td><td>US</td></tr>\n",
       "<tr><td>Buick</td><td>Estate</td><td>14.0</td><td>8</td><td>455.0</td><td>225.0</td><td>3086.0</td><td>null</td><td>US</td></tr>\n",
       "</table>\n",
       "only showing top 20 rows\n"
      ],
      "text/plain": [
       "+---------+----------+----+---------+------------+----------+------+------------+------+\n",
       "|     Make|     Model| MPG|Cylinders|Displacement|Horsepower|Weight|Acceleration|Origin|\n",
       "+---------+----------+----+---------+------------+----------+------+------------+------+\n",
       "|Chevrolet|  Chevelle|18.0|        8|       307.0|     130.0|3504.0|        null|    US|\n",
       "|    Buick|   Skylark|15.0|        8|       350.0|     165.0|3693.0|        null|    US|\n",
       "| Plymouth| Satellite|18.0|        8|       318.0|     150.0|3436.0|        null|    US|\n",
       "|      AMC|     Rebel|16.0|        8|       304.0|     150.0|3433.0|        null|    US|\n",
       "|     Ford|    Torino|17.0|        8|       302.0|     140.0|3449.0|        null|    US|\n",
       "|     Ford|   Galaxie|15.0|        8|       429.0|     198.0|4341.0|        null|    US|\n",
       "|Chevrolet|    Impala|14.0|        8|       454.0|     220.0|4354.0|        null|    US|\n",
       "| Plymouth|      Fury|14.0|        8|       440.0|     215.0|4312.0|        null|    US|\n",
       "|  Pontiac|  Catalina|14.0|        8|       455.0|     225.0|4425.0|        null|    US|\n",
       "|      AMC|Ambassador|15.0|        8|       390.0|     190.0|3850.0|        null|    US|\n",
       "|  Citroen|     DS-21| 0.0|        4|       133.0|     115.0|3090.0|        null|Europe|\n",
       "|Chevrolet|  Chevelle| 0.0|        8|       350.0|     165.0|4142.0|        null|    US|\n",
       "|     Ford|    Torino| 0.0|        8|       351.0|     153.0|4034.0|        null|    US|\n",
       "| Plymouth| Satellite| 0.0|        8|       383.0|     175.0|4166.0|        null|    US|\n",
       "|      AMC|     Rebel| 0.0|        8|       360.0|     175.0|3850.0|        null|    US|\n",
       "|    Dodge|Challenger|15.0|        8|       383.0|     170.0|3563.0|        null|    US|\n",
       "| Plymouth|     'Cuda|14.0|        8|       340.0|     160.0|3609.0|        null|    US|\n",
       "|     Ford|   Mustang| 0.0|        8|       302.0|     140.0|3353.0|        null|    US|\n",
       "|Chevrolet|     Monte|15.0|        8|       400.0|     150.0|3761.0|        null|    US|\n",
       "|    Buick|    Estate|14.0|        8|       455.0|     225.0|3086.0|        null|    US|\n",
       "+---------+----------+----+---------+------------+----------+------+------------+------+\n",
       "only showing top 20 rows"
      ]
     },
     "execution_count": 15,
     "metadata": {},
     "output_type": "execute_result"
    }
   ],
   "source": [
    "df.select('Make', 'Model', 'MPG', 'Cylinders', 'Displacement', 'Horsepower', 'Weight', 'Acceleration', 'Origin')"
   ]
  },
  {
   "cell_type": "markdown",
   "id": "5ffc5f91-9a26-43f9-a0b3-617b213eefcd",
   "metadata": {},
   "source": [
    "#### Using UDF to Create New Column"
   ]
  },
  {
   "cell_type": "code",
   "execution_count": 16,
   "id": "b371fde8-a5e2-4630-b0c9-f5131899cba8",
   "metadata": {},
   "outputs": [],
   "source": [
    "data = [\n",
    "    (\"bacon\", 4.0),\n",
    "    (\"pulled pork\", 3.0),\n",
    "    (\"bacon\", 12.0),\n",
    "    (\"pastrami\", 6.0),\n",
    "    (\"corned beef\", 7.5),\n",
    "    (\"bacon\", 8.0),\n",
    "    (\"pastrami\", 3.0),\n",
    "    (\"honey ham\", 5.0),\n",
    "    (\"nova lox\", 6.0),\n",
    "  ]"
   ]
  },
  {
   "cell_type": "code",
   "execution_count": 17,
   "id": "5068972a-f7be-44f8-875f-cc2eed32ed8b",
   "metadata": {},
   "outputs": [],
   "source": [
    "schema = StructType([\n",
    "    StructField(\"Food\", StringType(),True),\n",
    "    StructField(\"Ounces\", DoubleType(),True),\n",
    "  ])"
   ]
  },
  {
   "cell_type": "code",
   "execution_count": 18,
   "id": "0c73dae9-1c66-4005-9c76-1071d694dec9",
   "metadata": {},
   "outputs": [],
   "source": [
    "df_food = spark.createDataFrame(data=data,schema=schema)"
   ]
  },
  {
   "cell_type": "code",
   "execution_count": 19,
   "id": "3a509065-aa38-4aaf-8f69-b4b4e0ebaea9",
   "metadata": {},
   "outputs": [
    {
     "name": "stdout",
     "output_type": "stream",
     "text": [
      "+-----------+------+\n",
      "|       Food|Ounces|\n",
      "+-----------+------+\n",
      "|      bacon|   4.0|\n",
      "|pulled pork|   3.0|\n",
      "|      bacon|  12.0|\n",
      "|   pastrami|   6.0|\n",
      "|corned beef|   7.5|\n",
      "|      bacon|   8.0|\n",
      "|   pastrami|   3.0|\n",
      "|  honey ham|   5.0|\n",
      "|   nova lox|   6.0|\n",
      "+-----------+------+\n",
      "\n"
     ]
    }
   ],
   "source": [
    "df_food.show()"
   ]
  },
  {
   "cell_type": "code",
   "execution_count": 20,
   "id": "f1b9bb1b-cb03-4bd0-9056-ae9068bd64f7",
   "metadata": {},
   "outputs": [],
   "source": [
    "from pyspark.sql.functions import udf"
   ]
  },
  {
   "cell_type": "code",
   "execution_count": 21,
   "id": "9f77d167-9c78-4109-9db1-47d36642ddf8",
   "metadata": {},
   "outputs": [],
   "source": [
    "def food2animal(column):\n",
    "    if column == 'bacon':\n",
    "        return 'pig'\n",
    "    elif column == 'pulled pork':\n",
    "        return 'pig'\n",
    "    elif column == 'pastrami':\n",
    "        return 'cow'\n",
    "    elif column == 'corned beef':\n",
    "        return 'cow'\n",
    "    elif column == 'honey ham':\n",
    "        return 'pig'\n",
    "    else:\n",
    "        return 'salmon'"
   ]
  },
  {
   "cell_type": "code",
   "execution_count": 22,
   "id": "5c27b954-7ba5-4ab9-8fe1-ba04c699b587",
   "metadata": {},
   "outputs": [],
   "source": [
    "food2animal_udf = udf(food2animal, StringType())"
   ]
  },
  {
   "cell_type": "code",
   "execution_count": 23,
   "id": "85c09490-2482-417b-8d64-33e207f0f6c7",
   "metadata": {},
   "outputs": [],
   "source": [
    "df_food_with_animal = df_food.withColumn(\"animal\", food2animal_udf(\"Food\"))"
   ]
  },
  {
   "cell_type": "code",
   "execution_count": 24,
   "id": "ba999d25-4ff8-4156-91db-0cc0a1f486c7",
   "metadata": {},
   "outputs": [
    {
     "name": "stdout",
     "output_type": "stream",
     "text": [
      "+-----------+------+------+\n",
      "|       Food|Ounces|animal|\n",
      "+-----------+------+------+\n",
      "|      bacon|   4.0|   pig|\n",
      "|pulled pork|   3.0|   pig|\n",
      "|      bacon|  12.0|   pig|\n",
      "|   pastrami|   6.0|   cow|\n",
      "|corned beef|   7.5|   cow|\n",
      "|      bacon|   8.0|   pig|\n",
      "|   pastrami|   3.0|   cow|\n",
      "|  honey ham|   5.0|   pig|\n",
      "|   nova lox|   6.0|salmon|\n",
      "+-----------+------+------+\n",
      "\n"
     ]
    }
   ],
   "source": [
    "df_food_with_animal.show()"
   ]
  },
  {
   "cell_type": "markdown",
   "id": "95e61fcc-27d4-4276-942a-ac95ba169106",
   "metadata": {},
   "source": [
    "#### Using `when` to duplicate IF-ELSE Logic To Create New Column"
   ]
  },
  {
   "cell_type": "code",
   "execution_count": 25,
   "id": "9e27ff58-d312-4aee-be3e-5aede9ec0f59",
   "metadata": {},
   "outputs": [],
   "source": [
    "from pyspark.sql.functions import when"
   ]
  },
  {
   "cell_type": "code",
   "execution_count": 26,
   "id": "c3e4a3de-319e-4c7c-a793-3dcb26feeecf",
   "metadata": {},
   "outputs": [],
   "source": [
    "data = [\n",
    "    (\"bacon\", 4.0),\n",
    "    (\"pulled pork\", 3.0),\n",
    "    (\"bacon\", 12.0),\n",
    "    (\"pastrami\", 6.0),\n",
    "    (\"corned beef\", 7.5),\n",
    "    (\"bacon\", 8.0),\n",
    "    (\"pastrami\", 3.0),\n",
    "    (\"honey ham\", 5.0),\n",
    "    (\"nova lox\", 6.0),\n",
    "  ]\n",
    "\n",
    "schema = StructType([\n",
    "    StructField(\"Food\", StringType(),True),\n",
    "    StructField(\"Ounces\", DoubleType(),True),\n",
    "  ])\n",
    "\n",
    "df_food = spark.createDataFrame(data=data,schema=schema)"
   ]
  },
  {
   "cell_type": "code",
   "execution_count": 27,
   "id": "da733348-e6e7-4ac6-8ff4-dc323912475f",
   "metadata": {},
   "outputs": [
    {
     "name": "stdout",
     "output_type": "stream",
     "text": [
      "+-----------+------+\n",
      "|       Food|Ounces|\n",
      "+-----------+------+\n",
      "|      bacon|   4.0|\n",
      "|pulled pork|   3.0|\n",
      "|      bacon|  12.0|\n",
      "|   pastrami|   6.0|\n",
      "|corned beef|   7.5|\n",
      "|      bacon|   8.0|\n",
      "|   pastrami|   3.0|\n",
      "|  honey ham|   5.0|\n",
      "|   nova lox|   6.0|\n",
      "+-----------+------+\n",
      "\n"
     ]
    }
   ],
   "source": [
    "df_food.show()"
   ]
  },
  {
   "cell_type": "code",
   "execution_count": 28,
   "id": "13926ea7-9a7d-4a01-87d7-299b29c19ddc",
   "metadata": {},
   "outputs": [
    {
     "data": {
      "text/html": [
       "<table border='1'>\n",
       "<tr><th>Food</th><th>Ounces</th><th>Animal</th></tr>\n",
       "<tr><td>bacon</td><td>4.0</td><td>pork</td></tr>\n",
       "<tr><td>pulled pork</td><td>3.0</td><td>pork</td></tr>\n",
       "<tr><td>bacon</td><td>12.0</td><td>pork</td></tr>\n",
       "<tr><td>pastrami</td><td>6.0</td><td>cow</td></tr>\n",
       "<tr><td>corned beef</td><td>7.5</td><td>cow</td></tr>\n",
       "<tr><td>bacon</td><td>8.0</td><td>pork</td></tr>\n",
       "<tr><td>pastrami</td><td>3.0</td><td>cow</td></tr>\n",
       "<tr><td>honey ham</td><td>5.0</td><td>pig</td></tr>\n",
       "<tr><td>nova lox</td><td>6.0</td><td>salmon</td></tr>\n",
       "</table>\n"
      ],
      "text/plain": [
       "+-----------+------+------+\n",
       "|       Food|Ounces|Animal|\n",
       "+-----------+------+------+\n",
       "|      bacon|   4.0|  pork|\n",
       "|pulled pork|   3.0|  pork|\n",
       "|      bacon|  12.0|  pork|\n",
       "|   pastrami|   6.0|   cow|\n",
       "|corned beef|   7.5|   cow|\n",
       "|      bacon|   8.0|  pork|\n",
       "|   pastrami|   3.0|   cow|\n",
       "|  honey ham|   5.0|   pig|\n",
       "|   nova lox|   6.0|salmon|\n",
       "+-----------+------+------+"
      ]
     },
     "execution_count": 28,
     "metadata": {},
     "output_type": "execute_result"
    }
   ],
   "source": [
    "df_food.withColumn(\n",
    "    'Animal',\n",
    "    when(col(\"Food\") == 'bacon', 'pork')\n",
    "    .when(col(\"Food\") == 'pulled pork', 'pork')\n",
    "    .when(col(\"Food\") == 'pastrami', 'cow')\n",
    "    .when(col(\"Food\") == 'corned beef', 'cow')\n",
    "    .when(col(\"Food\") == 'honey ham', 'pig')\n",
    "    .otherwise('salmon')\n",
    ")"
   ]
  },
  {
   "cell_type": "markdown",
   "id": "42a2bcab-89a9-40b2-9453-f9f7b02397f1",
   "metadata": {},
   "source": [
    "#### Using sql to create new column"
   ]
  },
  {
   "cell_type": "code",
   "execution_count": 29,
   "id": "09818a4d-1f1c-440e-a97d-f54af2850a66",
   "metadata": {},
   "outputs": [],
   "source": [
    "from pyspark.sql import SQLContext\n",
    "sqlContext = SQLContext(spark)"
   ]
  },
  {
   "cell_type": "code",
   "execution_count": 30,
   "id": "ea65a8f1-76b4-459a-9079-e30187d4f0a9",
   "metadata": {},
   "outputs": [],
   "source": [
    "data = [\n",
    "    (\"bacon\", 4.0),\n",
    "    (\"pulled pork\", 3.0),\n",
    "    (\"bacon\", 12.0),\n",
    "    (\"pastrami\", 6.0),\n",
    "    (\"corned beef\", 7.5),\n",
    "    (\"bacon\", 8.0),\n",
    "    (\"pastrami\", 3.0),\n",
    "    (\"honey ham\", 5.0),\n",
    "    (\"nova lox\", 6.0),\n",
    "  ]\n",
    "\n",
    "schema = StructType([\n",
    "    StructField(\"Food\", StringType(),True),\n",
    "    StructField(\"Ounces\", DoubleType(),True),\n",
    "  ])\n",
    "\n",
    "df_food = spark.createDataFrame(data=data,schema=schema)"
   ]
  },
  {
   "cell_type": "code",
   "execution_count": 31,
   "id": "467b9233-5c3a-4bef-90b6-b5caac73f802",
   "metadata": {},
   "outputs": [
    {
     "name": "stdout",
     "output_type": "stream",
     "text": [
      "+-----------+------+------+\n",
      "|       Food|Ounces|Animal|\n",
      "+-----------+------+------+\n",
      "|      bacon|   4.0|   pig|\n",
      "|pulled pork|   3.0|   pig|\n",
      "|      bacon|  12.0|   pig|\n",
      "|   pastrami|   6.0|   cow|\n",
      "|corned beef|   7.5|   cow|\n",
      "|      bacon|   8.0|   pig|\n",
      "|   pastrami|   3.0|   cow|\n",
      "|  honey ham|   5.0|   pig|\n",
      "|   nova lox|   6.0|salmon|\n",
      "+-----------+------+------+\n",
      "\n"
     ]
    }
   ],
   "source": [
    "df_food.registerTempTable('food_table')\n",
    "newDF = sqlContext.sql(\n",
    "    '''\n",
    "    select *,\n",
    "    case\n",
    "    when Food = 'bacon' then 'pig'\n",
    "    when Food = 'pulled pork' then 'pig'\n",
    "    when Food = 'pastrami' then 'cow'\n",
    "    when Food = 'corned beef' then 'cow'\n",
    "    when Food = 'honey ham' then 'pig'\n",
    "    else 'salmon' end as Animal from food_table\n",
    "    '''\n",
    ")\n",
    "newDF.show()"
   ]
  },
  {
   "cell_type": "markdown",
   "id": "1f7385bf-9470-40b5-80ff-caf34ac03fde",
   "metadata": {},
   "source": [
    "## Data Summarizations"
   ]
  },
  {
   "cell_type": "code",
   "execution_count": 32,
   "id": "27b9ecaa-40b4-449e-bddb-7e704a7a228a",
   "metadata": {},
   "outputs": [
    {
     "name": "stdout",
     "output_type": "stream",
     "text": [
      "+--------------------------------+----+---------+------------+----------+------+------------+----------+------+---------+\n",
      "|Car                             |MPG |Cylinders|Displacement|Horsepower|Weight|Acceleration|Model     |Origin|Make     |\n",
      "+--------------------------------+----+---------+------------+----------+------+------------+----------+------+---------+\n",
      "|Chevrolet Chevelle Malibu       |18.0|8        |307.0       |130.0     |3504.0|null        |Chevelle  |US    |Chevrolet|\n",
      "|Buick Skylark 320               |15.0|8        |350.0       |165.0     |3693.0|null        |Skylark   |US    |Buick    |\n",
      "|Plymouth Satellite              |18.0|8        |318.0       |150.0     |3436.0|null        |Satellite |US    |Plymouth |\n",
      "|AMC Rebel SST                   |16.0|8        |304.0       |150.0     |3433.0|null        |Rebel     |US    |AMC      |\n",
      "|Ford Torino                     |17.0|8        |302.0       |140.0     |3449.0|null        |Torino    |US    |Ford     |\n",
      "|Ford Galaxie 500                |15.0|8        |429.0       |198.0     |4341.0|null        |Galaxie   |US    |Ford     |\n",
      "|Chevrolet Impala                |14.0|8        |454.0       |220.0     |4354.0|null        |Impala    |US    |Chevrolet|\n",
      "|Plymouth Fury iii               |14.0|8        |440.0       |215.0     |4312.0|null        |Fury      |US    |Plymouth |\n",
      "|Pontiac Catalina                |14.0|8        |455.0       |225.0     |4425.0|null        |Catalina  |US    |Pontiac  |\n",
      "|AMC Ambassador DPL              |15.0|8        |390.0       |190.0     |3850.0|null        |Ambassador|US    |AMC      |\n",
      "|Citroen DS-21 Pallas            |0.0 |4        |133.0       |115.0     |3090.0|null        |DS-21     |Europe|Citroen  |\n",
      "|Chevrolet Chevelle Concours (sw)|0.0 |8        |350.0       |165.0     |4142.0|null        |Chevelle  |US    |Chevrolet|\n",
      "|Ford Torino (sw)                |0.0 |8        |351.0       |153.0     |4034.0|null        |Torino    |US    |Ford     |\n",
      "|Plymouth Satellite (sw)         |0.0 |8        |383.0       |175.0     |4166.0|null        |Satellite |US    |Plymouth |\n",
      "|AMC Rebel SST (sw)              |0.0 |8        |360.0       |175.0     |3850.0|null        |Rebel     |US    |AMC      |\n",
      "|Dodge Challenger SE             |15.0|8        |383.0       |170.0     |3563.0|null        |Challenger|US    |Dodge    |\n",
      "|Plymouth 'Cuda 340              |14.0|8        |340.0       |160.0     |3609.0|null        |'Cuda     |US    |Plymouth |\n",
      "|Ford Mustang Boss 302           |0.0 |8        |302.0       |140.0     |3353.0|null        |Mustang   |US    |Ford     |\n",
      "|Chevrolet Monte Carlo           |15.0|8        |400.0       |150.0     |3761.0|null        |Monte     |US    |Chevrolet|\n",
      "|Buick Estate Wagon (sw)         |14.0|8        |455.0       |225.0     |3086.0|null        |Estate    |US    |Buick    |\n",
      "+--------------------------------+----+---------+------------+----------+------+------------+----------+------+---------+\n",
      "only showing top 20 rows\n",
      "\n"
     ]
    }
   ],
   "source": [
    "df.show(truncate=False)"
   ]
  },
  {
   "cell_type": "markdown",
   "id": "e253cccf-9adb-45f4-a66f-20ccb8b68956",
   "metadata": {},
   "source": [
    "#### Count of rows"
   ]
  },
  {
   "cell_type": "code",
   "execution_count": 33,
   "id": "ae3ca533-3bb8-4012-a97c-13f547338842",
   "metadata": {},
   "outputs": [
    {
     "data": {
      "text/plain": [
       "406"
      ]
     },
     "execution_count": 33,
     "metadata": {},
     "output_type": "execute_result"
    }
   ],
   "source": [
    "df.count()"
   ]
  },
  {
   "cell_type": "markdown",
   "id": "9e715acc-0962-46a8-9703-9f9583807f12",
   "metadata": {},
   "source": [
    "#### Counts by Groups within a Single Column"
   ]
  },
  {
   "cell_type": "code",
   "execution_count": 34,
   "id": "fae24993-345f-477a-b00a-45d079f65902",
   "metadata": {},
   "outputs": [
    {
     "data": {
      "text/html": [
       "<table border='1'>\n",
       "<tr><th>Origin</th><th>Count</th></tr>\n",
       "<tr><td>Europe</td><td>73</td></tr>\n",
       "<tr><td>US</td><td>254</td></tr>\n",
       "<tr><td>Japan</td><td>79</td></tr>\n",
       "</table>\n"
      ],
      "text/plain": [
       "+------+-----+\n",
       "|Origin|Count|\n",
       "+------+-----+\n",
       "|Europe|   73|\n",
       "|    US|  254|\n",
       "| Japan|   79|\n",
       "+------+-----+"
      ]
     },
     "execution_count": 34,
     "metadata": {},
     "output_type": "execute_result"
    }
   ],
   "source": [
    "df.groupBy('Origin').count().withColumnRenamed('count', 'Count')"
   ]
  },
  {
   "cell_type": "markdown",
   "id": "e09f39d4-5437-452e-9c80-085e9bf0fa7f",
   "metadata": {},
   "source": [
    "#### Aggregations"
   ]
  },
  {
   "cell_type": "code",
   "execution_count": 35,
   "id": "9a25cc30-7d77-4d87-a605-739b7c1f3959",
   "metadata": {},
   "outputs": [],
   "source": [
    "from pyspark.sql.functions import mean "
   ]
  },
  {
   "cell_type": "code",
   "execution_count": 36,
   "id": "68c422e1-4339-43ad-8238-ba0c714316d9",
   "metadata": {},
   "outputs": [
    {
     "name": "stdout",
     "output_type": "stream",
     "text": [
      "+------+------------------+\n",
      "|Origin|          avg(MPG)|\n",
      "+------+------------------+\n",
      "|Europe|26.745205479452057|\n",
      "|    US|19.688188976377948|\n",
      "| Japan|30.450632911392397|\n",
      "+------+------------------+\n",
      "\n"
     ]
    }
   ],
   "source": [
    "df.groupBy(\n",
    "    \"Origin\"\n",
    ").agg(\n",
    "    mean('MPG')\n",
    ").show()"
   ]
  },
  {
   "cell_type": "markdown",
   "id": "a3b2f248-7457-4f08-9c83-f2fd6b1c8f88",
   "metadata": {},
   "source": [
    "## Joining / Merging"
   ]
  },
  {
   "cell_type": "code",
   "execution_count": 37,
   "id": "cd9bdfd6-3dd5-4f51-98c5-4f917a9e72b2",
   "metadata": {},
   "outputs": [],
   "source": [
    "df_counts = df.groupBy('Origin').count().withColumnRenamed('count', 'Count')"
   ]
  },
  {
   "cell_type": "code",
   "execution_count": 38,
   "id": "7ea5a4a4-9f3d-4929-b248-f2d773eece2b",
   "metadata": {},
   "outputs": [],
   "source": [
    "df_avgs = df.groupBy(\n",
    "    \"Origin\"\n",
    ").agg(\n",
    "    mean('MPG')\n",
    ")"
   ]
  },
  {
   "cell_type": "code",
   "execution_count": 39,
   "id": "f5e9cb7b-ee91-45fd-974f-04285b7446d7",
   "metadata": {},
   "outputs": [
    {
     "name": "stdout",
     "output_type": "stream",
     "text": [
      "+------+-----+\n",
      "|Origin|Count|\n",
      "+------+-----+\n",
      "|Europe|   73|\n",
      "|    US|  254|\n",
      "| Japan|   79|\n",
      "+------+-----+\n",
      "\n"
     ]
    }
   ],
   "source": [
    "df_counts.show()"
   ]
  },
  {
   "cell_type": "code",
   "execution_count": 40,
   "id": "f87e0f4c-efda-4cb1-93cd-f6e18604f16a",
   "metadata": {},
   "outputs": [],
   "source": [
    "df_avgs = df_avgs.withColumnRenamed('avg(MPG)', 'Avg')"
   ]
  },
  {
   "cell_type": "code",
   "execution_count": 41,
   "id": "1b75b141-bde8-45e4-8b5c-30c71c742c61",
   "metadata": {},
   "outputs": [
    {
     "name": "stdout",
     "output_type": "stream",
     "text": [
      "+------+------------------+\n",
      "|Origin|               Avg|\n",
      "+------+------------------+\n",
      "|Europe|26.745205479452057|\n",
      "|    US|19.688188976377948|\n",
      "| Japan|30.450632911392397|\n",
      "+------+------------------+\n",
      "\n"
     ]
    }
   ],
   "source": [
    "df_avgs.show()"
   ]
  },
  {
   "cell_type": "code",
   "execution_count": 42,
   "id": "2493e5b4-7a41-4704-b43e-b7ef1ac50b56",
   "metadata": {},
   "outputs": [
    {
     "data": {
      "text/html": [
       "<table border='1'>\n",
       "<tr><th>Origin</th><th>Count</th><th>Avg</th></tr>\n",
       "<tr><td>Europe</td><td>73</td><td>26.745205479452057</td></tr>\n",
       "<tr><td>US</td><td>254</td><td>19.688188976377948</td></tr>\n",
       "<tr><td>Japan</td><td>79</td><td>30.450632911392397</td></tr>\n",
       "</table>\n"
      ],
      "text/plain": [
       "+------+-----+------------------+\n",
       "|Origin|Count|               Avg|\n",
       "+------+-----+------------------+\n",
       "|Europe|   73|26.745205479452057|\n",
       "|    US|  254|19.688188976377948|\n",
       "| Japan|   79|30.450632911392397|\n",
       "+------+-----+------------------+"
      ]
     },
     "execution_count": 42,
     "metadata": {},
     "output_type": "execute_result"
    }
   ],
   "source": [
    "df_counts.join(df_avgs, df_counts.Origin == df_avgs.Origin, 'inner').select(df_counts.Origin, df_counts.Count, df_avgs.Avg)"
   ]
  },
  {
   "cell_type": "markdown",
   "id": "8ac6bd6e-6018-45a4-ab56-3362241d6cdb",
   "metadata": {},
   "source": [
    "As you can see, we have done an inner join between two dataframes. The following joins are supported by PySpark:\n",
    "\n",
    "- inner (default)\n",
    "- cross\n",
    "- outer\n",
    "- full\n",
    "- full_outer\n",
    "- left\n",
    "- left_outer\n",
    "- right\n",
    "- right_outer\n",
    "- left_semi\n",
    "- left_anti"
   ]
  },
  {
   "cell_type": "markdown",
   "id": "82297df2-3335-42af-8689-8f8f45c16ce1",
   "metadata": {},
   "source": [
    "## Filtering"
   ]
  },
  {
   "cell_type": "code",
   "execution_count": 43,
   "id": "986c28ff-f898-41ef-b2da-b4ef6b3da003",
   "metadata": {},
   "outputs": [
    {
     "name": "stdout",
     "output_type": "stream",
     "text": [
      "+--------------------------------+----+---------+------------+----------+------+------------+----------+------+---------+\n",
      "|Car                             |MPG |Cylinders|Displacement|Horsepower|Weight|Acceleration|Model     |Origin|Make     |\n",
      "+--------------------------------+----+---------+------------+----------+------+------------+----------+------+---------+\n",
      "|Chevrolet Chevelle Malibu       |18.0|8        |307.0       |130.0     |3504.0|null        |Chevelle  |US    |Chevrolet|\n",
      "|Buick Skylark 320               |15.0|8        |350.0       |165.0     |3693.0|null        |Skylark   |US    |Buick    |\n",
      "|Plymouth Satellite              |18.0|8        |318.0       |150.0     |3436.0|null        |Satellite |US    |Plymouth |\n",
      "|AMC Rebel SST                   |16.0|8        |304.0       |150.0     |3433.0|null        |Rebel     |US    |AMC      |\n",
      "|Ford Torino                     |17.0|8        |302.0       |140.0     |3449.0|null        |Torino    |US    |Ford     |\n",
      "|Ford Galaxie 500                |15.0|8        |429.0       |198.0     |4341.0|null        |Galaxie   |US    |Ford     |\n",
      "|Chevrolet Impala                |14.0|8        |454.0       |220.0     |4354.0|null        |Impala    |US    |Chevrolet|\n",
      "|Plymouth Fury iii               |14.0|8        |440.0       |215.0     |4312.0|null        |Fury      |US    |Plymouth |\n",
      "|Pontiac Catalina                |14.0|8        |455.0       |225.0     |4425.0|null        |Catalina  |US    |Pontiac  |\n",
      "|AMC Ambassador DPL              |15.0|8        |390.0       |190.0     |3850.0|null        |Ambassador|US    |AMC      |\n",
      "|Citroen DS-21 Pallas            |0.0 |4        |133.0       |115.0     |3090.0|null        |DS-21     |Europe|Citroen  |\n",
      "|Chevrolet Chevelle Concours (sw)|0.0 |8        |350.0       |165.0     |4142.0|null        |Chevelle  |US    |Chevrolet|\n",
      "|Ford Torino (sw)                |0.0 |8        |351.0       |153.0     |4034.0|null        |Torino    |US    |Ford     |\n",
      "|Plymouth Satellite (sw)         |0.0 |8        |383.0       |175.0     |4166.0|null        |Satellite |US    |Plymouth |\n",
      "|AMC Rebel SST (sw)              |0.0 |8        |360.0       |175.0     |3850.0|null        |Rebel     |US    |AMC      |\n",
      "|Dodge Challenger SE             |15.0|8        |383.0       |170.0     |3563.0|null        |Challenger|US    |Dodge    |\n",
      "|Plymouth 'Cuda 340              |14.0|8        |340.0       |160.0     |3609.0|null        |'Cuda     |US    |Plymouth |\n",
      "|Ford Mustang Boss 302           |0.0 |8        |302.0       |140.0     |3353.0|null        |Mustang   |US    |Ford     |\n",
      "|Chevrolet Monte Carlo           |15.0|8        |400.0       |150.0     |3761.0|null        |Monte     |US    |Chevrolet|\n",
      "|Buick Estate Wagon (sw)         |14.0|8        |455.0       |225.0     |3086.0|null        |Estate    |US    |Buick    |\n",
      "+--------------------------------+----+---------+------------+----------+------+------------+----------+------+---------+\n",
      "only showing top 20 rows\n",
      "\n"
     ]
    }
   ],
   "source": [
    "df.show(truncate=False)"
   ]
  },
  {
   "cell_type": "code",
   "execution_count": 44,
   "id": "b8765e3c-df74-4fee-bf2c-ef996ee618f0",
   "metadata": {},
   "outputs": [
    {
     "name": "stdout",
     "output_type": "stream",
     "text": [
      "+--------------------+----+---------+------------+----------+------+------------+--------+------+---------+\n",
      "|                 Car| MPG|Cylinders|Displacement|Horsepower|Weight|Acceleration|   Model|Origin|     Make|\n",
      "+--------------------+----+---------+------------+----------+------+------------+--------+------+---------+\n",
      "|Chevrolet Chevell...|18.0|        8|       307.0|     130.0|3504.0|        null|Chevelle|    US|Chevrolet|\n",
      "|    Chevrolet Impala|14.0|        8|       454.0|     220.0|4354.0|        null|  Impala|    US|Chevrolet|\n",
      "|Chevrolet Chevell...| 0.0|        8|       350.0|     165.0|4142.0|        null|Chevelle|    US|Chevrolet|\n",
      "|Chevrolet Monte C...|15.0|        8|       400.0|     150.0|3761.0|        null|   Monte|    US|Chevrolet|\n",
      "| Chevrolet Vega 2300|28.0|        4|       140.0|      90.0|2264.0|        null|    Vega|    US|Chevrolet|\n",
      "+--------------------+----+---------+------------+----------+------+------------+--------+------+---------+\n",
      "only showing top 5 rows\n",
      "\n"
     ]
    }
   ],
   "source": [
    "df.filter(col('Make')=='Chevrolet').show(5)"
   ]
  },
  {
   "cell_type": "code",
   "execution_count": 45,
   "id": "c6d298a2-6c2a-4ca7-b7e9-1aa4665fad6e",
   "metadata": {},
   "outputs": [
    {
     "name": "stdout",
     "output_type": "stream",
     "text": [
      "+--------------------+----+---------+------------+----------+------+------------+--------+------+---------+\n",
      "|                 Car| MPG|Cylinders|Displacement|Horsepower|Weight|Acceleration|   Model|Origin|     Make|\n",
      "+--------------------+----+---------+------------+----------+------+------------+--------+------+---------+\n",
      "|Chevrolet Chevell...|18.0|        8|       307.0|     130.0|3504.0|        null|Chevelle|    US|Chevrolet|\n",
      "|    Chevrolet Impala|14.0|        8|       454.0|     220.0|4354.0|        null|  Impala|    US|Chevrolet|\n",
      "|Chevrolet Chevell...| 0.0|        8|       350.0|     165.0|4142.0|        null|Chevelle|    US|Chevrolet|\n",
      "|Chevrolet Monte C...|15.0|        8|       400.0|     150.0|3761.0|        null|   Monte|    US|Chevrolet|\n",
      "|           Chevy C20|10.0|        8|       307.0|     200.0|4376.0|        null|     C20|    US|    Chevy|\n",
      "+--------------------+----+---------+------------+----------+------+------------+--------+------+---------+\n",
      "only showing top 5 rows\n",
      "\n"
     ]
    }
   ],
   "source": [
    "df.filter(col('Make').contains('Chev')).show(5)"
   ]
  },
  {
   "cell_type": "code",
   "execution_count": 46,
   "id": "a1687272-10c9-4899-8933-e0d6c20f3592",
   "metadata": {},
   "outputs": [
    {
     "name": "stdout",
     "output_type": "stream",
     "text": [
      "+--------------------+----+---------+------------+----------+------+------------+--------+------+----------+\n",
      "|                 Car| MPG|Cylinders|Displacement|Horsepower|Weight|Acceleration|   Model|Origin|      Make|\n",
      "+--------------------+----+---------+------------+----------+------+------------+--------+------+----------+\n",
      "| Chevrolet Vega 2300|28.0|        4|       140.0|      90.0|2264.0|        null|    Vega|    US| Chevrolet|\n",
      "|Chevrolet Chevell...|17.0|        6|       250.0|     100.0|3329.0|        null|Chevelle|    US| Chevrolet|\n",
      "| Chevrolet Vega (sw)|22.0|        4|       140.0|      72.0|2408.0|        null|    Vega|    US| Chevrolet|\n",
      "|      Chevrolet Vega|20.0|        4|       140.0|      90.0|2408.0|        null|    Vega|    US| Chevrolet|\n",
      "|Chevrolet Nova Cu...|16.0|        6|       250.0|     100.0|3278.0|        null|    Nova|    US| Chevrolet|\n",
      "|      Chevrolet Vega|21.0|        4|       140.0|      72.0|2401.0|        null|    Vega|    US| Chevrolet|\n",
      "|      Chevrolet Nova|15.0|        6|       250.0|     100.0|3336.0|        null|    Nova|    US| Chevrolet|\n",
      "|      Chevrolet Vega|25.0|        4|       140.0|      75.0|2542.0|        null|    Vega|    US| Chevrolet|\n",
      "|Chevrolet Chevell...|16.0|        6|       250.0|     100.0|3781.0|        null|Chevelle|    US| Chevrolet|\n",
      "|      Chevrolet Nova|18.0|        6|       250.0|     105.0|3459.0|        null|    Nova|    US| Chevrolet|\n",
      "|Chevrolete Chevel...|16.0|        6|       250.0|     105.0|3897.0|        null|Chevelle|    US|Chevrolete|\n",
      "|      Chevrolet Nova|22.0|        6|       250.0|     105.0|3353.0|        null|    Nova|    US| Chevrolet|\n",
      "|  Chevrolet Chevette|29.0|        4|        85.0|      52.0|2035.0|        null|Chevette|    US| Chevrolet|\n",
      "|     Chevrolet Woody|24.5|        4|        98.0|      60.0|2164.0|        null|   Woody|    US| Chevrolet|\n",
      "|  Chevrolet Concours|17.5|        6|       250.0|     110.0|3520.0|        null|Concours|    US| Chevrolet|\n",
      "|  Chevrolet Chevette|30.5|        4|        98.0|      63.0|2051.0|        null|Chevette|    US| Chevrolet|\n",
      "|    Chevrolet Malibu|20.5|        6|       200.0|      95.0|3155.0|        null|  Malibu|    US| Chevrolet|\n",
      "|  Chevrolet Chevette|30.0|        4|        98.0|      68.0|2155.0|        null|Chevette|    US| Chevrolet|\n",
      "|  Chevrolet Citation|28.8|        6|       173.0|     115.0|2595.0|        null|Citation|    US| Chevrolet|\n",
      "|  Chevrolet Chevette|32.1|        4|        98.0|      70.0|2120.0|        null|Chevette|    US| Chevrolet|\n",
      "+--------------------+----+---------+------------+----------+------+------------+--------+------+----------+\n",
      "only showing top 20 rows\n",
      "\n"
     ]
    }
   ],
   "source": [
    "df.filter(\n",
    "    (col('Make').contains('Chev')) &\n",
    "    (col('Cylinders') < 8)\n",
    ").show()"
   ]
  },
  {
   "cell_type": "code",
   "execution_count": 47,
   "id": "4be11f0d-200c-4b84-abbe-ca8e4b112147",
   "metadata": {},
   "outputs": [],
   "source": [
    "spark.stop()"
   ]
  },
  {
   "cell_type": "markdown",
   "id": "67f24dd2-9d44-48ad-8168-3be47d6bdca7",
   "metadata": {},
   "source": [
    "## Connecting to Relational Databases (JDBC)"
   ]
  },
  {
   "cell_type": "markdown",
   "id": "7aaf3812-5b6b-47dc-826d-58a83ede3810",
   "metadata": {},
   "source": [
    "[Link](https://spark.apache.org/docs/latest/api/python/user_guide/pandas_on_spark/from_to_dbms.html) to their documentation"
   ]
  },
  {
   "cell_type": "markdown",
   "id": "77b439ff-808b-47f1-b64f-dc60e4d0a60a",
   "metadata": {},
   "source": [
    "#### PostgreSQL"
   ]
  },
  {
   "cell_type": "code",
   "execution_count": 1,
   "id": "6ab79c5c-1ebb-49ce-bf09-c53aa8aa9cbe",
   "metadata": {},
   "outputs": [],
   "source": [
    "import configparser\n",
    "import os\n",
    "import pyspark\n",
    "from pyspark.sql import SparkSession"
   ]
  },
  {
   "cell_type": "code",
   "execution_count": 2,
   "id": "b9204d95-06c5-40d6-a62a-903e2bf59c59",
   "metadata": {},
   "outputs": [],
   "source": [
    "spark = SparkSession.builder.master(\"local[*]\").appName(\"Postgres\")\\\n",
    "    .config(\"spark.jars\", \"C:\\\\Users\\\\some_user\\\\drivers\\\\jdbc\\\\postgresql\\\\postgresql-42.2.23.jar\")\\\n",
    "    .getOrCreate()"
   ]
  },
  {
   "cell_type": "code",
   "execution_count": 3,
   "id": "403e4628-bbca-48d9-a781-927b42b76bf8",
   "metadata": {},
   "outputs": [],
   "source": [
    "config_file = os.getenv(\"CONFIG_PATH\")"
   ]
  },
  {
   "cell_type": "code",
   "execution_count": 4,
   "id": "e047216b-76da-4cbd-9d0e-d60d1b57e5e1",
   "metadata": {},
   "outputs": [],
   "source": [
    "config = configparser.ConfigParser()\n",
    "try:\n",
    "    config.read(config_file)\n",
    "except ConfigFileNotFound:\n",
    "    print(\"config.ini file not found\")"
   ]
  },
  {
   "cell_type": "code",
   "execution_count": 5,
   "id": "9930935b-8cf6-4d44-8e92-8a06ac114162",
   "metadata": {},
   "outputs": [],
   "source": [
    "# Read in the Postgresql database credentials for DSN-less connection\n",
    "PG_HOST = config[\"sc_health_postgres\"][\"HOST\"]\n",
    "PG_PORT = config[\"sc_health_postgres\"][\"PORT\"]\n",
    "PG_DB = config[\"sc_health_postgres\"][\"DB\"]\n",
    "PG_USER = config[\"sc_health_postgres\"][\"USER\"]\n",
    "PG_PWD = config[\"sc_health_postgres\"][\"PWD\"]"
   ]
  },
  {
   "cell_type": "code",
   "execution_count": 6,
   "id": "52134d1c-e419-4166-b7ec-509088570803",
   "metadata": {},
   "outputs": [],
   "source": [
    "url = f'jdbc:postgresql://{PG_HOST}:{PG_PORT}/{PG_DB}'\n",
    "driver = 'org.postgresql.Driver'"
   ]
  },
  {
   "cell_type": "code",
   "execution_count": 7,
   "id": "f2c96542-e8c5-443c-82ec-11b50c44ca7d",
   "metadata": {},
   "outputs": [],
   "source": [
    "query = \"SELECT CURRENT_DATE\""
   ]
  },
  {
   "cell_type": "code",
   "execution_count": 8,
   "id": "83298d75-98e1-4838-9ec4-f286d2092fdb",
   "metadata": {},
   "outputs": [],
   "source": [
    "jdbcDF = spark.read \\\n",
    "    .format(\"jdbc\") \\\n",
    "    .option(\"driver\", driver) \\\n",
    "    .option(\"url\", url) \\\n",
    "    .option(\"user\", PG_USER) \\\n",
    "    .option(\"password\", PG_PWD) \\\n",
    "    .option(\"query\", query) \\\n",
    "    .load()"
   ]
  },
  {
   "cell_type": "code",
   "execution_count": 9,
   "id": "e2a203ae-0ef0-45c3-a68d-eebe09f7db3c",
   "metadata": {},
   "outputs": [
    {
     "name": "stdout",
     "output_type": "stream",
     "text": [
      "+------------+\n",
      "|current_date|\n",
      "+------------+\n",
      "|  2021-08-22|\n",
      "+------------+\n",
      "\n"
     ]
    }
   ],
   "source": [
    "jdbcDF.show()"
   ]
  },
  {
   "cell_type": "code",
   "execution_count": 10,
   "id": "ef2bb206-45f7-4962-85da-098cc9ed9104",
   "metadata": {},
   "outputs": [],
   "source": [
    "spark.stop()"
   ]
  },
  {
   "cell_type": "markdown",
   "id": "e23188b3-d225-4583-a6cc-118a0d83f4b7",
   "metadata": {},
   "source": [
    "#### IBM DB2 LUW"
   ]
  },
  {
   "cell_type": "code",
   "execution_count": 11,
   "id": "1ef90ae1-84cb-4aa1-951e-6200fd255cdc",
   "metadata": {},
   "outputs": [],
   "source": [
    "spark = SparkSession.builder.master(\"local[*]\").appName(\"SCOODS\")\\\n",
    "    .config(\"spark.jars\", \"C:\\\\Users\\\\some_user\\\\drivers\\\\jdbc\\\\mainframe\\\\db2jcc.jar\")\\\n",
    "    .getOrCreate()"
   ]
  },
  {
   "cell_type": "code",
   "execution_count": 12,
   "id": "dbf50d37-5169-4402-9cdf-bb56f344f194",
   "metadata": {},
   "outputs": [],
   "source": [
    "config_file = os.getenv(\"CONFIG_PATH\")"
   ]
  },
  {
   "cell_type": "code",
   "execution_count": 13,
   "id": "b4401005-1539-45f2-b545-9679328e8c8d",
   "metadata": {},
   "outputs": [],
   "source": [
    "config = configparser.ConfigParser()\n",
    "try:\n",
    "    config.read(config_file)\n",
    "except ConfigFileNotFound:\n",
    "    print(\"config.ini file not found\")"
   ]
  },
  {
   "cell_type": "code",
   "execution_count": 14,
   "id": "00c879bc-8f56-4ac0-b49d-c6280bdcaee0",
   "metadata": {},
   "outputs": [],
   "source": [
    "# Read in the Postgresql database credentials for DSN-less connection\n",
    "SCOODS_HOST = config[\"scoods_prod\"][\"HOST\"]\n",
    "SCOODS_PORT = config[\"scoods_prod\"][\"PORT\"]\n",
    "SCOODS_DB = config[\"scoods_prod\"][\"DB\"]\n",
    "SCOODS_USER = config[\"scoods_prod\"][\"USER\"]\n",
    "SCOODS_PWD = config[\"scoods_prod\"][\"PWD\"]"
   ]
  },
  {
   "cell_type": "code",
   "execution_count": 15,
   "id": "40798ee9-fee4-46f0-a629-c07b6c5996f8",
   "metadata": {},
   "outputs": [],
   "source": [
    "url = f'jdbc:db2://{SCOODS_HOST}:{SCOODS_PORT}/{SCOODS_DB}:useJDBC4ColumnNameAndLabelSemantics=false;'\n",
    "driver = 'com.ibm.db2.jcc.DB2Driver'"
   ]
  },
  {
   "cell_type": "code",
   "execution_count": 16,
   "id": "69050e16-4dad-4c94-bd28-2a0c5d14264f",
   "metadata": {},
   "outputs": [],
   "source": [
    "query = \"SELECT CURRENT TIMESTAMP as DATETIME_NOW FROM SYSIBM.SYSDUMMY1\""
   ]
  },
  {
   "cell_type": "code",
   "execution_count": 17,
   "id": "6a92bea6-590b-4af0-90ce-28974b3c3da6",
   "metadata": {},
   "outputs": [],
   "source": [
    "jdbcDF = spark.read \\\n",
    "    .format(\"jdbc\") \\\n",
    "    .option(\"driver\", driver) \\\n",
    "    .option(\"url\", url) \\\n",
    "    .option(\"user\", SCOODS_USER) \\\n",
    "    .option(\"password\", SCOODS_PWD) \\\n",
    "    .option(\"query\", query) \\\n",
    "    .load()"
   ]
  },
  {
   "cell_type": "code",
   "execution_count": 18,
   "id": "c168320b-a79b-4fea-8041-5e46c5fd1e12",
   "metadata": {},
   "outputs": [
    {
     "name": "stdout",
     "output_type": "stream",
     "text": [
      "+--------------------------+\n",
      "|DATETIME_NOW              |\n",
      "+--------------------------+\n",
      "|2021-08-21 21:03:38.029453|\n",
      "+--------------------------+\n",
      "\n"
     ]
    }
   ],
   "source": [
    "jdbcDF.show(truncate=False)"
   ]
  },
  {
   "cell_type": "code",
   "execution_count": 19,
   "id": "83e4fc4b-04ca-4ef7-a7eb-2f924bd8b02e",
   "metadata": {},
   "outputs": [],
   "source": [
    "spark.stop()"
   ]
  },
  {
   "cell_type": "markdown",
   "id": "07d4c972-7437-4f3d-9de7-81f35610ae5f",
   "metadata": {},
   "source": [
    "#### Microsoft SQL Server"
   ]
  },
  {
   "cell_type": "code",
   "execution_count": 20,
   "id": "fe47315b-26d0-4c81-afd9-c8b98dba6161",
   "metadata": {},
   "outputs": [],
   "source": [
    "spark = SparkSession.builder.master(\"local[*]\").appName(\"NAPS\")\\\n",
    "    .config(\"spark.jars\", \"C:\\\\Users\\\\some_user\\\\drivers\\\\mssql_jdbc\\\\mssql-jdbc-9.4.0.jre8.jar\")\\\n",
    "    .getOrCreate()"
   ]
  },
  {
   "cell_type": "code",
   "execution_count": 21,
   "id": "37dbbdfc-71c9-4c9e-84e2-07058516aed5",
   "metadata": {},
   "outputs": [],
   "source": [
    "config_file = os.getenv(\"CONFIG_PATH\")"
   ]
  },
  {
   "cell_type": "code",
   "execution_count": 22,
   "id": "2aeb4711-f008-4750-9e36-a140a9f4f07b",
   "metadata": {},
   "outputs": [],
   "source": [
    "config = configparser.ConfigParser()\n",
    "try:\n",
    "    config.read(config_file)\n",
    "except ConfigFileNotFound:\n",
    "    print(\"config.ini file not found\")"
   ]
  },
  {
   "cell_type": "code",
   "execution_count": 23,
   "id": "8a7e4803-9ed9-48b7-b5a9-a96b05e20513",
   "metadata": {},
   "outputs": [],
   "source": [
    "# Read in the Postgresql database credentials for DSN-less connection\n",
    "NAPS_HOST = config[\"naps\"][\"HOST\"]\n",
    "NAPS_PORT = config[\"naps\"][\"PORT\"]\n",
    "NAPS_DB = config[\"naps\"][\"DB\"]"
   ]
  },
  {
   "cell_type": "code",
   "execution_count": 24,
   "id": "e0654a00-d152-45ee-82cb-656dac8ba43c",
   "metadata": {},
   "outputs": [],
   "source": [
    "url = f'jdbc:sqlserver://{NAPS_HOST}:{NAPS_PORT};databaseName={NAPS_DB};integratedSecurity=true'\n",
    "driver = 'com.microsoft.sqlserver.jdbc.SQLServerDriver'"
   ]
  },
  {
   "cell_type": "code",
   "execution_count": 25,
   "id": "57f356a1-2f4b-458f-a4e8-31ed12b8df53",
   "metadata": {},
   "outputs": [],
   "source": [
    "query = \"SELECT * from DimCarrier\""
   ]
  },
  {
   "cell_type": "code",
   "execution_count": 26,
   "id": "b852c2ac-9e84-4719-8c72-e1e306f3fb34",
   "metadata": {},
   "outputs": [],
   "source": [
    "jdbcDF = spark.read \\\n",
    "    .format(\"jdbc\") \\\n",
    "    .option(\"driver\", driver) \\\n",
    "    .option(\"url\", url) \\\n",
    "    .option(\"query\", query) \\\n",
    "    .load()"
   ]
  },
  {
   "cell_type": "code",
   "execution_count": 27,
   "id": "9020c6f9-27d0-4fe0-9583-ff46cc8b6737",
   "metadata": {},
   "outputs": [
    {
     "name": "stdout",
     "output_type": "stream",
     "text": [
      "+---------+-------------------------+---------------------+-----------------------+-----------------------+-------+\n",
      "|CarrierSk|CarrierNm                |TransportationModeTxt|UpdateTmstmp           |InsertTmstmp           |BatchId|\n",
      "+---------+-------------------------+---------------------+-----------------------+-----------------------+-------+\n",
      "|0        |FEDEX LTL                |LTL                  |2017-02-10 11:07:01.253|2017-02-10 11:07:01.253|1521   |\n",
      "|1        |M                        |TL                   |2017-02-10 11:07:01.253|2017-02-10 11:07:01.253|1521   |\n",
      "|2        |Amcan                    |TL                   |2017-02-10 11:07:01.253|2017-02-10 11:07:01.253|1521   |\n",
      "|3        |WGBL                     |TL                   |2017-02-10 11:07:01.253|2017-02-10 11:07:01.253|1521   |\n",
      "|4        |No                       |LTL                  |2017-02-10 11:07:01.253|2017-02-10 11:07:01.253|1521   |\n",
      "|5        |Honda - Midwest Logistics|LTL                  |2017-02-10 11:07:01.253|2017-02-10 11:07:01.253|1521   |\n",
      "|6        |RCM                      |TL                   |2017-02-10 11:07:01.253|2017-02-10 11:07:01.253|1521   |\n",
      "|7        |Midwest                  |TL                   |2017-02-10 11:07:01.253|2017-02-10 11:07:01.253|1521   |\n",
      "|8        |VEXP-N                   |TL                   |2017-02-10 11:07:01.253|2017-02-10 11:07:01.253|1521   |\n",
      "|9        |CEV                      |TL                   |2017-02-10 11:07:01.253|2017-02-10 11:07:01.253|1521   |\n",
      "|10       |MWLL                     |LTL                  |2017-02-10 11:07:01.253|2017-02-10 11:07:01.253|1521   |\n",
      "|11       |Armstrong                |TL                   |2017-02-10 11:07:01.253|2017-02-10 11:07:01.253|1521   |\n",
      "|12       |White Oak                |LTL                  |2017-02-10 11:07:01.253|2017-02-10 11:07:01.253|1521   |\n",
      "|13       |ARD/SEE                  |TL                   |2017-02-10 11:07:01.253|2017-02-10 11:07:01.253|1521   |\n",
      "|14       |NSE                      |TL                   |2017-02-10 11:07:01.253|2017-02-10 11:07:01.253|1521   |\n",
      "|15       |                         |                     |2017-02-10 11:07:01.253|2017-02-10 11:07:01.253|1521   |\n",
      "|16       |Gibson                   |TL                   |2017-02-10 11:07:01.253|2017-02-10 11:07:01.253|1521   |\n",
      "|17       |UTS                      |LTL                  |2017-02-10 11:07:01.253|2017-02-10 11:07:01.253|1521   |\n",
      "|18       |NSE                      |LTL                  |2017-02-10 11:07:01.253|2017-02-10 11:07:01.253|1521   |\n",
      "|19       |HMA                      |LTL                  |2017-02-10 11:07:01.253|2017-02-10 11:07:01.253|1521   |\n",
      "+---------+-------------------------+---------------------+-----------------------+-----------------------+-------+\n",
      "only showing top 20 rows\n",
      "\n"
     ]
    }
   ],
   "source": [
    "jdbcDF.show(truncate=False)"
   ]
  },
  {
   "cell_type": "code",
   "execution_count": 28,
   "id": "d4c9dc9c-0173-45b1-af15-70fb40b884d0",
   "metadata": {},
   "outputs": [],
   "source": [
    "spark.stop()"
   ]
  },
  {
   "cell_type": "markdown",
   "id": "6acdbc66-3ad3-476b-a91a-8b8b0d331249",
   "metadata": {},
   "source": [
    "#### IBM DB2 z/OS"
   ]
  },
  {
   "cell_type": "markdown",
   "id": "37f20298-4928-48e5-a6c5-6c133f6acac2",
   "metadata": {},
   "source": [
    "Unfortunately, the IBM Java JRE does not work with Spark 3.x and thus, we will not be able to connect to mainframe DB2 z/OS platform."
   ]
  },
  {
   "cell_type": "markdown",
   "id": "93e3132a-bc44-4ec4-ab60-845423e92e23",
   "metadata": {},
   "source": [
    "#### Connecting to Snowflake"
   ]
  },
  {
   "cell_type": "markdown",
   "id": "1cb85857-726f-44b0-96e0-7118fb9addaa",
   "metadata": {},
   "source": [
    "[Link](https://docs.snowflake.com/en/user-guide/spark-connector-install.html) to Snowflake's documentation on working with the PySpark connector"
   ]
  },
  {
   "cell_type": "markdown",
   "id": "02ed47d5-db4a-4e64-8fcf-7ead1f22e796",
   "metadata": {},
   "source": [
    "Currently have PySpark 3.2.0 installed, but Snowflake does not yet support 3.2.0.  Therefore, the code below has not yet been tested and is currently being used as a placeholder."
   ]
  },
  {
   "cell_type": "code",
   "execution_count": null,
   "id": "50d70a07-ce07-4ae1-afc0-464db3f876f7",
   "metadata": {},
   "outputs": [],
   "source": [
    "from pyspark import SparkConf, SparkContext\n",
    "from pyspark.sql import SQLContext"
   ]
  },
  {
   "cell_type": "code",
   "execution_count": null,
   "id": "b33039ad-a2a4-4f5f-93f8-b352022d1850",
   "metadata": {},
   "outputs": [],
   "source": [
    "spark = SparkSession.builder.master(\"local[*]\").appName(\"Snowflake_JDBC\")\\\n",
    "    .config(\"spark.jars\", \"C:\\Path_To_Snowflake_JDBC.jar\")\\\n",
    "    .getOrCreate()"
   ]
  },
  {
   "cell_type": "code",
   "execution_count": null,
   "id": "61c85a64-3281-4eb2-b92a-f7b1430ab961",
   "metadata": {},
   "outputs": [],
   "source": [
    "# Snowflake connection parameters\n",
    "sfparams = {\n",
    "  \"sfURL\" : \"<account_identifier>.snowflakecomputing.com\",\n",
    "  \"sfUser\" : \"<user_name>\",\n",
    "  \"sfPassword\" : \"<password>\",\n",
    "  \"sfDatabase\" : \"<database>\",\n",
    "  \"sfSchema\" : \"<schema>\",\n",
    "  \"sfWarehouse\" : \"<warehouse>\"\n",
    "}"
   ]
  },
  {
   "cell_type": "code",
   "execution_count": null,
   "id": "61fe30c6-c039-4c77-baf1-09e3a5af219c",
   "metadata": {},
   "outputs": [],
   "source": [
    "#read full table\n",
    "df = spark.read.format(“snowflake”) \\\n",
    "  .options(**sfparams) \\\n",
    "  .option(\"dbtable\",  \"Employee\") \\\n",
    "  .load()\n",
    "\n",
    "#run custom query\n",
    "df = spark.read.format(“snowflake”) \\\n",
    "  .options(**sfparams) \\\n",
    "  .option(\"query\",  \"SELECT * FROM Employee\") \\\n",
    "  .load()"
   ]
  }
 ],
 "metadata": {
  "kernelspec": {
   "display_name": "Py3.9 (pyspark_dev)",
   "language": "python",
   "name": "pyspark_dev"
  },
  "language_info": {
   "codemirror_mode": {
    "name": "ipython",
    "version": 3
   },
   "file_extension": ".py",
   "mimetype": "text/x-python",
   "name": "python",
   "nbconvert_exporter": "python",
   "pygments_lexer": "ipython3",
   "version": "3.9.8"
  }
 },
 "nbformat": 4,
 "nbformat_minor": 5
}
