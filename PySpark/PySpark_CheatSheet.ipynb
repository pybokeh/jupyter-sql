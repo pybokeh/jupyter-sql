{
 "cells": [
  {
   "cell_type": "markdown",
   "id": "f76ecd48-62a8-4d68-932c-3c6cb9bdbd00",
   "metadata": {},
   "source": [
    "<a id=\"top\">"
   ]
  },
  {
   "cell_type": "markdown",
   "id": "b53947ed-3385-4a7e-b3e9-3e8f65bb7cda",
   "metadata": {},
   "source": [
    "# Table of Contents"
   ]
  },
  {
   "cell_type": "markdown",
   "id": "4d34e965-1d56-446e-9bed-3f32337c27ef",
   "metadata": {},
   "source": [
    "- [Reading from CSV file](#csv)\n",
    "- [Sorting on a single column: sort() / orderBy()](#sort_single)\n",
    "- [Sorting on multiple columns sort() / orderBy()](#sort_multiple)\n",
    "- [Removing duplicates across all columns](#distinct)\n",
    "- [Removing duplicates across specific column(s)](#drop_duplicates)\n",
    "- [Create new column based on values from another column](#new_column)\n",
    "- [Using User-Defined Function UDF to Create New Column](#udf)\n",
    "- [Using `when` to duplicate IF-ELSE Logic To Create New Column](#when)\n",
    "- [Using sql to create new column](#sql_when)\n",
    "- [Re-Arrange Columns using select()](#re-order)\n",
    "- [Joining or merging](#merging)\n",
    "- [Filtering](#filtering)\n",
    "- [Connecting to relational databases](#databases)"
   ]
  },
  {
   "cell_type": "markdown",
   "id": "c65ecf7f-ec2f-461d-b577-dfb3ae12de0a",
   "metadata": {},
   "source": [
    "## Input / Reading Data"
   ]
  },
  {
   "cell_type": "markdown",
   "id": "d6d4df0b-e8ba-4eb4-8ab7-0d6df6718ae2",
   "metadata": {},
   "source": [
    "[[Back to Top](#top)]"
   ]
  },
  {
   "cell_type": "code",
   "execution_count": 1,
   "id": "037a0ecf-544f-4d19-be62-862016260a14",
   "metadata": {},
   "outputs": [],
   "source": [
    "from pyspark.sql import SparkSession\n",
    "spark = SparkSession.builder.master(\"local[*]\").getOrCreate()\n",
    "spark.conf.set(\"spark.sql.repl.eagerEval.enabled\", True) # Property used to format output tables better"
   ]
  },
  {
   "cell_type": "markdown",
   "id": "0b5e3f60-a4c5-4cda-beb9-dd815ca518e1",
   "metadata": {},
   "source": [
    "Sample data can be obtained from [here](https://jacobceles.github.io/knowledge_repo/colab_and_pyspark/cars.csv)."
   ]
  },
  {
   "cell_type": "markdown",
   "id": "e61a8cae-8776-4de1-8fba-c90c46e2f28c",
   "metadata": {},
   "source": [
    "<a id=\"csv\">"
   ]
  },
  {
   "cell_type": "markdown",
   "id": "1991eb8b-1a17-4281-babc-3221525b626b",
   "metadata": {},
   "source": [
    "#### Read csv file by infering or guessing schema"
   ]
  },
  {
   "cell_type": "markdown",
   "id": "fb0219dc-bccd-4fd4-b31c-09edc963578a",
   "metadata": {},
   "source": [
    "[[Back to Top](#top)]"
   ]
  },
  {
   "cell_type": "code",
   "execution_count": 2,
   "id": "577c2f43-78af-4704-8df6-0f8dd4f535fc",
   "metadata": {},
   "outputs": [],
   "source": [
    "df = spark.read.csv('data/cars.csv', header=True, sep=\";\")"
   ]
  },
  {
   "cell_type": "code",
   "execution_count": 3,
   "id": "451fcd41-3635-47e7-987a-b8f2069e6d36",
   "metadata": {},
   "outputs": [
    {
     "name": "stdout",
     "output_type": "stream",
     "text": [
      "+--------------------+----+---------+------------+----------+------+------------+-----+------+\n",
      "|                 Car| MPG|Cylinders|Displacement|Horsepower|Weight|Acceleration|Model|Origin|\n",
      "+--------------------+----+---------+------------+----------+------+------------+-----+------+\n",
      "|Chevrolet Chevell...|18.0|        8|       307.0|     130.0| 3504.|        12.0|   70|    US|\n",
      "|   Buick Skylark 320|15.0|        8|       350.0|     165.0| 3693.|        11.5|   70|    US|\n",
      "|  Plymouth Satellite|18.0|        8|       318.0|     150.0| 3436.|        11.0|   70|    US|\n",
      "|       AMC Rebel SST|16.0|        8|       304.0|     150.0| 3433.|        12.0|   70|    US|\n",
      "|         Ford Torino|17.0|        8|       302.0|     140.0| 3449.|        10.5|   70|    US|\n",
      "+--------------------+----+---------+------------+----------+------+------------+-----+------+\n",
      "only showing top 5 rows\n",
      "\n"
     ]
    }
   ],
   "source": [
    "df.show(5)"
   ]
  },
  {
   "cell_type": "code",
   "execution_count": 4,
   "id": "e1f62653-0911-4cd1-a6c5-7f4eceff08b2",
   "metadata": {},
   "outputs": [
    {
     "name": "stdout",
     "output_type": "stream",
     "text": [
      "root\n",
      " |-- Car: string (nullable = true)\n",
      " |-- MPG: string (nullable = true)\n",
      " |-- Cylinders: string (nullable = true)\n",
      " |-- Displacement: string (nullable = true)\n",
      " |-- Horsepower: string (nullable = true)\n",
      " |-- Weight: string (nullable = true)\n",
      " |-- Acceleration: string (nullable = true)\n",
      " |-- Model: string (nullable = true)\n",
      " |-- Origin: string (nullable = true)\n",
      "\n"
     ]
    }
   ],
   "source": [
    "df.printSchema()"
   ]
  },
  {
   "cell_type": "markdown",
   "id": "d638ea9e-daf5-4b03-b5b9-e751ae989e70",
   "metadata": {},
   "source": [
    "#### Explicitly defining schema"
   ]
  },
  {
   "cell_type": "code",
   "execution_count": 5,
   "id": "21c857db-1950-4e45-bf1a-b26b7fb1067d",
   "metadata": {},
   "outputs": [],
   "source": [
    "from pyspark.sql.types import *"
   ]
  },
  {
   "cell_type": "code",
   "execution_count": 6,
   "id": "a0dcf822-7925-45f8-be43-0e33ca6aed01",
   "metadata": {},
   "outputs": [],
   "source": [
    "schema = StructType([\n",
    "    StructField(\"Car\", StringType(),True),\n",
    "    StructField(\"MPG\", DoubleType(),True),\n",
    "    StructField(\"Cylinders\", IntegerType(),True),\n",
    "    StructField(\"Displacement\", DoubleType(), True),\n",
    "    StructField(\"Horsepower\", DoubleType(), True),\n",
    "    StructField(\"Weight\", DoubleType(), True),\n",
    "    StructField(\"Acceleration\", IntegerType(), True),\n",
    "    StructField(\"Model\", IntegerType(), True),\n",
    "    StructField(\"Origin\", StringType(), True)\n",
    "  ])"
   ]
  },
  {
   "cell_type": "code",
   "execution_count": 19,
   "id": "631e2f4a-de57-424f-848f-4f89d3ba16fb",
   "metadata": {},
   "outputs": [],
   "source": [
    "df = spark.read.csv('data/cars.csv', header=True, sep=\";\", schema=schema)"
   ]
  },
  {
   "cell_type": "code",
   "execution_count": 8,
   "id": "46553d3a-b22f-4f4f-9721-fcf3c8181079",
   "metadata": {},
   "outputs": [
    {
     "name": "stdout",
     "output_type": "stream",
     "text": [
      "root\n",
      " |-- Car: string (nullable = true)\n",
      " |-- MPG: double (nullable = true)\n",
      " |-- Cylinders: integer (nullable = true)\n",
      " |-- Displacement: double (nullable = true)\n",
      " |-- Horsepower: double (nullable = true)\n",
      " |-- Weight: double (nullable = true)\n",
      " |-- Acceleration: integer (nullable = true)\n",
      " |-- Model: integer (nullable = true)\n",
      " |-- Origin: string (nullable = true)\n",
      "\n"
     ]
    }
   ],
   "source": [
    "df.printSchema()"
   ]
  },
  {
   "cell_type": "code",
   "execution_count": 9,
   "id": "869a898e-da63-4602-a626-9ba1283733ff",
   "metadata": {},
   "outputs": [
    {
     "name": "stdout",
     "output_type": "stream",
     "text": [
      "+--------------------+----+---------+------------+----------+------+------------+-----+------+\n",
      "|                 Car| MPG|Cylinders|Displacement|Horsepower|Weight|Acceleration|Model|Origin|\n",
      "+--------------------+----+---------+------------+----------+------+------------+-----+------+\n",
      "|Chevrolet Chevell...|18.0|        8|       307.0|     130.0|3504.0|        null|   70|    US|\n",
      "|   Buick Skylark 320|15.0|        8|       350.0|     165.0|3693.0|        null|   70|    US|\n",
      "|  Plymouth Satellite|18.0|        8|       318.0|     150.0|3436.0|        null|   70|    US|\n",
      "|       AMC Rebel SST|16.0|        8|       304.0|     150.0|3433.0|        null|   70|    US|\n",
      "|         Ford Torino|17.0|        8|       302.0|     140.0|3449.0|        null|   70|    US|\n",
      "+--------------------+----+---------+------------+----------+------+------------+-----+------+\n",
      "only showing top 5 rows\n",
      "\n"
     ]
    }
   ],
   "source": [
    "df.show(5)"
   ]
  },
  {
   "cell_type": "markdown",
   "id": "0f543d2f-bb42-4ab7-8063-dad8447f70e9",
   "metadata": {},
   "source": [
    "<a id=\"sort_single\">"
   ]
  },
  {
   "cell_type": "markdown",
   "id": "b16a8fca-c1b5-4517-87ed-1c49f4cb92d0",
   "metadata": {},
   "source": [
    "## Sorting on Single Column"
   ]
  },
  {
   "cell_type": "markdown",
   "id": "f9f0b525-8636-4553-bc12-4642aa11b4b9",
   "metadata": {},
   "source": [
    "[[Back to Top](#top)]"
   ]
  },
  {
   "cell_type": "code",
   "execution_count": 12,
   "id": "446d6284-58e1-44e1-ac6d-21cbf7f55f51",
   "metadata": {},
   "outputs": [
    {
     "data": {
      "text/html": [
       "<table border='1'>\n",
       "<tr><th>Car</th><th>MPG</th><th>Cylinders</th><th>Displacement</th><th>Horsepower</th><th>Weight</th><th>Acceleration</th><th>Model</th><th>Origin</th></tr>\n",
       "<tr><td>Citroen DS-21 Pallas</td><td>0.0</td><td>4</td><td>133.0</td><td>115.0</td><td>3090.0</td><td>null</td><td>70</td><td>Europe</td></tr>\n",
       "<tr><td>Ford Mustang Boss...</td><td>0.0</td><td>8</td><td>302.0</td><td>140.0</td><td>3353.0</td><td>null</td><td>70</td><td>US</td></tr>\n",
       "<tr><td>Ford Torino (sw)</td><td>0.0</td><td>8</td><td>351.0</td><td>153.0</td><td>4034.0</td><td>null</td><td>70</td><td>US</td></tr>\n",
       "<tr><td>Volkswagen Super ...</td><td>0.0</td><td>4</td><td>97.0</td><td>48.0</td><td>1978.0</td><td>null</td><td>71</td><td>Europe</td></tr>\n",
       "<tr><td>Saab 900s</td><td>0.0</td><td>4</td><td>121.0</td><td>110.0</td><td>2800.0</td><td>null</td><td>81</td><td>Europe</td></tr>\n",
       "<tr><td>Chevrolet Chevell...</td><td>0.0</td><td>8</td><td>350.0</td><td>165.0</td><td>4142.0</td><td>null</td><td>70</td><td>US</td></tr>\n",
       "<tr><td>Plymouth Satellit...</td><td>0.0</td><td>8</td><td>383.0</td><td>175.0</td><td>4166.0</td><td>null</td><td>70</td><td>US</td></tr>\n",
       "<tr><td>AMC Rebel SST (sw)</td><td>0.0</td><td>8</td><td>360.0</td><td>175.0</td><td>3850.0</td><td>null</td><td>70</td><td>US</td></tr>\n",
       "<tr><td>Hi 1200D</td><td>9.0</td><td>8</td><td>304.0</td><td>193.0</td><td>4732.0</td><td>null</td><td>70</td><td>US</td></tr>\n",
       "<tr><td>Ford F250</td><td>10.0</td><td>8</td><td>360.0</td><td>215.0</td><td>4615.0</td><td>null</td><td>70</td><td>US</td></tr>\n",
       "<tr><td>Chevy C20</td><td>10.0</td><td>8</td><td>307.0</td><td>200.0</td><td>4376.0</td><td>null</td><td>70</td><td>US</td></tr>\n",
       "<tr><td>Mercury Marquis</td><td>11.0</td><td>8</td><td>429.0</td><td>208.0</td><td>4633.0</td><td>null</td><td>72</td><td>US</td></tr>\n",
       "<tr><td>Chevrolet Impala</td><td>11.0</td><td>8</td><td>400.0</td><td>150.0</td><td>4997.0</td><td>null</td><td>73</td><td>US</td></tr>\n",
       "<tr><td>Oldsmobile Omega</td><td>11.0</td><td>8</td><td>350.0</td><td>180.0</td><td>3664.0</td><td>null</td><td>73</td><td>US</td></tr>\n",
       "<tr><td>Dodge D200</td><td>11.0</td><td>8</td><td>318.0</td><td>210.0</td><td>4382.0</td><td>null</td><td>70</td><td>US</td></tr>\n",
       "<tr><td>Dodge Monaco (sw)</td><td>12.0</td><td>8</td><td>383.0</td><td>180.0</td><td>4955.0</td><td>null</td><td>71</td><td>US</td></tr>\n",
       "<tr><td>Oldsmobile Delta ...</td><td>12.0</td><td>8</td><td>350.0</td><td>160.0</td><td>4456.0</td><td>null</td><td>72</td><td>US</td></tr>\n",
       "<tr><td>Mercury Marquis B...</td><td>12.0</td><td>8</td><td>429.0</td><td>198.0</td><td>4952.0</td><td>null</td><td>73</td><td>US</td></tr>\n",
       "<tr><td>Ford Country</td><td>12.0</td><td>8</td><td>400.0</td><td>167.0</td><td>4906.0</td><td>null</td><td>73</td><td>US</td></tr>\n",
       "<tr><td>Buick Electra 225...</td><td>12.0</td><td>8</td><td>455.0</td><td>225.0</td><td>4951.0</td><td>null</td><td>73</td><td>US</td></tr>\n",
       "</table>\n",
       "only showing top 20 rows\n"
      ],
      "text/plain": [
       "+--------------------+----+---------+------------+----------+------+------------+-----+------+\n",
       "|                 Car| MPG|Cylinders|Displacement|Horsepower|Weight|Acceleration|Model|Origin|\n",
       "+--------------------+----+---------+------------+----------+------+------------+-----+------+\n",
       "|Citroen DS-21 Pallas| 0.0|        4|       133.0|     115.0|3090.0|        null|   70|Europe|\n",
       "|Ford Mustang Boss...| 0.0|        8|       302.0|     140.0|3353.0|        null|   70|    US|\n",
       "|    Ford Torino (sw)| 0.0|        8|       351.0|     153.0|4034.0|        null|   70|    US|\n",
       "|Volkswagen Super ...| 0.0|        4|        97.0|      48.0|1978.0|        null|   71|Europe|\n",
       "|           Saab 900s| 0.0|        4|       121.0|     110.0|2800.0|        null|   81|Europe|\n",
       "|Chevrolet Chevell...| 0.0|        8|       350.0|     165.0|4142.0|        null|   70|    US|\n",
       "|Plymouth Satellit...| 0.0|        8|       383.0|     175.0|4166.0|        null|   70|    US|\n",
       "|  AMC Rebel SST (sw)| 0.0|        8|       360.0|     175.0|3850.0|        null|   70|    US|\n",
       "|            Hi 1200D| 9.0|        8|       304.0|     193.0|4732.0|        null|   70|    US|\n",
       "|           Ford F250|10.0|        8|       360.0|     215.0|4615.0|        null|   70|    US|\n",
       "|           Chevy C20|10.0|        8|       307.0|     200.0|4376.0|        null|   70|    US|\n",
       "|     Mercury Marquis|11.0|        8|       429.0|     208.0|4633.0|        null|   72|    US|\n",
       "|    Chevrolet Impala|11.0|        8|       400.0|     150.0|4997.0|        null|   73|    US|\n",
       "|    Oldsmobile Omega|11.0|        8|       350.0|     180.0|3664.0|        null|   73|    US|\n",
       "|          Dodge D200|11.0|        8|       318.0|     210.0|4382.0|        null|   70|    US|\n",
       "|   Dodge Monaco (sw)|12.0|        8|       383.0|     180.0|4955.0|        null|   71|    US|\n",
       "|Oldsmobile Delta ...|12.0|        8|       350.0|     160.0|4456.0|        null|   72|    US|\n",
       "|Mercury Marquis B...|12.0|        8|       429.0|     198.0|4952.0|        null|   73|    US|\n",
       "|        Ford Country|12.0|        8|       400.0|     167.0|4906.0|        null|   73|    US|\n",
       "|Buick Electra 225...|12.0|        8|       455.0|     225.0|4951.0|        null|   73|    US|\n",
       "+--------------------+----+---------+------------+----------+------+------------+-----+------+\n",
       "only showing top 20 rows"
      ]
     },
     "execution_count": 12,
     "metadata": {},
     "output_type": "execute_result"
    }
   ],
   "source": [
    "from pyspark.sql.functions import col\n",
    "\n",
    "df.sort(df.MPG.asc())\n",
    "\n",
    "# Alternative methods if your column names has a space in it\n",
    "# df.orderBy(['MPG'], ascending=[False]).show(10, truncate=False)\n",
    "# df.sort(col(\"MPG\").asc())"
   ]
  },
  {
   "cell_type": "markdown",
   "id": "e3ef028e-9f3a-4cf0-a174-ec8faf7b0936",
   "metadata": {},
   "source": [
    "<a id=\"sort_multiple\">"
   ]
  },
  {
   "cell_type": "markdown",
   "id": "8818fe7c-f33c-4405-9fe6-fcd124fa7e7f",
   "metadata": {},
   "source": [
    "## Sorting on Multiple Columns"
   ]
  },
  {
   "cell_type": "markdown",
   "id": "05bae678-c4d7-4f2a-a4b5-31a1147e24b4",
   "metadata": {},
   "source": [
    "[[Back to Top](#top)]"
   ]
  },
  {
   "cell_type": "code",
   "execution_count": 13,
   "id": "c4da5514-aab9-4ac0-813a-bec5fdce0167",
   "metadata": {},
   "outputs": [
    {
     "data": {
      "text/html": [
       "<table border='1'>\n",
       "<tr><th>Car</th><th>MPG</th><th>Cylinders</th><th>Displacement</th><th>Horsepower</th><th>Weight</th><th>Acceleration</th><th>Model</th><th>Origin</th></tr>\n",
       "<tr><td>Plymouth Satellit...</td><td>0.0</td><td>8</td><td>383.0</td><td>175.0</td><td>4166.0</td><td>null</td><td>70</td><td>US</td></tr>\n",
       "<tr><td>AMC Rebel SST (sw)</td><td>0.0</td><td>8</td><td>360.0</td><td>175.0</td><td>3850.0</td><td>null</td><td>70</td><td>US</td></tr>\n",
       "<tr><td>Ford Torino (sw)</td><td>0.0</td><td>8</td><td>351.0</td><td>153.0</td><td>4034.0</td><td>null</td><td>70</td><td>US</td></tr>\n",
       "<tr><td>Chevrolet Chevell...</td><td>0.0</td><td>8</td><td>350.0</td><td>165.0</td><td>4142.0</td><td>null</td><td>70</td><td>US</td></tr>\n",
       "<tr><td>Ford Mustang Boss...</td><td>0.0</td><td>8</td><td>302.0</td><td>140.0</td><td>3353.0</td><td>null</td><td>70</td><td>US</td></tr>\n",
       "<tr><td>Citroen DS-21 Pallas</td><td>0.0</td><td>4</td><td>133.0</td><td>115.0</td><td>3090.0</td><td>null</td><td>70</td><td>Europe</td></tr>\n",
       "<tr><td>Saab 900s</td><td>0.0</td><td>4</td><td>121.0</td><td>110.0</td><td>2800.0</td><td>null</td><td>81</td><td>Europe</td></tr>\n",
       "<tr><td>Volkswagen Super ...</td><td>0.0</td><td>4</td><td>97.0</td><td>48.0</td><td>1978.0</td><td>null</td><td>71</td><td>Europe</td></tr>\n",
       "<tr><td>Hi 1200D</td><td>9.0</td><td>8</td><td>304.0</td><td>193.0</td><td>4732.0</td><td>null</td><td>70</td><td>US</td></tr>\n",
       "<tr><td>Ford F250</td><td>10.0</td><td>8</td><td>360.0</td><td>215.0</td><td>4615.0</td><td>null</td><td>70</td><td>US</td></tr>\n",
       "<tr><td>Chevy C20</td><td>10.0</td><td>8</td><td>307.0</td><td>200.0</td><td>4376.0</td><td>null</td><td>70</td><td>US</td></tr>\n",
       "<tr><td>Mercury Marquis</td><td>11.0</td><td>8</td><td>429.0</td><td>208.0</td><td>4633.0</td><td>null</td><td>72</td><td>US</td></tr>\n",
       "<tr><td>Chevrolet Impala</td><td>11.0</td><td>8</td><td>400.0</td><td>150.0</td><td>4997.0</td><td>null</td><td>73</td><td>US</td></tr>\n",
       "<tr><td>Oldsmobile Omega</td><td>11.0</td><td>8</td><td>350.0</td><td>180.0</td><td>3664.0</td><td>null</td><td>73</td><td>US</td></tr>\n",
       "<tr><td>Dodge D200</td><td>11.0</td><td>8</td><td>318.0</td><td>210.0</td><td>4382.0</td><td>null</td><td>70</td><td>US</td></tr>\n",
       "<tr><td>Buick Electra 225...</td><td>12.0</td><td>8</td><td>455.0</td><td>225.0</td><td>4951.0</td><td>null</td><td>73</td><td>US</td></tr>\n",
       "<tr><td>Mercury Marquis B...</td><td>12.0</td><td>8</td><td>429.0</td><td>198.0</td><td>4952.0</td><td>null</td><td>73</td><td>US</td></tr>\n",
       "<tr><td>Ford Country</td><td>12.0</td><td>8</td><td>400.0</td><td>167.0</td><td>4906.0</td><td>null</td><td>73</td><td>US</td></tr>\n",
       "<tr><td>Dodge Monaco (sw)</td><td>12.0</td><td>8</td><td>383.0</td><td>180.0</td><td>4955.0</td><td>null</td><td>71</td><td>US</td></tr>\n",
       "<tr><td>Oldsmobile Vista ...</td><td>12.0</td><td>8</td><td>350.0</td><td>180.0</td><td>4499.0</td><td>null</td><td>73</td><td>US</td></tr>\n",
       "</table>\n",
       "only showing top 20 rows\n"
      ],
      "text/plain": [
       "+--------------------+----+---------+------------+----------+------+------------+-----+------+\n",
       "|                 Car| MPG|Cylinders|Displacement|Horsepower|Weight|Acceleration|Model|Origin|\n",
       "+--------------------+----+---------+------------+----------+------+------------+-----+------+\n",
       "|Plymouth Satellit...| 0.0|        8|       383.0|     175.0|4166.0|        null|   70|    US|\n",
       "|  AMC Rebel SST (sw)| 0.0|        8|       360.0|     175.0|3850.0|        null|   70|    US|\n",
       "|    Ford Torino (sw)| 0.0|        8|       351.0|     153.0|4034.0|        null|   70|    US|\n",
       "|Chevrolet Chevell...| 0.0|        8|       350.0|     165.0|4142.0|        null|   70|    US|\n",
       "|Ford Mustang Boss...| 0.0|        8|       302.0|     140.0|3353.0|        null|   70|    US|\n",
       "|Citroen DS-21 Pallas| 0.0|        4|       133.0|     115.0|3090.0|        null|   70|Europe|\n",
       "|           Saab 900s| 0.0|        4|       121.0|     110.0|2800.0|        null|   81|Europe|\n",
       "|Volkswagen Super ...| 0.0|        4|        97.0|      48.0|1978.0|        null|   71|Europe|\n",
       "|            Hi 1200D| 9.0|        8|       304.0|     193.0|4732.0|        null|   70|    US|\n",
       "|           Ford F250|10.0|        8|       360.0|     215.0|4615.0|        null|   70|    US|\n",
       "|           Chevy C20|10.0|        8|       307.0|     200.0|4376.0|        null|   70|    US|\n",
       "|     Mercury Marquis|11.0|        8|       429.0|     208.0|4633.0|        null|   72|    US|\n",
       "|    Chevrolet Impala|11.0|        8|       400.0|     150.0|4997.0|        null|   73|    US|\n",
       "|    Oldsmobile Omega|11.0|        8|       350.0|     180.0|3664.0|        null|   73|    US|\n",
       "|          Dodge D200|11.0|        8|       318.0|     210.0|4382.0|        null|   70|    US|\n",
       "|Buick Electra 225...|12.0|        8|       455.0|     225.0|4951.0|        null|   73|    US|\n",
       "|Mercury Marquis B...|12.0|        8|       429.0|     198.0|4952.0|        null|   73|    US|\n",
       "|        Ford Country|12.0|        8|       400.0|     167.0|4906.0|        null|   73|    US|\n",
       "|   Dodge Monaco (sw)|12.0|        8|       383.0|     180.0|4955.0|        null|   71|    US|\n",
       "|Oldsmobile Vista ...|12.0|        8|       350.0|     180.0|4499.0|        null|   73|    US|\n",
       "+--------------------+----+---------+------------+----------+------+------------+-----+------+\n",
       "only showing top 20 rows"
      ]
     },
     "execution_count": 13,
     "metadata": {},
     "output_type": "execute_result"
    }
   ],
   "source": [
    "from pyspark.sql.functions import col\n",
    "\n",
    "df.sort(df.MPG.asc(), df.Displacement.desc())\n",
    "\n",
    "# use col(column_name) when your column name has a space in it\n",
    "# df.orderBy(['MPG','Displacement'], ascending=[False, True]).show(10, truncate=False)\n",
    "# df.sort(col(\"MPG\").asc())"
   ]
  },
  {
   "cell_type": "markdown",
   "id": "d5228cf0-28d9-4c49-94b7-ad2250c37562",
   "metadata": {},
   "source": [
    "<a id=\"distinct\">"
   ]
  },
  {
   "cell_type": "markdown",
   "id": "c4edefca-2ed0-48b5-b6d4-6a07f29ae093",
   "metadata": {},
   "source": [
    "## Removing Duplicates Across All Columns Using distinct()"
   ]
  },
  {
   "cell_type": "markdown",
   "id": "511b0439-0ff8-4bdb-ae54-48411569388c",
   "metadata": {},
   "source": [
    "[[Back to Top](#top)]"
   ]
  },
  {
   "cell_type": "code",
   "execution_count": 14,
   "id": "470d8287-a93e-4483-ace1-d70b13b59bc5",
   "metadata": {},
   "outputs": [
    {
     "name": "stdout",
     "output_type": "stream",
     "text": [
      "root\n",
      " |-- employee_name: string (nullable = true)\n",
      " |-- department: string (nullable = true)\n",
      " |-- salary: long (nullable = true)\n",
      "\n",
      "+-------------+----------+------+\n",
      "|employee_name|department|salary|\n",
      "+-------------+----------+------+\n",
      "|James        |Sales     |3000  |\n",
      "|Michael      |Sales     |4600  |\n",
      "|Robert       |Sales     |4600  |\n",
      "|James        |Sales     |3000  |\n",
      "+-------------+----------+------+\n",
      "\n"
     ]
    }
   ],
   "source": [
    "data = [(\"James\", \"Sales\", 3000), \\\n",
    "    (\"Michael\", \"Sales\", 4600), \\\n",
    "    (\"Robert\", \"Sales\", 4600), \\\n",
    "    (\"James\", \"Sales\", 3000)\n",
    "]\n",
    "columns= [\"employee_name\", \"department\", \"salary\"]\n",
    "\n",
    "# Create DataFrame\n",
    "df = spark.createDataFrame(data = data, schema = columns)\n",
    "df.printSchema()\n",
    "df.show(truncate=False)"
   ]
  },
  {
   "cell_type": "code",
   "execution_count": 15,
   "id": "b353ca9b-9661-4ed5-bf9f-415c87f36d4e",
   "metadata": {},
   "outputs": [
    {
     "name": "stdout",
     "output_type": "stream",
     "text": [
      "+-------------+----------+------+\n",
      "|employee_name|department|salary|\n",
      "+-------------+----------+------+\n",
      "|James        |Sales     |3000  |\n",
      "|Michael      |Sales     |4600  |\n",
      "|Robert       |Sales     |4600  |\n",
      "+-------------+----------+------+\n",
      "\n"
     ]
    }
   ],
   "source": [
    "distinctDF = df.distinct()\n",
    "distinctDF.show(truncate=False)"
   ]
  },
  {
   "cell_type": "markdown",
   "id": "71920923-a0b8-4665-af9f-28c005597b48",
   "metadata": {},
   "source": [
    "<a id=\"drop_duplicates\">"
   ]
  },
  {
   "cell_type": "markdown",
   "id": "ef64db16-120e-4ff3-8919-d6f7507dea42",
   "metadata": {},
   "source": [
    "## Removing Duplicates Across Specific Columns Using drop_duplicates()"
   ]
  },
  {
   "cell_type": "markdown",
   "id": "d528b87f-12ce-44ab-8fcd-a59ca8b6b54e",
   "metadata": {},
   "source": [
    "[[Back to Top](#top)]"
   ]
  },
  {
   "cell_type": "code",
   "execution_count": 16,
   "id": "bb03d9d9-701d-466c-950f-89291101b9df",
   "metadata": {},
   "outputs": [
    {
     "name": "stdout",
     "output_type": "stream",
     "text": [
      "+-------------+----------+------+\n",
      "|employee_name|department|salary|\n",
      "+-------------+----------+------+\n",
      "|James        |Sales     |3000  |\n",
      "|Michael      |Sales     |4600  |\n",
      "+-------------+----------+------+\n",
      "\n"
     ]
    }
   ],
   "source": [
    "dropDisDF = df.drop_duplicates([\"department\",\"salary\"])\n",
    "dropDisDF.show(truncate=False)"
   ]
  },
  {
   "cell_type": "markdown",
   "id": "8c1bc4eb-0ac5-4060-8644-24a2c41069f1",
   "metadata": {},
   "source": [
    "## Data Transformations"
   ]
  },
  {
   "cell_type": "markdown",
   "id": "219c8d30-fd3d-4503-8870-f792dc410b99",
   "metadata": {},
   "source": [
    "<a id=\"new_column\">"
   ]
  },
  {
   "cell_type": "markdown",
   "id": "280e9342-9202-4223-ba58-d7d11658e637",
   "metadata": {},
   "source": [
    "#### Create new column based on values from another column"
   ]
  },
  {
   "cell_type": "markdown",
   "id": "7858f846-48a5-49e8-8994-310efc7a7293",
   "metadata": {},
   "source": [
    "[[Back to Top](#top)]"
   ]
  },
  {
   "cell_type": "code",
   "execution_count": 17,
   "id": "41ae9161-0e84-4134-971a-d0721cee31f7",
   "metadata": {},
   "outputs": [],
   "source": [
    "from pyspark.sql.functions import split, col"
   ]
  },
  {
   "cell_type": "code",
   "execution_count": 20,
   "id": "169b694f-4246-4a32-94e6-fbf63af0b75a",
   "metadata": {},
   "outputs": [],
   "source": [
    "df = df.withColumn(\n",
    "    \"Make\", split(col(\"Car\"), \" \")\n",
    "    .getItem(0)\n",
    ").withColumn(\n",
    "    \"Model\", split(col(\"Car\"), \" \")\n",
    "    .getItem(1)\n",
    ")"
   ]
  },
  {
   "cell_type": "code",
   "execution_count": 21,
   "id": "4eb921f7-14d5-4db0-99af-2ff6576ffe00",
   "metadata": {},
   "outputs": [
    {
     "name": "stdout",
     "output_type": "stream",
     "text": [
      "+-------------------------+----+---------+------------+----------+------+------------+---------+------+---------+\n",
      "|Car                      |MPG |Cylinders|Displacement|Horsepower|Weight|Acceleration|Model    |Origin|Make     |\n",
      "+-------------------------+----+---------+------------+----------+------+------------+---------+------+---------+\n",
      "|Chevrolet Chevelle Malibu|18.0|8        |307.0       |130.0     |3504.0|null        |Chevelle |US    |Chevrolet|\n",
      "|Buick Skylark 320        |15.0|8        |350.0       |165.0     |3693.0|null        |Skylark  |US    |Buick    |\n",
      "|Plymouth Satellite       |18.0|8        |318.0       |150.0     |3436.0|null        |Satellite|US    |Plymouth |\n",
      "|AMC Rebel SST            |16.0|8        |304.0       |150.0     |3433.0|null        |Rebel    |US    |AMC      |\n",
      "|Ford Torino              |17.0|8        |302.0       |140.0     |3449.0|null        |Torino   |US    |Ford     |\n",
      "+-------------------------+----+---------+------------+----------+------+------------+---------+------+---------+\n",
      "only showing top 5 rows\n",
      "\n"
     ]
    }
   ],
   "source": [
    "df.show(5, truncate=False)"
   ]
  },
  {
   "cell_type": "markdown",
   "id": "5885ec6d-26fc-4e9e-a39e-6e0208b1f2ec",
   "metadata": {},
   "source": [
    "<a id=\"udf\">"
   ]
  },
  {
   "cell_type": "markdown",
   "id": "272d38de-be61-445d-a90e-eca39e4ce26e",
   "metadata": {},
   "source": [
    "#### Using UDF to Create New Column"
   ]
  },
  {
   "cell_type": "markdown",
   "id": "d68e0135-562f-435a-b615-6245582226d9",
   "metadata": {},
   "source": [
    "[[Back to Top](#top)]"
   ]
  },
  {
   "cell_type": "code",
   "execution_count": 25,
   "id": "b371fde8-a5e2-4630-b0c9-f5131899cba8",
   "metadata": {},
   "outputs": [],
   "source": [
    "data = [\n",
    "    (\"bacon\", 4.0),\n",
    "    (\"pulled pork\", 3.0),\n",
    "    (\"bacon\", 12.0),\n",
    "    (\"pastrami\", 6.0),\n",
    "    (\"corned beef\", 7.5),\n",
    "    (\"bacon\", 8.0),\n",
    "    (\"pastrami\", 3.0),\n",
    "    (\"honey ham\", 5.0),\n",
    "    (\"nova lox\", 6.0),\n",
    "  ]"
   ]
  },
  {
   "cell_type": "code",
   "execution_count": 26,
   "id": "5068972a-f7be-44f8-875f-cc2eed32ed8b",
   "metadata": {},
   "outputs": [],
   "source": [
    "schema = StructType([\n",
    "    StructField(\"Food\", StringType(),True),\n",
    "    StructField(\"Ounces\", DoubleType(),True),\n",
    "  ])"
   ]
  },
  {
   "cell_type": "code",
   "execution_count": 27,
   "id": "0c73dae9-1c66-4005-9c76-1071d694dec9",
   "metadata": {},
   "outputs": [],
   "source": [
    "df_food = spark.createDataFrame(data=data,schema=schema)"
   ]
  },
  {
   "cell_type": "code",
   "execution_count": 28,
   "id": "3a509065-aa38-4aaf-8f69-b4b4e0ebaea9",
   "metadata": {},
   "outputs": [
    {
     "name": "stdout",
     "output_type": "stream",
     "text": [
      "+-----------+------+\n",
      "|       Food|Ounces|\n",
      "+-----------+------+\n",
      "|      bacon|   4.0|\n",
      "|pulled pork|   3.0|\n",
      "|      bacon|  12.0|\n",
      "|   pastrami|   6.0|\n",
      "|corned beef|   7.5|\n",
      "|      bacon|   8.0|\n",
      "|   pastrami|   3.0|\n",
      "|  honey ham|   5.0|\n",
      "|   nova lox|   6.0|\n",
      "+-----------+------+\n",
      "\n"
     ]
    }
   ],
   "source": [
    "df_food.show()"
   ]
  },
  {
   "cell_type": "code",
   "execution_count": 29,
   "id": "f1b9bb1b-cb03-4bd0-9056-ae9068bd64f7",
   "metadata": {},
   "outputs": [],
   "source": [
    "from pyspark.sql.functions import udf"
   ]
  },
  {
   "cell_type": "code",
   "execution_count": 30,
   "id": "9f77d167-9c78-4109-9db1-47d36642ddf8",
   "metadata": {},
   "outputs": [],
   "source": [
    "def food2animal(column):\n",
    "    if column == 'bacon':\n",
    "        return 'pig'\n",
    "    elif column == 'pulled pork':\n",
    "        return 'pig'\n",
    "    elif column == 'pastrami':\n",
    "        return 'cow'\n",
    "    elif column == 'corned beef':\n",
    "        return 'cow'\n",
    "    elif column == 'honey ham':\n",
    "        return 'pig'\n",
    "    else:\n",
    "        return 'salmon'"
   ]
  },
  {
   "cell_type": "code",
   "execution_count": 31,
   "id": "5c27b954-7ba5-4ab9-8fe1-ba04c699b587",
   "metadata": {},
   "outputs": [],
   "source": [
    "food2animal_udf = udf(food2animal, StringType())"
   ]
  },
  {
   "cell_type": "code",
   "execution_count": 32,
   "id": "85c09490-2482-417b-8d64-33e207f0f6c7",
   "metadata": {},
   "outputs": [],
   "source": [
    "df_food_with_animal = df_food.withColumn(\"animal\", food2animal_udf(\"Food\"))"
   ]
  },
  {
   "cell_type": "code",
   "execution_count": 33,
   "id": "ba999d25-4ff8-4156-91db-0cc0a1f486c7",
   "metadata": {},
   "outputs": [
    {
     "name": "stdout",
     "output_type": "stream",
     "text": [
      "+-----------+------+------+\n",
      "|       Food|Ounces|animal|\n",
      "+-----------+------+------+\n",
      "|      bacon|   4.0|   pig|\n",
      "|pulled pork|   3.0|   pig|\n",
      "|      bacon|  12.0|   pig|\n",
      "|   pastrami|   6.0|   cow|\n",
      "|corned beef|   7.5|   cow|\n",
      "|      bacon|   8.0|   pig|\n",
      "|   pastrami|   3.0|   cow|\n",
      "|  honey ham|   5.0|   pig|\n",
      "|   nova lox|   6.0|salmon|\n",
      "+-----------+------+------+\n",
      "\n"
     ]
    }
   ],
   "source": [
    "df_food_with_animal.show()"
   ]
  },
  {
   "cell_type": "markdown",
   "id": "e052571d-f7de-4546-83dc-36c36e61a93b",
   "metadata": {},
   "source": [
    "<a id=\"when\">"
   ]
  },
  {
   "cell_type": "markdown",
   "id": "ecb7f0f4-771c-4b9c-9332-4bd571642463",
   "metadata": {},
   "source": [
    "#### Using `when` to duplicate IF-ELSE Logic To Create New Column"
   ]
  },
  {
   "cell_type": "markdown",
   "id": "afeb3b31-e989-4b61-b68f-d07dc8030c92",
   "metadata": {},
   "source": [
    "[[Back to Top](#top)]"
   ]
  },
  {
   "cell_type": "code",
   "execution_count": 34,
   "id": "9e27ff58-d312-4aee-be3e-5aede9ec0f59",
   "metadata": {},
   "outputs": [],
   "source": [
    "from pyspark.sql.functions import when"
   ]
  },
  {
   "cell_type": "code",
   "execution_count": 35,
   "id": "c3e4a3de-319e-4c7c-a793-3dcb26feeecf",
   "metadata": {},
   "outputs": [],
   "source": [
    "data = [\n",
    "    (\"bacon\", 4.0),\n",
    "    (\"pulled pork\", 3.0),\n",
    "    (\"bacon\", 12.0),\n",
    "    (\"pastrami\", 6.0),\n",
    "    (\"corned beef\", 7.5),\n",
    "    (\"bacon\", 8.0),\n",
    "    (\"pastrami\", 3.0),\n",
    "    (\"honey ham\", 5.0),\n",
    "    (\"nova lox\", 6.0),\n",
    "  ]\n",
    "\n",
    "schema = StructType([\n",
    "    StructField(\"Food\", StringType(),True),\n",
    "    StructField(\"Ounces\", DoubleType(),True),\n",
    "  ])\n",
    "\n",
    "df_food = spark.createDataFrame(data=data,schema=schema)"
   ]
  },
  {
   "cell_type": "code",
   "execution_count": 36,
   "id": "da733348-e6e7-4ac6-8ff4-dc323912475f",
   "metadata": {},
   "outputs": [
    {
     "name": "stdout",
     "output_type": "stream",
     "text": [
      "+-----------+------+\n",
      "|       Food|Ounces|\n",
      "+-----------+------+\n",
      "|      bacon|   4.0|\n",
      "|pulled pork|   3.0|\n",
      "|      bacon|  12.0|\n",
      "|   pastrami|   6.0|\n",
      "|corned beef|   7.5|\n",
      "|      bacon|   8.0|\n",
      "|   pastrami|   3.0|\n",
      "|  honey ham|   5.0|\n",
      "|   nova lox|   6.0|\n",
      "+-----------+------+\n",
      "\n"
     ]
    }
   ],
   "source": [
    "df_food.show()"
   ]
  },
  {
   "cell_type": "code",
   "execution_count": 37,
   "id": "13926ea7-9a7d-4a01-87d7-299b29c19ddc",
   "metadata": {},
   "outputs": [
    {
     "data": {
      "text/html": [
       "<table border='1'>\n",
       "<tr><th>Food</th><th>Ounces</th><th>Animal</th></tr>\n",
       "<tr><td>bacon</td><td>4.0</td><td>pork</td></tr>\n",
       "<tr><td>pulled pork</td><td>3.0</td><td>pork</td></tr>\n",
       "<tr><td>bacon</td><td>12.0</td><td>pork</td></tr>\n",
       "<tr><td>pastrami</td><td>6.0</td><td>cow</td></tr>\n",
       "<tr><td>corned beef</td><td>7.5</td><td>cow</td></tr>\n",
       "<tr><td>bacon</td><td>8.0</td><td>pork</td></tr>\n",
       "<tr><td>pastrami</td><td>3.0</td><td>cow</td></tr>\n",
       "<tr><td>honey ham</td><td>5.0</td><td>pig</td></tr>\n",
       "<tr><td>nova lox</td><td>6.0</td><td>salmon</td></tr>\n",
       "</table>\n"
      ],
      "text/plain": [
       "+-----------+------+------+\n",
       "|       Food|Ounces|Animal|\n",
       "+-----------+------+------+\n",
       "|      bacon|   4.0|  pork|\n",
       "|pulled pork|   3.0|  pork|\n",
       "|      bacon|  12.0|  pork|\n",
       "|   pastrami|   6.0|   cow|\n",
       "|corned beef|   7.5|   cow|\n",
       "|      bacon|   8.0|  pork|\n",
       "|   pastrami|   3.0|   cow|\n",
       "|  honey ham|   5.0|   pig|\n",
       "|   nova lox|   6.0|salmon|\n",
       "+-----------+------+------+"
      ]
     },
     "execution_count": 37,
     "metadata": {},
     "output_type": "execute_result"
    }
   ],
   "source": [
    "df_food.withColumn(\n",
    "    'Animal',\n",
    "    when(col(\"Food\") == 'bacon', 'pork')\n",
    "    .when(col(\"Food\") == 'pulled pork', 'pork')\n",
    "    .when(col(\"Food\") == 'pastrami', 'cow')\n",
    "    .when(col(\"Food\") == 'corned beef', 'cow')\n",
    "    .when(col(\"Food\") == 'honey ham', 'pig')\n",
    "    .otherwise('salmon')\n",
    ")"
   ]
  },
  {
   "cell_type": "markdown",
   "id": "abc8dec1-538c-47ed-9ba9-e03a5fd25821",
   "metadata": {},
   "source": [
    "<a id=\"re-order\">"
   ]
  },
  {
   "cell_type": "markdown",
   "id": "49bdce4e-9099-4b44-8fd4-5e0cd05b38fd",
   "metadata": {},
   "source": [
    "<a id=\"sql_when\">"
   ]
  },
  {
   "cell_type": "markdown",
   "id": "42a2bcab-89a9-40b2-9453-f9f7b02397f1",
   "metadata": {},
   "source": [
    "## Using sql to create new column"
   ]
  },
  {
   "cell_type": "markdown",
   "id": "158a00f4-83d7-47dd-8507-b0a145d35bea",
   "metadata": {},
   "source": [
    "[[Back to Top](#top)]"
   ]
  },
  {
   "cell_type": "code",
   "execution_count": 39,
   "id": "20522b4c-8ca5-4d8f-b5e1-a4632d7ff0cf",
   "metadata": {},
   "outputs": [],
   "source": [
    "from pyspark.sql import SparkSession\n",
    "spark = SparkSession.builder.master(\"local[*]\").getOrCreate()"
   ]
  },
  {
   "cell_type": "code",
   "execution_count": 40,
   "id": "ea65a8f1-76b4-459a-9079-e30187d4f0a9",
   "metadata": {},
   "outputs": [],
   "source": [
    "data = [\n",
    "    (\"bacon\", 4.0),\n",
    "    (\"pulled pork\", 3.0),\n",
    "    (\"bacon\", 12.0),\n",
    "    (\"pastrami\", 6.0),\n",
    "    (\"corned beef\", 7.5),\n",
    "    (\"bacon\", 8.0),\n",
    "    (\"pastrami\", 3.0),\n",
    "    (\"honey ham\", 5.0),\n",
    "    (\"nova lox\", 6.0),\n",
    "  ]\n",
    "\n",
    "schema = StructType([\n",
    "    StructField(\"Food\", StringType(),True),\n",
    "    StructField(\"Ounces\", DoubleType(),True),\n",
    "  ])\n",
    "\n",
    "df_food = spark.createDataFrame(data=data,schema=schema)"
   ]
  },
  {
   "cell_type": "code",
   "execution_count": 42,
   "id": "467b9233-5c3a-4bef-90b6-b5caac73f802",
   "metadata": {},
   "outputs": [
    {
     "name": "stdout",
     "output_type": "stream",
     "text": [
      "+-----------+------+------+\n",
      "|       Food|Ounces|Animal|\n",
      "+-----------+------+------+\n",
      "|      bacon|   4.0|   pig|\n",
      "|pulled pork|   3.0|   pig|\n",
      "|      bacon|  12.0|   pig|\n",
      "|   pastrami|   6.0|   cow|\n",
      "|corned beef|   7.5|   cow|\n",
      "|      bacon|   8.0|   pig|\n",
      "|   pastrami|   3.0|   cow|\n",
      "|  honey ham|   5.0|   pig|\n",
      "|   nova lox|   6.0|salmon|\n",
      "+-----------+------+------+\n",
      "\n"
     ]
    }
   ],
   "source": [
    "df_food.createOrReplaceTempView('food_table')\n",
    "newDF = spark.sql(\n",
    "    '''\n",
    "    select *,\n",
    "    case\n",
    "    when Food = 'bacon' then 'pig'\n",
    "    when Food = 'pulled pork' then 'pig'\n",
    "    when Food = 'pastrami' then 'cow'\n",
    "    when Food = 'corned beef' then 'cow'\n",
    "    when Food = 'honey ham' then 'pig'\n",
    "    else 'salmon' end as Animal from food_table\n",
    "    '''\n",
    ")\n",
    "newDF.show()"
   ]
  },
  {
   "cell_type": "markdown",
   "id": "1eb58e54-b071-4858-9150-e60311a2e890",
   "metadata": {},
   "source": [
    "#### Re-Arrange Columns using `select()`"
   ]
  },
  {
   "cell_type": "markdown",
   "id": "3cfeb414-0f2e-45e7-a96e-325204dab0b9",
   "metadata": {},
   "source": [
    "[[Back to Top](#top)]"
   ]
  },
  {
   "cell_type": "code",
   "execution_count": 24,
   "id": "a2c87957-0040-4f1a-8e74-942d221af823",
   "metadata": {},
   "outputs": [
    {
     "data": {
      "text/html": [
       "<table border='1'>\n",
       "<tr><th>Make</th><th>Model</th><th>MPG</th><th>Cylinders</th><th>Displacement</th><th>Horsepower</th><th>Weight</th><th>Acceleration</th><th>Origin</th></tr>\n",
       "<tr><td>Chevrolet</td><td>Chevelle</td><td>18.0</td><td>8</td><td>307.0</td><td>130.0</td><td>3504.0</td><td>null</td><td>US</td></tr>\n",
       "<tr><td>Buick</td><td>Skylark</td><td>15.0</td><td>8</td><td>350.0</td><td>165.0</td><td>3693.0</td><td>null</td><td>US</td></tr>\n",
       "<tr><td>Plymouth</td><td>Satellite</td><td>18.0</td><td>8</td><td>318.0</td><td>150.0</td><td>3436.0</td><td>null</td><td>US</td></tr>\n",
       "<tr><td>AMC</td><td>Rebel</td><td>16.0</td><td>8</td><td>304.0</td><td>150.0</td><td>3433.0</td><td>null</td><td>US</td></tr>\n",
       "<tr><td>Ford</td><td>Torino</td><td>17.0</td><td>8</td><td>302.0</td><td>140.0</td><td>3449.0</td><td>null</td><td>US</td></tr>\n",
       "<tr><td>Ford</td><td>Galaxie</td><td>15.0</td><td>8</td><td>429.0</td><td>198.0</td><td>4341.0</td><td>null</td><td>US</td></tr>\n",
       "<tr><td>Chevrolet</td><td>Impala</td><td>14.0</td><td>8</td><td>454.0</td><td>220.0</td><td>4354.0</td><td>null</td><td>US</td></tr>\n",
       "<tr><td>Plymouth</td><td>Fury</td><td>14.0</td><td>8</td><td>440.0</td><td>215.0</td><td>4312.0</td><td>null</td><td>US</td></tr>\n",
       "<tr><td>Pontiac</td><td>Catalina</td><td>14.0</td><td>8</td><td>455.0</td><td>225.0</td><td>4425.0</td><td>null</td><td>US</td></tr>\n",
       "<tr><td>AMC</td><td>Ambassador</td><td>15.0</td><td>8</td><td>390.0</td><td>190.0</td><td>3850.0</td><td>null</td><td>US</td></tr>\n",
       "<tr><td>Citroen</td><td>DS-21</td><td>0.0</td><td>4</td><td>133.0</td><td>115.0</td><td>3090.0</td><td>null</td><td>Europe</td></tr>\n",
       "<tr><td>Chevrolet</td><td>Chevelle</td><td>0.0</td><td>8</td><td>350.0</td><td>165.0</td><td>4142.0</td><td>null</td><td>US</td></tr>\n",
       "<tr><td>Ford</td><td>Torino</td><td>0.0</td><td>8</td><td>351.0</td><td>153.0</td><td>4034.0</td><td>null</td><td>US</td></tr>\n",
       "<tr><td>Plymouth</td><td>Satellite</td><td>0.0</td><td>8</td><td>383.0</td><td>175.0</td><td>4166.0</td><td>null</td><td>US</td></tr>\n",
       "<tr><td>AMC</td><td>Rebel</td><td>0.0</td><td>8</td><td>360.0</td><td>175.0</td><td>3850.0</td><td>null</td><td>US</td></tr>\n",
       "<tr><td>Dodge</td><td>Challenger</td><td>15.0</td><td>8</td><td>383.0</td><td>170.0</td><td>3563.0</td><td>null</td><td>US</td></tr>\n",
       "<tr><td>Plymouth</td><td>&#x27;Cuda</td><td>14.0</td><td>8</td><td>340.0</td><td>160.0</td><td>3609.0</td><td>null</td><td>US</td></tr>\n",
       "<tr><td>Ford</td><td>Mustang</td><td>0.0</td><td>8</td><td>302.0</td><td>140.0</td><td>3353.0</td><td>null</td><td>US</td></tr>\n",
       "<tr><td>Chevrolet</td><td>Monte</td><td>15.0</td><td>8</td><td>400.0</td><td>150.0</td><td>3761.0</td><td>null</td><td>US</td></tr>\n",
       "<tr><td>Buick</td><td>Estate</td><td>14.0</td><td>8</td><td>455.0</td><td>225.0</td><td>3086.0</td><td>null</td><td>US</td></tr>\n",
       "</table>\n",
       "only showing top 20 rows\n"
      ],
      "text/plain": [
       "+---------+----------+----+---------+------------+----------+------+------------+------+\n",
       "|     Make|     Model| MPG|Cylinders|Displacement|Horsepower|Weight|Acceleration|Origin|\n",
       "+---------+----------+----+---------+------------+----------+------+------------+------+\n",
       "|Chevrolet|  Chevelle|18.0|        8|       307.0|     130.0|3504.0|        null|    US|\n",
       "|    Buick|   Skylark|15.0|        8|       350.0|     165.0|3693.0|        null|    US|\n",
       "| Plymouth| Satellite|18.0|        8|       318.0|     150.0|3436.0|        null|    US|\n",
       "|      AMC|     Rebel|16.0|        8|       304.0|     150.0|3433.0|        null|    US|\n",
       "|     Ford|    Torino|17.0|        8|       302.0|     140.0|3449.0|        null|    US|\n",
       "|     Ford|   Galaxie|15.0|        8|       429.0|     198.0|4341.0|        null|    US|\n",
       "|Chevrolet|    Impala|14.0|        8|       454.0|     220.0|4354.0|        null|    US|\n",
       "| Plymouth|      Fury|14.0|        8|       440.0|     215.0|4312.0|        null|    US|\n",
       "|  Pontiac|  Catalina|14.0|        8|       455.0|     225.0|4425.0|        null|    US|\n",
       "|      AMC|Ambassador|15.0|        8|       390.0|     190.0|3850.0|        null|    US|\n",
       "|  Citroen|     DS-21| 0.0|        4|       133.0|     115.0|3090.0|        null|Europe|\n",
       "|Chevrolet|  Chevelle| 0.0|        8|       350.0|     165.0|4142.0|        null|    US|\n",
       "|     Ford|    Torino| 0.0|        8|       351.0|     153.0|4034.0|        null|    US|\n",
       "| Plymouth| Satellite| 0.0|        8|       383.0|     175.0|4166.0|        null|    US|\n",
       "|      AMC|     Rebel| 0.0|        8|       360.0|     175.0|3850.0|        null|    US|\n",
       "|    Dodge|Challenger|15.0|        8|       383.0|     170.0|3563.0|        null|    US|\n",
       "| Plymouth|     'Cuda|14.0|        8|       340.0|     160.0|3609.0|        null|    US|\n",
       "|     Ford|   Mustang| 0.0|        8|       302.0|     140.0|3353.0|        null|    US|\n",
       "|Chevrolet|     Monte|15.0|        8|       400.0|     150.0|3761.0|        null|    US|\n",
       "|    Buick|    Estate|14.0|        8|       455.0|     225.0|3086.0|        null|    US|\n",
       "+---------+----------+----+---------+------------+----------+------+------------+------+\n",
       "only showing top 20 rows"
      ]
     },
     "execution_count": 24,
     "metadata": {},
     "output_type": "execute_result"
    }
   ],
   "source": [
    "df.select('Make', 'Model', 'MPG', 'Cylinders', 'Displacement', 'Horsepower', 'Weight', 'Acceleration', 'Origin')"
   ]
  },
  {
   "cell_type": "markdown",
   "id": "1f7385bf-9470-40b5-80ff-caf34ac03fde",
   "metadata": {},
   "source": [
    "## Data Summarizations"
   ]
  },
  {
   "cell_type": "markdown",
   "id": "884f72da-f77a-4b60-9ba1-22fc12eead4b",
   "metadata": {},
   "source": [
    "[[Back to Top](#top)]"
   ]
  },
  {
   "cell_type": "code",
   "execution_count": 43,
   "id": "27b9ecaa-40b4-449e-bddb-7e704a7a228a",
   "metadata": {},
   "outputs": [
    {
     "name": "stdout",
     "output_type": "stream",
     "text": [
      "+--------------------------------+----+---------+------------+----------+------+------------+----------+------+---------+\n",
      "|Car                             |MPG |Cylinders|Displacement|Horsepower|Weight|Acceleration|Model     |Origin|Make     |\n",
      "+--------------------------------+----+---------+------------+----------+------+------------+----------+------+---------+\n",
      "|Chevrolet Chevelle Malibu       |18.0|8        |307.0       |130.0     |3504.0|null        |Chevelle  |US    |Chevrolet|\n",
      "|Buick Skylark 320               |15.0|8        |350.0       |165.0     |3693.0|null        |Skylark   |US    |Buick    |\n",
      "|Plymouth Satellite              |18.0|8        |318.0       |150.0     |3436.0|null        |Satellite |US    |Plymouth |\n",
      "|AMC Rebel SST                   |16.0|8        |304.0       |150.0     |3433.0|null        |Rebel     |US    |AMC      |\n",
      "|Ford Torino                     |17.0|8        |302.0       |140.0     |3449.0|null        |Torino    |US    |Ford     |\n",
      "|Ford Galaxie 500                |15.0|8        |429.0       |198.0     |4341.0|null        |Galaxie   |US    |Ford     |\n",
      "|Chevrolet Impala                |14.0|8        |454.0       |220.0     |4354.0|null        |Impala    |US    |Chevrolet|\n",
      "|Plymouth Fury iii               |14.0|8        |440.0       |215.0     |4312.0|null        |Fury      |US    |Plymouth |\n",
      "|Pontiac Catalina                |14.0|8        |455.0       |225.0     |4425.0|null        |Catalina  |US    |Pontiac  |\n",
      "|AMC Ambassador DPL              |15.0|8        |390.0       |190.0     |3850.0|null        |Ambassador|US    |AMC      |\n",
      "|Citroen DS-21 Pallas            |0.0 |4        |133.0       |115.0     |3090.0|null        |DS-21     |Europe|Citroen  |\n",
      "|Chevrolet Chevelle Concours (sw)|0.0 |8        |350.0       |165.0     |4142.0|null        |Chevelle  |US    |Chevrolet|\n",
      "|Ford Torino (sw)                |0.0 |8        |351.0       |153.0     |4034.0|null        |Torino    |US    |Ford     |\n",
      "|Plymouth Satellite (sw)         |0.0 |8        |383.0       |175.0     |4166.0|null        |Satellite |US    |Plymouth |\n",
      "|AMC Rebel SST (sw)              |0.0 |8        |360.0       |175.0     |3850.0|null        |Rebel     |US    |AMC      |\n",
      "|Dodge Challenger SE             |15.0|8        |383.0       |170.0     |3563.0|null        |Challenger|US    |Dodge    |\n",
      "|Plymouth 'Cuda 340              |14.0|8        |340.0       |160.0     |3609.0|null        |'Cuda     |US    |Plymouth |\n",
      "|Ford Mustang Boss 302           |0.0 |8        |302.0       |140.0     |3353.0|null        |Mustang   |US    |Ford     |\n",
      "|Chevrolet Monte Carlo           |15.0|8        |400.0       |150.0     |3761.0|null        |Monte     |US    |Chevrolet|\n",
      "|Buick Estate Wagon (sw)         |14.0|8        |455.0       |225.0     |3086.0|null        |Estate    |US    |Buick    |\n",
      "+--------------------------------+----+---------+------------+----------+------+------------+----------+------+---------+\n",
      "only showing top 20 rows\n",
      "\n"
     ]
    }
   ],
   "source": [
    "df.show(truncate=False)"
   ]
  },
  {
   "cell_type": "markdown",
   "id": "e253cccf-9adb-45f4-a66f-20ccb8b68956",
   "metadata": {},
   "source": [
    "#### Count of rows"
   ]
  },
  {
   "cell_type": "code",
   "execution_count": 44,
   "id": "ae3ca533-3bb8-4012-a97c-13f547338842",
   "metadata": {},
   "outputs": [
    {
     "data": {
      "text/plain": [
       "406"
      ]
     },
     "execution_count": 44,
     "metadata": {},
     "output_type": "execute_result"
    }
   ],
   "source": [
    "df.count()"
   ]
  },
  {
   "cell_type": "markdown",
   "id": "9e715acc-0962-46a8-9703-9f9583807f12",
   "metadata": {},
   "source": [
    "#### Counts by Groups within a Single Column"
   ]
  },
  {
   "cell_type": "code",
   "execution_count": 45,
   "id": "fae24993-345f-477a-b00a-45d079f65902",
   "metadata": {},
   "outputs": [
    {
     "data": {
      "text/html": [
       "<table border='1'>\n",
       "<tr><th>Origin</th><th>Count</th></tr>\n",
       "<tr><td>Europe</td><td>73</td></tr>\n",
       "<tr><td>US</td><td>254</td></tr>\n",
       "<tr><td>Japan</td><td>79</td></tr>\n",
       "</table>\n"
      ],
      "text/plain": [
       "+------+-----+\n",
       "|Origin|Count|\n",
       "+------+-----+\n",
       "|Europe|   73|\n",
       "|    US|  254|\n",
       "| Japan|   79|\n",
       "+------+-----+"
      ]
     },
     "execution_count": 45,
     "metadata": {},
     "output_type": "execute_result"
    }
   ],
   "source": [
    "df.groupBy('Origin').count().withColumnRenamed('count', 'Count')"
   ]
  },
  {
   "cell_type": "markdown",
   "id": "e09f39d4-5437-452e-9c80-085e9bf0fa7f",
   "metadata": {},
   "source": [
    "#### Aggregations"
   ]
  },
  {
   "cell_type": "code",
   "execution_count": 46,
   "id": "9a25cc30-7d77-4d87-a605-739b7c1f3959",
   "metadata": {},
   "outputs": [],
   "source": [
    "from pyspark.sql.functions import mean "
   ]
  },
  {
   "cell_type": "code",
   "execution_count": 47,
   "id": "68c422e1-4339-43ad-8238-ba0c714316d9",
   "metadata": {},
   "outputs": [
    {
     "name": "stdout",
     "output_type": "stream",
     "text": [
      "+------+------------------+\n",
      "|Origin|          avg(MPG)|\n",
      "+------+------------------+\n",
      "|Europe|26.745205479452057|\n",
      "|    US|19.688188976377948|\n",
      "| Japan|30.450632911392397|\n",
      "+------+------------------+\n",
      "\n"
     ]
    }
   ],
   "source": [
    "df.groupBy(\n",
    "    \"Origin\"\n",
    ").agg(\n",
    "    mean('MPG')\n",
    ").show()"
   ]
  },
  {
   "cell_type": "markdown",
   "id": "70b18909-0fb0-4731-b22c-ab12c0fe59ef",
   "metadata": {},
   "source": [
    "<a id=\"merging\">"
   ]
  },
  {
   "cell_type": "markdown",
   "id": "a3b2f248-7457-4f08-9c83-f2fd6b1c8f88",
   "metadata": {},
   "source": [
    "## Joining / Merging"
   ]
  },
  {
   "cell_type": "markdown",
   "id": "55ecee65-a82d-4259-bf6a-b52402449b45",
   "metadata": {},
   "source": [
    "[[Back to Top](#top)]"
   ]
  },
  {
   "cell_type": "code",
   "execution_count": 48,
   "id": "cd9bdfd6-3dd5-4f51-98c5-4f917a9e72b2",
   "metadata": {},
   "outputs": [],
   "source": [
    "df_counts = df.groupBy('Origin').count().withColumnRenamed('count', 'Count')"
   ]
  },
  {
   "cell_type": "code",
   "execution_count": 49,
   "id": "7ea5a4a4-9f3d-4929-b248-f2d773eece2b",
   "metadata": {},
   "outputs": [],
   "source": [
    "df_avgs = df.groupBy(\n",
    "    \"Origin\"\n",
    ").agg(\n",
    "    mean('MPG')\n",
    ")"
   ]
  },
  {
   "cell_type": "code",
   "execution_count": 50,
   "id": "f5e9cb7b-ee91-45fd-974f-04285b7446d7",
   "metadata": {},
   "outputs": [
    {
     "name": "stdout",
     "output_type": "stream",
     "text": [
      "+------+-----+\n",
      "|Origin|Count|\n",
      "+------+-----+\n",
      "|Europe|   73|\n",
      "|    US|  254|\n",
      "| Japan|   79|\n",
      "+------+-----+\n",
      "\n"
     ]
    }
   ],
   "source": [
    "df_counts.show()"
   ]
  },
  {
   "cell_type": "code",
   "execution_count": 51,
   "id": "f87e0f4c-efda-4cb1-93cd-f6e18604f16a",
   "metadata": {},
   "outputs": [],
   "source": [
    "df_avgs = df_avgs.withColumnRenamed('avg(MPG)', 'Avg')"
   ]
  },
  {
   "cell_type": "code",
   "execution_count": 52,
   "id": "1b75b141-bde8-45e4-8b5c-30c71c742c61",
   "metadata": {},
   "outputs": [
    {
     "name": "stdout",
     "output_type": "stream",
     "text": [
      "+------+------------------+\n",
      "|Origin|               Avg|\n",
      "+------+------------------+\n",
      "|Europe|26.745205479452057|\n",
      "|    US|19.688188976377948|\n",
      "| Japan|30.450632911392397|\n",
      "+------+------------------+\n",
      "\n"
     ]
    }
   ],
   "source": [
    "df_avgs.show()"
   ]
  },
  {
   "cell_type": "code",
   "execution_count": 53,
   "id": "2493e5b4-7a41-4704-b43e-b7ef1ac50b56",
   "metadata": {},
   "outputs": [
    {
     "data": {
      "text/html": [
       "<table border='1'>\n",
       "<tr><th>Origin</th><th>Count</th><th>Avg</th></tr>\n",
       "<tr><td>Europe</td><td>73</td><td>26.745205479452057</td></tr>\n",
       "<tr><td>US</td><td>254</td><td>19.688188976377948</td></tr>\n",
       "<tr><td>Japan</td><td>79</td><td>30.450632911392397</td></tr>\n",
       "</table>\n"
      ],
      "text/plain": [
       "+------+-----+------------------+\n",
       "|Origin|Count|               Avg|\n",
       "+------+-----+------------------+\n",
       "|Europe|   73|26.745205479452057|\n",
       "|    US|  254|19.688188976377948|\n",
       "| Japan|   79|30.450632911392397|\n",
       "+------+-----+------------------+"
      ]
     },
     "execution_count": 53,
     "metadata": {},
     "output_type": "execute_result"
    }
   ],
   "source": [
    "df_counts.join(df_avgs, df_counts.Origin == df_avgs.Origin, 'inner').select(df_counts.Origin, df_counts.Count, df_avgs.Avg)"
   ]
  },
  {
   "cell_type": "markdown",
   "id": "8ac6bd6e-6018-45a4-ab56-3362241d6cdb",
   "metadata": {},
   "source": [
    "As you can see, we have done an inner join between two dataframes. The following joins are supported by PySpark:\n",
    "\n",
    "- inner (default)\n",
    "- cross\n",
    "- outer\n",
    "- full\n",
    "- full_outer\n",
    "- left\n",
    "- left_outer\n",
    "- right\n",
    "- right_outer\n",
    "- left_semi\n",
    "- left_anti"
   ]
  },
  {
   "cell_type": "markdown",
   "id": "63426937-adce-4f0c-9359-8493dae52f1c",
   "metadata": {},
   "source": [
    "<a id=\"filtering\">"
   ]
  },
  {
   "cell_type": "markdown",
   "id": "82297df2-3335-42af-8689-8f8f45c16ce1",
   "metadata": {},
   "source": [
    "## Filtering"
   ]
  },
  {
   "cell_type": "markdown",
   "id": "d11a0aa7-fce4-4f17-9037-3fabe6a75cf1",
   "metadata": {},
   "source": [
    "[[Back to Top](#top)]"
   ]
  },
  {
   "cell_type": "code",
   "execution_count": 54,
   "id": "986c28ff-f898-41ef-b2da-b4ef6b3da003",
   "metadata": {},
   "outputs": [
    {
     "name": "stdout",
     "output_type": "stream",
     "text": [
      "+--------------------------------+----+---------+------------+----------+------+------------+----------+------+---------+\n",
      "|Car                             |MPG |Cylinders|Displacement|Horsepower|Weight|Acceleration|Model     |Origin|Make     |\n",
      "+--------------------------------+----+---------+------------+----------+------+------------+----------+------+---------+\n",
      "|Chevrolet Chevelle Malibu       |18.0|8        |307.0       |130.0     |3504.0|null        |Chevelle  |US    |Chevrolet|\n",
      "|Buick Skylark 320               |15.0|8        |350.0       |165.0     |3693.0|null        |Skylark   |US    |Buick    |\n",
      "|Plymouth Satellite              |18.0|8        |318.0       |150.0     |3436.0|null        |Satellite |US    |Plymouth |\n",
      "|AMC Rebel SST                   |16.0|8        |304.0       |150.0     |3433.0|null        |Rebel     |US    |AMC      |\n",
      "|Ford Torino                     |17.0|8        |302.0       |140.0     |3449.0|null        |Torino    |US    |Ford     |\n",
      "|Ford Galaxie 500                |15.0|8        |429.0       |198.0     |4341.0|null        |Galaxie   |US    |Ford     |\n",
      "|Chevrolet Impala                |14.0|8        |454.0       |220.0     |4354.0|null        |Impala    |US    |Chevrolet|\n",
      "|Plymouth Fury iii               |14.0|8        |440.0       |215.0     |4312.0|null        |Fury      |US    |Plymouth |\n",
      "|Pontiac Catalina                |14.0|8        |455.0       |225.0     |4425.0|null        |Catalina  |US    |Pontiac  |\n",
      "|AMC Ambassador DPL              |15.0|8        |390.0       |190.0     |3850.0|null        |Ambassador|US    |AMC      |\n",
      "|Citroen DS-21 Pallas            |0.0 |4        |133.0       |115.0     |3090.0|null        |DS-21     |Europe|Citroen  |\n",
      "|Chevrolet Chevelle Concours (sw)|0.0 |8        |350.0       |165.0     |4142.0|null        |Chevelle  |US    |Chevrolet|\n",
      "|Ford Torino (sw)                |0.0 |8        |351.0       |153.0     |4034.0|null        |Torino    |US    |Ford     |\n",
      "|Plymouth Satellite (sw)         |0.0 |8        |383.0       |175.0     |4166.0|null        |Satellite |US    |Plymouth |\n",
      "|AMC Rebel SST (sw)              |0.0 |8        |360.0       |175.0     |3850.0|null        |Rebel     |US    |AMC      |\n",
      "|Dodge Challenger SE             |15.0|8        |383.0       |170.0     |3563.0|null        |Challenger|US    |Dodge    |\n",
      "|Plymouth 'Cuda 340              |14.0|8        |340.0       |160.0     |3609.0|null        |'Cuda     |US    |Plymouth |\n",
      "|Ford Mustang Boss 302           |0.0 |8        |302.0       |140.0     |3353.0|null        |Mustang   |US    |Ford     |\n",
      "|Chevrolet Monte Carlo           |15.0|8        |400.0       |150.0     |3761.0|null        |Monte     |US    |Chevrolet|\n",
      "|Buick Estate Wagon (sw)         |14.0|8        |455.0       |225.0     |3086.0|null        |Estate    |US    |Buick    |\n",
      "+--------------------------------+----+---------+------------+----------+------+------------+----------+------+---------+\n",
      "only showing top 20 rows\n",
      "\n"
     ]
    }
   ],
   "source": [
    "df.show(truncate=False)"
   ]
  },
  {
   "cell_type": "code",
   "execution_count": 55,
   "id": "b8765e3c-df74-4fee-bf2c-ef996ee618f0",
   "metadata": {},
   "outputs": [
    {
     "name": "stdout",
     "output_type": "stream",
     "text": [
      "+--------------------+----+---------+------------+----------+------+------------+--------+------+---------+\n",
      "|                 Car| MPG|Cylinders|Displacement|Horsepower|Weight|Acceleration|   Model|Origin|     Make|\n",
      "+--------------------+----+---------+------------+----------+------+------------+--------+------+---------+\n",
      "|Chevrolet Chevell...|18.0|        8|       307.0|     130.0|3504.0|        null|Chevelle|    US|Chevrolet|\n",
      "|    Chevrolet Impala|14.0|        8|       454.0|     220.0|4354.0|        null|  Impala|    US|Chevrolet|\n",
      "|Chevrolet Chevell...| 0.0|        8|       350.0|     165.0|4142.0|        null|Chevelle|    US|Chevrolet|\n",
      "|Chevrolet Monte C...|15.0|        8|       400.0|     150.0|3761.0|        null|   Monte|    US|Chevrolet|\n",
      "| Chevrolet Vega 2300|28.0|        4|       140.0|      90.0|2264.0|        null|    Vega|    US|Chevrolet|\n",
      "+--------------------+----+---------+------------+----------+------+------------+--------+------+---------+\n",
      "only showing top 5 rows\n",
      "\n"
     ]
    }
   ],
   "source": [
    "df.filter(col('Make')=='Chevrolet').show(5)"
   ]
  },
  {
   "cell_type": "code",
   "execution_count": 56,
   "id": "c6d298a2-6c2a-4ca7-b7e9-1aa4665fad6e",
   "metadata": {},
   "outputs": [
    {
     "name": "stdout",
     "output_type": "stream",
     "text": [
      "+--------------------+----+---------+------------+----------+------+------------+--------+------+---------+\n",
      "|                 Car| MPG|Cylinders|Displacement|Horsepower|Weight|Acceleration|   Model|Origin|     Make|\n",
      "+--------------------+----+---------+------------+----------+------+------------+--------+------+---------+\n",
      "|Chevrolet Chevell...|18.0|        8|       307.0|     130.0|3504.0|        null|Chevelle|    US|Chevrolet|\n",
      "|    Chevrolet Impala|14.0|        8|       454.0|     220.0|4354.0|        null|  Impala|    US|Chevrolet|\n",
      "|Chevrolet Chevell...| 0.0|        8|       350.0|     165.0|4142.0|        null|Chevelle|    US|Chevrolet|\n",
      "|Chevrolet Monte C...|15.0|        8|       400.0|     150.0|3761.0|        null|   Monte|    US|Chevrolet|\n",
      "|           Chevy C20|10.0|        8|       307.0|     200.0|4376.0|        null|     C20|    US|    Chevy|\n",
      "+--------------------+----+---------+------------+----------+------+------------+--------+------+---------+\n",
      "only showing top 5 rows\n",
      "\n"
     ]
    }
   ],
   "source": [
    "df.filter(col('Make').contains('Chev')).show(5)"
   ]
  },
  {
   "cell_type": "code",
   "execution_count": 57,
   "id": "a1687272-10c9-4899-8933-e0d6c20f3592",
   "metadata": {},
   "outputs": [
    {
     "name": "stdout",
     "output_type": "stream",
     "text": [
      "+--------------------+----+---------+------------+----------+------+------------+--------+------+----------+\n",
      "|                 Car| MPG|Cylinders|Displacement|Horsepower|Weight|Acceleration|   Model|Origin|      Make|\n",
      "+--------------------+----+---------+------------+----------+------+------------+--------+------+----------+\n",
      "| Chevrolet Vega 2300|28.0|        4|       140.0|      90.0|2264.0|        null|    Vega|    US| Chevrolet|\n",
      "|Chevrolet Chevell...|17.0|        6|       250.0|     100.0|3329.0|        null|Chevelle|    US| Chevrolet|\n",
      "| Chevrolet Vega (sw)|22.0|        4|       140.0|      72.0|2408.0|        null|    Vega|    US| Chevrolet|\n",
      "|      Chevrolet Vega|20.0|        4|       140.0|      90.0|2408.0|        null|    Vega|    US| Chevrolet|\n",
      "|Chevrolet Nova Cu...|16.0|        6|       250.0|     100.0|3278.0|        null|    Nova|    US| Chevrolet|\n",
      "|      Chevrolet Vega|21.0|        4|       140.0|      72.0|2401.0|        null|    Vega|    US| Chevrolet|\n",
      "|      Chevrolet Nova|15.0|        6|       250.0|     100.0|3336.0|        null|    Nova|    US| Chevrolet|\n",
      "|      Chevrolet Vega|25.0|        4|       140.0|      75.0|2542.0|        null|    Vega|    US| Chevrolet|\n",
      "|Chevrolet Chevell...|16.0|        6|       250.0|     100.0|3781.0|        null|Chevelle|    US| Chevrolet|\n",
      "|      Chevrolet Nova|18.0|        6|       250.0|     105.0|3459.0|        null|    Nova|    US| Chevrolet|\n",
      "|Chevrolete Chevel...|16.0|        6|       250.0|     105.0|3897.0|        null|Chevelle|    US|Chevrolete|\n",
      "|      Chevrolet Nova|22.0|        6|       250.0|     105.0|3353.0|        null|    Nova|    US| Chevrolet|\n",
      "|  Chevrolet Chevette|29.0|        4|        85.0|      52.0|2035.0|        null|Chevette|    US| Chevrolet|\n",
      "|     Chevrolet Woody|24.5|        4|        98.0|      60.0|2164.0|        null|   Woody|    US| Chevrolet|\n",
      "|  Chevrolet Concours|17.5|        6|       250.0|     110.0|3520.0|        null|Concours|    US| Chevrolet|\n",
      "|  Chevrolet Chevette|30.5|        4|        98.0|      63.0|2051.0|        null|Chevette|    US| Chevrolet|\n",
      "|    Chevrolet Malibu|20.5|        6|       200.0|      95.0|3155.0|        null|  Malibu|    US| Chevrolet|\n",
      "|  Chevrolet Chevette|30.0|        4|        98.0|      68.0|2155.0|        null|Chevette|    US| Chevrolet|\n",
      "|  Chevrolet Citation|28.8|        6|       173.0|     115.0|2595.0|        null|Citation|    US| Chevrolet|\n",
      "|  Chevrolet Chevette|32.1|        4|        98.0|      70.0|2120.0|        null|Chevette|    US| Chevrolet|\n",
      "+--------------------+----+---------+------------+----------+------+------------+--------+------+----------+\n",
      "only showing top 20 rows\n",
      "\n"
     ]
    }
   ],
   "source": [
    "df.filter(\n",
    "    (col('Make').contains('Chev')) &\n",
    "    (col('Cylinders') < 8)\n",
    ").show()"
   ]
  },
  {
   "cell_type": "code",
   "execution_count": 58,
   "id": "4be11f0d-200c-4b84-abbe-ca8e4b112147",
   "metadata": {},
   "outputs": [],
   "source": [
    "spark.stop()"
   ]
  },
  {
   "cell_type": "markdown",
   "id": "4141faff-1522-4617-a693-6f376838b12e",
   "metadata": {},
   "source": [
    "<a id=\"databases\">"
   ]
  },
  {
   "cell_type": "markdown",
   "id": "67f24dd2-9d44-48ad-8168-3be47d6bdca7",
   "metadata": {},
   "source": [
    "## Connecting to Relational Databases (JDBC)"
   ]
  },
  {
   "cell_type": "markdown",
   "id": "85bebfb8-b8e9-4025-9907-f593f34141cc",
   "metadata": {},
   "source": [
    "[[Back to Top](#top)]"
   ]
  },
  {
   "cell_type": "markdown",
   "id": "7aaf3812-5b6b-47dc-826d-58a83ede3810",
   "metadata": {},
   "source": [
    "[Link](https://spark.apache.org/docs/latest/api/python/user_guide/pandas_on_spark/from_to_dbms.html) to their documentation"
   ]
  },
  {
   "cell_type": "markdown",
   "id": "77b439ff-808b-47f1-b64f-dc60e4d0a60a",
   "metadata": {},
   "source": [
    "#### PostgreSQL"
   ]
  },
  {
   "cell_type": "code",
   "execution_count": null,
   "id": "6ab79c5c-1ebb-49ce-bf09-c53aa8aa9cbe",
   "metadata": {},
   "outputs": [],
   "source": [
    "import configparser\n",
    "import os\n",
    "import pyspark\n",
    "from pyspark.sql import SparkSession"
   ]
  },
  {
   "cell_type": "code",
   "execution_count": null,
   "id": "b9204d95-06c5-40d6-a62a-903e2bf59c59",
   "metadata": {},
   "outputs": [],
   "source": [
    "spark = SparkSession.builder.master(\"local[*]\").appName(\"Postgres\")\\\n",
    "    .config(\"spark.jars\", \"C:\\\\Users\\\\some_user\\\\drivers\\\\jdbc\\\\postgresql\\\\postgresql-42.2.23.jar\")\\\n",
    "    .getOrCreate()"
   ]
  },
  {
   "cell_type": "code",
   "execution_count": null,
   "id": "403e4628-bbca-48d9-a781-927b42b76bf8",
   "metadata": {},
   "outputs": [],
   "source": [
    "config_file = os.getenv(\"CONFIG_PATH\")"
   ]
  },
  {
   "cell_type": "code",
   "execution_count": null,
   "id": "e047216b-76da-4cbd-9d0e-d60d1b57e5e1",
   "metadata": {},
   "outputs": [],
   "source": [
    "config = configparser.ConfigParser()\n",
    "try:\n",
    "    config.read(config_file)\n",
    "except ConfigFileNotFound:\n",
    "    print(\"config.ini file not found\")"
   ]
  },
  {
   "cell_type": "code",
   "execution_count": null,
   "id": "9930935b-8cf6-4d44-8e92-8a06ac114162",
   "metadata": {},
   "outputs": [],
   "source": [
    "# Read in the Postgresql database credentials for DSN-less connection\n",
    "PG_HOST = config[\"sc_health_postgres\"][\"HOST\"]\n",
    "PG_PORT = config[\"sc_health_postgres\"][\"PORT\"]\n",
    "PG_DB = config[\"sc_health_postgres\"][\"DB\"]\n",
    "PG_USER = config[\"sc_health_postgres\"][\"USER\"]\n",
    "PG_PWD = config[\"sc_health_postgres\"][\"PWD\"]"
   ]
  },
  {
   "cell_type": "code",
   "execution_count": null,
   "id": "52134d1c-e419-4166-b7ec-509088570803",
   "metadata": {},
   "outputs": [],
   "source": [
    "url = f'jdbc:postgresql://{PG_HOST}:{PG_PORT}/{PG_DB}'\n",
    "driver = 'org.postgresql.Driver'"
   ]
  },
  {
   "cell_type": "code",
   "execution_count": null,
   "id": "f2c96542-e8c5-443c-82ec-11b50c44ca7d",
   "metadata": {},
   "outputs": [],
   "source": [
    "query = \"SELECT CURRENT_DATE\""
   ]
  },
  {
   "cell_type": "code",
   "execution_count": null,
   "id": "83298d75-98e1-4838-9ec4-f286d2092fdb",
   "metadata": {},
   "outputs": [],
   "source": [
    "jdbcDF = spark.read \\\n",
    "    .format(\"jdbc\") \\\n",
    "    .option(\"driver\", driver) \\\n",
    "    .option(\"url\", url) \\\n",
    "    .option(\"user\", PG_USER) \\\n",
    "    .option(\"password\", PG_PWD) \\\n",
    "    .option(\"query\", query) \\\n",
    "    .load()"
   ]
  },
  {
   "cell_type": "code",
   "execution_count": null,
   "id": "e2a203ae-0ef0-45c3-a68d-eebe09f7db3c",
   "metadata": {},
   "outputs": [],
   "source": [
    "jdbcDF.show()"
   ]
  },
  {
   "cell_type": "code",
   "execution_count": null,
   "id": "ef2bb206-45f7-4962-85da-098cc9ed9104",
   "metadata": {},
   "outputs": [],
   "source": [
    "spark.stop()"
   ]
  },
  {
   "cell_type": "markdown",
   "id": "e23188b3-d225-4583-a6cc-118a0d83f4b7",
   "metadata": {},
   "source": [
    "#### IBM DB2 LUW"
   ]
  },
  {
   "cell_type": "code",
   "execution_count": null,
   "id": "1ef90ae1-84cb-4aa1-951e-6200fd255cdc",
   "metadata": {},
   "outputs": [],
   "source": [
    "spark = SparkSession.builder.master(\"local[*]\").appName(\"SCOODS\")\\\n",
    "    .config(\"spark.jars\", \"C:\\\\Users\\\\some_user\\\\drivers\\\\jdbc\\\\mainframe\\\\db2jcc.jar\")\\\n",
    "    .getOrCreate()"
   ]
  },
  {
   "cell_type": "code",
   "execution_count": null,
   "id": "dbf50d37-5169-4402-9cdf-bb56f344f194",
   "metadata": {},
   "outputs": [],
   "source": [
    "config_file = os.getenv(\"CONFIG_PATH\")"
   ]
  },
  {
   "cell_type": "code",
   "execution_count": null,
   "id": "b4401005-1539-45f2-b545-9679328e8c8d",
   "metadata": {},
   "outputs": [],
   "source": [
    "config = configparser.ConfigParser()\n",
    "try:\n",
    "    config.read(config_file)\n",
    "except ConfigFileNotFound:\n",
    "    print(\"config.ini file not found\")"
   ]
  },
  {
   "cell_type": "code",
   "execution_count": null,
   "id": "00c879bc-8f56-4ac0-b49d-c6280bdcaee0",
   "metadata": {},
   "outputs": [],
   "source": [
    "# Read in the DB2 LUW credentials for DSN-less connection\n",
    "SCOODS_HOST = config[\"scoods_prod\"][\"HOST\"]\n",
    "SCOODS_PORT = config[\"scoods_prod\"][\"PORT\"]\n",
    "SCOODS_DB = config[\"scoods_prod\"][\"DB\"]\n",
    "SCOODS_USER = config[\"scoods_prod\"][\"USER\"]\n",
    "SCOODS_PWD = config[\"scoods_prod\"][\"PWD\"]"
   ]
  },
  {
   "cell_type": "code",
   "execution_count": null,
   "id": "40798ee9-fee4-46f0-a629-c07b6c5996f8",
   "metadata": {},
   "outputs": [],
   "source": [
    "url = f'jdbc:db2://{SCOODS_HOST}:{SCOODS_PORT}/{SCOODS_DB}:useJDBC4ColumnNameAndLabelSemantics=false;'\n",
    "driver = 'com.ibm.db2.jcc.DB2Driver'"
   ]
  },
  {
   "cell_type": "code",
   "execution_count": null,
   "id": "69050e16-4dad-4c94-bd28-2a0c5d14264f",
   "metadata": {},
   "outputs": [],
   "source": [
    "query = \"SELECT CURRENT TIMESTAMP as DATETIME_NOW FROM SYSIBM.SYSDUMMY1\""
   ]
  },
  {
   "cell_type": "code",
   "execution_count": null,
   "id": "6a92bea6-590b-4af0-90ce-28974b3c3da6",
   "metadata": {},
   "outputs": [],
   "source": [
    "jdbcDF = spark.read \\\n",
    "    .format(\"jdbc\") \\\n",
    "    .option(\"driver\", driver) \\\n",
    "    .option(\"url\", url) \\\n",
    "    .option(\"user\", SCOODS_USER) \\\n",
    "    .option(\"password\", SCOODS_PWD) \\\n",
    "    .option(\"query\", query) \\\n",
    "    .load()"
   ]
  },
  {
   "cell_type": "code",
   "execution_count": null,
   "id": "c168320b-a79b-4fea-8041-5e46c5fd1e12",
   "metadata": {},
   "outputs": [],
   "source": [
    "jdbcDF.show(truncate=False)"
   ]
  },
  {
   "cell_type": "code",
   "execution_count": null,
   "id": "83e4fc4b-04ca-4ef7-a7eb-2f924bd8b02e",
   "metadata": {},
   "outputs": [],
   "source": [
    "spark.stop()"
   ]
  },
  {
   "cell_type": "markdown",
   "id": "07d4c972-7437-4f3d-9de7-81f35610ae5f",
   "metadata": {},
   "source": [
    "#### Microsoft SQL Server"
   ]
  },
  {
   "cell_type": "code",
   "execution_count": null,
   "id": "fe47315b-26d0-4c81-afd9-c8b98dba6161",
   "metadata": {},
   "outputs": [],
   "source": [
    "spark = SparkSession.builder.master(\"local[*]\").appName(\"NAPS\")\\\n",
    "    .config(\"spark.jars\", \"C:\\\\Users\\\\some_user\\\\drivers\\\\mssql_jdbc\\\\mssql-jdbc-9.4.0.jre8.jar\")\\\n",
    "    .getOrCreate()"
   ]
  },
  {
   "cell_type": "code",
   "execution_count": null,
   "id": "37dbbdfc-71c9-4c9e-84e2-07058516aed5",
   "metadata": {},
   "outputs": [],
   "source": [
    "config_file = os.getenv(\"CONFIG_PATH\")"
   ]
  },
  {
   "cell_type": "code",
   "execution_count": null,
   "id": "2aeb4711-f008-4750-9e36-a140a9f4f07b",
   "metadata": {},
   "outputs": [],
   "source": [
    "config = configparser.ConfigParser()\n",
    "try:\n",
    "    config.read(config_file)\n",
    "except ConfigFileNotFound:\n",
    "    print(\"config.ini file not found\")"
   ]
  },
  {
   "cell_type": "code",
   "execution_count": null,
   "id": "8a7e4803-9ed9-48b7-b5a9-a96b05e20513",
   "metadata": {},
   "outputs": [],
   "source": [
    "# Read in the SQL Server database credentials for DSN-less connection\n",
    "NAPS_HOST = config[\"naps\"][\"HOST\"]\n",
    "NAPS_PORT = config[\"naps\"][\"PORT\"]\n",
    "NAPS_DB = config[\"naps\"][\"DB\"]"
   ]
  },
  {
   "cell_type": "code",
   "execution_count": null,
   "id": "e0654a00-d152-45ee-82cb-656dac8ba43c",
   "metadata": {},
   "outputs": [],
   "source": [
    "url = f'jdbc:sqlserver://{NAPS_HOST}:{NAPS_PORT};databaseName={NAPS_DB};integratedSecurity=true'\n",
    "driver = 'com.microsoft.sqlserver.jdbc.SQLServerDriver'"
   ]
  },
  {
   "cell_type": "code",
   "execution_count": null,
   "id": "57f356a1-2f4b-458f-a4e8-31ed12b8df53",
   "metadata": {},
   "outputs": [],
   "source": [
    "query = \"SELECT * from DimCarrier\""
   ]
  },
  {
   "cell_type": "code",
   "execution_count": null,
   "id": "b852c2ac-9e84-4719-8c72-e1e306f3fb34",
   "metadata": {},
   "outputs": [],
   "source": [
    "jdbcDF = spark.read \\\n",
    "    .format(\"jdbc\") \\\n",
    "    .option(\"driver\", driver) \\\n",
    "    .option(\"url\", url) \\\n",
    "    .option(\"query\", query) \\\n",
    "    .load()"
   ]
  },
  {
   "cell_type": "code",
   "execution_count": null,
   "id": "9020c6f9-27d0-4fe0-9583-ff46cc8b6737",
   "metadata": {},
   "outputs": [],
   "source": [
    "jdbcDF.show(truncate=False)"
   ]
  },
  {
   "cell_type": "code",
   "execution_count": null,
   "id": "d4c9dc9c-0173-45b1-af15-70fb40b884d0",
   "metadata": {},
   "outputs": [],
   "source": [
    "spark.stop()"
   ]
  },
  {
   "cell_type": "markdown",
   "id": "6acdbc66-3ad3-476b-a91a-8b8b0d331249",
   "metadata": {},
   "source": [
    "#### IBM DB2 z/OS"
   ]
  },
  {
   "cell_type": "markdown",
   "id": "37f20298-4928-48e5-a6c5-6c133f6acac2",
   "metadata": {},
   "source": [
    "Unfortunately, the IBM Java JRE does not work with Spark 3.x and thus, we will not be able to connect to mainframe DB2 z/OS platform.  Mainframe is too OLD!  Let it rest in peace."
   ]
  },
  {
   "cell_type": "markdown",
   "id": "93e3132a-bc44-4ec4-ab60-845423e92e23",
   "metadata": {},
   "source": [
    "#### Connecting to Snowflake"
   ]
  },
  {
   "cell_type": "markdown",
   "id": "1cb85857-726f-44b0-96e0-7118fb9addaa",
   "metadata": {},
   "source": [
    "[Link](https://docs.snowflake.com/en/user-guide/spark-connector-install.html) to Snowflake's documentation on working with the PySpark connector"
   ]
  },
  {
   "cell_type": "code",
   "execution_count": 1,
   "id": "50d70a07-ce07-4ae1-afc0-464db3f876f7",
   "metadata": {},
   "outputs": [],
   "source": [
    "from pathlib import Path\n",
    "import configparser\n",
    "import os\n",
    "import pyspark\n",
    "from pyspark.sql import SparkSession"
   ]
  },
  {
   "cell_type": "code",
   "execution_count": 2,
   "id": "102cb280-1d2b-44b5-af6b-1bc59a04a376",
   "metadata": {},
   "outputs": [],
   "source": [
    "config_file = os.getenv(\"CONFIG_PATH\")"
   ]
  },
  {
   "cell_type": "code",
   "execution_count": 3,
   "id": "2528d0dc-9caa-4d9c-a178-42d8b02ebede",
   "metadata": {},
   "outputs": [],
   "source": [
    "config = configparser.ConfigParser()\n",
    "try:\n",
    "    config.read(config_file)\n",
    "except ConfigFileNotFound:\n",
    "    print(\"config.ini file not found\")"
   ]
  },
  {
   "cell_type": "markdown",
   "id": "b86b8fdb-906a-4c9a-ba47-6f3bde18bee8",
   "metadata": {},
   "source": [
    "JDBC driver and Snowflake Spark Connector can be downloaded [here](https://search.maven.org/search?q=g:net.snowflake)"
   ]
  },
  {
   "cell_type": "code",
   "execution_count": 4,
   "id": "c71ca348-b85b-47c0-8330-98e8a25558b0",
   "metadata": {},
   "outputs": [],
   "source": [
    "sf_jdbc_driver = config['snowflake']['jdbc_driver_path']\n",
    "sf_spark_driver = config['snowflake']['spark_driver_path']"
   ]
  },
  {
   "cell_type": "code",
   "execution_count": 5,
   "id": "6ce8bb40-6583-47fc-99a9-f83807ee6edb",
   "metadata": {},
   "outputs": [],
   "source": [
    "sf_account = config['snowflake']['account']\n",
    "sf_user = config['snowflake']['username']\n",
    "sf_database = config['snowflake']['database']\n",
    "sf_schema = config['snowflake']['schema']\n",
    "sf_role = config['snowflake']['role']\n",
    "sf_warehouse = config['snowflake']['warehouse']\n",
    "sf_authenticator = config['snowflake']['authenticator']"
   ]
  },
  {
   "cell_type": "code",
   "execution_count": 6,
   "id": "775e8b88-2ea7-42a8-88b8-0cbb1635a250",
   "metadata": {},
   "outputs": [],
   "source": [
    "spark = (\n",
    "    SparkSession.builder.master(\"local[*]\")\n",
    "    .appName(\"Snowflake_JDBC\")\n",
    "    .config(\"spark.jars\", f\"{sf_jdbc_driver},{sf_spark_driver}\")\n",
    "    .getOrCreate()\n",
    ")"
   ]
  },
  {
   "cell_type": "code",
   "execution_count": 7,
   "id": "f7281dd0-734a-4807-af85-318759568703",
   "metadata": {},
   "outputs": [],
   "source": [
    "SNOWFLAKE_SOURCE_NAME = \"net.snowflake.spark.snowflake\""
   ]
  },
  {
   "cell_type": "code",
   "execution_count": 8,
   "id": "e05df36a-405c-46a0-b658-2cc2503c590e",
   "metadata": {},
   "outputs": [],
   "source": [
    "# Snowflake connection parameters\n",
    "sfparams = {\n",
    "    \"sfURL\" : f\"{sf_account}.snowflakecomputing.com\",\n",
    "    \"sfUser\" : sf_user,\n",
    "    \"sfPassword\" : \"your_password\",  # Not applicable when using externalbrowser authenticator\n",
    "    \"sfDatabase\" : sf_database,\n",
    "    \"sfSchema\" : sf_schema,\n",
    "    \"sfRole\" : sf_role,\n",
    "    \"sfWarehouse\" : sf_warehouse,\n",
    "    \"sfAuthenticator\" : sf_authenticator\n",
    "}"
   ]
  },
  {
   "cell_type": "code",
   "execution_count": 9,
   "id": "8976c5ef-6eab-4314-93ec-55e110773b33",
   "metadata": {},
   "outputs": [],
   "source": [
    "query = \"SELECT CURRENT_DATE as my_date\""
   ]
  },
  {
   "cell_type": "markdown",
   "id": "7dd20121-e611-4fef-9c8b-4040d3d9ccc3",
   "metadata": {},
   "source": [
    "Snowflake query as PySpark dataframe"
   ]
  },
  {
   "cell_type": "code",
   "execution_count": 10,
   "id": "2fd443ce-0593-49e8-be2c-fb3a125b8fb9",
   "metadata": {},
   "outputs": [],
   "source": [
    "#run custom query\n",
    "df = (\n",
    "    spark.read.format(SNOWFLAKE_SOURCE_NAME)\n",
    "    .options(**sfparams)\n",
    "    .option(\"query\", query)\n",
    "    .load()\n",
    ")"
   ]
  },
  {
   "cell_type": "code",
   "execution_count": 11,
   "id": "05fea43a-8c4d-4448-b82c-e561b1440e6d",
   "metadata": {},
   "outputs": [
    {
     "name": "stdout",
     "output_type": "stream",
     "text": [
      "+----------+\n",
      "|   MY_DATE|\n",
      "+----------+\n",
      "|2022-02-26|\n",
      "+----------+\n",
      "\n"
     ]
    }
   ],
   "source": [
    "df.show()"
   ]
  },
  {
   "cell_type": "markdown",
   "id": "2f9c91da-a569-410d-93da-35167b267d5b",
   "metadata": {},
   "source": [
    "Dataframe as Snowflake table"
   ]
  },
  {
   "cell_type": "code",
   "execution_count": 12,
   "id": "efe3a9ae-8ab9-4167-b1b4-acbfed3ec9bf",
   "metadata": {},
   "outputs": [],
   "source": [
    "(df\n",
    " .select(\"my_date\").write.format(SNOWFLAKE_SOURCE_NAME)\n",
    " .options(**sfparams)\n",
    " .option(\"dbtable\", \"my_table\")\n",
    " .mode(\"overwrite\")\n",
    " .save()\n",
    ")"
   ]
  },
  {
   "cell_type": "code",
   "execution_count": 13,
   "id": "fe4ef8e9-5e65-4557-8fb2-5d1e93e86cca",
   "metadata": {},
   "outputs": [],
   "source": [
    "spark.stop()"
   ]
  }
 ],
 "metadata": {
  "kernelspec": {
   "display_name": "Py3.10 (PySpark 3.3.2)",
   "language": "python",
   "name": "pyspark_local"
  },
  "language_info": {
   "codemirror_mode": {
    "name": "ipython",
    "version": 3
   },
   "file_extension": ".py",
   "mimetype": "text/x-python",
   "name": "python",
   "nbconvert_exporter": "python",
   "pygments_lexer": "ipython3",
   "version": "3.10.6"
  },
  "widgets": {
   "application/vnd.jupyter.widget-state+json": {
    "state": {},
    "version_major": 2,
    "version_minor": 0
   }
  }
 },
 "nbformat": 4,
 "nbformat_minor": 5
}
