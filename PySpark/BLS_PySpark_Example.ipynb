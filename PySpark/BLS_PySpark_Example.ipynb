{
 "cells": [
  {
   "cell_type": "markdown",
   "id": "0bec5394-2ccd-49ba-8d91-7173d042afe9",
   "metadata": {},
   "source": [
    "# Extracting Data from Bureau of Labor Statistics API Using PySpark"
   ]
  },
  {
   "cell_type": "markdown",
   "id": "cfdea42e-5990-4e2b-b334-05dc9bbc1d08",
   "metadata": {},
   "source": [
    "**MOTIVATION:** This is a trite example to show that one could use PySpark to retrieve data from a web API, abeit with a performance penalty due to the creation of the Spark session and converting PySpark dataframe to Pandas dataframe."
   ]
  },
  {
   "cell_type": "code",
   "execution_count": 1,
   "id": "087800f9-7beb-4016-9d78-41033ecfbc42",
   "metadata": {},
   "outputs": [],
   "source": [
    "from datetime import date\n",
    "from dateutil.relativedelta import relativedelta\n",
    "from pathlib import Path\n",
    "from pyspark.sql import SparkSession\n",
    "from pyspark.sql.functions import col, concat_ws, to_date\n",
    "import configparser\n",
    "import requests\n",
    "import json\n",
    "import matplotlib.pyplot as plt\n",
    "import seaborn as sns"
   ]
  },
  {
   "cell_type": "markdown",
   "id": "b11eb9cd-155c-4272-906c-cdd68efc1200",
   "metadata": {},
   "source": [
    "The contents of `config.ini` file would look like something similar to below:"
   ]
  },
  {
   "cell_type": "markdown",
   "id": "37722869-588a-4222-9e91-2844a469ffd4",
   "metadata": {},
   "source": [
    "```\n",
    "[bls]\n",
    "secretkey=some_long_string\n",
    "```"
   ]
  },
  {
   "cell_type": "code",
   "execution_count": 2,
   "id": "d6554d49-7057-4925-afd0-6f7cee43f93d",
   "metadata": {},
   "outputs": [],
   "source": [
    "config = configparser.ConfigParser()\n",
    "config.read(Path.home() / '.config' / 'config.ini')\n",
    "bls_key = config['bls']['secretkey']"
   ]
  },
  {
   "cell_type": "code",
   "execution_count": 3,
   "id": "d187b96d-9e0c-4977-8588-6344508af760",
   "metadata": {},
   "outputs": [],
   "source": [
    "def create_spark_session():\n",
    "    \"\"\"Creates and returns a Spark session (Singleton approach).\"\"\"\n",
    "    return (SparkSession.builder\n",
    "            .appName(\"BLS Data Processing\")\n",
    "            .master(\"local[*]\")\n",
    "            .config(\"spark.driver.memory\", \"4g\")\n",
    "            .config(\"spark.sql.shuffle.partitions\", \"1\")\n",
    "            .config(\"spark.sql.execution.arrow.pyspark.enabled\", \"true\")\n",
    "            .getOrCreate())"
   ]
  },
  {
   "cell_type": "code",
   "execution_count": 4,
   "id": "1c13a140-5878-49d3-ad9a-2b59357994c9",
   "metadata": {},
   "outputs": [],
   "source": [
    "def fetch_bls_data(series_id: str, bls_key: str, past_n_years: int = 19):\n",
    "    \"\"\"\n",
    "    Fetches BLS data from API and returns a list of tuples (series_id, year, period, value).\n",
    "    \"\"\"\n",
    "    try:\n",
    "        current_year = date.today().year\n",
    "        start_year = current_year - past_n_years\n",
    "\n",
    "        headers = {\"Content-type\": \"application/json\"}\n",
    "        payload = json.dumps({\n",
    "            \"seriesid\": [series_id],\n",
    "            \"startyear\": str(start_year),\n",
    "            \"endyear\": str(current_year),\n",
    "            \"registrationkey\": bls_key,\n",
    "        })\n",
    "\n",
    "        response = requests.post(\n",
    "            \"https://api.bls.gov/publicAPI/v2/timeseries/data/\",\n",
    "            data=payload,\n",
    "            headers=headers,\n",
    "        )\n",
    "        response.raise_for_status()\n",
    "\n",
    "        json_data = response.json()\n",
    "        series_data = [\n",
    "            (series[\"seriesID\"], record[\"year\"], record[\"period\"], record[\"value\"])\n",
    "            for series in json_data[\"Results\"][\"series\"]\n",
    "            for record in series[\"data\"]\n",
    "            if record[\"period\"].startswith(\"M\")  # Filter monthly data\n",
    "        ]\n",
    "\n",
    "        return series_data\n",
    "\n",
    "    except requests.exceptions.RequestException as e:\n",
    "        print(f\"Error fetching BLS data: {e}\")\n",
    "        return []"
   ]
  },
  {
   "cell_type": "code",
   "execution_count": 5,
   "id": "9847078a-e9ab-4749-b744-f56fbea240f0",
   "metadata": {},
   "outputs": [],
   "source": [
    "def plot_bls_series_id(spark, series_id: str, series_descr: str, bls_key: str, past_n_years: int = 19):\n",
    "    \"\"\"\n",
    "    Plots a BLS series using PySpark for data processing.\n",
    "\n",
    "    Parameters\n",
    "    ----------\n",
    "    spark : SparkSession\n",
    "        Active Spark session.\n",
    "    series_id : str\n",
    "        Series ID.\n",
    "    series_descr : str\n",
    "        Series description.\n",
    "    bls_key : str\n",
    "        BLS API key.\n",
    "    past_n_years : int, optional\n",
    "        Number of years of data to plot (default is 19).\n",
    "    \"\"\"\n",
    "    try:\n",
    "        # Fetch data from BLS API\n",
    "        series_data = fetch_bls_data(series_id, bls_key, past_n_years)\n",
    "        if not series_data:\n",
    "            print(\"No data available for the given series.\")\n",
    "            return\n",
    "\n",
    "        # Create Spark DataFrame\n",
    "        df = spark.createDataFrame(series_data, [\"series_id\", \"year\", \"period\", \"value\"])\n",
    "\n",
    "        # Transform DataFrame\n",
    "        df = (df.filter((col(\"period\") >= \"M01\") & (col(\"period\") <= \"M12\"))\n",
    "              .withColumn(\"year_month\", to_date(concat_ws(\"-\", col(\"year\"), col(\"period\").substr(2, 2)), \"yyyy-MM\"))\n",
    "              .withColumn(\"value\", col(\"value\").cast(\"double\"))\n",
    "              .select(\"series_id\", \"year_month\", \"value\")\n",
    "              .persist())  # Cache the data for potential reuse\n",
    "\n",
    "        # Convert PySpark DataFrame to Pandas for plotting\n",
    "        df_final = df.toPandas()\n",
    "\n",
    "        # Visualization\n",
    "        fig, ax = plt.subplots(figsize=(8, 5))\n",
    "        sns.lineplot(data=df_final, x=\"year_month\", y=\"value\", ax=ax)\n",
    "\n",
    "        # Define shading regions\n",
    "        current_date = date.today()\n",
    "        previous_month = (current_date - relativedelta(months=1)).strftime(\"%Y-%m-01\")\n",
    "        start_of_current_year = f\"{current_date.year}-01-01\"\n",
    "\n",
    "        ax.fill_between(\n",
    "            x=[start_of_current_year, previous_month],\n",
    "            y1=[df_final[\"value\"].max() + 1] * 2,\n",
    "            alpha=0.2,\n",
    "            color=\"blue\",\n",
    "        )\n",
    "        ax.set_ylim(df_final[\"value\"].min() - 1, df_final[\"value\"].max() + 1)\n",
    "        ax.spines[[\"right\", \"top\"]].set_visible(False)\n",
    "        plt.xlabel(\"Year\")\n",
    "        plt.ylabel(\"Value\")\n",
    "        plt.suptitle(series_descr)\n",
    "        plt.title(\"grey=recession / blue=current year\", fontsize=10)\n",
    "\n",
    "        # Add recession shading for past 19 years\n",
    "        if past_n_years == 19:\n",
    "            recessions = [(\"2001-03-01\", \"2001-11-01\"), \n",
    "                          (\"2007-12-01\", \"2009-06-01\"), \n",
    "                          (\"2020-02-01\", \"2020-04-01\")]\n",
    "            for start, end in recessions:\n",
    "                ax.fill_between(\n",
    "                    x=[start, end],\n",
    "                    y1=[df_final[\"value\"].max() + 1] * 2,\n",
    "                    alpha=0.2,\n",
    "                    color=\"gray\",\n",
    "                )\n",
    "\n",
    "        plt.tight_layout()\n",
    "        plt.grid(True)\n",
    "        plt.show()\n",
    "\n",
    "    except (ValueError, KeyError) as e:\n",
    "        print(f\"Error processing data: {e}\")"
   ]
  },
  {
   "cell_type": "code",
   "execution_count": null,
   "id": "1e7835f7-78db-4265-b9c2-03a104fbab54",
   "metadata": {},
   "outputs": [],
   "source": [
    "# Usage\n",
    "spark = create_spark_session()"
   ]
  },
  {
   "cell_type": "code",
   "execution_count": 7,
   "id": "d81635a7-73d7-4ce5-a794-ba020f1993c3",
   "metadata": {},
   "outputs": [
    {
     "data": {
      "image/png": "[encoded data removed]",
      "text/plain": [
       "<Figure size 800x500 with 1 Axes>"
      ]
     },
     "metadata": {},
     "output_type": "display_data"
    }
   ],
   "source": [
    "plot_bls_series_id(\n",
    "    spark=spark,\n",
    "    series_id='LNS14000000',\n",
    "    series_descr='Unemployment Rate - Seasonally Adjusted',\n",
    "    bls_key=bls_key\n",
    ")"
   ]
  },
  {
   "cell_type": "code",
   "execution_count": 8,
   "id": "66aedd10-383f-4ffc-857c-c11d7e705002",
   "metadata": {},
   "outputs": [
    {
     "data": {
      "text/plain": [
       "[('LNS14000000', '2025', 'M01', '4.0'),\n",
       " ('LNS14000000', '2024', 'M12', '4.1'),\n",
       " ('LNS14000000', '2024', 'M11', '4.2'),\n",
       " ('LNS14000000', '2024', 'M10', '4.1'),\n",
       " ('LNS14000000', '2024', 'M09', '4.1'),\n",
       " ('LNS14000000', '2024', 'M08', '4.2'),\n",
       " ('LNS14000000', '2024', 'M07', '4.2'),\n",
       " ('LNS14000000', '2024', 'M06', '4.1'),\n",
       " ('LNS14000000', '2024', 'M05', '4.0'),\n",
       " ('LNS14000000', '2024', 'M04', '3.9'),\n",
       " ('LNS14000000', '2024', 'M03', '3.9'),\n",
       " ('LNS14000000', '2024', 'M02', '3.9'),\n",
       " ('LNS14000000', '2024', 'M01', '3.7'),\n",
       " ('LNS14000000', '2023', 'M12', '3.8'),\n",
       " ('LNS14000000', '2023', 'M11', '3.7'),\n",
       " ('LNS14000000', '2023', 'M10', '3.9'),\n",
       " ('LNS14000000', '2023', 'M09', '3.8'),\n",
       " ('LNS14000000', '2023', 'M08', '3.7'),\n",
       " ('LNS14000000', '2023', 'M07', '3.5'),\n",
       " ('LNS14000000', '2023', 'M06', '3.6'),\n",
       " ('LNS14000000', '2023', 'M05', '3.6'),\n",
       " ('LNS14000000', '2023', 'M04', '3.4'),\n",
       " ('LNS14000000', '2023', 'M03', '3.5'),\n",
       " ('LNS14000000', '2023', 'M02', '3.6'),\n",
       " ('LNS14000000', '2023', 'M01', '3.5')]"
      ]
     },
     "execution_count": 8,
     "metadata": {},
     "output_type": "execute_result"
    }
   ],
   "source": [
    "fetch_bls_data(\"LNS14000000\", bls_key, 2)"
   ]
  }
 ],
 "metadata": {
  "kernelspec": {
   "display_name": "Py3.11 (pyspark_dev)",
   "language": "python",
   "name": "pyspark_dev"
  },
  "language_info": {
   "codemirror_mode": {
    "name": "ipython",
    "version": 3
   },
   "file_extension": ".py",
   "mimetype": "text/x-python",
   "name": "python",
   "nbconvert_exporter": "python",
   "pygments_lexer": "ipython3",
   "version": "3.11.9"
  }
 },
 "nbformat": 4,
 "nbformat_minor": 5
}
