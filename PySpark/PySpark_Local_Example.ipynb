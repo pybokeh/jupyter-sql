{
 "cells": [
  {
   "cell_type": "markdown",
   "id": "0a2085f7-38db-4d58-8a8d-652a8b940f02",
   "metadata": {},
   "source": [
    "# Installing \"Local\" PySpark on Windows 10"
   ]
  },
  {
   "cell_type": "markdown",
   "id": "050423fd-758c-462e-94cf-3c36e97e026b",
   "metadata": {},
   "source": [
    "1. Install Java 1.8 from Sun Java [site](https://www.java.com/download/ie_manual.jsp).  Include path to java.exe to your PATH environment variable.\n",
    "2. Install Python\n",
    "3. Create pyspark_dev virtual environment\n",
    "4. Activate \"pyspark_dev\" environment, then: pip install pyspark[sql] ipykernel\n",
    "5. Install kernel: python -m ipykernel install --user --name pyspark_dev --display-name \"Python (pyspark_dev)\"\n",
    "6. Set environment variables: PYSPARK_PYTHON=[path_to_python.exe] and SPARK_HOME=[path_to_site_packages/pyspark_folder]\n",
    "7. Download winutils.exe from https://github.com/cdarlint/winutils, save locally to \"hadoop/bin\" folder and then\n",
    "8. set HADOOP_HOME=[path_to_hadoop_folder]\n",
    "9. Activate python virutal environment that has jupyterlab installed and then launch: jupyter lab\n",
    "\n",
    "See this article https://phoenixnap.com/kb/install-spark-on-windows-10"
   ]
  },
  {
   "cell_type": "code",
   "execution_count": null,
   "id": "664504f6-bbac-466e-982d-42c62fb82a37",
   "metadata": {},
   "outputs": [],
   "source": [
    "from pyspark.sql import SparkSession\n",
    "spark = SparkSession.builder.master(\"local[*]\").getOrCreate()\n",
    "spark.conf.set(\"spark.sql.repl.eagerEval.enabled\", True)"
   ]
  },
  {
   "cell_type": "code",
   "execution_count": null,
   "id": "c991e9ac-bf9e-42e2-89ae-bdad142eaf5d",
   "metadata": {},
   "outputs": [],
   "source": [
    "df = spark.read.csv('data/cars.csv', header=True, sep=\";\")"
   ]
  },
  {
   "cell_type": "code",
   "execution_count": null,
   "id": "7bca9f97-40b0-4d66-9f6a-235b7125e70f",
   "metadata": {},
   "outputs": [],
   "source": [
    "df.show(5)"
   ]
  }
 ],
 "metadata": {
  "kernelspec": {
   "display_name": "Py3.9 (pyspark_dev)",
   "language": "python",
   "name": "pyspark_dev"
  },
  "language_info": {
   "codemirror_mode": {
    "name": "ipython",
    "version": 3
   },
   "file_extension": ".py",
   "mimetype": "text/x-python",
   "name": "python",
   "nbconvert_exporter": "python",
   "pygments_lexer": "ipython3",
   "version": "3.9.7"
  }
 },
 "nbformat": 4,
 "nbformat_minor": 5
}
