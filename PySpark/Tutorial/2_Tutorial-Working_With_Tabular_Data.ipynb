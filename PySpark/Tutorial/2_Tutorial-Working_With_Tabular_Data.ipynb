{
 "cells": [
  {
   "cell_type": "markdown",
   "id": "ffe3df32-06f5-4205-a06a-52df3f38034b",
   "metadata": {},
   "source": [
    "<a id=\"top_of_page\">"
   ]
  },
  {
   "cell_type": "markdown",
   "id": "188b77c1-0cb7-40e5-88a2-f1e20a8a6b7a",
   "metadata": {},
   "source": [
    "# Working with Tabular Data"
   ]
  },
  {
   "cell_type": "markdown",
   "id": "8010eb0d-73d5-4030-9922-b7de0345a17e",
   "metadata": {},
   "source": [
    "## Table of Contents"
   ]
  },
  {
   "cell_type": "markdown",
   "id": "3fe18137-e594-44c8-b1f7-23e7738de31b",
   "metadata": {},
   "source": [
    "- [CLI tool to view sample of CSV file](#cli)\n",
    "- [Read CSV file](#read_csv)\n",
    "- [Viewing 3 Columns at a Time](#view_n_columns_at_a_time)\n",
    "- [Getting rid of columns using the drop() method](#drop_column)\n",
    "- [Extracting parts of a string with `substr()`](#substr)\n",
    "- [Creating new column with withColumn()](#withColumn)\n",
    "- [Renaming one column at a type, the withColumnRenamed() way](#withColumnRenamed)\n",
    "- [Changing multiple columns - Batch lowercasing using the toDF() method](#toDF)\n",
    "- [Selecting our columns in alphabetical order using select()](#sorting_columns)\n",
    "- [Diagnosing a dataframe with describe() and summary()](#describe_and_summarize)\n",
    "- [Joining Data](#joining)\n",
    "- [INNER join](#inner_join)"
   ]
  },
  {
   "cell_type": "markdown",
   "id": "316946b5-1a9f-428a-8311-b1304a39a134",
   "metadata": {},
   "source": [
    "<a id=\"cli\">"
   ]
  },
  {
   "cell_type": "markdown",
   "id": "b0f85d6f-4ba1-49f1-ae39-f305c00c7d25",
   "metadata": {},
   "source": [
    "## Useful CLI tool to initially assess or view sample of CSV file"
   ]
  },
  {
   "cell_type": "markdown",
   "id": "b5c49863-7d0d-4a11-8863-e401f3c46329",
   "metadata": {},
   "source": [
    "[[back to top]](#top_of_page)"
   ]
  },
  {
   "cell_type": "markdown",
   "id": "7861c888-ba48-47fa-9924-3b91e0386859",
   "metadata": {},
   "source": [
    "Linux Command Line:\n",
    "- `head -n 5 BroadcastLogs_2018_Q3_M8_sample.csv`    # To view first 5 rows of the csv file\n",
    "\n",
    "\n",
    "Windows Command Line:\n",
    "- Not really sure what CLI tool can be used??  Perhaps just use pandas read_csv() with nrows= parameter?"
   ]
  },
  {
   "cell_type": "markdown",
   "id": "35fd19fd-61d8-451d-aa0e-470302556bc1",
   "metadata": {},
   "source": [
    "<a id=\"read_csv\">"
   ]
  },
  {
   "cell_type": "markdown",
   "id": "357fd553-6882-4c10-9385-46e91a8f2af6",
   "metadata": {},
   "source": [
    "## Read CSV file"
   ]
  },
  {
   "cell_type": "markdown",
   "id": "07ad39d3-d40d-4ffa-bb72-735fd958e36a",
   "metadata": {},
   "source": [
    "[[back to top]](#top_of_page)"
   ]
  },
  {
   "cell_type": "code",
   "execution_count": 1,
   "id": "cdaef2a6-e8a5-411d-9d1e-234640c8bf3e",
   "metadata": {},
   "outputs": [],
   "source": [
    "from pathlib import Path\n",
    "from pyspark.sql import SparkSession\n",
    "import os\n",
    "import pyspark.sql.functions as F"
   ]
  },
  {
   "cell_type": "code",
   "execution_count": 2,
   "id": "22162d8d-c497-4838-8f7c-6d7fc2e52153",
   "metadata": {},
   "outputs": [],
   "source": [
    "spark = (\n",
    "    SparkSession.builder\n",
    "    # Enable eager, interactive mode - typically do not do this with production code\n",
    "    .config(\"spark.sql.repl.eagerEval.enabled\", \"True\")\n",
    "    .config(\"spark.executor.cores\", str(os.cpu_count()))\n",
    "    .appName(\"Working with Tabular Data\")\n",
    "    .getOrCreate()\n",
    ")\n",
    "\n",
    "spark.sparkContext.setLogLevel(\"ERROR\")"
   ]
  },
  {
   "cell_type": "code",
   "execution_count": 3,
   "id": "ae654355-e375-4c0d-a91a-d047f22b8ca0",
   "metadata": {},
   "outputs": [],
   "source": [
    "DIRECTORY = Path(\"./data/broadcast_logs\")"
   ]
  },
  {
   "cell_type": "code",
   "execution_count": 4,
   "id": "7df7c4e0-f93e-4f7c-9e6f-fd44fb15d012",
   "metadata": {},
   "outputs": [],
   "source": [
    "logs = spark.read.csv(\n",
    "    str(DIRECTORY / \"BroadcastLogs_2018_Q3_M8.CSV\"),\n",
    "    sep=\"|\",\n",
    "    header=True,\n",
    "    inferSchema=True,\n",
    "    timestampFormat=\"yyyy-MM-dd\",\n",
    ")"
   ]
  },
  {
   "cell_type": "code",
   "execution_count": 5,
   "id": "c81c3f7d-8732-415b-bde1-92e4df4d00a0",
   "metadata": {},
   "outputs": [
    {
     "name": "stdout",
     "output_type": "stream",
     "text": [
      "root\n",
      " |-- BroadcastLogID: integer (nullable = true)\n",
      " |-- LogServiceID: integer (nullable = true)\n",
      " |-- LogDate: timestamp (nullable = true)\n",
      " |-- SequenceNO: integer (nullable = true)\n",
      " |-- AudienceTargetAgeID: integer (nullable = true)\n",
      " |-- AudienceTargetEthnicID: integer (nullable = true)\n",
      " |-- CategoryID: integer (nullable = true)\n",
      " |-- ClosedCaptionID: integer (nullable = true)\n",
      " |-- CountryOfOriginID: integer (nullable = true)\n",
      " |-- DubDramaCreditID: integer (nullable = true)\n",
      " |-- EthnicProgramID: integer (nullable = true)\n",
      " |-- ProductionSourceID: integer (nullable = true)\n",
      " |-- ProgramClassID: integer (nullable = true)\n",
      " |-- FilmClassificationID: integer (nullable = true)\n",
      " |-- ExhibitionID: integer (nullable = true)\n",
      " |-- Duration: string (nullable = true)\n",
      " |-- EndTime: string (nullable = true)\n",
      " |-- LogEntryDate: timestamp (nullable = true)\n",
      " |-- ProductionNO: string (nullable = true)\n",
      " |-- ProgramTitle: string (nullable = true)\n",
      " |-- StartTime: string (nullable = true)\n",
      " |-- Subtitle: string (nullable = true)\n",
      " |-- NetworkAffiliationID: integer (nullable = true)\n",
      " |-- SpecialAttentionID: integer (nullable = true)\n",
      " |-- BroadcastOriginPointID: integer (nullable = true)\n",
      " |-- CompositionID: integer (nullable = true)\n",
      " |-- Producer1: string (nullable = true)\n",
      " |-- Producer2: string (nullable = true)\n",
      " |-- Language1: integer (nullable = true)\n",
      " |-- Language2: integer (nullable = true)\n",
      "\n"
     ]
    }
   ],
   "source": [
    "logs.printSchema()"
   ]
  },
  {
   "cell_type": "markdown",
   "id": "46c26f46-1b94-41aa-b102-cd59ac3be803",
   "metadata": {},
   "source": [
    "<a id=\"view_n_columns_at_a_time\">"
   ]
  },
  {
   "cell_type": "markdown",
   "id": "d227d61b-ed00-4917-8675-8f8b4bb83d9f",
   "metadata": {},
   "source": [
    "## Viewing 3 Columns at a Time"
   ]
  },
  {
   "cell_type": "markdown",
   "id": "a3503b86-6cf6-423a-b1d7-06086537da86",
   "metadata": {},
   "source": [
    "[[back to top]](#top_of_page)"
   ]
  },
  {
   "cell_type": "code",
   "execution_count": 6,
   "id": "9b972b27-fd67-4269-801a-35ea3224010a",
   "metadata": {},
   "outputs": [],
   "source": [
    "import numpy as np"
   ]
  },
  {
   "cell_type": "code",
   "execution_count": 7,
   "id": "2b2466ad-24be-48e1-b9a5-d2bd49173982",
   "metadata": {},
   "outputs": [],
   "source": [
    "column_split = np.array_split(\n",
    "    np.array(logs.columns), len(logs.columns) // 3\n",
    ")"
   ]
  },
  {
   "cell_type": "code",
   "execution_count": 8,
   "id": "92fc8d1d-66d5-456b-b0e7-82af1e1d7ee2",
   "metadata": {},
   "outputs": [
    {
     "name": "stdout",
     "output_type": "stream",
     "text": [
      "[array(['BroadcastLogID', 'LogServiceID', 'LogDate'], dtype='<U22'), array(['SequenceNO', 'AudienceTargetAgeID', 'AudienceTargetEthnicID'],\n",
      "      dtype='<U22'), array(['CategoryID', 'ClosedCaptionID', 'CountryOfOriginID'], dtype='<U22'), array(['DubDramaCreditID', 'EthnicProgramID', 'ProductionSourceID'],\n",
      "      dtype='<U22'), array(['ProgramClassID', 'FilmClassificationID', 'ExhibitionID'],\n",
      "      dtype='<U22'), array(['Duration', 'EndTime', 'LogEntryDate'], dtype='<U22'), array(['ProductionNO', 'ProgramTitle', 'StartTime'], dtype='<U22'), array(['Subtitle', 'NetworkAffiliationID', 'SpecialAttentionID'],\n",
      "      dtype='<U22'), array(['BroadcastOriginPointID', 'CompositionID', 'Producer1'],\n",
      "      dtype='<U22'), array(['Producer2', 'Language1', 'Language2'], dtype='<U22')]\n"
     ]
    }
   ],
   "source": [
    "print(column_split)"
   ]
  },
  {
   "cell_type": "code",
   "execution_count": 9,
   "id": "67464e3b-3c0b-41b7-8fe8-c9fe4bb93526",
   "metadata": {},
   "outputs": [
    {
     "name": "stdout",
     "output_type": "stream",
     "text": [
      "+--------------+------------+-------------------+\n",
      "|BroadcastLogID|LogServiceID|LogDate            |\n",
      "+--------------+------------+-------------------+\n",
      "|1196192316    |3157        |2018-08-01 00:00:00|\n",
      "|1196192317    |3157        |2018-08-01 00:00:00|\n",
      "|1196192318    |3157        |2018-08-01 00:00:00|\n",
      "|1196192319    |3157        |2018-08-01 00:00:00|\n",
      "|1196192320    |3157        |2018-08-01 00:00:00|\n",
      "+--------------+------------+-------------------+\n",
      "only showing top 5 rows\n",
      "\n",
      "+----------+-------------------+----------------------+\n",
      "|SequenceNO|AudienceTargetAgeID|AudienceTargetEthnicID|\n",
      "+----------+-------------------+----------------------+\n",
      "|1         |4                  |null                  |\n",
      "|2         |null               |null                  |\n",
      "|3         |null               |null                  |\n",
      "|4         |null               |null                  |\n",
      "|5         |null               |null                  |\n",
      "+----------+-------------------+----------------------+\n",
      "only showing top 5 rows\n",
      "\n",
      "+----------+---------------+-----------------+\n",
      "|CategoryID|ClosedCaptionID|CountryOfOriginID|\n",
      "+----------+---------------+-----------------+\n",
      "|13        |3              |3                |\n",
      "|null      |1              |null             |\n",
      "|null      |1              |null             |\n",
      "|null      |1              |null             |\n",
      "|null      |1              |null             |\n",
      "+----------+---------------+-----------------+\n",
      "only showing top 5 rows\n",
      "\n",
      "+----------------+---------------+------------------+\n",
      "|DubDramaCreditID|EthnicProgramID|ProductionSourceID|\n",
      "+----------------+---------------+------------------+\n",
      "|null            |null           |10                |\n",
      "|null            |null           |null              |\n",
      "|null            |null           |null              |\n",
      "|null            |null           |null              |\n",
      "|null            |null           |null              |\n",
      "+----------------+---------------+------------------+\n",
      "only showing top 5 rows\n",
      "\n",
      "+--------------+--------------------+------------+\n",
      "|ProgramClassID|FilmClassificationID|ExhibitionID|\n",
      "+--------------+--------------------+------------+\n",
      "|19            |null                |2           |\n",
      "|20            |null                |null        |\n",
      "|3             |null                |null        |\n",
      "|3             |null                |null        |\n",
      "|3             |null                |null        |\n",
      "+--------------+--------------------+------------+\n",
      "only showing top 5 rows\n",
      "\n",
      "+----------------+----------------+-------------------+\n",
      "|Duration        |EndTime         |LogEntryDate       |\n",
      "+----------------+----------------+-------------------+\n",
      "|02:00:00.0000000|08:00:00.0000000|2018-08-01 00:00:00|\n",
      "|00:00:30.0000000|06:13:45.0000000|2018-08-01 00:00:00|\n",
      "|00:00:15.0000000|06:14:00.0000000|2018-08-01 00:00:00|\n",
      "|00:00:15.0000000|06:14:15.0000000|2018-08-01 00:00:00|\n",
      "|00:00:15.0000000|06:14:30.0000000|2018-08-01 00:00:00|\n",
      "+----------------+----------------+-------------------+\n",
      "only showing top 5 rows\n",
      "\n",
      "+------------+-------------------------------------------+----------------+\n",
      "|ProductionNO|ProgramTitle                               |StartTime       |\n",
      "+------------+-------------------------------------------+----------------+\n",
      "|A39082      |Newlywed and Dead                          |06:00:00.0000000|\n",
      "|null        |15-SPECIALTY CHANNELS-Canadian Generic     |06:13:15.0000000|\n",
      "|null        |3-PROCTER & GAMBLE INC-Anti-Perspirant 3rd |06:13:45.0000000|\n",
      "|null        |12-CREDIT KARMA-Bank/Credit Union/Trust 3rd|06:14:00.0000000|\n",
      "|null        |3-L'OREAL CANADA-Hair Products 3rd         |06:14:15.0000000|\n",
      "+------------+-------------------------------------------+----------------+\n",
      "only showing top 5 rows\n",
      "\n",
      "+--------+--------------------+------------------+\n",
      "|Subtitle|NetworkAffiliationID|SpecialAttentionID|\n",
      "+--------+--------------------+------------------+\n",
      "|null    |null                |null              |\n",
      "|null    |null                |null              |\n",
      "|null    |null                |null              |\n",
      "|null    |null                |null              |\n",
      "|null    |null                |null              |\n",
      "+--------+--------------------+------------------+\n",
      "only showing top 5 rows\n",
      "\n",
      "+----------------------+-------------+---------+\n",
      "|BroadcastOriginPointID|CompositionID|Producer1|\n",
      "+----------------------+-------------+---------+\n",
      "|null                  |null         |null     |\n",
      "|null                  |null         |null     |\n",
      "|null                  |null         |null     |\n",
      "|null                  |null         |null     |\n",
      "|null                  |null         |null     |\n",
      "+----------------------+-------------+---------+\n",
      "only showing top 5 rows\n",
      "\n",
      "+---------+---------+---------+\n",
      "|Producer2|Language1|Language2|\n",
      "+---------+---------+---------+\n",
      "|null     |94       |null     |\n",
      "|null     |null     |null     |\n",
      "|null     |null     |null     |\n",
      "|null     |null     |null     |\n",
      "|null     |null     |null     |\n",
      "+---------+---------+---------+\n",
      "only showing top 5 rows\n",
      "\n"
     ]
    }
   ],
   "source": [
    "for x in column_split:\n",
    "    logs.select(*x).show(5, False)"
   ]
  },
  {
   "cell_type": "markdown",
   "id": "89f8a6f0-f443-4047-a80b-03671bb8f598",
   "metadata": {},
   "source": [
    "<a id=\"drop_column\">"
   ]
  },
  {
   "cell_type": "markdown",
   "id": "405160b6-7bb0-4ca4-b1bb-8460d1e0d2e4",
   "metadata": {},
   "source": [
    "## Getting rid of columns using the drop() method"
   ]
  },
  {
   "cell_type": "markdown",
   "id": "0ed7f335-8f2f-433a-8292-d757501c073c",
   "metadata": {},
   "source": [
    "[[back to top]](#top_of_page)"
   ]
  },
  {
   "cell_type": "code",
   "execution_count": 10,
   "id": "8297a51b-3e22-4fdb-9cd1-a1f55df427d8",
   "metadata": {},
   "outputs": [
    {
     "name": "stdout",
     "output_type": "stream",
     "text": [
      "False\n",
      "False\n"
     ]
    }
   ],
   "source": [
    "logs = logs.drop(\"BroadcastLogID\", \"SequenceNO\")\n",
    " \n",
    "# Testing if we effectively got rid of the columns\n",
    "print(\"BroadcastLogID\" in logs.columns)  # => False\n",
    "print(\"SequenceNo\" in logs.columns)  # => False"
   ]
  },
  {
   "cell_type": "markdown",
   "id": "491460ef-4f94-4499-a827-84ee9b05d1e3",
   "metadata": {},
   "source": [
    "#### Another way using select() with list comprehension and then unpacking items in list to strings of column names"
   ]
  },
  {
   "cell_type": "code",
   "execution_count": null,
   "id": "005e83d7-b56a-40cd-9115-79dc4a0a510d",
   "metadata": {},
   "outputs": [],
   "source": [
    "logs = logs.select(\n",
    "    *[x for x in logs.columns if x not in [\"BroadcastLogID\", \"SequenceNO\"]]\n",
    ")\n",
    "\n",
    "# Testing if we effectively got rid of the columns\n",
    "print(\"BroadcastLogID\" in logs.columns)  # => False\n",
    "print(\"SequenceNo\" in logs.columns)  # => False"
   ]
  },
  {
   "cell_type": "markdown",
   "id": "06d39e23-4d80-497f-abbb-8dd7efbe86d3",
   "metadata": {},
   "source": [
    "## Unfortunate Inconsistency When Unpacking is Needed or Not"
   ]
  },
  {
   "cell_type": "markdown",
   "id": "cb516dcc-5ec0-4f30-8eca-e9ebab1d7d98",
   "metadata": {},
   "source": [
    "With `select()`, you don't necessarily need to unpack list, but with `drop()`, you do need to explicitly unpack a list.  Therefore, best practice to always unpack/* a list."
   ]
  },
  {
   "cell_type": "markdown",
   "id": "c5b8f9de-5a1c-4a5c-977a-0655f7e34514",
   "metadata": {},
   "source": [
    "<a id=\"substr\">"
   ]
  },
  {
   "cell_type": "markdown",
   "id": "3acade64-74b7-4935-9403-2937b631523f",
   "metadata": {},
   "source": [
    "## Extracting parts of a string with `substr()`"
   ]
  },
  {
   "cell_type": "markdown",
   "id": "3d7a047b-2cc2-469b-9a4f-d702bedc52de",
   "metadata": {},
   "source": [
    "[[back to top]](#top_of_page)"
   ]
  },
  {
   "cell_type": "code",
   "execution_count": 11,
   "id": "1605429f-4704-4a14-8a46-af8125c1ae00",
   "metadata": {},
   "outputs": [
    {
     "name": "stdout",
     "output_type": "stream",
     "text": [
      "+----------------+\n",
      "|        Duration|\n",
      "+----------------+\n",
      "|02:00:00.0000000|\n",
      "|00:00:30.0000000|\n",
      "|00:00:15.0000000|\n",
      "|00:00:15.0000000|\n",
      "|00:00:15.0000000|\n",
      "+----------------+\n",
      "only showing top 5 rows\n",
      "\n"
     ]
    }
   ],
   "source": [
    "logs.select(F.col(\"Duration\")).show(5)"
   ]
  },
  {
   "cell_type": "markdown",
   "id": "96fa54fb-5321-4f4a-b048-62209463cfac",
   "metadata": {},
   "source": [
    "#### What data type is \"Duration\" column?"
   ]
  },
  {
   "cell_type": "code",
   "execution_count": 12,
   "id": "12890ab7-42be-42b8-8c34-097518e80060",
   "metadata": {},
   "outputs": [
    {
     "name": "stdout",
     "output_type": "stream",
     "text": [
      "[('Duration', 'string')]\n"
     ]
    }
   ],
   "source": [
    "print(logs.select(F.col(\"Duration\")).dtypes)"
   ]
  },
  {
   "cell_type": "markdown",
   "id": "2d0aaafc-cc05-4a20-af64-337b8142101d",
   "metadata": {},
   "source": [
    "[REFERENCE](https://spark.apache.org/docs/latest/sql-ref-datetime-pattern.html) - Datetime patterns for formatting and parsing"
   ]
  },
  {
   "cell_type": "code",
   "execution_count": 13,
   "id": "014e469d-98f4-461d-a9a0-613961c259e7",
   "metadata": {},
   "outputs": [
    {
     "name": "stdout",
     "output_type": "stream",
     "text": [
      "+----------------+---------+-----------+-----------+\n",
      "|        Duration|dur_hours|dur_minutes|dur_seconds|\n",
      "+----------------+---------+-----------+-----------+\n",
      "|00:10:06.0000000|        0|         10|          6|\n",
      "|00:10:37.0000000|        0|         10|         37|\n",
      "|00:04:52.0000000|        0|          4|         52|\n",
      "|00:26:41.0000000|        0|         26|         41|\n",
      "|00:08:18.0000000|        0|          8|         18|\n",
      "+----------------+---------+-----------+-----------+\n",
      "only showing top 5 rows\n",
      "\n"
     ]
    }
   ],
   "source": [
    "logs.select(\n",
    "    F.col(\"Duration\"),\n",
    "    F.col(\"Duration\").substr(1, 2).cast(\"int\").alias(\"dur_hours\"),\n",
    "    F.col(\"Duration\").substr(4, 2).cast(\"int\").alias(\"dur_minutes\"),\n",
    "    F.col(\"Duration\").substr(7, 2).cast(\"int\").alias(\"dur_seconds\"),\n",
    ").distinct().show(5)"
   ]
  },
  {
   "cell_type": "code",
   "execution_count": 14,
   "id": "da08b128-193f-4c3b-a2d6-9404c7cee314",
   "metadata": {},
   "outputs": [
    {
     "name": "stdout",
     "output_type": "stream",
     "text": [
      "+----------------+----------------+\n",
      "|        Duration|Duration_seconds|\n",
      "+----------------+----------------+\n",
      "|00:10:30.0000000|             630|\n",
      "|00:25:52.0000000|            1552|\n",
      "|00:28:08.0000000|            1688|\n",
      "|06:00:00.0000000|           21600|\n",
      "|00:32:08.0000000|            1928|\n",
      "+----------------+----------------+\n",
      "only showing top 5 rows\n",
      "\n"
     ]
    }
   ],
   "source": [
    "logs.select(\n",
    "    F.col(\"Duration\"),\n",
    "    (\n",
    "        F.col(\"Duration\").substr(1, 2).cast(\"int\") * 60 * 60\n",
    "        + F.col(\"Duration\").substr(4, 2).cast(\"int\") * 60\n",
    "        + F.col(\"Duration\").substr(7, 2).cast(\"int\")\n",
    "    ).alias(\"Duration_seconds\"),\n",
    ").distinct().show(5)"
   ]
  },
  {
   "cell_type": "markdown",
   "id": "c3e51c95-b3b6-4cbd-a211-5da4da9717ab",
   "metadata": {},
   "source": [
    "<a id=\"withColumn\">"
   ]
  },
  {
   "cell_type": "markdown",
   "id": "deed7906-8e43-4f1f-a20e-6cf9db63cfba",
   "metadata": {},
   "source": [
    "## Creating new column with withColumn()"
   ]
  },
  {
   "cell_type": "markdown",
   "id": "85405312-251d-4f2c-8629-076ac541e576",
   "metadata": {},
   "source": [
    "[[back to top]](#top_of_page)"
   ]
  },
  {
   "cell_type": "code",
   "execution_count": 15,
   "id": "04b58f3c-19ad-4da6-9ffa-feb15dfc6ead",
   "metadata": {},
   "outputs": [],
   "source": [
    "logs = logs.withColumn(\n",
    "    \"Duration_seconds\",\n",
    "    (\n",
    "        F.col(\"Duration\").substr(1, 2).cast(\"int\") * 60 * 60\n",
    "        + F.col(\"Duration\").substr(4, 2).cast(\"int\") * 60\n",
    "        + F.col(\"Duration\").substr(7, 2).cast(\"int\")\n",
    "    ),\n",
    ")"
   ]
  },
  {
   "cell_type": "code",
   "execution_count": 16,
   "id": "dfd2661b-3492-433b-945d-22b2f7981984",
   "metadata": {},
   "outputs": [
    {
     "name": "stdout",
     "output_type": "stream",
     "text": [
      "root\n",
      " |-- LogServiceID: integer (nullable = true)\n",
      " |-- LogDate: timestamp (nullable = true)\n",
      " |-- AudienceTargetAgeID: integer (nullable = true)\n",
      " |-- AudienceTargetEthnicID: integer (nullable = true)\n",
      " |-- CategoryID: integer (nullable = true)\n",
      " |-- ClosedCaptionID: integer (nullable = true)\n",
      " |-- CountryOfOriginID: integer (nullable = true)\n",
      " |-- DubDramaCreditID: integer (nullable = true)\n",
      " |-- EthnicProgramID: integer (nullable = true)\n",
      " |-- ProductionSourceID: integer (nullable = true)\n",
      " |-- ProgramClassID: integer (nullable = true)\n",
      " |-- FilmClassificationID: integer (nullable = true)\n",
      " |-- ExhibitionID: integer (nullable = true)\n",
      " |-- Duration: string (nullable = true)\n",
      " |-- EndTime: string (nullable = true)\n",
      " |-- LogEntryDate: timestamp (nullable = true)\n",
      " |-- ProductionNO: string (nullable = true)\n",
      " |-- ProgramTitle: string (nullable = true)\n",
      " |-- StartTime: string (nullable = true)\n",
      " |-- Subtitle: string (nullable = true)\n",
      " |-- NetworkAffiliationID: integer (nullable = true)\n",
      " |-- SpecialAttentionID: integer (nullable = true)\n",
      " |-- BroadcastOriginPointID: integer (nullable = true)\n",
      " |-- CompositionID: integer (nullable = true)\n",
      " |-- Producer1: string (nullable = true)\n",
      " |-- Producer2: string (nullable = true)\n",
      " |-- Language1: integer (nullable = true)\n",
      " |-- Language2: integer (nullable = true)\n",
      " |-- Duration_seconds: integer (nullable = true)\n",
      "\n"
     ]
    }
   ],
   "source": [
    "logs.printSchema()"
   ]
  },
  {
   "cell_type": "markdown",
   "id": "63c34bc0-c565-48a7-9576-ed5154b62376",
   "metadata": {},
   "source": [
    "<a id=\"withColumnRenamed\">"
   ]
  },
  {
   "cell_type": "markdown",
   "id": "b7f45684-7d3f-4e3b-9b3f-71162d9669ca",
   "metadata": {},
   "source": [
    "## Renaming one column at a type, the withColumnRenamed() way"
   ]
  },
  {
   "cell_type": "markdown",
   "id": "a5e5ad20-320d-4661-be2f-38f5b2d45653",
   "metadata": {},
   "source": [
    "[[back to top]](#top_of_page)"
   ]
  },
  {
   "cell_type": "code",
   "execution_count": 17,
   "id": "35d12b57-1765-420f-9a48-82eedf68c83e",
   "metadata": {},
   "outputs": [],
   "source": [
    "logs = logs.withColumnRenamed(\"Duration_seconds\", \"duration_seconds\")"
   ]
  },
  {
   "cell_type": "code",
   "execution_count": 18,
   "id": "51b0bd7a-d996-48f6-9a2a-8177c26696f6",
   "metadata": {},
   "outputs": [
    {
     "name": "stdout",
     "output_type": "stream",
     "text": [
      "root\n",
      " |-- LogServiceID: integer (nullable = true)\n",
      " |-- LogDate: timestamp (nullable = true)\n",
      " |-- AudienceTargetAgeID: integer (nullable = true)\n",
      " |-- AudienceTargetEthnicID: integer (nullable = true)\n",
      " |-- CategoryID: integer (nullable = true)\n",
      " |-- ClosedCaptionID: integer (nullable = true)\n",
      " |-- CountryOfOriginID: integer (nullable = true)\n",
      " |-- DubDramaCreditID: integer (nullable = true)\n",
      " |-- EthnicProgramID: integer (nullable = true)\n",
      " |-- ProductionSourceID: integer (nullable = true)\n",
      " |-- ProgramClassID: integer (nullable = true)\n",
      " |-- FilmClassificationID: integer (nullable = true)\n",
      " |-- ExhibitionID: integer (nullable = true)\n",
      " |-- Duration: string (nullable = true)\n",
      " |-- EndTime: string (nullable = true)\n",
      " |-- LogEntryDate: timestamp (nullable = true)\n",
      " |-- ProductionNO: string (nullable = true)\n",
      " |-- ProgramTitle: string (nullable = true)\n",
      " |-- StartTime: string (nullable = true)\n",
      " |-- Subtitle: string (nullable = true)\n",
      " |-- NetworkAffiliationID: integer (nullable = true)\n",
      " |-- SpecialAttentionID: integer (nullable = true)\n",
      " |-- BroadcastOriginPointID: integer (nullable = true)\n",
      " |-- CompositionID: integer (nullable = true)\n",
      " |-- Producer1: string (nullable = true)\n",
      " |-- Producer2: string (nullable = true)\n",
      " |-- Language1: integer (nullable = true)\n",
      " |-- Language2: integer (nullable = true)\n",
      " |-- duration_seconds: integer (nullable = true)\n",
      "\n"
     ]
    }
   ],
   "source": [
    "logs.printSchema()"
   ]
  },
  {
   "cell_type": "markdown",
   "id": "f5bcc485-39d5-46fb-8752-d3b2461e5f82",
   "metadata": {},
   "source": [
    "<a id=\"toDF\">"
   ]
  },
  {
   "cell_type": "markdown",
   "id": "cbb7e17d-e06e-4aed-9264-9fa091b9e0b8",
   "metadata": {},
   "source": [
    "## Changing multiple columns - Batch lowercasing using the toDF() method"
   ]
  },
  {
   "cell_type": "markdown",
   "id": "87016d26-b99f-4046-831e-43801c8657f8",
   "metadata": {},
   "source": [
    "[[back to top]](#top_of_page)"
   ]
  },
  {
   "cell_type": "code",
   "execution_count": 19,
   "id": "f0080c1b-48c4-4a9a-a04e-93130224b480",
   "metadata": {},
   "outputs": [
    {
     "name": "stdout",
     "output_type": "stream",
     "text": [
      "root\n",
      " |-- logserviceid: integer (nullable = true)\n",
      " |-- logdate: timestamp (nullable = true)\n",
      " |-- audiencetargetageid: integer (nullable = true)\n",
      " |-- audiencetargetethnicid: integer (nullable = true)\n",
      " |-- categoryid: integer (nullable = true)\n",
      " |-- closedcaptionid: integer (nullable = true)\n",
      " |-- countryoforiginid: integer (nullable = true)\n",
      " |-- dubdramacreditid: integer (nullable = true)\n",
      " |-- ethnicprogramid: integer (nullable = true)\n",
      " |-- productionsourceid: integer (nullable = true)\n",
      " |-- programclassid: integer (nullable = true)\n",
      " |-- filmclassificationid: integer (nullable = true)\n",
      " |-- exhibitionid: integer (nullable = true)\n",
      " |-- duration: string (nullable = true)\n",
      " |-- endtime: string (nullable = true)\n",
      " |-- logentrydate: timestamp (nullable = true)\n",
      " |-- productionno: string (nullable = true)\n",
      " |-- programtitle: string (nullable = true)\n",
      " |-- starttime: string (nullable = true)\n",
      " |-- subtitle: string (nullable = true)\n",
      " |-- networkaffiliationid: integer (nullable = true)\n",
      " |-- specialattentionid: integer (nullable = true)\n",
      " |-- broadcastoriginpointid: integer (nullable = true)\n",
      " |-- compositionid: integer (nullable = true)\n",
      " |-- producer1: string (nullable = true)\n",
      " |-- producer2: string (nullable = true)\n",
      " |-- language1: integer (nullable = true)\n",
      " |-- language2: integer (nullable = true)\n",
      " |-- duration_seconds: integer (nullable = true)\n",
      "\n"
     ]
    }
   ],
   "source": [
    "logs.toDF(*[x.lower() for x in logs.columns]).printSchema()"
   ]
  },
  {
   "cell_type": "markdown",
   "id": "0fcf6fb1-5e8a-4811-88c7-42170bda897c",
   "metadata": {},
   "source": [
    "<a id=\"sorting_columns\">"
   ]
  },
  {
   "cell_type": "markdown",
   "id": "81af56d0-0302-4800-bf97-521e17d5813a",
   "metadata": {},
   "source": [
    "## Selecting our columns in alphabetical order using select()"
   ]
  },
  {
   "cell_type": "markdown",
   "id": "f8d70380-a7f3-4791-8fa9-58de7d4f9005",
   "metadata": {},
   "source": [
    "[[back to top]](#top_of_page)"
   ]
  },
  {
   "cell_type": "code",
   "execution_count": 20,
   "id": "3c52886f-dcee-4874-8d48-3087b0c89425",
   "metadata": {},
   "outputs": [
    {
     "name": "stdout",
     "output_type": "stream",
     "text": [
      "root\n",
      " |-- AudienceTargetAgeID: integer (nullable = true)\n",
      " |-- AudienceTargetEthnicID: integer (nullable = true)\n",
      " |-- BroadcastOriginPointID: integer (nullable = true)\n",
      " |-- CategoryID: integer (nullable = true)\n",
      " |-- ClosedCaptionID: integer (nullable = true)\n",
      " |-- CompositionID: integer (nullable = true)\n",
      " |-- CountryOfOriginID: integer (nullable = true)\n",
      " |-- DubDramaCreditID: integer (nullable = true)\n",
      " |-- Duration: string (nullable = true)\n",
      " |-- EndTime: string (nullable = true)\n",
      " |-- EthnicProgramID: integer (nullable = true)\n",
      " |-- ExhibitionID: integer (nullable = true)\n",
      " |-- FilmClassificationID: integer (nullable = true)\n",
      " |-- Language1: integer (nullable = true)\n",
      " |-- Language2: integer (nullable = true)\n",
      " |-- LogDate: timestamp (nullable = true)\n",
      " |-- LogEntryDate: timestamp (nullable = true)\n",
      " |-- LogServiceID: integer (nullable = true)\n",
      " |-- NetworkAffiliationID: integer (nullable = true)\n",
      " |-- Producer1: string (nullable = true)\n",
      " |-- Producer2: string (nullable = true)\n",
      " |-- ProductionNO: string (nullable = true)\n",
      " |-- ProductionSourceID: integer (nullable = true)\n",
      " |-- ProgramClassID: integer (nullable = true)\n",
      " |-- ProgramTitle: string (nullable = true)\n",
      " |-- SpecialAttentionID: integer (nullable = true)\n",
      " |-- StartTime: string (nullable = true)\n",
      " |-- Subtitle: string (nullable = true)\n",
      " |-- duration_seconds: integer (nullable = true)\n",
      "\n"
     ]
    }
   ],
   "source": [
    "logs.select(sorted(logs.columns)).printSchema()"
   ]
  },
  {
   "cell_type": "markdown",
   "id": "ca7d2c1e-aa68-4fb5-bd1c-6a5d5fef9afb",
   "metadata": {},
   "source": [
    "<a id=\"describe_and_summarize\">"
   ]
  },
  {
   "cell_type": "markdown",
   "id": "3306a77c-8438-4a05-8651-b1c74d0d2611",
   "metadata": {},
   "source": [
    "## Diagnosing a dataframe with describe() and summary()"
   ]
  },
  {
   "cell_type": "markdown",
   "id": "acaa6a3b-3f31-48c3-a053-60feb47b8dcc",
   "metadata": {},
   "source": [
    "[[back to top]](#top_of_page)"
   ]
  },
  {
   "cell_type": "code",
   "execution_count": 21,
   "id": "49b07381-da4f-4826-bf2f-56935adf251b",
   "metadata": {},
   "outputs": [
    {
     "name": "stdout",
     "output_type": "stream",
     "text": [
      "+-------+------------------+\n",
      "|summary|      LogServiceID|\n",
      "+-------+------------------+\n",
      "|  count|           7169318|\n",
      "|   mean|3453.8804215407936|\n",
      "| stddev|200.44137201584468|\n",
      "|    min|              3157|\n",
      "|    max|              3925|\n",
      "+-------+------------------+\n",
      "\n",
      "+-------+\n",
      "|summary|\n",
      "+-------+\n",
      "|  count|\n",
      "|   mean|\n",
      "| stddev|\n",
      "|    min|\n",
      "|    max|\n",
      "+-------+\n",
      "\n",
      "+-------+-------------------+\n",
      "|summary|AudienceTargetAgeID|\n",
      "+-------+-------------------+\n",
      "|  count|             482674|\n",
      "|   mean| 3.4819298325577925|\n",
      "| stddev| 1.0446667834126653|\n",
      "|    min|                  1|\n",
      "|    max|                  4|\n",
      "+-------+-------------------+\n",
      "\n",
      "+-------+----------------------+\n",
      "|summary|AudienceTargetEthnicID|\n",
      "+-------+----------------------+\n",
      "|  count|                 51613|\n",
      "|   mean|    123.54631585065778|\n",
      "| stddev|      75.2748950313355|\n",
      "|    min|                     4|\n",
      "|    max|                   337|\n",
      "+-------+----------------------+\n",
      "\n",
      "+-------+-----------------+\n",
      "|summary|       CategoryID|\n",
      "+-------+-----------------+\n",
      "|  count|           776154|\n",
      "|   mean|18.67642632776485|\n",
      "| stddev|9.591370194727814|\n",
      "|    min|                1|\n",
      "|    max|               29|\n",
      "+-------+-----------------+\n",
      "\n",
      "+-------+------------------+\n",
      "|summary|   ClosedCaptionID|\n",
      "+-------+------------------+\n",
      "|  count|           6724012|\n",
      "|   mean|1.0324504179944949|\n",
      "| stddev|0.2526809591870937|\n",
      "|    min|                 1|\n",
      "|    max|                 3|\n",
      "+-------+------------------+\n",
      "\n",
      "+-------+-----------------+\n",
      "|summary|CountryOfOriginID|\n",
      "+-------+-----------------+\n",
      "|  count|           533909|\n",
      "|   mean|4.068927476405155|\n",
      "| stddev|2.615665080630436|\n",
      "|    min|                2|\n",
      "|    max|               11|\n",
      "+-------+-----------------+\n",
      "\n",
      "+-------+-----------------+\n",
      "|summary| DubDramaCreditID|\n",
      "+-------+-----------------+\n",
      "|  count|             8385|\n",
      "|   mean|4.719260584376864|\n",
      "| stddev|3.404909514854157|\n",
      "|    min|                1|\n",
      "|    max|               10|\n",
      "+-------+-----------------+\n",
      "\n",
      "+-------+-----------------+\n",
      "|summary|  EthnicProgramID|\n",
      "+-------+-----------------+\n",
      "|  count|            56920|\n",
      "|   mean|4.296416022487702|\n",
      "| stddev|2.300303076149725|\n",
      "|    min|                1|\n",
      "|    max|                6|\n",
      "+-------+-----------------+\n",
      "\n",
      "+-------+------------------+\n",
      "|summary|ProductionSourceID|\n",
      "+-------+------------------+\n",
      "|  count|            483958|\n",
      "|   mean|11.284694126349807|\n",
      "| stddev|5.9678353238033575|\n",
      "|    min|                 1|\n",
      "|    max|                19|\n",
      "+-------+------------------+\n",
      "\n",
      "+-------+-----------------+\n",
      "|summary|   ProgramClassID|\n",
      "+-------+-----------------+\n",
      "|  count|          7169306|\n",
      "|   mean|8.487176443577663|\n",
      "| stddev|7.891284397053823|\n",
      "|    min|                3|\n",
      "|    max|               30|\n",
      "+-------+-----------------+\n",
      "\n",
      "+-------+--------------------+\n",
      "|summary|FilmClassificationID|\n",
      "+-------+--------------------+\n",
      "|  count|               59025|\n",
      "|   mean|  1.9943752647183397|\n",
      "| stddev|  1.6679702553608293|\n",
      "|    min|                   1|\n",
      "|    max|                   8|\n",
      "+-------+--------------------+\n",
      "\n",
      "+-------+------------------+\n",
      "|summary|      ExhibitionID|\n",
      "+-------+------------------+\n",
      "|  count|            281486|\n",
      "|   mean| 4.522981604768976|\n",
      "| stddev|1.4649256579522418|\n",
      "|    min|                 1|\n",
      "|    max|                 8|\n",
      "+-------+------------------+\n",
      "\n",
      "+-------+----------------+\n",
      "|summary|        Duration|\n",
      "+-------+----------------+\n",
      "|  count|         7099405|\n",
      "|   mean|            null|\n",
      "| stddev|            null|\n",
      "|    min|00:00:00.0000000|\n",
      "|    max|18:00:00.0000000|\n",
      "+-------+----------------+\n",
      "\n",
      "+-------+----------------+\n",
      "|summary|         EndTime|\n",
      "+-------+----------------+\n",
      "|  count|         5085533|\n",
      "|   mean|            null|\n",
      "| stddev|            null|\n",
      "|    min|00:00:00.0000000|\n",
      "|    max|23:59:59.0000000|\n",
      "+-------+----------------+\n",
      "\n",
      "+-------+\n",
      "|summary|\n",
      "+-------+\n",
      "|  count|\n",
      "|   mean|\n",
      "| stddev|\n",
      "|    min|\n",
      "|    max|\n",
      "+-------+\n",
      "\n",
      "+-------+-----------------+\n",
      "|summary|     ProductionNO|\n",
      "+-------+-----------------+\n",
      "|  count|           111587|\n",
      "|   mean|37678.43613707165|\n",
      "| stddev|9228.988275560867|\n",
      "|    min|           030641|\n",
      "|    max|           �40218|\n",
      "+-------+-----------------+\n",
      "\n",
      "+-------+--------------------+\n",
      "|summary|        ProgramTitle|\n",
      "+-------+--------------------+\n",
      "|  count|             7161203|\n",
      "|   mean|   938.1391304347826|\n",
      "| stddev|   542.9032398515802|\n",
      "|    min|    !NO 5PM A ID(:5)|\n",
      "|    max|�~�  EDI~�~�O DA ...|\n",
      "+-------+--------------------+\n",
      "\n",
      "+-------+----------------+\n",
      "|summary|       StartTime|\n",
      "+-------+----------------+\n",
      "|  count|         7169318|\n",
      "|   mean|            null|\n",
      "| stddev|            null|\n",
      "|    min|00:00:00.0000000|\n",
      "|    max|23:59:59.0000000|\n",
      "+-------+----------------+\n",
      "\n",
      "+-------+--------------------+\n",
      "|summary|            Subtitle|\n",
      "+-------+--------------------+\n",
      "|  count|              463607|\n",
      "|   mean|  3573.2812545165484|\n",
      "| stddev|  19134.712917123677|\n",
      "|    min|\"Coming Out\" On T...|\n",
      "|    max|��Petit farceur��...|\n",
      "+-------+--------------------+\n",
      "\n",
      "+-------+--------------------+\n",
      "|summary|NetworkAffiliationID|\n",
      "+-------+--------------------+\n",
      "|  count|             3199306|\n",
      "|   mean|   6.049913324952349|\n",
      "| stddev|  3.0103424661589213|\n",
      "|    min|                   1|\n",
      "|    max|                   9|\n",
      "+-------+--------------------+\n",
      "\n",
      "+-------+------------------+\n",
      "|summary|SpecialAttentionID|\n",
      "+-------+------------------+\n",
      "|  count|             71902|\n",
      "|   mean|1.7399794164279159|\n",
      "| stddev|0.5273385176056693|\n",
      "|    min|                 1|\n",
      "|    max|                 3|\n",
      "+-------+------------------+\n",
      "\n",
      "+-------+----------------------+\n",
      "|summary|BroadcastOriginPointID|\n",
      "+-------+----------------------+\n",
      "|  count|                297221|\n",
      "|   mean|     2.121354143886199|\n",
      "| stddev|    0.9333301483489784|\n",
      "|    min|                     1|\n",
      "|    max|                     3|\n",
      "+-------+----------------------+\n",
      "\n",
      "+-------+------------------+\n",
      "|summary|     CompositionID|\n",
      "+-------+------------------+\n",
      "|  count|            297221|\n",
      "|   mean|3.4692266024271503|\n",
      "| stddev|0.8859644364777811|\n",
      "|    min|                 1|\n",
      "|    max|                 4|\n",
      "+-------+------------------+\n",
      "\n",
      "+-------+---------+\n",
      "|summary|Producer1|\n",
      "+-------+---------+\n",
      "|  count|    72727|\n",
      "|   mean|     null|\n",
      "| stddev|     null|\n",
      "|    min|      AMI|\n",
      "|    max|      onf|\n",
      "+-------+---------+\n",
      "\n",
      "+-------+---------+\n",
      "|summary|Producer2|\n",
      "+-------+---------+\n",
      "|  count|      981|\n",
      "|   mean|     null|\n",
      "| stddev|     null|\n",
      "|    min|       MT|\n",
      "|    max|       QC|\n",
      "+-------+---------+\n",
      "\n",
      "+-------+-----------------+\n",
      "|summary|        Language1|\n",
      "+-------+-----------------+\n",
      "|  count|           392167|\n",
      "|   mean|101.4812975084594|\n",
      "| stddev|44.77224007545475|\n",
      "|    min|               94|\n",
      "|    max|              437|\n",
      "+-------+-----------------+\n",
      "\n",
      "+-------+------------------+\n",
      "|summary|         Language2|\n",
      "+-------+------------------+\n",
      "|  count|             78364|\n",
      "|   mean|177.68877290592619|\n",
      "| stddev| 89.42034795254678|\n",
      "|    min|                 3|\n",
      "|    max|               438|\n",
      "+-------+------------------+\n",
      "\n",
      "+-------+------------------+\n",
      "|summary|  duration_seconds|\n",
      "+-------+------------------+\n",
      "|  count|           7099405|\n",
      "|   mean|127.77428883124712|\n",
      "| stddev| 604.5953472183354|\n",
      "|    min|                 0|\n",
      "|    max|             64800|\n",
      "+-------+------------------+\n",
      "\n"
     ]
    }
   ],
   "source": [
    "for i in logs.columns:\n",
    "    logs.describe(i).show()"
   ]
  },
  {
   "cell_type": "code",
   "execution_count": 23,
   "id": "ab36947b-f336-445b-8147-e0cf8b39a79a",
   "metadata": {},
   "outputs": [
    {
     "name": "stdout",
     "output_type": "stream",
     "text": [
      "+-------+------------------+\n",
      "|summary|      LogServiceID|\n",
      "+-------+------------------+\n",
      "|  count|           7169318|\n",
      "|   mean|3453.8804215407936|\n",
      "| stddev|200.44137201584468|\n",
      "|    min|              3157|\n",
      "|    25%|              3291|\n",
      "|    50%|              3384|\n",
      "|    75%|              3628|\n",
      "|    max|              3925|\n",
      "+-------+------------------+\n",
      "\n",
      "+-------+\n",
      "|summary|\n",
      "+-------+\n",
      "|  count|\n",
      "|   mean|\n",
      "| stddev|\n",
      "|    min|\n",
      "|    25%|\n",
      "|    50%|\n",
      "|    75%|\n",
      "|    max|\n",
      "+-------+\n",
      "\n",
      "+-------+-------------------+\n",
      "|summary|AudienceTargetAgeID|\n",
      "+-------+-------------------+\n",
      "|  count|             482674|\n",
      "|   mean| 3.4819298325577925|\n",
      "| stddev| 1.0446667834126653|\n",
      "|    min|                  1|\n",
      "|    25%|                  4|\n",
      "|    50%|                  4|\n",
      "|    75%|                  4|\n",
      "|    max|                  4|\n",
      "+-------+-------------------+\n",
      "\n",
      "+-------+----------------------+\n",
      "|summary|AudienceTargetEthnicID|\n",
      "+-------+----------------------+\n",
      "|  count|                 51613|\n",
      "|   mean|    123.54631585065778|\n",
      "| stddev|      75.2748950313355|\n",
      "|    min|                     4|\n",
      "|    25%|                    74|\n",
      "|    50%|                    95|\n",
      "|    75%|                   138|\n",
      "|    max|                   337|\n",
      "+-------+----------------------+\n",
      "\n",
      "+-------+-----------------+\n",
      "|summary|       CategoryID|\n",
      "+-------+-----------------+\n",
      "|  count|           776154|\n",
      "|   mean|18.67642632776485|\n",
      "| stddev|9.591370194727814|\n",
      "|    min|                1|\n",
      "|    25%|               11|\n",
      "|    50%|               24|\n",
      "|    75%|               26|\n",
      "|    max|               29|\n",
      "+-------+-----------------+\n",
      "\n",
      "+-------+------------------+\n",
      "|summary|   ClosedCaptionID|\n",
      "+-------+------------------+\n",
      "|  count|           6724012|\n",
      "|   mean|1.0324504179944949|\n",
      "| stddev|0.2526809591870937|\n",
      "|    min|                 1|\n",
      "|    25%|                 1|\n",
      "|    50%|                 1|\n",
      "|    75%|                 1|\n",
      "|    max|                 3|\n",
      "+-------+------------------+\n",
      "\n",
      "+-------+-----------------+\n",
      "|summary|CountryOfOriginID|\n",
      "+-------+-----------------+\n",
      "|  count|           533909|\n",
      "|   mean|4.068927476405155|\n",
      "| stddev|2.615665080630436|\n",
      "|    min|                2|\n",
      "|    25%|                2|\n",
      "|    50%|                3|\n",
      "|    75%|                5|\n",
      "|    max|               11|\n",
      "+-------+-----------------+\n",
      "\n",
      "+-------+-----------------+\n",
      "|summary| DubDramaCreditID|\n",
      "+-------+-----------------+\n",
      "|  count|             8385|\n",
      "|   mean|4.719260584376864|\n",
      "| stddev|3.404909514854157|\n",
      "|    min|                1|\n",
      "|    25%|                2|\n",
      "|    50%|                2|\n",
      "|    75%|               10|\n",
      "|    max|               10|\n",
      "+-------+-----------------+\n",
      "\n",
      "+-------+-----------------+\n",
      "|summary|  EthnicProgramID|\n",
      "+-------+-----------------+\n",
      "|  count|            56920|\n",
      "|   mean|4.296416022487702|\n",
      "| stddev|2.300303076149725|\n",
      "|    min|                1|\n",
      "|    25%|                1|\n",
      "|    50%|                6|\n",
      "|    75%|                6|\n",
      "|    max|                6|\n",
      "+-------+-----------------+\n",
      "\n",
      "+-------+------------------+\n",
      "|summary|ProductionSourceID|\n",
      "+-------+------------------+\n",
      "|  count|            483958|\n",
      "|   mean|11.284694126349807|\n",
      "| stddev|5.9678353238033575|\n",
      "|    min|                 1|\n",
      "|    25%|                 7|\n",
      "|    50%|                12|\n",
      "|    75%|                16|\n",
      "|    max|                19|\n",
      "+-------+------------------+\n",
      "\n",
      "+-------+-----------------+\n",
      "|summary|   ProgramClassID|\n",
      "+-------+-----------------+\n",
      "|  count|          7169306|\n",
      "|   mean|8.487176443577663|\n",
      "| stddev|7.891284397053823|\n",
      "|    min|                3|\n",
      "|    25%|                3|\n",
      "|    50%|                3|\n",
      "|    75%|               19|\n",
      "|    max|               30|\n",
      "+-------+-----------------+\n",
      "\n",
      "+-------+--------------------+\n",
      "|summary|FilmClassificationID|\n",
      "+-------+--------------------+\n",
      "|  count|               59025|\n",
      "|   mean|  1.9943752647183397|\n",
      "| stddev|  1.6679702553608293|\n",
      "|    min|                   1|\n",
      "|    25%|                   1|\n",
      "|    50%|                   1|\n",
      "|    75%|                   2|\n",
      "|    max|                   8|\n",
      "+-------+--------------------+\n",
      "\n",
      "+-------+------------------+\n",
      "|summary|      ExhibitionID|\n",
      "+-------+------------------+\n",
      "|  count|            281486|\n",
      "|   mean| 4.522981604768976|\n",
      "| stddev|1.4649256579522418|\n",
      "|    min|                 1|\n",
      "|    25%|                 4|\n",
      "|    50%|                 5|\n",
      "|    75%|                 5|\n",
      "|    max|                 8|\n",
      "+-------+------------------+\n",
      "\n",
      "+-------+----------------+\n",
      "|summary|        Duration|\n",
      "+-------+----------------+\n",
      "|  count|         7099405|\n",
      "|   mean|            null|\n",
      "| stddev|            null|\n",
      "|    min|00:00:00.0000000|\n",
      "|    25%|            null|\n",
      "|    50%|            null|\n",
      "|    75%|            null|\n",
      "|    max|18:00:00.0000000|\n",
      "+-------+----------------+\n",
      "\n",
      "+-------+----------------+\n",
      "|summary|         EndTime|\n",
      "+-------+----------------+\n",
      "|  count|         5085533|\n",
      "|   mean|            null|\n",
      "| stddev|            null|\n",
      "|    min|00:00:00.0000000|\n",
      "|    25%|            null|\n",
      "|    50%|            null|\n",
      "|    75%|            null|\n",
      "|    max|23:59:59.0000000|\n",
      "+-------+----------------+\n",
      "\n",
      "+-------+\n",
      "|summary|\n",
      "+-------+\n",
      "|  count|\n",
      "|   mean|\n",
      "| stddev|\n",
      "|    min|\n",
      "|    25%|\n",
      "|    50%|\n",
      "|    75%|\n",
      "|    max|\n",
      "+-------+\n",
      "\n",
      "+-------+-----------------+\n",
      "|summary|     ProductionNO|\n",
      "+-------+-----------------+\n",
      "|  count|           111587|\n",
      "|   mean|37678.43613707165|\n",
      "| stddev|9228.988275560867|\n",
      "|    min|           030641|\n",
      "|    25%|          33797.0|\n",
      "|    50%|          37775.0|\n",
      "|    75%|          39883.0|\n",
      "|    max|           �40218|\n",
      "+-------+-----------------+\n",
      "\n",
      "+-------+--------------------+\n",
      "|summary|        ProgramTitle|\n",
      "+-------+--------------------+\n",
      "|  count|             7161203|\n",
      "|   mean|   938.1391304347826|\n",
      "| stddev|   542.9032398515802|\n",
      "|    min|    !NO 5PM A ID(:5)|\n",
      "|    25%|               911.0|\n",
      "|    50%|               911.0|\n",
      "|    75%|               911.0|\n",
      "|    max|�~�  EDI~�~�O DA ...|\n",
      "+-------+--------------------+\n",
      "\n",
      "+-------+----------------+\n",
      "|summary|       StartTime|\n",
      "+-------+----------------+\n",
      "|  count|         7169318|\n",
      "|   mean|            null|\n",
      "| stddev|            null|\n",
      "|    min|00:00:00.0000000|\n",
      "|    25%|            null|\n",
      "|    50%|            null|\n",
      "|    75%|            null|\n",
      "|    max|23:59:59.0000000|\n",
      "+-------+----------------+\n",
      "\n",
      "+-------+--------------------+\n",
      "|summary|            Subtitle|\n",
      "+-------+--------------------+\n",
      "|  count|              463607|\n",
      "|   mean|  3573.2812545165484|\n",
      "| stddev|  19134.712917123677|\n",
      "|    min|\"Coming Out\" On T...|\n",
      "|    25%|                23.0|\n",
      "|    50%|               111.0|\n",
      "|    75%|              2011.0|\n",
      "|    max|��Petit farceur��...|\n",
      "+-------+--------------------+\n",
      "\n",
      "+-------+--------------------+\n",
      "|summary|NetworkAffiliationID|\n",
      "+-------+--------------------+\n",
      "|  count|             3199306|\n",
      "|   mean|   6.049913324952349|\n",
      "| stddev|  3.0103424661589213|\n",
      "|    min|                   1|\n",
      "|    25%|                   5|\n",
      "|    50%|                   6|\n",
      "|    75%|                   9|\n",
      "|    max|                   9|\n",
      "+-------+--------------------+\n",
      "\n",
      "+-------+------------------+\n",
      "|summary|SpecialAttentionID|\n",
      "+-------+------------------+\n",
      "|  count|             71902|\n",
      "|   mean|1.7399794164279159|\n",
      "| stddev|0.5273385176056693|\n",
      "|    min|                 1|\n",
      "|    25%|                 1|\n",
      "|    50%|                 2|\n",
      "|    75%|                 2|\n",
      "|    max|                 3|\n",
      "+-------+------------------+\n",
      "\n",
      "+-------+----------------------+\n",
      "|summary|BroadcastOriginPointID|\n",
      "+-------+----------------------+\n",
      "|  count|                297221|\n",
      "|   mean|     2.121354143886199|\n",
      "| stddev|    0.9333301483489784|\n",
      "|    min|                     1|\n",
      "|    25%|                     1|\n",
      "|    50%|                     3|\n",
      "|    75%|                     3|\n",
      "|    max|                     3|\n",
      "+-------+----------------------+\n",
      "\n",
      "+-------+------------------+\n",
      "|summary|     CompositionID|\n",
      "+-------+------------------+\n",
      "|  count|            297221|\n",
      "|   mean|3.4692266024271503|\n",
      "| stddev|0.8859644364777811|\n",
      "|    min|                 1|\n",
      "|    25%|                 3|\n",
      "|    50%|                 4|\n",
      "|    75%|                 4|\n",
      "|    max|                 4|\n",
      "+-------+------------------+\n",
      "\n",
      "+-------+---------+\n",
      "|summary|Producer1|\n",
      "+-------+---------+\n",
      "|  count|    72727|\n",
      "|   mean|     null|\n",
      "| stddev|     null|\n",
      "|    min|      AMI|\n",
      "|    25%|     null|\n",
      "|    50%|     null|\n",
      "|    75%|     null|\n",
      "|    max|      onf|\n",
      "+-------+---------+\n",
      "\n",
      "+-------+---------+\n",
      "|summary|Producer2|\n",
      "+-------+---------+\n",
      "|  count|      981|\n",
      "|   mean|     null|\n",
      "| stddev|     null|\n",
      "|    min|       MT|\n",
      "|    25%|     null|\n",
      "|    50%|     null|\n",
      "|    75%|     null|\n",
      "|    max|       QC|\n",
      "+-------+---------+\n",
      "\n",
      "+-------+-----------------+\n",
      "|summary|        Language1|\n",
      "+-------+-----------------+\n",
      "|  count|           392167|\n",
      "|   mean|101.4812975084594|\n",
      "| stddev|44.77224007545475|\n",
      "|    min|               94|\n",
      "|    25%|               94|\n",
      "|    50%|               94|\n",
      "|    75%|               94|\n",
      "|    max|              437|\n",
      "+-------+-----------------+\n",
      "\n",
      "+-------+------------------+\n",
      "|summary|         Language2|\n",
      "+-------+------------------+\n",
      "|  count|             78364|\n",
      "|   mean|177.68877290592619|\n",
      "| stddev| 89.42034795254678|\n",
      "|    min|                 3|\n",
      "|    25%|               134|\n",
      "|    50%|               151|\n",
      "|    75%|               259|\n",
      "|    max|               438|\n",
      "+-------+------------------+\n",
      "\n",
      "+-------+------------------+\n",
      "|summary|  duration_seconds|\n",
      "+-------+------------------+\n",
      "|  count|           7099405|\n",
      "|   mean|127.77428883124712|\n",
      "| stddev| 604.5953472183354|\n",
      "|    min|                 0|\n",
      "|    25%|                15|\n",
      "|    50%|                15|\n",
      "|    75%|                30|\n",
      "|    max|             64800|\n",
      "+-------+------------------+\n",
      "\n"
     ]
    }
   ],
   "source": [
    "for i in logs.columns:\n",
    "    logs.select(i).summary().show()"
   ]
  },
  {
   "cell_type": "markdown",
   "id": "596caef2-4c7e-4889-a70a-b985e1b4c971",
   "metadata": {},
   "source": [
    "<a id=\"joining\">"
   ]
  },
  {
   "cell_type": "markdown",
   "id": "ab8e62d7-2bc7-49f0-a21e-5c1742a1dc5b",
   "metadata": {},
   "source": [
    "## Joining Data"
   ]
  },
  {
   "cell_type": "markdown",
   "id": "2d576316-4a43-47f8-b2ba-67c7be964904",
   "metadata": {},
   "source": [
    "[[back to top]](#top_of_page)"
   ]
  },
  {
   "cell_type": "markdown",
   "id": "9645774d-3846-4f37-99f4-e7e8fc14d689",
   "metadata": {},
   "source": [
    "#### Let's create a 2nd dataframe called \"log_identifier\""
   ]
  },
  {
   "cell_type": "code",
   "execution_count": 38,
   "id": "7c96d8f7-557e-4e39-876b-d4a20a1c55a0",
   "metadata": {},
   "outputs": [],
   "source": [
    "DIRECTORY = Path(\"./data/broadcast_logs\")\n",
    "log_identifier = spark.read.csv(\n",
    "    str(DIRECTORY / \"ReferenceTables/LogIdentifier.csv\"),\n",
    "    sep=\"|\",\n",
    "    header=True,\n",
    "    inferSchema=True,\n",
    ")"
   ]
  },
  {
   "cell_type": "code",
   "execution_count": 39,
   "id": "841ba068-3266-4029-a816-1c8569003a30",
   "metadata": {},
   "outputs": [
    {
     "name": "stdout",
     "output_type": "stream",
     "text": [
      "root\n",
      " |-- LogIdentifierID: string (nullable = true)\n",
      " |-- LogServiceID: integer (nullable = true)\n",
      " |-- PrimaryFG: integer (nullable = true)\n",
      "\n"
     ]
    }
   ],
   "source": [
    "log_identifier.printSchema()"
   ]
  },
  {
   "cell_type": "code",
   "execution_count": 40,
   "id": "33d49230-f07e-4c6c-8bc5-31f9a552490d",
   "metadata": {},
   "outputs": [
    {
     "name": "stdout",
     "output_type": "stream",
     "text": [
      "+---------------+------------+---------+\n",
      "|LogIdentifierID|LogServiceID|PrimaryFG|\n",
      "+---------------+------------+---------+\n",
      "|           13ST|        3157|        1|\n",
      "|         2000SM|        3466|        1|\n",
      "|           70SM|        3883|        1|\n",
      "|           80SM|        3590|        1|\n",
      "|           90SM|        3470|        1|\n",
      "|         9DAPTN|        3158|        1|\n",
      "|         9DCFCF|        3159|        1|\n",
      "|         9DCFRN|        3160|        1|\n",
      "|         9DCHRO|        3161|        1|\n",
      "|         9DCIVI|        3162|        1|\n",
      "+---------------+------------+---------+\n",
      "only showing top 10 rows\n",
      "\n"
     ]
    }
   ],
   "source": [
    "log_identifier.show(10)"
   ]
  },
  {
   "cell_type": "code",
   "execution_count": 41,
   "id": "97924c99-f845-4dbf-84da-c234c26ece48",
   "metadata": {},
   "outputs": [
    {
     "data": {
      "text/html": [
       "<table border='1'>\n",
       "<tr><th>PrimaryFG</th></tr>\n",
       "<tr><td>1</td></tr>\n",
       "<tr><td>0</td></tr>\n",
       "</table>\n"
      ],
      "text/plain": [
       "+---------+\n",
       "|PrimaryFG|\n",
       "+---------+\n",
       "|        1|\n",
       "|        0|\n",
       "+---------+"
      ]
     },
     "execution_count": 41,
     "metadata": {},
     "output_type": "execute_result"
    }
   ],
   "source": [
    "log_identifier.select(F.col(\"PrimaryFG\")).distinct()"
   ]
  },
  {
   "cell_type": "markdown",
   "id": "64ce8966-6e7c-43e9-af98-1870fda62911",
   "metadata": {},
   "source": [
    "#### Let's do a simple groupBy count"
   ]
  },
  {
   "cell_type": "code",
   "execution_count": 44,
   "id": "a595e68b-6679-4836-b081-c1cbbe5b3b52",
   "metadata": {},
   "outputs": [
    {
     "data": {
      "text/html": [
       "<table border='1'>\n",
       "<tr><th>PrimaryFG</th><th>count</th></tr>\n",
       "<tr><td>1</td><td>758</td></tr>\n",
       "<tr><td>0</td><td>162</td></tr>\n",
       "</table>\n"
      ],
      "text/plain": [
       "+---------+-----+\n",
       "|PrimaryFG|count|\n",
       "+---------+-----+\n",
       "|        1|  758|\n",
       "|        0|  162|\n",
       "+---------+-----+"
      ]
     },
     "execution_count": 44,
     "metadata": {},
     "output_type": "execute_result"
    }
   ],
   "source": [
    "(\n",
    "    log_identifier\n",
    "    .select(F.col(\"PrimaryFG\"))\n",
    "    .groupBy(F.col(\"PrimaryFG\"))\n",
    "    .count()\n",
    ")"
   ]
  },
  {
   "cell_type": "code",
   "execution_count": 45,
   "id": "af5c6774-8b71-4053-b6d0-49a70c478d33",
   "metadata": {},
   "outputs": [
    {
     "data": {
      "text/plain": [
       "920"
      ]
     },
     "execution_count": 45,
     "metadata": {},
     "output_type": "execute_result"
    }
   ],
   "source": [
    "log_identifier.count()"
   ]
  },
  {
   "cell_type": "markdown",
   "id": "d4b0aad1-54d2-47ea-9a38-b3dfa444928f",
   "metadata": {},
   "source": [
    "#### Filter or limit our log_identifier to have PrimaryFG equal to 1"
   ]
  },
  {
   "cell_type": "code",
   "execution_count": 46,
   "id": "b56e178b-1208-4ffc-8644-311c507454d8",
   "metadata": {},
   "outputs": [
    {
     "name": "stdout",
     "output_type": "stream",
     "text": [
      "758\n"
     ]
    }
   ],
   "source": [
    "log_identifier = log_identifier.where(F.col(\"PrimaryFG\") == 1)\n",
    "print(log_identifier.count())"
   ]
  },
  {
   "cell_type": "markdown",
   "id": "ba28056f-80fc-41bc-a36f-ef33dcf9ec77",
   "metadata": {},
   "source": [
    "#### Let's compare or see which column we can join `logs` and `log_identifier` with.  Let's print out the schema for both:"
   ]
  },
  {
   "cell_type": "code",
   "execution_count": 47,
   "id": "de9cd058-7ad0-4b56-96c9-ad03dd216508",
   "metadata": {},
   "outputs": [
    {
     "name": "stdout",
     "output_type": "stream",
     "text": [
      "root\n",
      " |-- LogServiceID: integer (nullable = true)\n",
      " |-- LogDate: timestamp (nullable = true)\n",
      " |-- AudienceTargetAgeID: integer (nullable = true)\n",
      " |-- AudienceTargetEthnicID: integer (nullable = true)\n",
      " |-- CategoryID: integer (nullable = true)\n",
      " |-- ClosedCaptionID: integer (nullable = true)\n",
      " |-- CountryOfOriginID: integer (nullable = true)\n",
      " |-- DubDramaCreditID: integer (nullable = true)\n",
      " |-- EthnicProgramID: integer (nullable = true)\n",
      " |-- ProductionSourceID: integer (nullable = true)\n",
      " |-- ProgramClassID: integer (nullable = true)\n",
      " |-- FilmClassificationID: integer (nullable = true)\n",
      " |-- ExhibitionID: integer (nullable = true)\n",
      " |-- Duration: string (nullable = true)\n",
      " |-- EndTime: string (nullable = true)\n",
      " |-- LogEntryDate: timestamp (nullable = true)\n",
      " |-- ProductionNO: string (nullable = true)\n",
      " |-- ProgramTitle: string (nullable = true)\n",
      " |-- StartTime: string (nullable = true)\n",
      " |-- Subtitle: string (nullable = true)\n",
      " |-- NetworkAffiliationID: integer (nullable = true)\n",
      " |-- SpecialAttentionID: integer (nullable = true)\n",
      " |-- BroadcastOriginPointID: integer (nullable = true)\n",
      " |-- CompositionID: integer (nullable = true)\n",
      " |-- Producer1: string (nullable = true)\n",
      " |-- Producer2: string (nullable = true)\n",
      " |-- Language1: integer (nullable = true)\n",
      " |-- Language2: integer (nullable = true)\n",
      " |-- duration_seconds: integer (nullable = true)\n",
      "\n"
     ]
    }
   ],
   "source": [
    "logs.printSchema()"
   ]
  },
  {
   "cell_type": "code",
   "execution_count": 48,
   "id": "9037d7b2-8b6c-4e86-bbf0-6882c75a7786",
   "metadata": {},
   "outputs": [
    {
     "name": "stdout",
     "output_type": "stream",
     "text": [
      "root\n",
      " |-- LogIdentifierID: string (nullable = true)\n",
      " |-- LogServiceID: integer (nullable = true)\n",
      " |-- PrimaryFG: integer (nullable = true)\n",
      "\n"
     ]
    }
   ],
   "source": [
    "log_identifier.printSchema()"
   ]
  },
  {
   "cell_type": "markdown",
   "id": "4ce8e61c-7783-4216-82b2-228c79589200",
   "metadata": {},
   "source": [
    "#### From the data dictionary and also based on the columns listed, looks like we can join with the `LogServiceID` column"
   ]
  },
  {
   "cell_type": "markdown",
   "id": "617b157f-330d-4f97-ab43-d4b8f1e51da7",
   "metadata": {},
   "source": [
    "<a id=\"inner_join\">"
   ]
  },
  {
   "cell_type": "markdown",
   "id": "b44648b3-c46c-44e8-a4dd-5ab37caa838e",
   "metadata": {},
   "source": [
    "## Perform INNER join"
   ]
  },
  {
   "cell_type": "markdown",
   "id": "0d0d455b-811f-4502-ae71-771fc46567b9",
   "metadata": {},
   "source": [
    "[[back to top]](#top_of_page)"
   ]
  },
  {
   "cell_type": "code",
   "execution_count": 50,
   "id": "c7ac3aae-b353-4f22-9ff1-af986f1ededf",
   "metadata": {},
   "outputs": [],
   "source": [
    "logs_and_channels = logs.join(\n",
    "    log_identifier,\n",
    "    on=\"LogServiceID\",\n",
    "    how=\"inner\"\n",
    ")"
   ]
  },
  {
   "cell_type": "code",
   "execution_count": 51,
   "id": "9e5c06b7-c18f-4187-82f0-5e96d44ea4bf",
   "metadata": {},
   "outputs": [
    {
     "name": "stdout",
     "output_type": "stream",
     "text": [
      "root\n",
      " |-- LogServiceID: integer (nullable = true)\n",
      " |-- LogDate: timestamp (nullable = true)\n",
      " |-- AudienceTargetAgeID: integer (nullable = true)\n",
      " |-- AudienceTargetEthnicID: integer (nullable = true)\n",
      " |-- CategoryID: integer (nullable = true)\n",
      " |-- ClosedCaptionID: integer (nullable = true)\n",
      " |-- CountryOfOriginID: integer (nullable = true)\n",
      " |-- DubDramaCreditID: integer (nullable = true)\n",
      " |-- EthnicProgramID: integer (nullable = true)\n",
      " |-- ProductionSourceID: integer (nullable = true)\n",
      " |-- ProgramClassID: integer (nullable = true)\n",
      " |-- FilmClassificationID: integer (nullable = true)\n",
      " |-- ExhibitionID: integer (nullable = true)\n",
      " |-- Duration: string (nullable = true)\n",
      " |-- EndTime: string (nullable = true)\n",
      " |-- LogEntryDate: timestamp (nullable = true)\n",
      " |-- ProductionNO: string (nullable = true)\n",
      " |-- ProgramTitle: string (nullable = true)\n",
      " |-- StartTime: string (nullable = true)\n",
      " |-- Subtitle: string (nullable = true)\n",
      " |-- NetworkAffiliationID: integer (nullable = true)\n",
      " |-- SpecialAttentionID: integer (nullable = true)\n",
      " |-- BroadcastOriginPointID: integer (nullable = true)\n",
      " |-- CompositionID: integer (nullable = true)\n",
      " |-- Producer1: string (nullable = true)\n",
      " |-- Producer2: string (nullable = true)\n",
      " |-- Language1: integer (nullable = true)\n",
      " |-- Language2: integer (nullable = true)\n",
      " |-- duration_seconds: integer (nullable = true)\n",
      " |-- LogIdentifierID: string (nullable = true)\n",
      " |-- PrimaryFG: integer (nullable = true)\n",
      "\n"
     ]
    }
   ],
   "source": [
    "logs_and_channels.printSchema()"
   ]
  }
 ],
 "metadata": {
  "kernelspec": {
   "display_name": "Py3.9 (pyspark_dev)",
   "language": "python",
   "name": "pyspark_dev"
  },
  "language_info": {
   "codemirror_mode": {
    "name": "ipython",
    "version": 3
   },
   "file_extension": ".py",
   "mimetype": "text/x-python",
   "name": "python",
   "nbconvert_exporter": "python",
   "pygments_lexer": "ipython3",
   "version": "3.9.13"
  }
 },
 "nbformat": 4,
 "nbformat_minor": 5
}
