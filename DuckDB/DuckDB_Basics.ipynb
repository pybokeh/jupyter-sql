{
 "cells": [
  {
   "cell_type": "code",
   "execution_count": 1,
   "id": "843700b9-2545-4411-bae2-bfd94579ad19",
   "metadata": {},
   "outputs": [],
   "source": [
    "import duckdb"
   ]
  },
  {
   "cell_type": "code",
   "execution_count": 7,
   "id": "7fcce5cb-943b-4fbb-bee4-2ada32b0e0a9",
   "metadata": {},
   "outputs": [],
   "source": [
    "with duckdb.connect(database='/home/pybokeh/.duckdb/nhtsa.duckdb', read_only=False) as con:\n",
    "    # Fetch results as a pandas dataframe\n",
    "    df = con.execute(\"SELECT * FROM makes\").fetchdf()\n",
    "    \n",
    "    # or fetch results as a list of tuples\n",
    "    con.execute('SELECT * FROM df')\n",
    "    resultset = con.fetchmany(size=10)"
   ]
  },
  {
   "cell_type": "code",
   "execution_count": 8,
   "id": "dcc6b901-c221-4479-964c-6ba0e4dd8209",
   "metadata": {},
   "outputs": [
    {
     "data": {
      "text/html": [
       "<div>\n",
       "<style scoped>\n",
       "    .dataframe tbody tr th:only-of-type {\n",
       "        vertical-align: middle;\n",
       "    }\n",
       "\n",
       "    .dataframe tbody tr th {\n",
       "        vertical-align: top;\n",
       "    }\n",
       "\n",
       "    .dataframe thead th {\n",
       "        text-align: right;\n",
       "    }\n",
       "</style>\n",
       "<table border=\"1\" class=\"dataframe\">\n",
       "  <thead>\n",
       "    <tr style=\"text-align: right;\">\n",
       "      <th></th>\n",
       "      <th>make_id</th>\n",
       "      <th>make_name</th>\n",
       "    </tr>\n",
       "  </thead>\n",
       "  <tbody>\n",
       "    <tr>\n",
       "      <th>0</th>\n",
       "      <td>11897</td>\n",
       "      <td>MID-TOWN TRAILERS</td>\n",
       "    </tr>\n",
       "    <tr>\n",
       "      <th>1</th>\n",
       "      <td>4877</td>\n",
       "      <td>1/OFF KUSTOMS, LLC</td>\n",
       "    </tr>\n",
       "    <tr>\n",
       "      <th>2</th>\n",
       "      <td>11257</td>\n",
       "      <td>102 IRONWORKS, INC.</td>\n",
       "    </tr>\n",
       "    <tr>\n",
       "      <th>3</th>\n",
       "      <td>6387</td>\n",
       "      <td>17 CREEK ENTERPRISES</td>\n",
       "    </tr>\n",
       "    <tr>\n",
       "      <th>4</th>\n",
       "      <td>9172</td>\n",
       "      <td>1M CUSTOM CAR TRANSPORTS, INC.</td>\n",
       "    </tr>\n",
       "    <tr>\n",
       "      <th>...</th>\n",
       "      <td>...</td>\n",
       "      <td>...</td>\n",
       "    </tr>\n",
       "    <tr>\n",
       "      <th>10487</th>\n",
       "      <td>11035</td>\n",
       "      <td>ZTM</td>\n",
       "    </tr>\n",
       "    <tr>\n",
       "      <th>10488</th>\n",
       "      <td>3881</td>\n",
       "      <td>ZTPOWERSTATION</td>\n",
       "    </tr>\n",
       "    <tr>\n",
       "      <th>10489</th>\n",
       "      <td>3880</td>\n",
       "      <td>ZZ TRAILER</td>\n",
       "    </tr>\n",
       "    <tr>\n",
       "      <th>10490</th>\n",
       "      <td>8416</td>\n",
       "      <td>ZZ TRAILERS</td>\n",
       "    </tr>\n",
       "    <tr>\n",
       "      <th>10491</th>\n",
       "      <td>11713</td>\n",
       "      <td>ZZKNOWN</td>\n",
       "    </tr>\n",
       "  </tbody>\n",
       "</table>\n",
       "<p>10492 rows × 2 columns</p>\n",
       "</div>"
      ],
      "text/plain": [
       "       make_id                       make_name\n",
       "0        11897               MID-TOWN TRAILERS\n",
       "1         4877              1/OFF KUSTOMS, LLC\n",
       "2        11257             102 IRONWORKS, INC.\n",
       "3         6387            17 CREEK ENTERPRISES\n",
       "4         9172  1M CUSTOM CAR TRANSPORTS, INC.\n",
       "...        ...                             ...\n",
       "10487    11035                             ZTM\n",
       "10488     3881                  ZTPOWERSTATION\n",
       "10489     3880                      ZZ TRAILER\n",
       "10490     8416                     ZZ TRAILERS\n",
       "10491    11713                         ZZKNOWN\n",
       "\n",
       "[10492 rows x 2 columns]"
      ]
     },
     "execution_count": 8,
     "metadata": {},
     "output_type": "execute_result"
    }
   ],
   "source": [
    "df"
   ]
  },
  {
   "cell_type": "code",
   "execution_count": 9,
   "id": "eca3857b-3679-47e0-917b-1abcb4002558",
   "metadata": {},
   "outputs": [
    {
     "data": {
      "text/plain": [
       "[(11897, ' MID-TOWN TRAILERS'),\n",
       " (4877, '1/OFF KUSTOMS, LLC'),\n",
       " (11257, '102 IRONWORKS, INC.'),\n",
       " (6387, '17 CREEK ENTERPRISES'),\n",
       " (9172, '1M CUSTOM CAR TRANSPORTS, INC.'),\n",
       " (6124, '1ST CHOICE MANUFACTURING INC'),\n",
       " (6488, '2-G TRAILER CO LLC'),\n",
       " (612, '2231545 ONTARIO'),\n",
       " (11399, '24/7 ONSITE CAMERAS INC'),\n",
       " (608, '280 TRAILERS')]"
      ]
     },
     "execution_count": 9,
     "metadata": {},
     "output_type": "execute_result"
    }
   ],
   "source": [
    "resultset"
   ]
  }
 ],
 "metadata": {
  "kernelspec": {
   "display_name": "Py3.8 (nhtsa_dev)",
   "language": "python",
   "name": "nhtsa_dev"
  },
  "language_info": {
   "codemirror_mode": {
    "name": "ipython",
    "version": 3
   },
   "file_extension": ".py",
   "mimetype": "text/x-python",
   "name": "python",
   "nbconvert_exporter": "python",
   "pygments_lexer": "ipython3",
   "version": "3.8.10"
  }
 },
 "nbformat": 4,
 "nbformat_minor": 5
}
