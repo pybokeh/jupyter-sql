{
 "cells": [
  {
   "cell_type": "markdown",
   "id": "db87c60c-979a-4a21-9487-504c78594827",
   "metadata": {},
   "source": [
    "<a id=\"back_to_top\">"
   ]
  },
  {
   "cell_type": "markdown",
   "id": "e5281fba-7134-4721-a038-fd1927c5976f",
   "metadata": {},
   "source": [
    "# Ibis Cheat Sheet"
   ]
  },
  {
   "cell_type": "markdown",
   "id": "835b0c10-de4d-4197-bfed-d545949ef39a",
   "metadata": {},
   "source": [
    "#### Table of Contents"
   ]
  },
  {
   "cell_type": "markdown",
   "id": "e14a3d25-560b-4251-a3b1-89899435035e",
   "metadata": {},
   "source": [
    "- [Reading a local csv file](#csv)\n",
    "- [Viewing schema](#schema)\n",
    "- [Number of rows and columns](#rows_columns)\n",
    "- [Selecting certain columns](#selecting_columns)\n",
    "- [Creating new column based on value from another column using mutate and split() combination](#split)\n",
    "- [Creating new column using CASE statements](#case)\n",
    "- [Running Total / Cumulative Sum](#running_total)\n",
    "- [Forward fill / backward fill](https://github.com/ibis-project/ibis/wiki/ffill-and-bfill-using-window-functions)\n",
    "- [Aggregations / Summarizations](#aggregations)\n",
    "- [Filtering](#filtering)\n",
    "- [Convert Pandas dataframe to Ibis table expression](#pandas_to_ibis)\n",
    "- [Obtain distinct values in column(s)](#distinct)\n",
    "- [Find Duplicate Values](#duplicates)\n",
    "- [Percent of Rows](#perc_of_rows)\n",
    "- [Percent of Columns](#perc_of_columns)"
   ]
  },
  {
   "cell_type": "code",
   "execution_count": null,
   "id": "32e4b14c-1bfb-4ddf-a960-e5d5574dfd48",
   "metadata": {
    "tags": []
   },
   "outputs": [],
   "source": [
    "import ibis\n",
    "import ibis.selectors as s\n",
    "import pandas as pd\n",
    "from ibis import _\n",
    "ibis.options.interactive = True\n",
    "\n",
    "# create a DuckDB client\n",
    "client = ibis.duckdb.connect()"
   ]
  },
  {
   "cell_type": "markdown",
   "id": "a45ca71b-4a69-491b-8957-cbb3c85da213",
   "metadata": {},
   "source": [
    "## Reading a CSV file"
   ]
  },
  {
   "cell_type": "markdown",
   "id": "53600349-0e20-47b8-943a-16d3d7c50a0c",
   "metadata": {},
   "source": [
    "[[back to top]](#back_to_top)"
   ]
  },
  {
   "cell_type": "code",
   "execution_count": 2,
   "id": "9d064956-c71b-44a2-97dd-ea0eabfc935f",
   "metadata": {
    "tags": []
   },
   "outputs": [],
   "source": [
    "# read in a local CSV file as an Ibis table\n",
    "cars = client.read_csv('./data/cars.csv')"
   ]
  },
  {
   "cell_type": "code",
   "execution_count": 3,
   "id": "00f6afc8-15d6-4fb8-b724-4ffecbd98013",
   "metadata": {
    "tags": []
   },
   "outputs": [
    {
     "data": {
      "text/html": [
       "<pre style=\"white-space:pre;overflow-x:auto;line-height:normal;font-family:Menlo,'DejaVu Sans Mono',consolas,'Courier New',monospace\">┏━━━━━━━━━━━━━━━━━━━━━━━━━━━┳━━━━━━━━━┳━━━━━━━━━━━┳━━━━━━━━━━━━━━┳━━━━━━━━━━━━┳━━━━━━━━━┳━━━━━━━━━━━━━━┳━━━━━━━┳━━━━━━━━┓\n",
       "┃<span style=\"font-weight: bold\"> Car                       </span>┃<span style=\"font-weight: bold\"> MPG     </span>┃<span style=\"font-weight: bold\"> Cylinders </span>┃<span style=\"font-weight: bold\"> Displacement </span>┃<span style=\"font-weight: bold\"> Horsepower </span>┃<span style=\"font-weight: bold\"> Weight  </span>┃<span style=\"font-weight: bold\"> Acceleration </span>┃<span style=\"font-weight: bold\"> Model </span>┃<span style=\"font-weight: bold\"> Origin </span>┃\n",
       "┡━━━━━━━━━━━━━━━━━━━━━━━━━━━╇━━━━━━━━━╇━━━━━━━━━━━╇━━━━━━━━━━━━━━╇━━━━━━━━━━━━╇━━━━━━━━━╇━━━━━━━━━━━━━━╇━━━━━━━╇━━━━━━━━┩\n",
       "│ <span style=\"color: #7f7f7f; text-decoration-color: #7f7f7f\">string</span>                    │ <span style=\"color: #7f7f7f; text-decoration-color: #7f7f7f\">float64</span> │ <span style=\"color: #7f7f7f; text-decoration-color: #7f7f7f\">int64</span>     │ <span style=\"color: #7f7f7f; text-decoration-color: #7f7f7f\">float64</span>      │ <span style=\"color: #7f7f7f; text-decoration-color: #7f7f7f\">float64</span>    │ <span style=\"color: #7f7f7f; text-decoration-color: #7f7f7f\">float64</span> │ <span style=\"color: #7f7f7f; text-decoration-color: #7f7f7f\">float64</span>      │ <span style=\"color: #7f7f7f; text-decoration-color: #7f7f7f\">int64</span> │ <span style=\"color: #7f7f7f; text-decoration-color: #7f7f7f\">string</span> │\n",
       "├───────────────────────────┼─────────┼───────────┼──────────────┼────────────┼─────────┼──────────────┼───────┼────────┤\n",
       "│ <span style=\"color: #008000; text-decoration-color: #008000\">Chevrolet Chevelle Malibu</span> │    <span style=\"color: #008080; text-decoration-color: #008080; font-weight: bold\">18.0</span> │         <span style=\"color: #008080; text-decoration-color: #008080; font-weight: bold\">8</span> │        <span style=\"color: #008080; text-decoration-color: #008080; font-weight: bold\">307.0</span> │      <span style=\"color: #008080; text-decoration-color: #008080; font-weight: bold\">130.0</span> │  <span style=\"color: #008080; text-decoration-color: #008080; font-weight: bold\">3504.0</span> │         <span style=\"color: #008080; text-decoration-color: #008080; font-weight: bold\">12.0</span> │    <span style=\"color: #008080; text-decoration-color: #008080; font-weight: bold\">70</span> │ <span style=\"color: #008000; text-decoration-color: #008000\">US    </span> │\n",
       "│ <span style=\"color: #008000; text-decoration-color: #008000\">Buick Skylark 320        </span> │    <span style=\"color: #008080; text-decoration-color: #008080; font-weight: bold\">15.0</span> │         <span style=\"color: #008080; text-decoration-color: #008080; font-weight: bold\">8</span> │        <span style=\"color: #008080; text-decoration-color: #008080; font-weight: bold\">350.0</span> │      <span style=\"color: #008080; text-decoration-color: #008080; font-weight: bold\">165.0</span> │  <span style=\"color: #008080; text-decoration-color: #008080; font-weight: bold\">3693.0</span> │         <span style=\"color: #008080; text-decoration-color: #008080; font-weight: bold\">11.5</span> │    <span style=\"color: #008080; text-decoration-color: #008080; font-weight: bold\">70</span> │ <span style=\"color: #008000; text-decoration-color: #008000\">US    </span> │\n",
       "│ <span style=\"color: #008000; text-decoration-color: #008000\">Plymouth Satellite       </span> │    <span style=\"color: #008080; text-decoration-color: #008080; font-weight: bold\">18.0</span> │         <span style=\"color: #008080; text-decoration-color: #008080; font-weight: bold\">8</span> │        <span style=\"color: #008080; text-decoration-color: #008080; font-weight: bold\">318.0</span> │      <span style=\"color: #008080; text-decoration-color: #008080; font-weight: bold\">150.0</span> │  <span style=\"color: #008080; text-decoration-color: #008080; font-weight: bold\">3436.0</span> │         <span style=\"color: #008080; text-decoration-color: #008080; font-weight: bold\">11.0</span> │    <span style=\"color: #008080; text-decoration-color: #008080; font-weight: bold\">70</span> │ <span style=\"color: #008000; text-decoration-color: #008000\">US    </span> │\n",
       "│ <span style=\"color: #008000; text-decoration-color: #008000\">AMC Rebel SST            </span> │    <span style=\"color: #008080; text-decoration-color: #008080; font-weight: bold\">16.0</span> │         <span style=\"color: #008080; text-decoration-color: #008080; font-weight: bold\">8</span> │        <span style=\"color: #008080; text-decoration-color: #008080; font-weight: bold\">304.0</span> │      <span style=\"color: #008080; text-decoration-color: #008080; font-weight: bold\">150.0</span> │  <span style=\"color: #008080; text-decoration-color: #008080; font-weight: bold\">3433.0</span> │         <span style=\"color: #008080; text-decoration-color: #008080; font-weight: bold\">12.0</span> │    <span style=\"color: #008080; text-decoration-color: #008080; font-weight: bold\">70</span> │ <span style=\"color: #008000; text-decoration-color: #008000\">US    </span> │\n",
       "│ <span style=\"color: #008000; text-decoration-color: #008000\">Ford Torino              </span> │    <span style=\"color: #008080; text-decoration-color: #008080; font-weight: bold\">17.0</span> │         <span style=\"color: #008080; text-decoration-color: #008080; font-weight: bold\">8</span> │        <span style=\"color: #008080; text-decoration-color: #008080; font-weight: bold\">302.0</span> │      <span style=\"color: #008080; text-decoration-color: #008080; font-weight: bold\">140.0</span> │  <span style=\"color: #008080; text-decoration-color: #008080; font-weight: bold\">3449.0</span> │         <span style=\"color: #008080; text-decoration-color: #008080; font-weight: bold\">10.5</span> │    <span style=\"color: #008080; text-decoration-color: #008080; font-weight: bold\">70</span> │ <span style=\"color: #008000; text-decoration-color: #008000\">US    </span> │\n",
       "└───────────────────────────┴─────────┴───────────┴──────────────┴────────────┴─────────┴──────────────┴───────┴────────┘\n",
       "</pre>\n"
      ],
      "text/plain": [
       "┏━━━━━━━━━━━━━━━━━━━━━━━━━━━┳━━━━━━━━━┳━━━━━━━━━━━┳━━━━━━━━━━━━━━┳━━━━━━━━━━━━┳━━━━━━━━━┳━━━━━━━━━━━━━━┳━━━━━━━┳━━━━━━━━┓\n",
       "┃\u001b[1m \u001b[0m\u001b[1mCar\u001b[0m\u001b[1m                      \u001b[0m\u001b[1m \u001b[0m┃\u001b[1m \u001b[0m\u001b[1mMPG\u001b[0m\u001b[1m    \u001b[0m\u001b[1m \u001b[0m┃\u001b[1m \u001b[0m\u001b[1mCylinders\u001b[0m\u001b[1m \u001b[0m┃\u001b[1m \u001b[0m\u001b[1mDisplacement\u001b[0m\u001b[1m \u001b[0m┃\u001b[1m \u001b[0m\u001b[1mHorsepower\u001b[0m\u001b[1m \u001b[0m┃\u001b[1m \u001b[0m\u001b[1mWeight\u001b[0m\u001b[1m \u001b[0m\u001b[1m \u001b[0m┃\u001b[1m \u001b[0m\u001b[1mAcceleration\u001b[0m\u001b[1m \u001b[0m┃\u001b[1m \u001b[0m\u001b[1mModel\u001b[0m\u001b[1m \u001b[0m┃\u001b[1m \u001b[0m\u001b[1mOrigin\u001b[0m\u001b[1m \u001b[0m┃\n",
       "┡━━━━━━━━━━━━━━━━━━━━━━━━━━━╇━━━━━━━━━╇━━━━━━━━━━━╇━━━━━━━━━━━━━━╇━━━━━━━━━━━━╇━━━━━━━━━╇━━━━━━━━━━━━━━╇━━━━━━━╇━━━━━━━━┩\n",
       "│ \u001b[2mstring\u001b[0m                    │ \u001b[2mfloat64\u001b[0m │ \u001b[2mint64\u001b[0m     │ \u001b[2mfloat64\u001b[0m      │ \u001b[2mfloat64\u001b[0m    │ \u001b[2mfloat64\u001b[0m │ \u001b[2mfloat64\u001b[0m      │ \u001b[2mint64\u001b[0m │ \u001b[2mstring\u001b[0m │\n",
       "├───────────────────────────┼─────────┼───────────┼──────────────┼────────────┼─────────┼──────────────┼───────┼────────┤\n",
       "│ \u001b[32mChevrolet Chevelle Malibu\u001b[0m │    \u001b[1;36m18.0\u001b[0m │         \u001b[1;36m8\u001b[0m │        \u001b[1;36m307.0\u001b[0m │      \u001b[1;36m130.0\u001b[0m │  \u001b[1;36m3504.0\u001b[0m │         \u001b[1;36m12.0\u001b[0m │    \u001b[1;36m70\u001b[0m │ \u001b[32mUS    \u001b[0m │\n",
       "│ \u001b[32mBuick Skylark 320        \u001b[0m │    \u001b[1;36m15.0\u001b[0m │         \u001b[1;36m8\u001b[0m │        \u001b[1;36m350.0\u001b[0m │      \u001b[1;36m165.0\u001b[0m │  \u001b[1;36m3693.0\u001b[0m │         \u001b[1;36m11.5\u001b[0m │    \u001b[1;36m70\u001b[0m │ \u001b[32mUS    \u001b[0m │\n",
       "│ \u001b[32mPlymouth Satellite       \u001b[0m │    \u001b[1;36m18.0\u001b[0m │         \u001b[1;36m8\u001b[0m │        \u001b[1;36m318.0\u001b[0m │      \u001b[1;36m150.0\u001b[0m │  \u001b[1;36m3436.0\u001b[0m │         \u001b[1;36m11.0\u001b[0m │    \u001b[1;36m70\u001b[0m │ \u001b[32mUS    \u001b[0m │\n",
       "│ \u001b[32mAMC Rebel SST            \u001b[0m │    \u001b[1;36m16.0\u001b[0m │         \u001b[1;36m8\u001b[0m │        \u001b[1;36m304.0\u001b[0m │      \u001b[1;36m150.0\u001b[0m │  \u001b[1;36m3433.0\u001b[0m │         \u001b[1;36m12.0\u001b[0m │    \u001b[1;36m70\u001b[0m │ \u001b[32mUS    \u001b[0m │\n",
       "│ \u001b[32mFord Torino              \u001b[0m │    \u001b[1;36m17.0\u001b[0m │         \u001b[1;36m8\u001b[0m │        \u001b[1;36m302.0\u001b[0m │      \u001b[1;36m140.0\u001b[0m │  \u001b[1;36m3449.0\u001b[0m │         \u001b[1;36m10.5\u001b[0m │    \u001b[1;36m70\u001b[0m │ \u001b[32mUS    \u001b[0m │\n",
       "└───────────────────────────┴─────────┴───────────┴──────────────┴────────────┴─────────┴──────────────┴───────┴────────┘"
      ]
     },
     "execution_count": 3,
     "metadata": {},
     "output_type": "execute_result"
    }
   ],
   "source": [
    "cars.head()"
   ]
  },
  {
   "cell_type": "markdown",
   "id": "02a829b1-12ce-4d1c-b0dc-1c1b0bf48cbc",
   "metadata": {},
   "source": [
    "<a id=\"schema\">"
   ]
  },
  {
   "cell_type": "markdown",
   "id": "5b3300fe-3c24-4f4d-83d4-4c9509230f65",
   "metadata": {},
   "source": [
    "## Viewing Schema"
   ]
  },
  {
   "cell_type": "markdown",
   "id": "be93f3c1-d6dc-4fdb-9dbc-3557f252576c",
   "metadata": {},
   "source": [
    "[[back to top]](#back_to_top)"
   ]
  },
  {
   "cell_type": "code",
   "execution_count": 4,
   "id": "f8123534-77e8-47f3-8393-43053ca1c977",
   "metadata": {
    "tags": []
   },
   "outputs": [
    {
     "data": {
      "text/plain": [
       "ibis.Schema {\n",
       "  Car           string\n",
       "  MPG           float64\n",
       "  Cylinders     int64\n",
       "  Displacement  float64\n",
       "  Horsepower    float64\n",
       "  Weight        float64\n",
       "  Acceleration  float64\n",
       "  Model         int64\n",
       "  Origin        string\n",
       "}"
      ]
     },
     "execution_count": 4,
     "metadata": {},
     "output_type": "execute_result"
    }
   ],
   "source": [
    "cars.schema()"
   ]
  },
  {
   "cell_type": "markdown",
   "id": "4ed637d4-1867-4bcc-b67b-1c758f9aa5e5",
   "metadata": {},
   "source": [
    "<a id=\"rows_columns\">"
   ]
  },
  {
   "cell_type": "markdown",
   "id": "b1bcf1bd-c791-4563-a3ca-7d67795a2e4b",
   "metadata": {},
   "source": [
    "## Number of Rows and Columns"
   ]
  },
  {
   "cell_type": "markdown",
   "id": "2d7b0c29-1e9e-487d-a27c-3ab0d6608549",
   "metadata": {},
   "source": [
    "[[back to top]](#back_to_top)"
   ]
  },
  {
   "cell_type": "markdown",
   "id": "80502993-5140-4319-ad68-18c84035deb0",
   "metadata": {},
   "source": [
    "\\# of rows:"
   ]
  },
  {
   "cell_type": "code",
   "execution_count": 5,
   "id": "93cd9ac2-dc59-4d4d-9bd2-bb386c6f46a2",
   "metadata": {
    "tags": []
   },
   "outputs": [
    {
     "data": {
      "text/html": [
       "<pre style=\"white-space:pre;overflow-x:auto;line-height:normal;font-family:Menlo,'DejaVu Sans Mono',consolas,'Courier New',monospace\"></pre>\n"
      ],
      "text/plain": []
     },
     "metadata": {},
     "output_type": "display_data"
    },
    {
     "data": {
      "text/plain": [
       "\u001b[1;36m406\u001b[0m"
      ]
     },
     "execution_count": 5,
     "metadata": {},
     "output_type": "execute_result"
    }
   ],
   "source": [
    "cars.count()"
   ]
  },
  {
   "cell_type": "markdown",
   "id": "b141f1ec-ceb9-4ffd-9902-4d674d5aef96",
   "metadata": {},
   "source": [
    "\\# of Columns:"
   ]
  },
  {
   "cell_type": "code",
   "execution_count": 6,
   "id": "98bef9cc-9b6f-42f8-89fc-1a04de413fca",
   "metadata": {
    "tags": []
   },
   "outputs": [
    {
     "data": {
      "text/plain": [
       "9"
      ]
     },
     "execution_count": 6,
     "metadata": {},
     "output_type": "execute_result"
    }
   ],
   "source": [
    "len(cars.schema())"
   ]
  },
  {
   "cell_type": "markdown",
   "id": "1f73233a-abbf-426d-8272-23613f68c8f2",
   "metadata": {},
   "source": [
    "<a id=\"selecting_columns\">"
   ]
  },
  {
   "cell_type": "markdown",
   "id": "f8b39e1e-fbfa-446e-9d2e-3c8a69eb33d4",
   "metadata": {},
   "source": [
    "## Selecting Certain Columns"
   ]
  },
  {
   "cell_type": "markdown",
   "id": "84b91b9b-defa-4aed-aac7-e14801a281b0",
   "metadata": {},
   "source": [
    "[[back to top]](#back_to_top)"
   ]
  },
  {
   "cell_type": "markdown",
   "id": "569ec910-3de4-4ed7-8c3b-5fa2e40027e0",
   "metadata": {},
   "source": [
    "#### We can use pandas square bracket syntax"
   ]
  },
  {
   "cell_type": "code",
   "execution_count": 7,
   "id": "3c4abcab-12d6-484a-aa08-295a6b904a5c",
   "metadata": {
    "tags": []
   },
   "outputs": [
    {
     "data": {
      "text/html": [
       "<pre style=\"white-space:pre;overflow-x:auto;line-height:normal;font-family:Menlo,'DejaVu Sans Mono',consolas,'Courier New',monospace\">┏━━━━━━━━┳━━━━━━━━━━━━━━━━━━━━━━━━━━━┳━━━━━━━━━┓\n",
       "┃<span style=\"font-weight: bold\"> Origin </span>┃<span style=\"font-weight: bold\"> Car                       </span>┃<span style=\"font-weight: bold\"> MPG     </span>┃\n",
       "┡━━━━━━━━╇━━━━━━━━━━━━━━━━━━━━━━━━━━━╇━━━━━━━━━┩\n",
       "│ <span style=\"color: #7f7f7f; text-decoration-color: #7f7f7f\">string</span> │ <span style=\"color: #7f7f7f; text-decoration-color: #7f7f7f\">string</span>                    │ <span style=\"color: #7f7f7f; text-decoration-color: #7f7f7f\">float64</span> │\n",
       "├────────┼───────────────────────────┼─────────┤\n",
       "│ <span style=\"color: #008000; text-decoration-color: #008000\">US    </span> │ <span style=\"color: #008000; text-decoration-color: #008000\">Chevrolet Chevelle Malibu</span> │    <span style=\"color: #008080; text-decoration-color: #008080; font-weight: bold\">18.0</span> │\n",
       "│ <span style=\"color: #008000; text-decoration-color: #008000\">US    </span> │ <span style=\"color: #008000; text-decoration-color: #008000\">Buick Skylark 320        </span> │    <span style=\"color: #008080; text-decoration-color: #008080; font-weight: bold\">15.0</span> │\n",
       "│ <span style=\"color: #008000; text-decoration-color: #008000\">US    </span> │ <span style=\"color: #008000; text-decoration-color: #008000\">Plymouth Satellite       </span> │    <span style=\"color: #008080; text-decoration-color: #008080; font-weight: bold\">18.0</span> │\n",
       "│ <span style=\"color: #008000; text-decoration-color: #008000\">US    </span> │ <span style=\"color: #008000; text-decoration-color: #008000\">AMC Rebel SST            </span> │    <span style=\"color: #008080; text-decoration-color: #008080; font-weight: bold\">16.0</span> │\n",
       "│ <span style=\"color: #008000; text-decoration-color: #008000\">US    </span> │ <span style=\"color: #008000; text-decoration-color: #008000\">Ford Torino              </span> │    <span style=\"color: #008080; text-decoration-color: #008080; font-weight: bold\">17.0</span> │\n",
       "└────────┴───────────────────────────┴─────────┘\n",
       "</pre>\n"
      ],
      "text/plain": [
       "┏━━━━━━━━┳━━━━━━━━━━━━━━━━━━━━━━━━━━━┳━━━━━━━━━┓\n",
       "┃\u001b[1m \u001b[0m\u001b[1mOrigin\u001b[0m\u001b[1m \u001b[0m┃\u001b[1m \u001b[0m\u001b[1mCar\u001b[0m\u001b[1m                      \u001b[0m\u001b[1m \u001b[0m┃\u001b[1m \u001b[0m\u001b[1mMPG\u001b[0m\u001b[1m    \u001b[0m\u001b[1m \u001b[0m┃\n",
       "┡━━━━━━━━╇━━━━━━━━━━━━━━━━━━━━━━━━━━━╇━━━━━━━━━┩\n",
       "│ \u001b[2mstring\u001b[0m │ \u001b[2mstring\u001b[0m                    │ \u001b[2mfloat64\u001b[0m │\n",
       "├────────┼───────────────────────────┼─────────┤\n",
       "│ \u001b[32mUS    \u001b[0m │ \u001b[32mChevrolet Chevelle Malibu\u001b[0m │    \u001b[1;36m18.0\u001b[0m │\n",
       "│ \u001b[32mUS    \u001b[0m │ \u001b[32mBuick Skylark 320        \u001b[0m │    \u001b[1;36m15.0\u001b[0m │\n",
       "│ \u001b[32mUS    \u001b[0m │ \u001b[32mPlymouth Satellite       \u001b[0m │    \u001b[1;36m18.0\u001b[0m │\n",
       "│ \u001b[32mUS    \u001b[0m │ \u001b[32mAMC Rebel SST            \u001b[0m │    \u001b[1;36m16.0\u001b[0m │\n",
       "│ \u001b[32mUS    \u001b[0m │ \u001b[32mFord Torino              \u001b[0m │    \u001b[1;36m17.0\u001b[0m │\n",
       "└────────┴───────────────────────────┴─────────┘"
      ]
     },
     "execution_count": 7,
     "metadata": {},
     "output_type": "execute_result"
    }
   ],
   "source": [
    "cars['Origin','Car','MPG'].head()"
   ]
  },
  {
   "cell_type": "markdown",
   "id": "f2e3f0e9-9ae4-4d29-be78-d58a4503dd43",
   "metadata": {},
   "source": [
    "#### or use ibis `select()` method"
   ]
  },
  {
   "cell_type": "code",
   "execution_count": 8,
   "id": "72b28cc7-ce88-43b5-9fe7-05fb053f4e61",
   "metadata": {},
   "outputs": [
    {
     "data": {
      "text/html": [
       "<pre style=\"white-space:pre;overflow-x:auto;line-height:normal;font-family:Menlo,'DejaVu Sans Mono',consolas,'Courier New',monospace\">┏━━━━━━━━┳━━━━━━━━━━━━━━━━━━━━━━━━━━━┳━━━━━━━━━┓\n",
       "┃<span style=\"font-weight: bold\"> Origin </span>┃<span style=\"font-weight: bold\"> Car                       </span>┃<span style=\"font-weight: bold\"> MPG     </span>┃\n",
       "┡━━━━━━━━╇━━━━━━━━━━━━━━━━━━━━━━━━━━━╇━━━━━━━━━┩\n",
       "│ <span style=\"color: #7f7f7f; text-decoration-color: #7f7f7f\">string</span> │ <span style=\"color: #7f7f7f; text-decoration-color: #7f7f7f\">string</span>                    │ <span style=\"color: #7f7f7f; text-decoration-color: #7f7f7f\">float64</span> │\n",
       "├────────┼───────────────────────────┼─────────┤\n",
       "│ <span style=\"color: #008000; text-decoration-color: #008000\">US    </span> │ <span style=\"color: #008000; text-decoration-color: #008000\">Chevrolet Chevelle Malibu</span> │    <span style=\"color: #008080; text-decoration-color: #008080; font-weight: bold\">18.0</span> │\n",
       "│ <span style=\"color: #008000; text-decoration-color: #008000\">US    </span> │ <span style=\"color: #008000; text-decoration-color: #008000\">Buick Skylark 320        </span> │    <span style=\"color: #008080; text-decoration-color: #008080; font-weight: bold\">15.0</span> │\n",
       "│ <span style=\"color: #008000; text-decoration-color: #008000\">US    </span> │ <span style=\"color: #008000; text-decoration-color: #008000\">Plymouth Satellite       </span> │    <span style=\"color: #008080; text-decoration-color: #008080; font-weight: bold\">18.0</span> │\n",
       "│ <span style=\"color: #008000; text-decoration-color: #008000\">US    </span> │ <span style=\"color: #008000; text-decoration-color: #008000\">AMC Rebel SST            </span> │    <span style=\"color: #008080; text-decoration-color: #008080; font-weight: bold\">16.0</span> │\n",
       "│ <span style=\"color: #008000; text-decoration-color: #008000\">US    </span> │ <span style=\"color: #008000; text-decoration-color: #008000\">Ford Torino              </span> │    <span style=\"color: #008080; text-decoration-color: #008080; font-weight: bold\">17.0</span> │\n",
       "└────────┴───────────────────────────┴─────────┘\n",
       "</pre>\n"
      ],
      "text/plain": [
       "┏━━━━━━━━┳━━━━━━━━━━━━━━━━━━━━━━━━━━━┳━━━━━━━━━┓\n",
       "┃\u001b[1m \u001b[0m\u001b[1mOrigin\u001b[0m\u001b[1m \u001b[0m┃\u001b[1m \u001b[0m\u001b[1mCar\u001b[0m\u001b[1m                      \u001b[0m\u001b[1m \u001b[0m┃\u001b[1m \u001b[0m\u001b[1mMPG\u001b[0m\u001b[1m    \u001b[0m\u001b[1m \u001b[0m┃\n",
       "┡━━━━━━━━╇━━━━━━━━━━━━━━━━━━━━━━━━━━━╇━━━━━━━━━┩\n",
       "│ \u001b[2mstring\u001b[0m │ \u001b[2mstring\u001b[0m                    │ \u001b[2mfloat64\u001b[0m │\n",
       "├────────┼───────────────────────────┼─────────┤\n",
       "│ \u001b[32mUS    \u001b[0m │ \u001b[32mChevrolet Chevelle Malibu\u001b[0m │    \u001b[1;36m18.0\u001b[0m │\n",
       "│ \u001b[32mUS    \u001b[0m │ \u001b[32mBuick Skylark 320        \u001b[0m │    \u001b[1;36m15.0\u001b[0m │\n",
       "│ \u001b[32mUS    \u001b[0m │ \u001b[32mPlymouth Satellite       \u001b[0m │    \u001b[1;36m18.0\u001b[0m │\n",
       "│ \u001b[32mUS    \u001b[0m │ \u001b[32mAMC Rebel SST            \u001b[0m │    \u001b[1;36m16.0\u001b[0m │\n",
       "│ \u001b[32mUS    \u001b[0m │ \u001b[32mFord Torino              \u001b[0m │    \u001b[1;36m17.0\u001b[0m │\n",
       "└────────┴───────────────────────────┴─────────┘"
      ]
     },
     "execution_count": 8,
     "metadata": {},
     "output_type": "execute_result"
    }
   ],
   "source": [
    "cars.select('Origin', 'Car', 'MPG').head()"
   ]
  },
  {
   "cell_type": "markdown",
   "id": "ce57eb83-a7e9-43f4-9832-58b61286dd46",
   "metadata": {},
   "source": [
    "#### Select columns based on their data types"
   ]
  },
  {
   "cell_type": "code",
   "execution_count": 9,
   "id": "40a82cab-db51-40bc-bec7-f25add7e197d",
   "metadata": {
    "tags": []
   },
   "outputs": [
    {
     "data": {
      "text/html": [
       "<pre style=\"white-space:pre;overflow-x:auto;line-height:normal;font-family:Menlo,'DejaVu Sans Mono',consolas,'Courier New',monospace\">┏━━━━━━━━━┳━━━━━━━━━━━━━━┳━━━━━━━━━━━━┳━━━━━━━━━┳━━━━━━━━━━━━━━┓\n",
       "┃<span style=\"font-weight: bold\"> MPG     </span>┃<span style=\"font-weight: bold\"> Displacement </span>┃<span style=\"font-weight: bold\"> Horsepower </span>┃<span style=\"font-weight: bold\"> Weight  </span>┃<span style=\"font-weight: bold\"> Acceleration </span>┃\n",
       "┡━━━━━━━━━╇━━━━━━━━━━━━━━╇━━━━━━━━━━━━╇━━━━━━━━━╇━━━━━━━━━━━━━━┩\n",
       "│ <span style=\"color: #7f7f7f; text-decoration-color: #7f7f7f\">float64</span> │ <span style=\"color: #7f7f7f; text-decoration-color: #7f7f7f\">float64</span>      │ <span style=\"color: #7f7f7f; text-decoration-color: #7f7f7f\">float64</span>    │ <span style=\"color: #7f7f7f; text-decoration-color: #7f7f7f\">float64</span> │ <span style=\"color: #7f7f7f; text-decoration-color: #7f7f7f\">float64</span>      │\n",
       "├─────────┼──────────────┼────────────┼─────────┼──────────────┤\n",
       "│    <span style=\"color: #008080; text-decoration-color: #008080; font-weight: bold\">18.0</span> │        <span style=\"color: #008080; text-decoration-color: #008080; font-weight: bold\">307.0</span> │      <span style=\"color: #008080; text-decoration-color: #008080; font-weight: bold\">130.0</span> │  <span style=\"color: #008080; text-decoration-color: #008080; font-weight: bold\">3504.0</span> │         <span style=\"color: #008080; text-decoration-color: #008080; font-weight: bold\">12.0</span> │\n",
       "│    <span style=\"color: #008080; text-decoration-color: #008080; font-weight: bold\">15.0</span> │        <span style=\"color: #008080; text-decoration-color: #008080; font-weight: bold\">350.0</span> │      <span style=\"color: #008080; text-decoration-color: #008080; font-weight: bold\">165.0</span> │  <span style=\"color: #008080; text-decoration-color: #008080; font-weight: bold\">3693.0</span> │         <span style=\"color: #008080; text-decoration-color: #008080; font-weight: bold\">11.5</span> │\n",
       "│    <span style=\"color: #008080; text-decoration-color: #008080; font-weight: bold\">18.0</span> │        <span style=\"color: #008080; text-decoration-color: #008080; font-weight: bold\">318.0</span> │      <span style=\"color: #008080; text-decoration-color: #008080; font-weight: bold\">150.0</span> │  <span style=\"color: #008080; text-decoration-color: #008080; font-weight: bold\">3436.0</span> │         <span style=\"color: #008080; text-decoration-color: #008080; font-weight: bold\">11.0</span> │\n",
       "│    <span style=\"color: #008080; text-decoration-color: #008080; font-weight: bold\">16.0</span> │        <span style=\"color: #008080; text-decoration-color: #008080; font-weight: bold\">304.0</span> │      <span style=\"color: #008080; text-decoration-color: #008080; font-weight: bold\">150.0</span> │  <span style=\"color: #008080; text-decoration-color: #008080; font-weight: bold\">3433.0</span> │         <span style=\"color: #008080; text-decoration-color: #008080; font-weight: bold\">12.0</span> │\n",
       "│    <span style=\"color: #008080; text-decoration-color: #008080; font-weight: bold\">17.0</span> │        <span style=\"color: #008080; text-decoration-color: #008080; font-weight: bold\">302.0</span> │      <span style=\"color: #008080; text-decoration-color: #008080; font-weight: bold\">140.0</span> │  <span style=\"color: #008080; text-decoration-color: #008080; font-weight: bold\">3449.0</span> │         <span style=\"color: #008080; text-decoration-color: #008080; font-weight: bold\">10.5</span> │\n",
       "│    <span style=\"color: #008080; text-decoration-color: #008080; font-weight: bold\">15.0</span> │        <span style=\"color: #008080; text-decoration-color: #008080; font-weight: bold\">429.0</span> │      <span style=\"color: #008080; text-decoration-color: #008080; font-weight: bold\">198.0</span> │  <span style=\"color: #008080; text-decoration-color: #008080; font-weight: bold\">4341.0</span> │         <span style=\"color: #008080; text-decoration-color: #008080; font-weight: bold\">10.0</span> │\n",
       "│    <span style=\"color: #008080; text-decoration-color: #008080; font-weight: bold\">14.0</span> │        <span style=\"color: #008080; text-decoration-color: #008080; font-weight: bold\">454.0</span> │      <span style=\"color: #008080; text-decoration-color: #008080; font-weight: bold\">220.0</span> │  <span style=\"color: #008080; text-decoration-color: #008080; font-weight: bold\">4354.0</span> │          <span style=\"color: #008080; text-decoration-color: #008080; font-weight: bold\">9.0</span> │\n",
       "│    <span style=\"color: #008080; text-decoration-color: #008080; font-weight: bold\">14.0</span> │        <span style=\"color: #008080; text-decoration-color: #008080; font-weight: bold\">440.0</span> │      <span style=\"color: #008080; text-decoration-color: #008080; font-weight: bold\">215.0</span> │  <span style=\"color: #008080; text-decoration-color: #008080; font-weight: bold\">4312.0</span> │          <span style=\"color: #008080; text-decoration-color: #008080; font-weight: bold\">8.5</span> │\n",
       "│    <span style=\"color: #008080; text-decoration-color: #008080; font-weight: bold\">14.0</span> │        <span style=\"color: #008080; text-decoration-color: #008080; font-weight: bold\">455.0</span> │      <span style=\"color: #008080; text-decoration-color: #008080; font-weight: bold\">225.0</span> │  <span style=\"color: #008080; text-decoration-color: #008080; font-weight: bold\">4425.0</span> │         <span style=\"color: #008080; text-decoration-color: #008080; font-weight: bold\">10.0</span> │\n",
       "│    <span style=\"color: #008080; text-decoration-color: #008080; font-weight: bold\">15.0</span> │        <span style=\"color: #008080; text-decoration-color: #008080; font-weight: bold\">390.0</span> │      <span style=\"color: #008080; text-decoration-color: #008080; font-weight: bold\">190.0</span> │  <span style=\"color: #008080; text-decoration-color: #008080; font-weight: bold\">3850.0</span> │          <span style=\"color: #008080; text-decoration-color: #008080; font-weight: bold\">8.5</span> │\n",
       "│       <span style=\"color: #7f7f7f; text-decoration-color: #7f7f7f\">…</span> │            <span style=\"color: #7f7f7f; text-decoration-color: #7f7f7f\">…</span> │          <span style=\"color: #7f7f7f; text-decoration-color: #7f7f7f\">…</span> │       <span style=\"color: #7f7f7f; text-decoration-color: #7f7f7f\">…</span> │            <span style=\"color: #7f7f7f; text-decoration-color: #7f7f7f\">…</span> │\n",
       "└─────────┴──────────────┴────────────┴─────────┴──────────────┘\n",
       "</pre>\n"
      ],
      "text/plain": [
       "┏━━━━━━━━━┳━━━━━━━━━━━━━━┳━━━━━━━━━━━━┳━━━━━━━━━┳━━━━━━━━━━━━━━┓\n",
       "┃\u001b[1m \u001b[0m\u001b[1mMPG\u001b[0m\u001b[1m    \u001b[0m\u001b[1m \u001b[0m┃\u001b[1m \u001b[0m\u001b[1mDisplacement\u001b[0m\u001b[1m \u001b[0m┃\u001b[1m \u001b[0m\u001b[1mHorsepower\u001b[0m\u001b[1m \u001b[0m┃\u001b[1m \u001b[0m\u001b[1mWeight\u001b[0m\u001b[1m \u001b[0m\u001b[1m \u001b[0m┃\u001b[1m \u001b[0m\u001b[1mAcceleration\u001b[0m\u001b[1m \u001b[0m┃\n",
       "┡━━━━━━━━━╇━━━━━━━━━━━━━━╇━━━━━━━━━━━━╇━━━━━━━━━╇━━━━━━━━━━━━━━┩\n",
       "│ \u001b[2mfloat64\u001b[0m │ \u001b[2mfloat64\u001b[0m      │ \u001b[2mfloat64\u001b[0m    │ \u001b[2mfloat64\u001b[0m │ \u001b[2mfloat64\u001b[0m      │\n",
       "├─────────┼──────────────┼────────────┼─────────┼──────────────┤\n",
       "│    \u001b[1;36m18.0\u001b[0m │        \u001b[1;36m307.0\u001b[0m │      \u001b[1;36m130.0\u001b[0m │  \u001b[1;36m3504.0\u001b[0m │         \u001b[1;36m12.0\u001b[0m │\n",
       "│    \u001b[1;36m15.0\u001b[0m │        \u001b[1;36m350.0\u001b[0m │      \u001b[1;36m165.0\u001b[0m │  \u001b[1;36m3693.0\u001b[0m │         \u001b[1;36m11.5\u001b[0m │\n",
       "│    \u001b[1;36m18.0\u001b[0m │        \u001b[1;36m318.0\u001b[0m │      \u001b[1;36m150.0\u001b[0m │  \u001b[1;36m3436.0\u001b[0m │         \u001b[1;36m11.0\u001b[0m │\n",
       "│    \u001b[1;36m16.0\u001b[0m │        \u001b[1;36m304.0\u001b[0m │      \u001b[1;36m150.0\u001b[0m │  \u001b[1;36m3433.0\u001b[0m │         \u001b[1;36m12.0\u001b[0m │\n",
       "│    \u001b[1;36m17.0\u001b[0m │        \u001b[1;36m302.0\u001b[0m │      \u001b[1;36m140.0\u001b[0m │  \u001b[1;36m3449.0\u001b[0m │         \u001b[1;36m10.5\u001b[0m │\n",
       "│    \u001b[1;36m15.0\u001b[0m │        \u001b[1;36m429.0\u001b[0m │      \u001b[1;36m198.0\u001b[0m │  \u001b[1;36m4341.0\u001b[0m │         \u001b[1;36m10.0\u001b[0m │\n",
       "│    \u001b[1;36m14.0\u001b[0m │        \u001b[1;36m454.0\u001b[0m │      \u001b[1;36m220.0\u001b[0m │  \u001b[1;36m4354.0\u001b[0m │          \u001b[1;36m9.0\u001b[0m │\n",
       "│    \u001b[1;36m14.0\u001b[0m │        \u001b[1;36m440.0\u001b[0m │      \u001b[1;36m215.0\u001b[0m │  \u001b[1;36m4312.0\u001b[0m │          \u001b[1;36m8.5\u001b[0m │\n",
       "│    \u001b[1;36m14.0\u001b[0m │        \u001b[1;36m455.0\u001b[0m │      \u001b[1;36m225.0\u001b[0m │  \u001b[1;36m4425.0\u001b[0m │         \u001b[1;36m10.0\u001b[0m │\n",
       "│    \u001b[1;36m15.0\u001b[0m │        \u001b[1;36m390.0\u001b[0m │      \u001b[1;36m190.0\u001b[0m │  \u001b[1;36m3850.0\u001b[0m │          \u001b[1;36m8.5\u001b[0m │\n",
       "│       \u001b[2m…\u001b[0m │            \u001b[2m…\u001b[0m │          \u001b[2m…\u001b[0m │       \u001b[2m…\u001b[0m │            \u001b[2m…\u001b[0m │\n",
       "└─────────┴──────────────┴────────────┴─────────┴──────────────┘"
      ]
     },
     "execution_count": 9,
     "metadata": {},
     "output_type": "execute_result"
    }
   ],
   "source": [
    "from ibis import selectors as s\n",
    "cars.select(s.of_type('float64'))"
   ]
  },
  {
   "cell_type": "markdown",
   "id": "117686fb-457e-4c43-9891-24919b63a934",
   "metadata": {},
   "source": [
    "#### We can also use boolean logic OR using `|` to select columns with different column types"
   ]
  },
  {
   "cell_type": "code",
   "execution_count": 10,
   "id": "e7de397e-25ad-4e98-b54a-ab7acacbd37c",
   "metadata": {
    "tags": []
   },
   "outputs": [
    {
     "data": {
      "text/html": [
       "<pre style=\"white-space:pre;overflow-x:auto;line-height:normal;font-family:Menlo,'DejaVu Sans Mono',consolas,'Courier New',monospace\">┏━━━━━━━━━━━━━━━━━━━━━━━━━━━┳━━━━━━━━━━━┳━━━━━━━┳━━━━━━━━┓\n",
       "┃<span style=\"font-weight: bold\"> Car                       </span>┃<span style=\"font-weight: bold\"> Cylinders </span>┃<span style=\"font-weight: bold\"> Model </span>┃<span style=\"font-weight: bold\"> Origin </span>┃\n",
       "┡━━━━━━━━━━━━━━━━━━━━━━━━━━━╇━━━━━━━━━━━╇━━━━━━━╇━━━━━━━━┩\n",
       "│ <span style=\"color: #7f7f7f; text-decoration-color: #7f7f7f\">string</span>                    │ <span style=\"color: #7f7f7f; text-decoration-color: #7f7f7f\">int64</span>     │ <span style=\"color: #7f7f7f; text-decoration-color: #7f7f7f\">int64</span> │ <span style=\"color: #7f7f7f; text-decoration-color: #7f7f7f\">string</span> │\n",
       "├───────────────────────────┼───────────┼───────┼────────┤\n",
       "│ <span style=\"color: #008000; text-decoration-color: #008000\">Chevrolet Chevelle Malibu</span> │         <span style=\"color: #008080; text-decoration-color: #008080; font-weight: bold\">8</span> │    <span style=\"color: #008080; text-decoration-color: #008080; font-weight: bold\">70</span> │ <span style=\"color: #008000; text-decoration-color: #008000\">US    </span> │\n",
       "│ <span style=\"color: #008000; text-decoration-color: #008000\">Buick Skylark 320        </span> │         <span style=\"color: #008080; text-decoration-color: #008080; font-weight: bold\">8</span> │    <span style=\"color: #008080; text-decoration-color: #008080; font-weight: bold\">70</span> │ <span style=\"color: #008000; text-decoration-color: #008000\">US    </span> │\n",
       "│ <span style=\"color: #008000; text-decoration-color: #008000\">Plymouth Satellite       </span> │         <span style=\"color: #008080; text-decoration-color: #008080; font-weight: bold\">8</span> │    <span style=\"color: #008080; text-decoration-color: #008080; font-weight: bold\">70</span> │ <span style=\"color: #008000; text-decoration-color: #008000\">US    </span> │\n",
       "│ <span style=\"color: #008000; text-decoration-color: #008000\">AMC Rebel SST            </span> │         <span style=\"color: #008080; text-decoration-color: #008080; font-weight: bold\">8</span> │    <span style=\"color: #008080; text-decoration-color: #008080; font-weight: bold\">70</span> │ <span style=\"color: #008000; text-decoration-color: #008000\">US    </span> │\n",
       "│ <span style=\"color: #008000; text-decoration-color: #008000\">Ford Torino              </span> │         <span style=\"color: #008080; text-decoration-color: #008080; font-weight: bold\">8</span> │    <span style=\"color: #008080; text-decoration-color: #008080; font-weight: bold\">70</span> │ <span style=\"color: #008000; text-decoration-color: #008000\">US    </span> │\n",
       "│ <span style=\"color: #008000; text-decoration-color: #008000\">Ford Galaxie 500         </span> │         <span style=\"color: #008080; text-decoration-color: #008080; font-weight: bold\">8</span> │    <span style=\"color: #008080; text-decoration-color: #008080; font-weight: bold\">70</span> │ <span style=\"color: #008000; text-decoration-color: #008000\">US    </span> │\n",
       "│ <span style=\"color: #008000; text-decoration-color: #008000\">Chevrolet Impala         </span> │         <span style=\"color: #008080; text-decoration-color: #008080; font-weight: bold\">8</span> │    <span style=\"color: #008080; text-decoration-color: #008080; font-weight: bold\">70</span> │ <span style=\"color: #008000; text-decoration-color: #008000\">US    </span> │\n",
       "│ <span style=\"color: #008000; text-decoration-color: #008000\">Plymouth Fury iii        </span> │         <span style=\"color: #008080; text-decoration-color: #008080; font-weight: bold\">8</span> │    <span style=\"color: #008080; text-decoration-color: #008080; font-weight: bold\">70</span> │ <span style=\"color: #008000; text-decoration-color: #008000\">US    </span> │\n",
       "│ <span style=\"color: #008000; text-decoration-color: #008000\">Pontiac Catalina         </span> │         <span style=\"color: #008080; text-decoration-color: #008080; font-weight: bold\">8</span> │    <span style=\"color: #008080; text-decoration-color: #008080; font-weight: bold\">70</span> │ <span style=\"color: #008000; text-decoration-color: #008000\">US    </span> │\n",
       "│ <span style=\"color: #008000; text-decoration-color: #008000\">AMC Ambassador DPL       </span> │         <span style=\"color: #008080; text-decoration-color: #008080; font-weight: bold\">8</span> │    <span style=\"color: #008080; text-decoration-color: #008080; font-weight: bold\">70</span> │ <span style=\"color: #008000; text-decoration-color: #008000\">US    </span> │\n",
       "│ <span style=\"color: #7f7f7f; text-decoration-color: #7f7f7f\">…</span>                         │         <span style=\"color: #7f7f7f; text-decoration-color: #7f7f7f\">…</span> │     <span style=\"color: #7f7f7f; text-decoration-color: #7f7f7f\">…</span> │ <span style=\"color: #7f7f7f; text-decoration-color: #7f7f7f\">…</span>      │\n",
       "└───────────────────────────┴───────────┴───────┴────────┘\n",
       "</pre>\n"
      ],
      "text/plain": [
       "┏━━━━━━━━━━━━━━━━━━━━━━━━━━━┳━━━━━━━━━━━┳━━━━━━━┳━━━━━━━━┓\n",
       "┃\u001b[1m \u001b[0m\u001b[1mCar\u001b[0m\u001b[1m                      \u001b[0m\u001b[1m \u001b[0m┃\u001b[1m \u001b[0m\u001b[1mCylinders\u001b[0m\u001b[1m \u001b[0m┃\u001b[1m \u001b[0m\u001b[1mModel\u001b[0m\u001b[1m \u001b[0m┃\u001b[1m \u001b[0m\u001b[1mOrigin\u001b[0m\u001b[1m \u001b[0m┃\n",
       "┡━━━━━━━━━━━━━━━━━━━━━━━━━━━╇━━━━━━━━━━━╇━━━━━━━╇━━━━━━━━┩\n",
       "│ \u001b[2mstring\u001b[0m                    │ \u001b[2mint64\u001b[0m     │ \u001b[2mint64\u001b[0m │ \u001b[2mstring\u001b[0m │\n",
       "├───────────────────────────┼───────────┼───────┼────────┤\n",
       "│ \u001b[32mChevrolet Chevelle Malibu\u001b[0m │         \u001b[1;36m8\u001b[0m │    \u001b[1;36m70\u001b[0m │ \u001b[32mUS    \u001b[0m │\n",
       "│ \u001b[32mBuick Skylark 320        \u001b[0m │         \u001b[1;36m8\u001b[0m │    \u001b[1;36m70\u001b[0m │ \u001b[32mUS    \u001b[0m │\n",
       "│ \u001b[32mPlymouth Satellite       \u001b[0m │         \u001b[1;36m8\u001b[0m │    \u001b[1;36m70\u001b[0m │ \u001b[32mUS    \u001b[0m │\n",
       "│ \u001b[32mAMC Rebel SST            \u001b[0m │         \u001b[1;36m8\u001b[0m │    \u001b[1;36m70\u001b[0m │ \u001b[32mUS    \u001b[0m │\n",
       "│ \u001b[32mFord Torino              \u001b[0m │         \u001b[1;36m8\u001b[0m │    \u001b[1;36m70\u001b[0m │ \u001b[32mUS    \u001b[0m │\n",
       "│ \u001b[32mFord Galaxie 500         \u001b[0m │         \u001b[1;36m8\u001b[0m │    \u001b[1;36m70\u001b[0m │ \u001b[32mUS    \u001b[0m │\n",
       "│ \u001b[32mChevrolet Impala         \u001b[0m │         \u001b[1;36m8\u001b[0m │    \u001b[1;36m70\u001b[0m │ \u001b[32mUS    \u001b[0m │\n",
       "│ \u001b[32mPlymouth Fury iii        \u001b[0m │         \u001b[1;36m8\u001b[0m │    \u001b[1;36m70\u001b[0m │ \u001b[32mUS    \u001b[0m │\n",
       "│ \u001b[32mPontiac Catalina         \u001b[0m │         \u001b[1;36m8\u001b[0m │    \u001b[1;36m70\u001b[0m │ \u001b[32mUS    \u001b[0m │\n",
       "│ \u001b[32mAMC Ambassador DPL       \u001b[0m │         \u001b[1;36m8\u001b[0m │    \u001b[1;36m70\u001b[0m │ \u001b[32mUS    \u001b[0m │\n",
       "│ \u001b[2m…\u001b[0m                         │         \u001b[2m…\u001b[0m │     \u001b[2m…\u001b[0m │ \u001b[2m…\u001b[0m      │\n",
       "└───────────────────────────┴───────────┴───────┴────────┘"
      ]
     },
     "execution_count": 10,
     "metadata": {},
     "output_type": "execute_result"
    }
   ],
   "source": [
    "cars.select(s.of_type('string') | s.of_type('int64'))"
   ]
  },
  {
   "cell_type": "markdown",
   "id": "b9fb5e1d-5d5f-41c1-921a-f0584379b155",
   "metadata": {},
   "source": [
    "<a id=\"split\">"
   ]
  },
  {
   "cell_type": "markdown",
   "id": "0143bea2-dfb7-4453-9c2a-2911ecac54da",
   "metadata": {},
   "source": [
    "## Creating new column based on value from another column using mutate and split() combination"
   ]
  },
  {
   "cell_type": "markdown",
   "id": "531fcc74-0b38-45b3-92f3-fc4b591253af",
   "metadata": {},
   "source": [
    "[[back to top]](#back_to_top)"
   ]
  },
  {
   "cell_type": "markdown",
   "id": "e27f66db-9237-4638-b9a4-9b973f6e0e65",
   "metadata": {},
   "source": [
    "The `Car` column happens to contain both the car's make and model names.  If we want the make, it looks like we just need to extract the first string token after the splitting the string value in the `Car` column based on a single white space.  The model name is the 2nd token.  We will use array index of zero/0 to obtain the make and index of 1 to obtain the model name."
   ]
  },
  {
   "cell_type": "code",
   "execution_count": 11,
   "id": "9807c034-898c-42bd-b8c1-8064f98e6736",
   "metadata": {
    "tags": []
   },
   "outputs": [],
   "source": [
    "cars = cars.mutate(Make=cars.Car.split(' ')[0])\n",
    "cars = cars.mutate(ModelName=cars.Car.split(' ')[1])"
   ]
  },
  {
   "cell_type": "code",
   "execution_count": 12,
   "id": "0860794d-118b-4033-8c47-daac13e3861f",
   "metadata": {
    "tags": []
   },
   "outputs": [
    {
     "data": {
      "text/html": [
       "<pre style=\"white-space:pre;overflow-x:auto;line-height:normal;font-family:Menlo,'DejaVu Sans Mono',consolas,'Courier New',monospace\">┏━━━━━━━━━━━━━━━━━━━━━━━━━━━┳━━━━━━━━━┳━━━━━━━━━━━┳━━━━━━━━━━━━━━┳━━━━━━━━━━━━┳━━━━━━━━━┳━━━━━━━━━━━━━━┳━━━━━━━┳━━━━━━━━┳━━━━━━━━━━━┳━━━━━━━━━━━┓\n",
       "┃<span style=\"font-weight: bold\"> Car                       </span>┃<span style=\"font-weight: bold\"> MPG     </span>┃<span style=\"font-weight: bold\"> Cylinders </span>┃<span style=\"font-weight: bold\"> Displacement </span>┃<span style=\"font-weight: bold\"> Horsepower </span>┃<span style=\"font-weight: bold\"> Weight  </span>┃<span style=\"font-weight: bold\"> Acceleration </span>┃<span style=\"font-weight: bold\"> Model </span>┃<span style=\"font-weight: bold\"> Origin </span>┃<span style=\"font-weight: bold\"> Make      </span>┃<span style=\"font-weight: bold\"> ModelName </span>┃\n",
       "┡━━━━━━━━━━━━━━━━━━━━━━━━━━━╇━━━━━━━━━╇━━━━━━━━━━━╇━━━━━━━━━━━━━━╇━━━━━━━━━━━━╇━━━━━━━━━╇━━━━━━━━━━━━━━╇━━━━━━━╇━━━━━━━━╇━━━━━━━━━━━╇━━━━━━━━━━━┩\n",
       "│ <span style=\"color: #7f7f7f; text-decoration-color: #7f7f7f\">string</span>                    │ <span style=\"color: #7f7f7f; text-decoration-color: #7f7f7f\">float64</span> │ <span style=\"color: #7f7f7f; text-decoration-color: #7f7f7f\">int64</span>     │ <span style=\"color: #7f7f7f; text-decoration-color: #7f7f7f\">float64</span>      │ <span style=\"color: #7f7f7f; text-decoration-color: #7f7f7f\">float64</span>    │ <span style=\"color: #7f7f7f; text-decoration-color: #7f7f7f\">float64</span> │ <span style=\"color: #7f7f7f; text-decoration-color: #7f7f7f\">float64</span>      │ <span style=\"color: #7f7f7f; text-decoration-color: #7f7f7f\">int64</span> │ <span style=\"color: #7f7f7f; text-decoration-color: #7f7f7f\">string</span> │ <span style=\"color: #7f7f7f; text-decoration-color: #7f7f7f\">string</span>    │ <span style=\"color: #7f7f7f; text-decoration-color: #7f7f7f\">string</span>    │\n",
       "├───────────────────────────┼─────────┼───────────┼──────────────┼────────────┼─────────┼──────────────┼───────┼────────┼───────────┼───────────┤\n",
       "│ <span style=\"color: #008000; text-decoration-color: #008000\">Chevrolet Chevelle Malibu</span> │    <span style=\"color: #008080; text-decoration-color: #008080; font-weight: bold\">18.0</span> │         <span style=\"color: #008080; text-decoration-color: #008080; font-weight: bold\">8</span> │        <span style=\"color: #008080; text-decoration-color: #008080; font-weight: bold\">307.0</span> │      <span style=\"color: #008080; text-decoration-color: #008080; font-weight: bold\">130.0</span> │  <span style=\"color: #008080; text-decoration-color: #008080; font-weight: bold\">3504.0</span> │         <span style=\"color: #008080; text-decoration-color: #008080; font-weight: bold\">12.0</span> │    <span style=\"color: #008080; text-decoration-color: #008080; font-weight: bold\">70</span> │ <span style=\"color: #008000; text-decoration-color: #008000\">US    </span> │ <span style=\"color: #008000; text-decoration-color: #008000\">Chevrolet</span> │ <span style=\"color: #008000; text-decoration-color: #008000\">Chevelle </span> │\n",
       "│ <span style=\"color: #008000; text-decoration-color: #008000\">Buick Skylark 320        </span> │    <span style=\"color: #008080; text-decoration-color: #008080; font-weight: bold\">15.0</span> │         <span style=\"color: #008080; text-decoration-color: #008080; font-weight: bold\">8</span> │        <span style=\"color: #008080; text-decoration-color: #008080; font-weight: bold\">350.0</span> │      <span style=\"color: #008080; text-decoration-color: #008080; font-weight: bold\">165.0</span> │  <span style=\"color: #008080; text-decoration-color: #008080; font-weight: bold\">3693.0</span> │         <span style=\"color: #008080; text-decoration-color: #008080; font-weight: bold\">11.5</span> │    <span style=\"color: #008080; text-decoration-color: #008080; font-weight: bold\">70</span> │ <span style=\"color: #008000; text-decoration-color: #008000\">US    </span> │ <span style=\"color: #008000; text-decoration-color: #008000\">Buick    </span> │ <span style=\"color: #008000; text-decoration-color: #008000\">Skylark  </span> │\n",
       "│ <span style=\"color: #008000; text-decoration-color: #008000\">Plymouth Satellite       </span> │    <span style=\"color: #008080; text-decoration-color: #008080; font-weight: bold\">18.0</span> │         <span style=\"color: #008080; text-decoration-color: #008080; font-weight: bold\">8</span> │        <span style=\"color: #008080; text-decoration-color: #008080; font-weight: bold\">318.0</span> │      <span style=\"color: #008080; text-decoration-color: #008080; font-weight: bold\">150.0</span> │  <span style=\"color: #008080; text-decoration-color: #008080; font-weight: bold\">3436.0</span> │         <span style=\"color: #008080; text-decoration-color: #008080; font-weight: bold\">11.0</span> │    <span style=\"color: #008080; text-decoration-color: #008080; font-weight: bold\">70</span> │ <span style=\"color: #008000; text-decoration-color: #008000\">US    </span> │ <span style=\"color: #008000; text-decoration-color: #008000\">Plymouth </span> │ <span style=\"color: #008000; text-decoration-color: #008000\">Satellite</span> │\n",
       "│ <span style=\"color: #008000; text-decoration-color: #008000\">AMC Rebel SST            </span> │    <span style=\"color: #008080; text-decoration-color: #008080; font-weight: bold\">16.0</span> │         <span style=\"color: #008080; text-decoration-color: #008080; font-weight: bold\">8</span> │        <span style=\"color: #008080; text-decoration-color: #008080; font-weight: bold\">304.0</span> │      <span style=\"color: #008080; text-decoration-color: #008080; font-weight: bold\">150.0</span> │  <span style=\"color: #008080; text-decoration-color: #008080; font-weight: bold\">3433.0</span> │         <span style=\"color: #008080; text-decoration-color: #008080; font-weight: bold\">12.0</span> │    <span style=\"color: #008080; text-decoration-color: #008080; font-weight: bold\">70</span> │ <span style=\"color: #008000; text-decoration-color: #008000\">US    </span> │ <span style=\"color: #008000; text-decoration-color: #008000\">AMC      </span> │ <span style=\"color: #008000; text-decoration-color: #008000\">Rebel    </span> │\n",
       "│ <span style=\"color: #008000; text-decoration-color: #008000\">Ford Torino              </span> │    <span style=\"color: #008080; text-decoration-color: #008080; font-weight: bold\">17.0</span> │         <span style=\"color: #008080; text-decoration-color: #008080; font-weight: bold\">8</span> │        <span style=\"color: #008080; text-decoration-color: #008080; font-weight: bold\">302.0</span> │      <span style=\"color: #008080; text-decoration-color: #008080; font-weight: bold\">140.0</span> │  <span style=\"color: #008080; text-decoration-color: #008080; font-weight: bold\">3449.0</span> │         <span style=\"color: #008080; text-decoration-color: #008080; font-weight: bold\">10.5</span> │    <span style=\"color: #008080; text-decoration-color: #008080; font-weight: bold\">70</span> │ <span style=\"color: #008000; text-decoration-color: #008000\">US    </span> │ <span style=\"color: #008000; text-decoration-color: #008000\">Ford     </span> │ <span style=\"color: #008000; text-decoration-color: #008000\">Torino   </span> │\n",
       "└───────────────────────────┴─────────┴───────────┴──────────────┴────────────┴─────────┴──────────────┴───────┴────────┴───────────┴───────────┘\n",
       "</pre>\n"
      ],
      "text/plain": [
       "┏━━━━━━━━━━━━━━━━━━━━━━━━━━━┳━━━━━━━━━┳━━━━━━━━━━━┳━━━━━━━━━━━━━━┳━━━━━━━━━━━━┳━━━━━━━━━┳━━━━━━━━━━━━━━┳━━━━━━━┳━━━━━━━━┳━━━━━━━━━━━┳━━━━━━━━━━━┓\n",
       "┃\u001b[1m \u001b[0m\u001b[1mCar\u001b[0m\u001b[1m                      \u001b[0m\u001b[1m \u001b[0m┃\u001b[1m \u001b[0m\u001b[1mMPG\u001b[0m\u001b[1m    \u001b[0m\u001b[1m \u001b[0m┃\u001b[1m \u001b[0m\u001b[1mCylinders\u001b[0m\u001b[1m \u001b[0m┃\u001b[1m \u001b[0m\u001b[1mDisplacement\u001b[0m\u001b[1m \u001b[0m┃\u001b[1m \u001b[0m\u001b[1mHorsepower\u001b[0m\u001b[1m \u001b[0m┃\u001b[1m \u001b[0m\u001b[1mWeight\u001b[0m\u001b[1m \u001b[0m\u001b[1m \u001b[0m┃\u001b[1m \u001b[0m\u001b[1mAcceleration\u001b[0m\u001b[1m \u001b[0m┃\u001b[1m \u001b[0m\u001b[1mModel\u001b[0m\u001b[1m \u001b[0m┃\u001b[1m \u001b[0m\u001b[1mOrigin\u001b[0m\u001b[1m \u001b[0m┃\u001b[1m \u001b[0m\u001b[1mMake\u001b[0m\u001b[1m     \u001b[0m\u001b[1m \u001b[0m┃\u001b[1m \u001b[0m\u001b[1mModelName\u001b[0m\u001b[1m \u001b[0m┃\n",
       "┡━━━━━━━━━━━━━━━━━━━━━━━━━━━╇━━━━━━━━━╇━━━━━━━━━━━╇━━━━━━━━━━━━━━╇━━━━━━━━━━━━╇━━━━━━━━━╇━━━━━━━━━━━━━━╇━━━━━━━╇━━━━━━━━╇━━━━━━━━━━━╇━━━━━━━━━━━┩\n",
       "│ \u001b[2mstring\u001b[0m                    │ \u001b[2mfloat64\u001b[0m │ \u001b[2mint64\u001b[0m     │ \u001b[2mfloat64\u001b[0m      │ \u001b[2mfloat64\u001b[0m    │ \u001b[2mfloat64\u001b[0m │ \u001b[2mfloat64\u001b[0m      │ \u001b[2mint64\u001b[0m │ \u001b[2mstring\u001b[0m │ \u001b[2mstring\u001b[0m    │ \u001b[2mstring\u001b[0m    │\n",
       "├───────────────────────────┼─────────┼───────────┼──────────────┼────────────┼─────────┼──────────────┼───────┼────────┼───────────┼───────────┤\n",
       "│ \u001b[32mChevrolet Chevelle Malibu\u001b[0m │    \u001b[1;36m18.0\u001b[0m │         \u001b[1;36m8\u001b[0m │        \u001b[1;36m307.0\u001b[0m │      \u001b[1;36m130.0\u001b[0m │  \u001b[1;36m3504.0\u001b[0m │         \u001b[1;36m12.0\u001b[0m │    \u001b[1;36m70\u001b[0m │ \u001b[32mUS    \u001b[0m │ \u001b[32mChevrolet\u001b[0m │ \u001b[32mChevelle \u001b[0m │\n",
       "│ \u001b[32mBuick Skylark 320        \u001b[0m │    \u001b[1;36m15.0\u001b[0m │         \u001b[1;36m8\u001b[0m │        \u001b[1;36m350.0\u001b[0m │      \u001b[1;36m165.0\u001b[0m │  \u001b[1;36m3693.0\u001b[0m │         \u001b[1;36m11.5\u001b[0m │    \u001b[1;36m70\u001b[0m │ \u001b[32mUS    \u001b[0m │ \u001b[32mBuick    \u001b[0m │ \u001b[32mSkylark  \u001b[0m │\n",
       "│ \u001b[32mPlymouth Satellite       \u001b[0m │    \u001b[1;36m18.0\u001b[0m │         \u001b[1;36m8\u001b[0m │        \u001b[1;36m318.0\u001b[0m │      \u001b[1;36m150.0\u001b[0m │  \u001b[1;36m3436.0\u001b[0m │         \u001b[1;36m11.0\u001b[0m │    \u001b[1;36m70\u001b[0m │ \u001b[32mUS    \u001b[0m │ \u001b[32mPlymouth \u001b[0m │ \u001b[32mSatellite\u001b[0m │\n",
       "│ \u001b[32mAMC Rebel SST            \u001b[0m │    \u001b[1;36m16.0\u001b[0m │         \u001b[1;36m8\u001b[0m │        \u001b[1;36m304.0\u001b[0m │      \u001b[1;36m150.0\u001b[0m │  \u001b[1;36m3433.0\u001b[0m │         \u001b[1;36m12.0\u001b[0m │    \u001b[1;36m70\u001b[0m │ \u001b[32mUS    \u001b[0m │ \u001b[32mAMC      \u001b[0m │ \u001b[32mRebel    \u001b[0m │\n",
       "│ \u001b[32mFord Torino              \u001b[0m │    \u001b[1;36m17.0\u001b[0m │         \u001b[1;36m8\u001b[0m │        \u001b[1;36m302.0\u001b[0m │      \u001b[1;36m140.0\u001b[0m │  \u001b[1;36m3449.0\u001b[0m │         \u001b[1;36m10.5\u001b[0m │    \u001b[1;36m70\u001b[0m │ \u001b[32mUS    \u001b[0m │ \u001b[32mFord     \u001b[0m │ \u001b[32mTorino   \u001b[0m │\n",
       "└───────────────────────────┴─────────┴───────────┴──────────────┴────────────┴─────────┴──────────────┴───────┴────────┴───────────┴───────────┘"
      ]
     },
     "execution_count": 12,
     "metadata": {},
     "output_type": "execute_result"
    }
   ],
   "source": [
    "cars.head()"
   ]
  },
  {
   "cell_type": "markdown",
   "id": "29cf9e41-9437-4cba-96af-6db0c898c6aa",
   "metadata": {},
   "source": [
    "<a id=\"case\">"
   ]
  },
  {
   "cell_type": "markdown",
   "id": "3ac4f01a-4853-421b-9334-98cc02652fd7",
   "metadata": {},
   "source": [
    "## Creating new column using CASE statements"
   ]
  },
  {
   "cell_type": "markdown",
   "id": "7a0cac70-33e1-46bc-9660-562c49ebe633",
   "metadata": {},
   "source": [
    "[[back to top]](#back_to_top)"
   ]
  },
  {
   "cell_type": "code",
   "execution_count": 13,
   "id": "fba99bc8-9e21-46ee-8604-64b4783127ff",
   "metadata": {
    "tags": []
   },
   "outputs": [],
   "source": [
    "foods = client.read_csv('./data/food.csv')"
   ]
  },
  {
   "cell_type": "code",
   "execution_count": 14,
   "id": "c1a66ff6-7062-4ab5-a5a5-a9b86b3d4b0d",
   "metadata": {
    "tags": []
   },
   "outputs": [
    {
     "data": {
      "text/html": [
       "<pre style=\"white-space:pre;overflow-x:auto;line-height:normal;font-family:Menlo,'DejaVu Sans Mono',consolas,'Courier New',monospace\">┏━━━━━━━━━━━━━┳━━━━━━━━━┓\n",
       "┃<span style=\"font-weight: bold\"> food        </span>┃<span style=\"font-weight: bold\"> ounces  </span>┃\n",
       "┡━━━━━━━━━━━━━╇━━━━━━━━━┩\n",
       "│ <span style=\"color: #7f7f7f; text-decoration-color: #7f7f7f\">string</span>      │ <span style=\"color: #7f7f7f; text-decoration-color: #7f7f7f\">float64</span> │\n",
       "├─────────────┼─────────┤\n",
       "│ <span style=\"color: #008000; text-decoration-color: #008000\">bacon      </span> │     <span style=\"color: #008080; text-decoration-color: #008080; font-weight: bold\">4.0</span> │\n",
       "│ <span style=\"color: #008000; text-decoration-color: #008000\">pulled pork</span> │     <span style=\"color: #008080; text-decoration-color: #008080; font-weight: bold\">3.0</span> │\n",
       "│ <span style=\"color: #008000; text-decoration-color: #008000\">bacon      </span> │    <span style=\"color: #008080; text-decoration-color: #008080; font-weight: bold\">12.0</span> │\n",
       "│ <span style=\"color: #008000; text-decoration-color: #008000\">pastrami   </span> │     <span style=\"color: #008080; text-decoration-color: #008080; font-weight: bold\">6.0</span> │\n",
       "│ <span style=\"color: #008000; text-decoration-color: #008000\">corned beef</span> │     <span style=\"color: #008080; text-decoration-color: #008080; font-weight: bold\">7.5</span> │\n",
       "│ <span style=\"color: #008000; text-decoration-color: #008000\">bacon      </span> │     <span style=\"color: #008080; text-decoration-color: #008080; font-weight: bold\">8.0</span> │\n",
       "│ <span style=\"color: #008000; text-decoration-color: #008000\">pastrami   </span> │     <span style=\"color: #008080; text-decoration-color: #008080; font-weight: bold\">3.0</span> │\n",
       "│ <span style=\"color: #008000; text-decoration-color: #008000\">honey ham  </span> │     <span style=\"color: #008080; text-decoration-color: #008080; font-weight: bold\">5.0</span> │\n",
       "│ <span style=\"color: #008000; text-decoration-color: #008000\">nova lox   </span> │     <span style=\"color: #008080; text-decoration-color: #008080; font-weight: bold\">6.0</span> │\n",
       "└─────────────┴─────────┘\n",
       "</pre>\n"
      ],
      "text/plain": [
       "┏━━━━━━━━━━━━━┳━━━━━━━━━┓\n",
       "┃\u001b[1m \u001b[0m\u001b[1mfood\u001b[0m\u001b[1m       \u001b[0m\u001b[1m \u001b[0m┃\u001b[1m \u001b[0m\u001b[1mounces\u001b[0m\u001b[1m \u001b[0m\u001b[1m \u001b[0m┃\n",
       "┡━━━━━━━━━━━━━╇━━━━━━━━━┩\n",
       "│ \u001b[2mstring\u001b[0m      │ \u001b[2mfloat64\u001b[0m │\n",
       "├─────────────┼─────────┤\n",
       "│ \u001b[32mbacon      \u001b[0m │     \u001b[1;36m4.0\u001b[0m │\n",
       "│ \u001b[32mpulled pork\u001b[0m │     \u001b[1;36m3.0\u001b[0m │\n",
       "│ \u001b[32mbacon      \u001b[0m │    \u001b[1;36m12.0\u001b[0m │\n",
       "│ \u001b[32mpastrami   \u001b[0m │     \u001b[1;36m6.0\u001b[0m │\n",
       "│ \u001b[32mcorned beef\u001b[0m │     \u001b[1;36m7.5\u001b[0m │\n",
       "│ \u001b[32mbacon      \u001b[0m │     \u001b[1;36m8.0\u001b[0m │\n",
       "│ \u001b[32mpastrami   \u001b[0m │     \u001b[1;36m3.0\u001b[0m │\n",
       "│ \u001b[32mhoney ham  \u001b[0m │     \u001b[1;36m5.0\u001b[0m │\n",
       "│ \u001b[32mnova lox   \u001b[0m │     \u001b[1;36m6.0\u001b[0m │\n",
       "└─────────────┴─────────┘"
      ]
     },
     "execution_count": 14,
     "metadata": {},
     "output_type": "execute_result"
    }
   ],
   "source": [
    "foods"
   ]
  },
  {
   "cell_type": "code",
   "execution_count": 15,
   "id": "03d5fed7-391d-4e61-a024-40a4a0545359",
   "metadata": {
    "tags": []
   },
   "outputs": [],
   "source": [
    "case = (\n",
    "    foods.food\n",
    "    .case()\n",
    "    .when('bacon', 'pig')\n",
    "    .when('pulled pork', 'pig')\n",
    "    .when('pastrami', 'cow')\n",
    "    .when('corned beef', 'cow')\n",
    "    .when('honey ham', 'pig')\n",
    "    .else_('salmon')\n",
    "    .end()\n",
    ")\n",
    "\n",
    "foods = foods.mutate(animal=case)"
   ]
  },
  {
   "cell_type": "code",
   "execution_count": 16,
   "id": "a4e3a561-e41e-4665-b226-c414a4472854",
   "metadata": {
    "tags": []
   },
   "outputs": [
    {
     "data": {
      "text/html": [
       "<pre style=\"white-space:pre;overflow-x:auto;line-height:normal;font-family:Menlo,'DejaVu Sans Mono',consolas,'Courier New',monospace\">┏━━━━━━━━━━━━━┳━━━━━━━━━┳━━━━━━━━┓\n",
       "┃<span style=\"font-weight: bold\"> food        </span>┃<span style=\"font-weight: bold\"> ounces  </span>┃<span style=\"font-weight: bold\"> animal </span>┃\n",
       "┡━━━━━━━━━━━━━╇━━━━━━━━━╇━━━━━━━━┩\n",
       "│ <span style=\"color: #7f7f7f; text-decoration-color: #7f7f7f\">string</span>      │ <span style=\"color: #7f7f7f; text-decoration-color: #7f7f7f\">float64</span> │ <span style=\"color: #7f7f7f; text-decoration-color: #7f7f7f\">string</span> │\n",
       "├─────────────┼─────────┼────────┤\n",
       "│ <span style=\"color: #008000; text-decoration-color: #008000\">bacon      </span> │     <span style=\"color: #008080; text-decoration-color: #008080; font-weight: bold\">4.0</span> │ <span style=\"color: #008000; text-decoration-color: #008000\">pig   </span> │\n",
       "│ <span style=\"color: #008000; text-decoration-color: #008000\">pulled pork</span> │     <span style=\"color: #008080; text-decoration-color: #008080; font-weight: bold\">3.0</span> │ <span style=\"color: #008000; text-decoration-color: #008000\">pig   </span> │\n",
       "│ <span style=\"color: #008000; text-decoration-color: #008000\">bacon      </span> │    <span style=\"color: #008080; text-decoration-color: #008080; font-weight: bold\">12.0</span> │ <span style=\"color: #008000; text-decoration-color: #008000\">pig   </span> │\n",
       "│ <span style=\"color: #008000; text-decoration-color: #008000\">pastrami   </span> │     <span style=\"color: #008080; text-decoration-color: #008080; font-weight: bold\">6.0</span> │ <span style=\"color: #008000; text-decoration-color: #008000\">cow   </span> │\n",
       "│ <span style=\"color: #008000; text-decoration-color: #008000\">corned beef</span> │     <span style=\"color: #008080; text-decoration-color: #008080; font-weight: bold\">7.5</span> │ <span style=\"color: #008000; text-decoration-color: #008000\">cow   </span> │\n",
       "│ <span style=\"color: #008000; text-decoration-color: #008000\">bacon      </span> │     <span style=\"color: #008080; text-decoration-color: #008080; font-weight: bold\">8.0</span> │ <span style=\"color: #008000; text-decoration-color: #008000\">pig   </span> │\n",
       "│ <span style=\"color: #008000; text-decoration-color: #008000\">pastrami   </span> │     <span style=\"color: #008080; text-decoration-color: #008080; font-weight: bold\">3.0</span> │ <span style=\"color: #008000; text-decoration-color: #008000\">cow   </span> │\n",
       "│ <span style=\"color: #008000; text-decoration-color: #008000\">honey ham  </span> │     <span style=\"color: #008080; text-decoration-color: #008080; font-weight: bold\">5.0</span> │ <span style=\"color: #008000; text-decoration-color: #008000\">pig   </span> │\n",
       "│ <span style=\"color: #008000; text-decoration-color: #008000\">nova lox   </span> │     <span style=\"color: #008080; text-decoration-color: #008080; font-weight: bold\">6.0</span> │ <span style=\"color: #008000; text-decoration-color: #008000\">salmon</span> │\n",
       "└─────────────┴─────────┴────────┘\n",
       "</pre>\n"
      ],
      "text/plain": [
       "┏━━━━━━━━━━━━━┳━━━━━━━━━┳━━━━━━━━┓\n",
       "┃\u001b[1m \u001b[0m\u001b[1mfood\u001b[0m\u001b[1m       \u001b[0m\u001b[1m \u001b[0m┃\u001b[1m \u001b[0m\u001b[1mounces\u001b[0m\u001b[1m \u001b[0m\u001b[1m \u001b[0m┃\u001b[1m \u001b[0m\u001b[1manimal\u001b[0m\u001b[1m \u001b[0m┃\n",
       "┡━━━━━━━━━━━━━╇━━━━━━━━━╇━━━━━━━━┩\n",
       "│ \u001b[2mstring\u001b[0m      │ \u001b[2mfloat64\u001b[0m │ \u001b[2mstring\u001b[0m │\n",
       "├─────────────┼─────────┼────────┤\n",
       "│ \u001b[32mbacon      \u001b[0m │     \u001b[1;36m4.0\u001b[0m │ \u001b[32mpig   \u001b[0m │\n",
       "│ \u001b[32mpulled pork\u001b[0m │     \u001b[1;36m3.0\u001b[0m │ \u001b[32mpig   \u001b[0m │\n",
       "│ \u001b[32mbacon      \u001b[0m │    \u001b[1;36m12.0\u001b[0m │ \u001b[32mpig   \u001b[0m │\n",
       "│ \u001b[32mpastrami   \u001b[0m │     \u001b[1;36m6.0\u001b[0m │ \u001b[32mcow   \u001b[0m │\n",
       "│ \u001b[32mcorned beef\u001b[0m │     \u001b[1;36m7.5\u001b[0m │ \u001b[32mcow   \u001b[0m │\n",
       "│ \u001b[32mbacon      \u001b[0m │     \u001b[1;36m8.0\u001b[0m │ \u001b[32mpig   \u001b[0m │\n",
       "│ \u001b[32mpastrami   \u001b[0m │     \u001b[1;36m3.0\u001b[0m │ \u001b[32mcow   \u001b[0m │\n",
       "│ \u001b[32mhoney ham  \u001b[0m │     \u001b[1;36m5.0\u001b[0m │ \u001b[32mpig   \u001b[0m │\n",
       "│ \u001b[32mnova lox   \u001b[0m │     \u001b[1;36m6.0\u001b[0m │ \u001b[32msalmon\u001b[0m │\n",
       "└─────────────┴─────────┴────────┘"
      ]
     },
     "execution_count": 16,
     "metadata": {},
     "output_type": "execute_result"
    }
   ],
   "source": [
    "foods"
   ]
  },
  {
   "cell_type": "markdown",
   "id": "d0a324a1-e58c-4b8f-97c0-707898787fec",
   "metadata": {},
   "source": [
    "<a id=\"running_total\">"
   ]
  },
  {
   "cell_type": "markdown",
   "id": "2114ca61-4927-4511-9dd2-7e628070e6e9",
   "metadata": {},
   "source": [
    "## Running Total / Cumulative Sum"
   ]
  },
  {
   "cell_type": "markdown",
   "id": "16ef3124-c3e1-4c96-b7ba-8ea5ae20dcbb",
   "metadata": {},
   "source": [
    "[[back to top]](#back_to_top)"
   ]
  },
  {
   "cell_type": "markdown",
   "id": "d0a601a7-d389-41cb-b029-c001bd15b612",
   "metadata": {},
   "source": [
    "Let's calculate running total or cumulative sum of MPG by country of origin."
   ]
  },
  {
   "cell_type": "code",
   "execution_count": 17,
   "id": "a60c2a28-559f-405b-b317-f53f66a7c772",
   "metadata": {
    "tags": []
   },
   "outputs": [],
   "source": [
    "# Define running total calculation\n",
    "window_spec = ibis.window(\n",
    "    order_by='MPG',\n",
    "    group_by='Origin'\n",
    ")"
   ]
  },
  {
   "cell_type": "code",
   "execution_count": 18,
   "id": "2aafb916-150e-4142-8eb9-6aeab9304cd0",
   "metadata": {
    "tags": []
   },
   "outputs": [],
   "source": [
    "running_total = cars['MPG'].cumsum().over(window_spec).name('running_total')"
   ]
  },
  {
   "cell_type": "code",
   "execution_count": 19,
   "id": "46734121-de2e-460a-af70-9f3fb5bd8539",
   "metadata": {},
   "outputs": [
    {
     "data": {
      "text/html": [
       "<pre style=\"white-space:pre;overflow-x:auto;line-height:normal;font-family:Menlo,'DejaVu Sans Mono',consolas,'Courier New',monospace\">┏━━━━━━━━━━━━━━━┓\n",
       "┃<span style=\"font-weight: bold\"> running_total </span>┃\n",
       "┡━━━━━━━━━━━━━━━┩\n",
       "│ <span style=\"color: #7f7f7f; text-decoration-color: #7f7f7f\">float64</span>       │\n",
       "├───────────────┤\n",
       "│          <span style=\"color: #008080; text-decoration-color: #008080; font-weight: bold\">18.0</span> │\n",
       "│          <span style=\"color: #008080; text-decoration-color: #008080; font-weight: bold\">37.0</span> │\n",
       "│          <span style=\"color: #008080; text-decoration-color: #008080; font-weight: bold\">56.0</span> │\n",
       "│          <span style=\"color: #008080; text-decoration-color: #008080; font-weight: bold\">76.0</span> │\n",
       "│          <span style=\"color: #008080; text-decoration-color: #008080; font-weight: bold\">96.0</span> │\n",
       "│         <span style=\"color: #008080; text-decoration-color: #008080; font-weight: bold\">117.1</span> │\n",
       "│         <span style=\"color: #008080; text-decoration-color: #008080; font-weight: bold\">138.6</span> │\n",
       "│         <span style=\"color: #008080; text-decoration-color: #008080; font-weight: bold\">160.6</span> │\n",
       "│         <span style=\"color: #008080; text-decoration-color: #008080; font-weight: bold\">182.6</span> │\n",
       "│         <span style=\"color: #008080; text-decoration-color: #008080; font-weight: bold\">205.6</span> │\n",
       "│             <span style=\"color: #7f7f7f; text-decoration-color: #7f7f7f\">…</span> │\n",
       "└───────────────┘\n",
       "</pre>\n"
      ],
      "text/plain": [
       "┏━━━━━━━━━━━━━━━┓\n",
       "┃\u001b[1m \u001b[0m\u001b[1mrunning_total\u001b[0m\u001b[1m \u001b[0m┃\n",
       "┡━━━━━━━━━━━━━━━┩\n",
       "│ \u001b[2mfloat64\u001b[0m       │\n",
       "├───────────────┤\n",
       "│          \u001b[1;36m18.0\u001b[0m │\n",
       "│          \u001b[1;36m37.0\u001b[0m │\n",
       "│          \u001b[1;36m56.0\u001b[0m │\n",
       "│          \u001b[1;36m76.0\u001b[0m │\n",
       "│          \u001b[1;36m96.0\u001b[0m │\n",
       "│         \u001b[1;36m117.1\u001b[0m │\n",
       "│         \u001b[1;36m138.6\u001b[0m │\n",
       "│         \u001b[1;36m160.6\u001b[0m │\n",
       "│         \u001b[1;36m182.6\u001b[0m │\n",
       "│         \u001b[1;36m205.6\u001b[0m │\n",
       "│             \u001b[2m…\u001b[0m │\n",
       "└───────────────┘"
      ]
     },
     "execution_count": 19,
     "metadata": {},
     "output_type": "execute_result"
    }
   ],
   "source": [
    "running_total"
   ]
  },
  {
   "cell_type": "code",
   "execution_count": 20,
   "id": "38abe37f-b1a2-4987-8958-df1e066d0abc",
   "metadata": {
    "tags": []
   },
   "outputs": [],
   "source": [
    "# Apply running_total window spec.  If we want space in column name, we can do a \"relable\" to rename the column\n",
    "cars_cumulative_mpg = cars['Origin','MPG'].mutate(running_total=running_total).relabel(dict(running_total='Running Total'))"
   ]
  },
  {
   "cell_type": "code",
   "execution_count": 21,
   "id": "43e38e76-1ae0-465a-8fa9-1c05093f6e26",
   "metadata": {
    "tags": []
   },
   "outputs": [
    {
     "data": {
      "text/html": [
       "<pre style=\"white-space:pre;overflow-x:auto;line-height:normal;font-family:Menlo,'DejaVu Sans Mono',consolas,'Courier New',monospace\">┏━━━━━━━━┳━━━━━━━━━┳━━━━━━━━━━━━━━━┓\n",
       "┃<span style=\"font-weight: bold\"> Origin </span>┃<span style=\"font-weight: bold\"> MPG     </span>┃<span style=\"font-weight: bold\"> Running Total </span>┃\n",
       "┡━━━━━━━━╇━━━━━━━━━╇━━━━━━━━━━━━━━━┩\n",
       "│ <span style=\"color: #7f7f7f; text-decoration-color: #7f7f7f\">string</span> │ <span style=\"color: #7f7f7f; text-decoration-color: #7f7f7f\">float64</span> │ <span style=\"color: #7f7f7f; text-decoration-color: #7f7f7f\">float64</span>       │\n",
       "├────────┼─────────┼───────────────┤\n",
       "│ <span style=\"color: #008000; text-decoration-color: #008000\">US    </span> │     <span style=\"color: #008080; text-decoration-color: #008080; font-weight: bold\">0.0</span> │           <span style=\"color: #008080; text-decoration-color: #008080; font-weight: bold\">0.0</span> │\n",
       "│ <span style=\"color: #008000; text-decoration-color: #008000\">US    </span> │     <span style=\"color: #008080; text-decoration-color: #008080; font-weight: bold\">0.0</span> │           <span style=\"color: #008080; text-decoration-color: #008080; font-weight: bold\">0.0</span> │\n",
       "│ <span style=\"color: #008000; text-decoration-color: #008000\">US    </span> │     <span style=\"color: #008080; text-decoration-color: #008080; font-weight: bold\">0.0</span> │           <span style=\"color: #008080; text-decoration-color: #008080; font-weight: bold\">0.0</span> │\n",
       "│ <span style=\"color: #008000; text-decoration-color: #008000\">US    </span> │     <span style=\"color: #008080; text-decoration-color: #008080; font-weight: bold\">0.0</span> │           <span style=\"color: #008080; text-decoration-color: #008080; font-weight: bold\">0.0</span> │\n",
       "│ <span style=\"color: #008000; text-decoration-color: #008000\">US    </span> │     <span style=\"color: #008080; text-decoration-color: #008080; font-weight: bold\">0.0</span> │           <span style=\"color: #008080; text-decoration-color: #008080; font-weight: bold\">0.0</span> │\n",
       "│ <span style=\"color: #008000; text-decoration-color: #008000\">US    </span> │     <span style=\"color: #008080; text-decoration-color: #008080; font-weight: bold\">9.0</span> │           <span style=\"color: #008080; text-decoration-color: #008080; font-weight: bold\">9.0</span> │\n",
       "│ <span style=\"color: #008000; text-decoration-color: #008000\">US    </span> │    <span style=\"color: #008080; text-decoration-color: #008080; font-weight: bold\">10.0</span> │          <span style=\"color: #008080; text-decoration-color: #008080; font-weight: bold\">19.0</span> │\n",
       "│ <span style=\"color: #008000; text-decoration-color: #008000\">US    </span> │    <span style=\"color: #008080; text-decoration-color: #008080; font-weight: bold\">10.0</span> │          <span style=\"color: #008080; text-decoration-color: #008080; font-weight: bold\">29.0</span> │\n",
       "│ <span style=\"color: #008000; text-decoration-color: #008000\">US    </span> │    <span style=\"color: #008080; text-decoration-color: #008080; font-weight: bold\">11.0</span> │          <span style=\"color: #008080; text-decoration-color: #008080; font-weight: bold\">40.0</span> │\n",
       "│ <span style=\"color: #008000; text-decoration-color: #008000\">US    </span> │    <span style=\"color: #008080; text-decoration-color: #008080; font-weight: bold\">11.0</span> │          <span style=\"color: #008080; text-decoration-color: #008080; font-weight: bold\">51.0</span> │\n",
       "│ <span style=\"color: #7f7f7f; text-decoration-color: #7f7f7f\">…</span>      │       <span style=\"color: #7f7f7f; text-decoration-color: #7f7f7f\">…</span> │             <span style=\"color: #7f7f7f; text-decoration-color: #7f7f7f\">…</span> │\n",
       "└────────┴─────────┴───────────────┘\n",
       "</pre>\n"
      ],
      "text/plain": [
       "┏━━━━━━━━┳━━━━━━━━━┳━━━━━━━━━━━━━━━┓\n",
       "┃\u001b[1m \u001b[0m\u001b[1mOrigin\u001b[0m\u001b[1m \u001b[0m┃\u001b[1m \u001b[0m\u001b[1mMPG\u001b[0m\u001b[1m    \u001b[0m\u001b[1m \u001b[0m┃\u001b[1m \u001b[0m\u001b[1mRunning Total\u001b[0m\u001b[1m \u001b[0m┃\n",
       "┡━━━━━━━━╇━━━━━━━━━╇━━━━━━━━━━━━━━━┩\n",
       "│ \u001b[2mstring\u001b[0m │ \u001b[2mfloat64\u001b[0m │ \u001b[2mfloat64\u001b[0m       │\n",
       "├────────┼─────────┼───────────────┤\n",
       "│ \u001b[32mUS    \u001b[0m │     \u001b[1;36m0.0\u001b[0m │           \u001b[1;36m0.0\u001b[0m │\n",
       "│ \u001b[32mUS    \u001b[0m │     \u001b[1;36m0.0\u001b[0m │           \u001b[1;36m0.0\u001b[0m │\n",
       "│ \u001b[32mUS    \u001b[0m │     \u001b[1;36m0.0\u001b[0m │           \u001b[1;36m0.0\u001b[0m │\n",
       "│ \u001b[32mUS    \u001b[0m │     \u001b[1;36m0.0\u001b[0m │           \u001b[1;36m0.0\u001b[0m │\n",
       "│ \u001b[32mUS    \u001b[0m │     \u001b[1;36m0.0\u001b[0m │           \u001b[1;36m0.0\u001b[0m │\n",
       "│ \u001b[32mUS    \u001b[0m │     \u001b[1;36m9.0\u001b[0m │           \u001b[1;36m9.0\u001b[0m │\n",
       "│ \u001b[32mUS    \u001b[0m │    \u001b[1;36m10.0\u001b[0m │          \u001b[1;36m19.0\u001b[0m │\n",
       "│ \u001b[32mUS    \u001b[0m │    \u001b[1;36m10.0\u001b[0m │          \u001b[1;36m29.0\u001b[0m │\n",
       "│ \u001b[32mUS    \u001b[0m │    \u001b[1;36m11.0\u001b[0m │          \u001b[1;36m40.0\u001b[0m │\n",
       "│ \u001b[32mUS    \u001b[0m │    \u001b[1;36m11.0\u001b[0m │          \u001b[1;36m51.0\u001b[0m │\n",
       "│ \u001b[2m…\u001b[0m      │       \u001b[2m…\u001b[0m │             \u001b[2m…\u001b[0m │\n",
       "└────────┴─────────┴───────────────┘"
      ]
     },
     "execution_count": 21,
     "metadata": {},
     "output_type": "execute_result"
    }
   ],
   "source": [
    "cars_cumulative_mpg.filter(cars_cumulative_mpg['Origin'] == 'US')"
   ]
  },
  {
   "cell_type": "code",
   "execution_count": 22,
   "id": "ce2d5017-5ea9-4d49-aa96-7fb0bbe0a71c",
   "metadata": {
    "tags": []
   },
   "outputs": [
    {
     "data": {
      "text/html": [
       "<pre style=\"white-space:pre;overflow-x:auto;line-height:normal;font-family:Menlo,'DejaVu Sans Mono',consolas,'Courier New',monospace\">┏━━━━━━━━┳━━━━━━━━━┳━━━━━━━━━━━━━━━┓\n",
       "┃<span style=\"font-weight: bold\"> Origin </span>┃<span style=\"font-weight: bold\"> MPG     </span>┃<span style=\"font-weight: bold\"> Running Total </span>┃\n",
       "┡━━━━━━━━╇━━━━━━━━━╇━━━━━━━━━━━━━━━┩\n",
       "│ <span style=\"color: #7f7f7f; text-decoration-color: #7f7f7f\">string</span> │ <span style=\"color: #7f7f7f; text-decoration-color: #7f7f7f\">float64</span> │ <span style=\"color: #7f7f7f; text-decoration-color: #7f7f7f\">float64</span>       │\n",
       "├────────┼─────────┼───────────────┤\n",
       "│ <span style=\"color: #008000; text-decoration-color: #008000\">Japan </span> │    <span style=\"color: #008080; text-decoration-color: #008080; font-weight: bold\">18.0</span> │          <span style=\"color: #008080; text-decoration-color: #008080; font-weight: bold\">18.0</span> │\n",
       "│ <span style=\"color: #008000; text-decoration-color: #008000\">Japan </span> │    <span style=\"color: #008080; text-decoration-color: #008080; font-weight: bold\">19.0</span> │          <span style=\"color: #008080; text-decoration-color: #008080; font-weight: bold\">37.0</span> │\n",
       "│ <span style=\"color: #008000; text-decoration-color: #008000\">Japan </span> │    <span style=\"color: #008080; text-decoration-color: #008080; font-weight: bold\">19.0</span> │          <span style=\"color: #008080; text-decoration-color: #008080; font-weight: bold\">56.0</span> │\n",
       "│ <span style=\"color: #008000; text-decoration-color: #008000\">Japan </span> │    <span style=\"color: #008080; text-decoration-color: #008080; font-weight: bold\">20.0</span> │          <span style=\"color: #008080; text-decoration-color: #008080; font-weight: bold\">76.0</span> │\n",
       "│ <span style=\"color: #008000; text-decoration-color: #008000\">Japan </span> │    <span style=\"color: #008080; text-decoration-color: #008080; font-weight: bold\">20.0</span> │          <span style=\"color: #008080; text-decoration-color: #008080; font-weight: bold\">96.0</span> │\n",
       "│ <span style=\"color: #008000; text-decoration-color: #008000\">Japan </span> │    <span style=\"color: #008080; text-decoration-color: #008080; font-weight: bold\">21.1</span> │         <span style=\"color: #008080; text-decoration-color: #008080; font-weight: bold\">117.1</span> │\n",
       "│ <span style=\"color: #008000; text-decoration-color: #008000\">Japan </span> │    <span style=\"color: #008080; text-decoration-color: #008080; font-weight: bold\">21.5</span> │         <span style=\"color: #008080; text-decoration-color: #008080; font-weight: bold\">138.6</span> │\n",
       "│ <span style=\"color: #008000; text-decoration-color: #008000\">Japan </span> │    <span style=\"color: #008080; text-decoration-color: #008080; font-weight: bold\">22.0</span> │         <span style=\"color: #008080; text-decoration-color: #008080; font-weight: bold\">160.6</span> │\n",
       "│ <span style=\"color: #008000; text-decoration-color: #008000\">Japan </span> │    <span style=\"color: #008080; text-decoration-color: #008080; font-weight: bold\">22.0</span> │         <span style=\"color: #008080; text-decoration-color: #008080; font-weight: bold\">182.6</span> │\n",
       "│ <span style=\"color: #008000; text-decoration-color: #008000\">Japan </span> │    <span style=\"color: #008080; text-decoration-color: #008080; font-weight: bold\">23.0</span> │         <span style=\"color: #008080; text-decoration-color: #008080; font-weight: bold\">205.6</span> │\n",
       "│ <span style=\"color: #7f7f7f; text-decoration-color: #7f7f7f\">…</span>      │       <span style=\"color: #7f7f7f; text-decoration-color: #7f7f7f\">…</span> │             <span style=\"color: #7f7f7f; text-decoration-color: #7f7f7f\">…</span> │\n",
       "└────────┴─────────┴───────────────┘\n",
       "</pre>\n"
      ],
      "text/plain": [
       "┏━━━━━━━━┳━━━━━━━━━┳━━━━━━━━━━━━━━━┓\n",
       "┃\u001b[1m \u001b[0m\u001b[1mOrigin\u001b[0m\u001b[1m \u001b[0m┃\u001b[1m \u001b[0m\u001b[1mMPG\u001b[0m\u001b[1m    \u001b[0m\u001b[1m \u001b[0m┃\u001b[1m \u001b[0m\u001b[1mRunning Total\u001b[0m\u001b[1m \u001b[0m┃\n",
       "┡━━━━━━━━╇━━━━━━━━━╇━━━━━━━━━━━━━━━┩\n",
       "│ \u001b[2mstring\u001b[0m │ \u001b[2mfloat64\u001b[0m │ \u001b[2mfloat64\u001b[0m       │\n",
       "├────────┼─────────┼───────────────┤\n",
       "│ \u001b[32mJapan \u001b[0m │    \u001b[1;36m18.0\u001b[0m │          \u001b[1;36m18.0\u001b[0m │\n",
       "│ \u001b[32mJapan \u001b[0m │    \u001b[1;36m19.0\u001b[0m │          \u001b[1;36m37.0\u001b[0m │\n",
       "│ \u001b[32mJapan \u001b[0m │    \u001b[1;36m19.0\u001b[0m │          \u001b[1;36m56.0\u001b[0m │\n",
       "│ \u001b[32mJapan \u001b[0m │    \u001b[1;36m20.0\u001b[0m │          \u001b[1;36m76.0\u001b[0m │\n",
       "│ \u001b[32mJapan \u001b[0m │    \u001b[1;36m20.0\u001b[0m │          \u001b[1;36m96.0\u001b[0m │\n",
       "│ \u001b[32mJapan \u001b[0m │    \u001b[1;36m21.1\u001b[0m │         \u001b[1;36m117.1\u001b[0m │\n",
       "│ \u001b[32mJapan \u001b[0m │    \u001b[1;36m21.5\u001b[0m │         \u001b[1;36m138.6\u001b[0m │\n",
       "│ \u001b[32mJapan \u001b[0m │    \u001b[1;36m22.0\u001b[0m │         \u001b[1;36m160.6\u001b[0m │\n",
       "│ \u001b[32mJapan \u001b[0m │    \u001b[1;36m22.0\u001b[0m │         \u001b[1;36m182.6\u001b[0m │\n",
       "│ \u001b[32mJapan \u001b[0m │    \u001b[1;36m23.0\u001b[0m │         \u001b[1;36m205.6\u001b[0m │\n",
       "│ \u001b[2m…\u001b[0m      │       \u001b[2m…\u001b[0m │             \u001b[2m…\u001b[0m │\n",
       "└────────┴─────────┴───────────────┘"
      ]
     },
     "execution_count": 22,
     "metadata": {},
     "output_type": "execute_result"
    }
   ],
   "source": [
    "cars_cumulative_mpg.filter(cars_cumulative_mpg['Origin'] == 'Japan')"
   ]
  },
  {
   "cell_type": "code",
   "execution_count": 23,
   "id": "c0c41e61-2bc8-40d6-a5f8-a31e464c28fd",
   "metadata": {
    "tags": []
   },
   "outputs": [
    {
     "data": {
      "text/html": [
       "<pre style=\"white-space:pre;overflow-x:auto;line-height:normal;font-family:Menlo,'DejaVu Sans Mono',consolas,'Courier New',monospace\">┏━━━━━━━━┳━━━━━━━━━┳━━━━━━━━━━━━━━━┓\n",
       "┃<span style=\"font-weight: bold\"> Origin </span>┃<span style=\"font-weight: bold\"> MPG     </span>┃<span style=\"font-weight: bold\"> Running Total </span>┃\n",
       "┡━━━━━━━━╇━━━━━━━━━╇━━━━━━━━━━━━━━━┩\n",
       "│ <span style=\"color: #7f7f7f; text-decoration-color: #7f7f7f\">string</span> │ <span style=\"color: #7f7f7f; text-decoration-color: #7f7f7f\">float64</span> │ <span style=\"color: #7f7f7f; text-decoration-color: #7f7f7f\">float64</span>       │\n",
       "├────────┼─────────┼───────────────┤\n",
       "│ <span style=\"color: #008000; text-decoration-color: #008000\">Europe</span> │     <span style=\"color: #008080; text-decoration-color: #008080; font-weight: bold\">0.0</span> │           <span style=\"color: #008080; text-decoration-color: #008080; font-weight: bold\">0.0</span> │\n",
       "│ <span style=\"color: #008000; text-decoration-color: #008000\">Europe</span> │     <span style=\"color: #008080; text-decoration-color: #008080; font-weight: bold\">0.0</span> │           <span style=\"color: #008080; text-decoration-color: #008080; font-weight: bold\">0.0</span> │\n",
       "│ <span style=\"color: #008000; text-decoration-color: #008000\">Europe</span> │     <span style=\"color: #008080; text-decoration-color: #008080; font-weight: bold\">0.0</span> │           <span style=\"color: #008080; text-decoration-color: #008080; font-weight: bold\">0.0</span> │\n",
       "│ <span style=\"color: #008000; text-decoration-color: #008000\">Europe</span> │    <span style=\"color: #008080; text-decoration-color: #008080; font-weight: bold\">16.2</span> │          <span style=\"color: #008080; text-decoration-color: #008080; font-weight: bold\">16.2</span> │\n",
       "│ <span style=\"color: #008000; text-decoration-color: #008000\">Europe</span> │    <span style=\"color: #008080; text-decoration-color: #008080; font-weight: bold\">16.5</span> │          <span style=\"color: #008080; text-decoration-color: #008080; font-weight: bold\">32.7</span> │\n",
       "│ <span style=\"color: #008000; text-decoration-color: #008000\">Europe</span> │    <span style=\"color: #008080; text-decoration-color: #008080; font-weight: bold\">17.0</span> │          <span style=\"color: #008080; text-decoration-color: #008080; font-weight: bold\">49.7</span> │\n",
       "│ <span style=\"color: #008000; text-decoration-color: #008000\">Europe</span> │    <span style=\"color: #008080; text-decoration-color: #008080; font-weight: bold\">18.0</span> │          <span style=\"color: #008080; text-decoration-color: #008080; font-weight: bold\">67.7</span> │\n",
       "│ <span style=\"color: #008000; text-decoration-color: #008000\">Europe</span> │    <span style=\"color: #008080; text-decoration-color: #008080; font-weight: bold\">19.0</span> │          <span style=\"color: #008080; text-decoration-color: #008080; font-weight: bold\">86.7</span> │\n",
       "│ <span style=\"color: #008000; text-decoration-color: #008000\">Europe</span> │    <span style=\"color: #008080; text-decoration-color: #008080; font-weight: bold\">19.0</span> │         <span style=\"color: #008080; text-decoration-color: #008080; font-weight: bold\">105.7</span> │\n",
       "│ <span style=\"color: #008000; text-decoration-color: #008000\">Europe</span> │    <span style=\"color: #008080; text-decoration-color: #008080; font-weight: bold\">20.0</span> │         <span style=\"color: #008080; text-decoration-color: #008080; font-weight: bold\">125.7</span> │\n",
       "│ <span style=\"color: #7f7f7f; text-decoration-color: #7f7f7f\">…</span>      │       <span style=\"color: #7f7f7f; text-decoration-color: #7f7f7f\">…</span> │             <span style=\"color: #7f7f7f; text-decoration-color: #7f7f7f\">…</span> │\n",
       "└────────┴─────────┴───────────────┘\n",
       "</pre>\n"
      ],
      "text/plain": [
       "┏━━━━━━━━┳━━━━━━━━━┳━━━━━━━━━━━━━━━┓\n",
       "┃\u001b[1m \u001b[0m\u001b[1mOrigin\u001b[0m\u001b[1m \u001b[0m┃\u001b[1m \u001b[0m\u001b[1mMPG\u001b[0m\u001b[1m    \u001b[0m\u001b[1m \u001b[0m┃\u001b[1m \u001b[0m\u001b[1mRunning Total\u001b[0m\u001b[1m \u001b[0m┃\n",
       "┡━━━━━━━━╇━━━━━━━━━╇━━━━━━━━━━━━━━━┩\n",
       "│ \u001b[2mstring\u001b[0m │ \u001b[2mfloat64\u001b[0m │ \u001b[2mfloat64\u001b[0m       │\n",
       "├────────┼─────────┼───────────────┤\n",
       "│ \u001b[32mEurope\u001b[0m │     \u001b[1;36m0.0\u001b[0m │           \u001b[1;36m0.0\u001b[0m │\n",
       "│ \u001b[32mEurope\u001b[0m │     \u001b[1;36m0.0\u001b[0m │           \u001b[1;36m0.0\u001b[0m │\n",
       "│ \u001b[32mEurope\u001b[0m │     \u001b[1;36m0.0\u001b[0m │           \u001b[1;36m0.0\u001b[0m │\n",
       "│ \u001b[32mEurope\u001b[0m │    \u001b[1;36m16.2\u001b[0m │          \u001b[1;36m16.2\u001b[0m │\n",
       "│ \u001b[32mEurope\u001b[0m │    \u001b[1;36m16.5\u001b[0m │          \u001b[1;36m32.7\u001b[0m │\n",
       "│ \u001b[32mEurope\u001b[0m │    \u001b[1;36m17.0\u001b[0m │          \u001b[1;36m49.7\u001b[0m │\n",
       "│ \u001b[32mEurope\u001b[0m │    \u001b[1;36m18.0\u001b[0m │          \u001b[1;36m67.7\u001b[0m │\n",
       "│ \u001b[32mEurope\u001b[0m │    \u001b[1;36m19.0\u001b[0m │          \u001b[1;36m86.7\u001b[0m │\n",
       "│ \u001b[32mEurope\u001b[0m │    \u001b[1;36m19.0\u001b[0m │         \u001b[1;36m105.7\u001b[0m │\n",
       "│ \u001b[32mEurope\u001b[0m │    \u001b[1;36m20.0\u001b[0m │         \u001b[1;36m125.7\u001b[0m │\n",
       "│ \u001b[2m…\u001b[0m      │       \u001b[2m…\u001b[0m │             \u001b[2m…\u001b[0m │\n",
       "└────────┴─────────┴───────────────┘"
      ]
     },
     "execution_count": 23,
     "metadata": {},
     "output_type": "execute_result"
    }
   ],
   "source": [
    "cars_cumulative_mpg.filter(cars_cumulative_mpg['Origin'] == 'Europe')"
   ]
  },
  {
   "cell_type": "markdown",
   "id": "5face0d1-f377-4785-b199-104370af57d7",
   "metadata": {},
   "source": [
    "<a id=\"aggregations\">"
   ]
  },
  {
   "cell_type": "markdown",
   "id": "6c2d43d6-502a-4dd8-b635-ed9a0f00d5b6",
   "metadata": {},
   "source": [
    "## Aggregations / Summarizations"
   ]
  },
  {
   "cell_type": "markdown",
   "id": "49a077c6-38aa-41df-b44f-9e39b06cb240",
   "metadata": {},
   "source": [
    "[[back to top]](#back_to_top)"
   ]
  },
  {
   "cell_type": "markdown",
   "id": "c4bef2d9-b3b4-484b-87ea-028a46396a6f",
   "metadata": {},
   "source": [
    "**GOAL:** By country of origin, calculate min mpg, max mpg, and avg mpg."
   ]
  },
  {
   "cell_type": "code",
   "execution_count": 24,
   "id": "8646afb5-6b9b-436d-8b18-046c9d4e4596",
   "metadata": {
    "tags": []
   },
   "outputs": [
    {
     "data": {
      "text/html": [
       "<pre style=\"white-space:pre;overflow-x:auto;line-height:normal;font-family:Menlo,'DejaVu Sans Mono',consolas,'Courier New',monospace\">┏━━━━━━━━┳━━━━━━━━━┳━━━━━━━━━┳━━━━━━━━━━━┓\n",
       "┃<span style=\"font-weight: bold\"> Origin </span>┃<span style=\"font-weight: bold\"> Min MPG </span>┃<span style=\"font-weight: bold\"> Max MPG </span>┃<span style=\"font-weight: bold\"> Avg MPG   </span>┃\n",
       "┡━━━━━━━━╇━━━━━━━━━╇━━━━━━━━━╇━━━━━━━━━━━┩\n",
       "│ <span style=\"color: #7f7f7f; text-decoration-color: #7f7f7f\">string</span> │ <span style=\"color: #7f7f7f; text-decoration-color: #7f7f7f\">float64</span> │ <span style=\"color: #7f7f7f; text-decoration-color: #7f7f7f\">float64</span> │ <span style=\"color: #7f7f7f; text-decoration-color: #7f7f7f\">float64</span>   │\n",
       "├────────┼─────────┼─────────┼───────────┤\n",
       "│ <span style=\"color: #008000; text-decoration-color: #008000\">US    </span> │     <span style=\"color: #008080; text-decoration-color: #008080; font-weight: bold\">0.0</span> │    <span style=\"color: #008080; text-decoration-color: #008080; font-weight: bold\">39.0</span> │ <span style=\"color: #008080; text-decoration-color: #008080; font-weight: bold\">19.688189</span> │\n",
       "│ <span style=\"color: #008000; text-decoration-color: #008000\">Europe</span> │     <span style=\"color: #008080; text-decoration-color: #008080; font-weight: bold\">0.0</span> │    <span style=\"color: #008080; text-decoration-color: #008080; font-weight: bold\">44.3</span> │ <span style=\"color: #008080; text-decoration-color: #008080; font-weight: bold\">26.745205</span> │\n",
       "│ <span style=\"color: #008000; text-decoration-color: #008000\">Japan </span> │    <span style=\"color: #008080; text-decoration-color: #008080; font-weight: bold\">18.0</span> │    <span style=\"color: #008080; text-decoration-color: #008080; font-weight: bold\">46.6</span> │ <span style=\"color: #008080; text-decoration-color: #008080; font-weight: bold\">30.450633</span> │\n",
       "└────────┴─────────┴─────────┴───────────┘\n",
       "</pre>\n"
      ],
      "text/plain": [
       "┏━━━━━━━━┳━━━━━━━━━┳━━━━━━━━━┳━━━━━━━━━━━┓\n",
       "┃\u001b[1m \u001b[0m\u001b[1mOrigin\u001b[0m\u001b[1m \u001b[0m┃\u001b[1m \u001b[0m\u001b[1mMin MPG\u001b[0m\u001b[1m \u001b[0m┃\u001b[1m \u001b[0m\u001b[1mMax MPG\u001b[0m\u001b[1m \u001b[0m┃\u001b[1m \u001b[0m\u001b[1mAvg MPG\u001b[0m\u001b[1m  \u001b[0m\u001b[1m \u001b[0m┃\n",
       "┡━━━━━━━━╇━━━━━━━━━╇━━━━━━━━━╇━━━━━━━━━━━┩\n",
       "│ \u001b[2mstring\u001b[0m │ \u001b[2mfloat64\u001b[0m │ \u001b[2mfloat64\u001b[0m │ \u001b[2mfloat64\u001b[0m   │\n",
       "├────────┼─────────┼─────────┼───────────┤\n",
       "│ \u001b[32mUS    \u001b[0m │     \u001b[1;36m0.0\u001b[0m │    \u001b[1;36m39.0\u001b[0m │ \u001b[1;36m19.688189\u001b[0m │\n",
       "│ \u001b[32mEurope\u001b[0m │     \u001b[1;36m0.0\u001b[0m │    \u001b[1;36m44.3\u001b[0m │ \u001b[1;36m26.745205\u001b[0m │\n",
       "│ \u001b[32mJapan \u001b[0m │    \u001b[1;36m18.0\u001b[0m │    \u001b[1;36m46.6\u001b[0m │ \u001b[1;36m30.450633\u001b[0m │\n",
       "└────────┴─────────┴─────────┴───────────┘"
      ]
     },
     "execution_count": 24,
     "metadata": {},
     "output_type": "execute_result"
    }
   ],
   "source": [
    "agged = cars.group_by('Origin').aggregate(\n",
    "    min_mpg=cars['MPG'].min().name(\"Min MPG\"),\n",
    "    max_mpg=cars['MPG'].max().name(\"Max MPG\"),\n",
    "    avg_mpg=cars['MPG'].mean().name(\"Avg MPG\"),\n",
    ")\n",
    "\n",
    "agged.relabel(\n",
    "    dict(\n",
    "        min_mpg='Min MPG',\n",
    "        max_mpg='Max MPG',\n",
    "        avg_mpg='Avg MPG',\n",
    "    )\n",
    ").head()"
   ]
  },
  {
   "cell_type": "markdown",
   "id": "29434156-b8ce-4d4e-9923-fd246de14aeb",
   "metadata": {},
   "source": [
    "<a id=\"filtering\">"
   ]
  },
  {
   "cell_type": "markdown",
   "id": "0e6c02b2-2a67-496f-ab52-98fac4664de1",
   "metadata": {},
   "source": [
    "## Filtering"
   ]
  },
  {
   "cell_type": "markdown",
   "id": "432119e5-3853-41a3-8f0c-8898e7ccad04",
   "metadata": {},
   "source": [
    "[[back to top]](#back_to_top)"
   ]
  },
  {
   "cell_type": "code",
   "execution_count": 25,
   "id": "74d5b144-3f90-4c24-87ef-9b9b9f11dff9",
   "metadata": {
    "tags": []
   },
   "outputs": [
    {
     "data": {
      "text/html": [
       "<pre style=\"white-space:pre;overflow-x:auto;line-height:normal;font-family:Menlo,'DejaVu Sans Mono',consolas,'Courier New',monospace\">┏━━━━━━━━━━━━━━━━━━━━━━━━━━━┳━━━━━━━━━┳━━━━━━━━━━━┳━━━━━━━━━━━━━━┳━━━━━━━━━━━━┳━━━━━━━━━┳━━━━━━━━━━━━━━┳━━━━━━━┳━━━━━━━━┳━━━━━━━━━━━┳━━━━━━━━━━━━┓\n",
       "┃<span style=\"font-weight: bold\"> Car                       </span>┃<span style=\"font-weight: bold\"> MPG     </span>┃<span style=\"font-weight: bold\"> Cylinders </span>┃<span style=\"font-weight: bold\"> Displacement </span>┃<span style=\"font-weight: bold\"> Horsepower </span>┃<span style=\"font-weight: bold\"> Weight  </span>┃<span style=\"font-weight: bold\"> Acceleration </span>┃<span style=\"font-weight: bold\"> Model </span>┃<span style=\"font-weight: bold\"> Origin </span>┃<span style=\"font-weight: bold\"> Make      </span>┃<span style=\"font-weight: bold\"> ModelName  </span>┃\n",
       "┡━━━━━━━━━━━━━━━━━━━━━━━━━━━╇━━━━━━━━━╇━━━━━━━━━━━╇━━━━━━━━━━━━━━╇━━━━━━━━━━━━╇━━━━━━━━━╇━━━━━━━━━━━━━━╇━━━━━━━╇━━━━━━━━╇━━━━━━━━━━━╇━━━━━━━━━━━━┩\n",
       "│ <span style=\"color: #7f7f7f; text-decoration-color: #7f7f7f\">string</span>                    │ <span style=\"color: #7f7f7f; text-decoration-color: #7f7f7f\">float64</span> │ <span style=\"color: #7f7f7f; text-decoration-color: #7f7f7f\">int64</span>     │ <span style=\"color: #7f7f7f; text-decoration-color: #7f7f7f\">float64</span>      │ <span style=\"color: #7f7f7f; text-decoration-color: #7f7f7f\">float64</span>    │ <span style=\"color: #7f7f7f; text-decoration-color: #7f7f7f\">float64</span> │ <span style=\"color: #7f7f7f; text-decoration-color: #7f7f7f\">float64</span>      │ <span style=\"color: #7f7f7f; text-decoration-color: #7f7f7f\">int64</span> │ <span style=\"color: #7f7f7f; text-decoration-color: #7f7f7f\">string</span> │ <span style=\"color: #7f7f7f; text-decoration-color: #7f7f7f\">string</span>    │ <span style=\"color: #7f7f7f; text-decoration-color: #7f7f7f\">string</span>     │\n",
       "├───────────────────────────┼─────────┼───────────┼──────────────┼────────────┼─────────┼──────────────┼───────┼────────┼───────────┼────────────┤\n",
       "│ <span style=\"color: #008000; text-decoration-color: #008000\">Chevrolet Chevelle Malibu</span> │    <span style=\"color: #008080; text-decoration-color: #008080; font-weight: bold\">18.0</span> │         <span style=\"color: #008080; text-decoration-color: #008080; font-weight: bold\">8</span> │        <span style=\"color: #008080; text-decoration-color: #008080; font-weight: bold\">307.0</span> │      <span style=\"color: #008080; text-decoration-color: #008080; font-weight: bold\">130.0</span> │  <span style=\"color: #008080; text-decoration-color: #008080; font-weight: bold\">3504.0</span> │         <span style=\"color: #008080; text-decoration-color: #008080; font-weight: bold\">12.0</span> │    <span style=\"color: #008080; text-decoration-color: #008080; font-weight: bold\">70</span> │ <span style=\"color: #008000; text-decoration-color: #008000\">US    </span> │ <span style=\"color: #008000; text-decoration-color: #008000\">Chevrolet</span> │ <span style=\"color: #008000; text-decoration-color: #008000\">Chevelle  </span> │\n",
       "│ <span style=\"color: #008000; text-decoration-color: #008000\">Buick Skylark 320        </span> │    <span style=\"color: #008080; text-decoration-color: #008080; font-weight: bold\">15.0</span> │         <span style=\"color: #008080; text-decoration-color: #008080; font-weight: bold\">8</span> │        <span style=\"color: #008080; text-decoration-color: #008080; font-weight: bold\">350.0</span> │      <span style=\"color: #008080; text-decoration-color: #008080; font-weight: bold\">165.0</span> │  <span style=\"color: #008080; text-decoration-color: #008080; font-weight: bold\">3693.0</span> │         <span style=\"color: #008080; text-decoration-color: #008080; font-weight: bold\">11.5</span> │    <span style=\"color: #008080; text-decoration-color: #008080; font-weight: bold\">70</span> │ <span style=\"color: #008000; text-decoration-color: #008000\">US    </span> │ <span style=\"color: #008000; text-decoration-color: #008000\">Buick    </span> │ <span style=\"color: #008000; text-decoration-color: #008000\">Skylark   </span> │\n",
       "│ <span style=\"color: #008000; text-decoration-color: #008000\">Plymouth Satellite       </span> │    <span style=\"color: #008080; text-decoration-color: #008080; font-weight: bold\">18.0</span> │         <span style=\"color: #008080; text-decoration-color: #008080; font-weight: bold\">8</span> │        <span style=\"color: #008080; text-decoration-color: #008080; font-weight: bold\">318.0</span> │      <span style=\"color: #008080; text-decoration-color: #008080; font-weight: bold\">150.0</span> │  <span style=\"color: #008080; text-decoration-color: #008080; font-weight: bold\">3436.0</span> │         <span style=\"color: #008080; text-decoration-color: #008080; font-weight: bold\">11.0</span> │    <span style=\"color: #008080; text-decoration-color: #008080; font-weight: bold\">70</span> │ <span style=\"color: #008000; text-decoration-color: #008000\">US    </span> │ <span style=\"color: #008000; text-decoration-color: #008000\">Plymouth </span> │ <span style=\"color: #008000; text-decoration-color: #008000\">Satellite </span> │\n",
       "│ <span style=\"color: #008000; text-decoration-color: #008000\">AMC Rebel SST            </span> │    <span style=\"color: #008080; text-decoration-color: #008080; font-weight: bold\">16.0</span> │         <span style=\"color: #008080; text-decoration-color: #008080; font-weight: bold\">8</span> │        <span style=\"color: #008080; text-decoration-color: #008080; font-weight: bold\">304.0</span> │      <span style=\"color: #008080; text-decoration-color: #008080; font-weight: bold\">150.0</span> │  <span style=\"color: #008080; text-decoration-color: #008080; font-weight: bold\">3433.0</span> │         <span style=\"color: #008080; text-decoration-color: #008080; font-weight: bold\">12.0</span> │    <span style=\"color: #008080; text-decoration-color: #008080; font-weight: bold\">70</span> │ <span style=\"color: #008000; text-decoration-color: #008000\">US    </span> │ <span style=\"color: #008000; text-decoration-color: #008000\">AMC      </span> │ <span style=\"color: #008000; text-decoration-color: #008000\">Rebel     </span> │\n",
       "│ <span style=\"color: #008000; text-decoration-color: #008000\">Ford Torino              </span> │    <span style=\"color: #008080; text-decoration-color: #008080; font-weight: bold\">17.0</span> │         <span style=\"color: #008080; text-decoration-color: #008080; font-weight: bold\">8</span> │        <span style=\"color: #008080; text-decoration-color: #008080; font-weight: bold\">302.0</span> │      <span style=\"color: #008080; text-decoration-color: #008080; font-weight: bold\">140.0</span> │  <span style=\"color: #008080; text-decoration-color: #008080; font-weight: bold\">3449.0</span> │         <span style=\"color: #008080; text-decoration-color: #008080; font-weight: bold\">10.5</span> │    <span style=\"color: #008080; text-decoration-color: #008080; font-weight: bold\">70</span> │ <span style=\"color: #008000; text-decoration-color: #008000\">US    </span> │ <span style=\"color: #008000; text-decoration-color: #008000\">Ford     </span> │ <span style=\"color: #008000; text-decoration-color: #008000\">Torino    </span> │\n",
       "│ <span style=\"color: #008000; text-decoration-color: #008000\">Ford Galaxie 500         </span> │    <span style=\"color: #008080; text-decoration-color: #008080; font-weight: bold\">15.0</span> │         <span style=\"color: #008080; text-decoration-color: #008080; font-weight: bold\">8</span> │        <span style=\"color: #008080; text-decoration-color: #008080; font-weight: bold\">429.0</span> │      <span style=\"color: #008080; text-decoration-color: #008080; font-weight: bold\">198.0</span> │  <span style=\"color: #008080; text-decoration-color: #008080; font-weight: bold\">4341.0</span> │         <span style=\"color: #008080; text-decoration-color: #008080; font-weight: bold\">10.0</span> │    <span style=\"color: #008080; text-decoration-color: #008080; font-weight: bold\">70</span> │ <span style=\"color: #008000; text-decoration-color: #008000\">US    </span> │ <span style=\"color: #008000; text-decoration-color: #008000\">Ford     </span> │ <span style=\"color: #008000; text-decoration-color: #008000\">Galaxie   </span> │\n",
       "│ <span style=\"color: #008000; text-decoration-color: #008000\">Chevrolet Impala         </span> │    <span style=\"color: #008080; text-decoration-color: #008080; font-weight: bold\">14.0</span> │         <span style=\"color: #008080; text-decoration-color: #008080; font-weight: bold\">8</span> │        <span style=\"color: #008080; text-decoration-color: #008080; font-weight: bold\">454.0</span> │      <span style=\"color: #008080; text-decoration-color: #008080; font-weight: bold\">220.0</span> │  <span style=\"color: #008080; text-decoration-color: #008080; font-weight: bold\">4354.0</span> │          <span style=\"color: #008080; text-decoration-color: #008080; font-weight: bold\">9.0</span> │    <span style=\"color: #008080; text-decoration-color: #008080; font-weight: bold\">70</span> │ <span style=\"color: #008000; text-decoration-color: #008000\">US    </span> │ <span style=\"color: #008000; text-decoration-color: #008000\">Chevrolet</span> │ <span style=\"color: #008000; text-decoration-color: #008000\">Impala    </span> │\n",
       "│ <span style=\"color: #008000; text-decoration-color: #008000\">Plymouth Fury iii        </span> │    <span style=\"color: #008080; text-decoration-color: #008080; font-weight: bold\">14.0</span> │         <span style=\"color: #008080; text-decoration-color: #008080; font-weight: bold\">8</span> │        <span style=\"color: #008080; text-decoration-color: #008080; font-weight: bold\">440.0</span> │      <span style=\"color: #008080; text-decoration-color: #008080; font-weight: bold\">215.0</span> │  <span style=\"color: #008080; text-decoration-color: #008080; font-weight: bold\">4312.0</span> │          <span style=\"color: #008080; text-decoration-color: #008080; font-weight: bold\">8.5</span> │    <span style=\"color: #008080; text-decoration-color: #008080; font-weight: bold\">70</span> │ <span style=\"color: #008000; text-decoration-color: #008000\">US    </span> │ <span style=\"color: #008000; text-decoration-color: #008000\">Plymouth </span> │ <span style=\"color: #008000; text-decoration-color: #008000\">Fury      </span> │\n",
       "│ <span style=\"color: #008000; text-decoration-color: #008000\">Pontiac Catalina         </span> │    <span style=\"color: #008080; text-decoration-color: #008080; font-weight: bold\">14.0</span> │         <span style=\"color: #008080; text-decoration-color: #008080; font-weight: bold\">8</span> │        <span style=\"color: #008080; text-decoration-color: #008080; font-weight: bold\">455.0</span> │      <span style=\"color: #008080; text-decoration-color: #008080; font-weight: bold\">225.0</span> │  <span style=\"color: #008080; text-decoration-color: #008080; font-weight: bold\">4425.0</span> │         <span style=\"color: #008080; text-decoration-color: #008080; font-weight: bold\">10.0</span> │    <span style=\"color: #008080; text-decoration-color: #008080; font-weight: bold\">70</span> │ <span style=\"color: #008000; text-decoration-color: #008000\">US    </span> │ <span style=\"color: #008000; text-decoration-color: #008000\">Pontiac  </span> │ <span style=\"color: #008000; text-decoration-color: #008000\">Catalina  </span> │\n",
       "│ <span style=\"color: #008000; text-decoration-color: #008000\">AMC Ambassador DPL       </span> │    <span style=\"color: #008080; text-decoration-color: #008080; font-weight: bold\">15.0</span> │         <span style=\"color: #008080; text-decoration-color: #008080; font-weight: bold\">8</span> │        <span style=\"color: #008080; text-decoration-color: #008080; font-weight: bold\">390.0</span> │      <span style=\"color: #008080; text-decoration-color: #008080; font-weight: bold\">190.0</span> │  <span style=\"color: #008080; text-decoration-color: #008080; font-weight: bold\">3850.0</span> │          <span style=\"color: #008080; text-decoration-color: #008080; font-weight: bold\">8.5</span> │    <span style=\"color: #008080; text-decoration-color: #008080; font-weight: bold\">70</span> │ <span style=\"color: #008000; text-decoration-color: #008000\">US    </span> │ <span style=\"color: #008000; text-decoration-color: #008000\">AMC      </span> │ <span style=\"color: #008000; text-decoration-color: #008000\">Ambassador</span> │\n",
       "│ <span style=\"color: #7f7f7f; text-decoration-color: #7f7f7f\">…</span>                         │       <span style=\"color: #7f7f7f; text-decoration-color: #7f7f7f\">…</span> │         <span style=\"color: #7f7f7f; text-decoration-color: #7f7f7f\">…</span> │            <span style=\"color: #7f7f7f; text-decoration-color: #7f7f7f\">…</span> │          <span style=\"color: #7f7f7f; text-decoration-color: #7f7f7f\">…</span> │       <span style=\"color: #7f7f7f; text-decoration-color: #7f7f7f\">…</span> │            <span style=\"color: #7f7f7f; text-decoration-color: #7f7f7f\">…</span> │     <span style=\"color: #7f7f7f; text-decoration-color: #7f7f7f\">…</span> │ <span style=\"color: #7f7f7f; text-decoration-color: #7f7f7f\">…</span>      │ <span style=\"color: #7f7f7f; text-decoration-color: #7f7f7f\">…</span>         │ <span style=\"color: #7f7f7f; text-decoration-color: #7f7f7f\">…</span>          │\n",
       "└───────────────────────────┴─────────┴───────────┴──────────────┴────────────┴─────────┴──────────────┴───────┴────────┴───────────┴────────────┘\n",
       "</pre>\n"
      ],
      "text/plain": [
       "┏━━━━━━━━━━━━━━━━━━━━━━━━━━━┳━━━━━━━━━┳━━━━━━━━━━━┳━━━━━━━━━━━━━━┳━━━━━━━━━━━━┳━━━━━━━━━┳━━━━━━━━━━━━━━┳━━━━━━━┳━━━━━━━━┳━━━━━━━━━━━┳━━━━━━━━━━━━┓\n",
       "┃\u001b[1m \u001b[0m\u001b[1mCar\u001b[0m\u001b[1m                      \u001b[0m\u001b[1m \u001b[0m┃\u001b[1m \u001b[0m\u001b[1mMPG\u001b[0m\u001b[1m    \u001b[0m\u001b[1m \u001b[0m┃\u001b[1m \u001b[0m\u001b[1mCylinders\u001b[0m\u001b[1m \u001b[0m┃\u001b[1m \u001b[0m\u001b[1mDisplacement\u001b[0m\u001b[1m \u001b[0m┃\u001b[1m \u001b[0m\u001b[1mHorsepower\u001b[0m\u001b[1m \u001b[0m┃\u001b[1m \u001b[0m\u001b[1mWeight\u001b[0m\u001b[1m \u001b[0m\u001b[1m \u001b[0m┃\u001b[1m \u001b[0m\u001b[1mAcceleration\u001b[0m\u001b[1m \u001b[0m┃\u001b[1m \u001b[0m\u001b[1mModel\u001b[0m\u001b[1m \u001b[0m┃\u001b[1m \u001b[0m\u001b[1mOrigin\u001b[0m\u001b[1m \u001b[0m┃\u001b[1m \u001b[0m\u001b[1mMake\u001b[0m\u001b[1m     \u001b[0m\u001b[1m \u001b[0m┃\u001b[1m \u001b[0m\u001b[1mModelName\u001b[0m\u001b[1m \u001b[0m\u001b[1m \u001b[0m┃\n",
       "┡━━━━━━━━━━━━━━━━━━━━━━━━━━━╇━━━━━━━━━╇━━━━━━━━━━━╇━━━━━━━━━━━━━━╇━━━━━━━━━━━━╇━━━━━━━━━╇━━━━━━━━━━━━━━╇━━━━━━━╇━━━━━━━━╇━━━━━━━━━━━╇━━━━━━━━━━━━┩\n",
       "│ \u001b[2mstring\u001b[0m                    │ \u001b[2mfloat64\u001b[0m │ \u001b[2mint64\u001b[0m     │ \u001b[2mfloat64\u001b[0m      │ \u001b[2mfloat64\u001b[0m    │ \u001b[2mfloat64\u001b[0m │ \u001b[2mfloat64\u001b[0m      │ \u001b[2mint64\u001b[0m │ \u001b[2mstring\u001b[0m │ \u001b[2mstring\u001b[0m    │ \u001b[2mstring\u001b[0m     │\n",
       "├───────────────────────────┼─────────┼───────────┼──────────────┼────────────┼─────────┼──────────────┼───────┼────────┼───────────┼────────────┤\n",
       "│ \u001b[32mChevrolet Chevelle Malibu\u001b[0m │    \u001b[1;36m18.0\u001b[0m │         \u001b[1;36m8\u001b[0m │        \u001b[1;36m307.0\u001b[0m │      \u001b[1;36m130.0\u001b[0m │  \u001b[1;36m3504.0\u001b[0m │         \u001b[1;36m12.0\u001b[0m │    \u001b[1;36m70\u001b[0m │ \u001b[32mUS    \u001b[0m │ \u001b[32mChevrolet\u001b[0m │ \u001b[32mChevelle  \u001b[0m │\n",
       "│ \u001b[32mBuick Skylark 320        \u001b[0m │    \u001b[1;36m15.0\u001b[0m │         \u001b[1;36m8\u001b[0m │        \u001b[1;36m350.0\u001b[0m │      \u001b[1;36m165.0\u001b[0m │  \u001b[1;36m3693.0\u001b[0m │         \u001b[1;36m11.5\u001b[0m │    \u001b[1;36m70\u001b[0m │ \u001b[32mUS    \u001b[0m │ \u001b[32mBuick    \u001b[0m │ \u001b[32mSkylark   \u001b[0m │\n",
       "│ \u001b[32mPlymouth Satellite       \u001b[0m │    \u001b[1;36m18.0\u001b[0m │         \u001b[1;36m8\u001b[0m │        \u001b[1;36m318.0\u001b[0m │      \u001b[1;36m150.0\u001b[0m │  \u001b[1;36m3436.0\u001b[0m │         \u001b[1;36m11.0\u001b[0m │    \u001b[1;36m70\u001b[0m │ \u001b[32mUS    \u001b[0m │ \u001b[32mPlymouth \u001b[0m │ \u001b[32mSatellite \u001b[0m │\n",
       "│ \u001b[32mAMC Rebel SST            \u001b[0m │    \u001b[1;36m16.0\u001b[0m │         \u001b[1;36m8\u001b[0m │        \u001b[1;36m304.0\u001b[0m │      \u001b[1;36m150.0\u001b[0m │  \u001b[1;36m3433.0\u001b[0m │         \u001b[1;36m12.0\u001b[0m │    \u001b[1;36m70\u001b[0m │ \u001b[32mUS    \u001b[0m │ \u001b[32mAMC      \u001b[0m │ \u001b[32mRebel     \u001b[0m │\n",
       "│ \u001b[32mFord Torino              \u001b[0m │    \u001b[1;36m17.0\u001b[0m │         \u001b[1;36m8\u001b[0m │        \u001b[1;36m302.0\u001b[0m │      \u001b[1;36m140.0\u001b[0m │  \u001b[1;36m3449.0\u001b[0m │         \u001b[1;36m10.5\u001b[0m │    \u001b[1;36m70\u001b[0m │ \u001b[32mUS    \u001b[0m │ \u001b[32mFord     \u001b[0m │ \u001b[32mTorino    \u001b[0m │\n",
       "│ \u001b[32mFord Galaxie 500         \u001b[0m │    \u001b[1;36m15.0\u001b[0m │         \u001b[1;36m8\u001b[0m │        \u001b[1;36m429.0\u001b[0m │      \u001b[1;36m198.0\u001b[0m │  \u001b[1;36m4341.0\u001b[0m │         \u001b[1;36m10.0\u001b[0m │    \u001b[1;36m70\u001b[0m │ \u001b[32mUS    \u001b[0m │ \u001b[32mFord     \u001b[0m │ \u001b[32mGalaxie   \u001b[0m │\n",
       "│ \u001b[32mChevrolet Impala         \u001b[0m │    \u001b[1;36m14.0\u001b[0m │         \u001b[1;36m8\u001b[0m │        \u001b[1;36m454.0\u001b[0m │      \u001b[1;36m220.0\u001b[0m │  \u001b[1;36m4354.0\u001b[0m │          \u001b[1;36m9.0\u001b[0m │    \u001b[1;36m70\u001b[0m │ \u001b[32mUS    \u001b[0m │ \u001b[32mChevrolet\u001b[0m │ \u001b[32mImpala    \u001b[0m │\n",
       "│ \u001b[32mPlymouth Fury iii        \u001b[0m │    \u001b[1;36m14.0\u001b[0m │         \u001b[1;36m8\u001b[0m │        \u001b[1;36m440.0\u001b[0m │      \u001b[1;36m215.0\u001b[0m │  \u001b[1;36m4312.0\u001b[0m │          \u001b[1;36m8.5\u001b[0m │    \u001b[1;36m70\u001b[0m │ \u001b[32mUS    \u001b[0m │ \u001b[32mPlymouth \u001b[0m │ \u001b[32mFury      \u001b[0m │\n",
       "│ \u001b[32mPontiac Catalina         \u001b[0m │    \u001b[1;36m14.0\u001b[0m │         \u001b[1;36m8\u001b[0m │        \u001b[1;36m455.0\u001b[0m │      \u001b[1;36m225.0\u001b[0m │  \u001b[1;36m4425.0\u001b[0m │         \u001b[1;36m10.0\u001b[0m │    \u001b[1;36m70\u001b[0m │ \u001b[32mUS    \u001b[0m │ \u001b[32mPontiac  \u001b[0m │ \u001b[32mCatalina  \u001b[0m │\n",
       "│ \u001b[32mAMC Ambassador DPL       \u001b[0m │    \u001b[1;36m15.0\u001b[0m │         \u001b[1;36m8\u001b[0m │        \u001b[1;36m390.0\u001b[0m │      \u001b[1;36m190.0\u001b[0m │  \u001b[1;36m3850.0\u001b[0m │          \u001b[1;36m8.5\u001b[0m │    \u001b[1;36m70\u001b[0m │ \u001b[32mUS    \u001b[0m │ \u001b[32mAMC      \u001b[0m │ \u001b[32mAmbassador\u001b[0m │\n",
       "│ \u001b[2m…\u001b[0m                         │       \u001b[2m…\u001b[0m │         \u001b[2m…\u001b[0m │            \u001b[2m…\u001b[0m │          \u001b[2m…\u001b[0m │       \u001b[2m…\u001b[0m │            \u001b[2m…\u001b[0m │     \u001b[2m…\u001b[0m │ \u001b[2m…\u001b[0m      │ \u001b[2m…\u001b[0m         │ \u001b[2m…\u001b[0m          │\n",
       "└───────────────────────────┴─────────┴───────────┴──────────────┴────────────┴─────────┴──────────────┴───────┴────────┴───────────┴────────────┘"
      ]
     },
     "execution_count": 25,
     "metadata": {},
     "output_type": "execute_result"
    }
   ],
   "source": [
    "cars"
   ]
  },
  {
   "cell_type": "markdown",
   "id": "0e848ac0-c4b1-4557-bf1a-c07a8e00d59b",
   "metadata": {},
   "source": [
    "When using `filter()` and multiple conditions, you need to wrap each condition with parenthesis.  When using boolean logic, use `&` and `|` symbols for `AND` or `OR` logic, respectively."
   ]
  },
  {
   "cell_type": "code",
   "execution_count": 26,
   "id": "fe133723-6c99-4d48-bfb7-d88d8b3534cb",
   "metadata": {
    "tags": []
   },
   "outputs": [
    {
     "data": {
      "text/html": [
       "<pre style=\"white-space:pre;overflow-x:auto;line-height:normal;font-family:Menlo,'DejaVu Sans Mono',consolas,'Courier New',monospace\"></pre>\n"
      ],
      "text/plain": []
     },
     "metadata": {},
     "output_type": "display_data"
    },
    {
     "data": {
      "text/plain": [
       "\u001b[1;36m29.118750000000002\u001b[0m"
      ]
     },
     "execution_count": 26,
     "metadata": {},
     "output_type": "execute_result"
    }
   ],
   "source": [
    "cars.filter(\n",
    "    (cars['MPG'] > 0)\n",
    "    & (cars['Cylinders'] < 5)\n",
    ")['MPG'].mean()"
   ]
  },
  {
   "cell_type": "code",
   "execution_count": 27,
   "id": "cf8495e9-44b3-42e0-ad99-46612a86a704",
   "metadata": {
    "tags": []
   },
   "outputs": [
    {
     "data": {
      "text/html": [
       "<pre style=\"white-space:pre;overflow-x:auto;line-height:normal;font-family:Menlo,'DejaVu Sans Mono',consolas,'Courier New',monospace\">┏━━━━━━━━━━━━━━━━━━━━━━━━━━━━━━┳━━━━━━━━━┳━━━━━━━━━━━┳━━━━━━━━━━━━━━┳━━━━━━━━━━━━┳━━━━━━━━━┳━━━━━━━━━━━━━━┳━━━━━━━┳━━━━━━━━┳━━━━━━━━━━━━┳━━━━━━━━━━━┓\n",
       "┃<span style=\"font-weight: bold\"> Car                          </span>┃<span style=\"font-weight: bold\"> MPG     </span>┃<span style=\"font-weight: bold\"> Cylinders </span>┃<span style=\"font-weight: bold\"> Displacement </span>┃<span style=\"font-weight: bold\"> Horsepower </span>┃<span style=\"font-weight: bold\"> Weight  </span>┃<span style=\"font-weight: bold\"> Acceleration </span>┃<span style=\"font-weight: bold\"> Model </span>┃<span style=\"font-weight: bold\"> Origin </span>┃<span style=\"font-weight: bold\"> Make       </span>┃<span style=\"font-weight: bold\"> ModelName </span>┃\n",
       "┡━━━━━━━━━━━━━━━━━━━━━━━━━━━━━━╇━━━━━━━━━╇━━━━━━━━━━━╇━━━━━━━━━━━━━━╇━━━━━━━━━━━━╇━━━━━━━━━╇━━━━━━━━━━━━━━╇━━━━━━━╇━━━━━━━━╇━━━━━━━━━━━━╇━━━━━━━━━━━┩\n",
       "│ <span style=\"color: #7f7f7f; text-decoration-color: #7f7f7f\">string</span>                       │ <span style=\"color: #7f7f7f; text-decoration-color: #7f7f7f\">float64</span> │ <span style=\"color: #7f7f7f; text-decoration-color: #7f7f7f\">int64</span>     │ <span style=\"color: #7f7f7f; text-decoration-color: #7f7f7f\">float64</span>      │ <span style=\"color: #7f7f7f; text-decoration-color: #7f7f7f\">float64</span>    │ <span style=\"color: #7f7f7f; text-decoration-color: #7f7f7f\">float64</span> │ <span style=\"color: #7f7f7f; text-decoration-color: #7f7f7f\">float64</span>      │ <span style=\"color: #7f7f7f; text-decoration-color: #7f7f7f\">int64</span> │ <span style=\"color: #7f7f7f; text-decoration-color: #7f7f7f\">string</span> │ <span style=\"color: #7f7f7f; text-decoration-color: #7f7f7f\">string</span>     │ <span style=\"color: #7f7f7f; text-decoration-color: #7f7f7f\">string</span>    │\n",
       "├──────────────────────────────┼─────────┼───────────┼──────────────┼────────────┼─────────┼──────────────┼───────┼────────┼────────────┼───────────┤\n",
       "│ <span style=\"color: #008000; text-decoration-color: #008000\">Toyota Corolla Mark ii      </span> │    <span style=\"color: #008080; text-decoration-color: #008080; font-weight: bold\">24.0</span> │         <span style=\"color: #008080; text-decoration-color: #008080; font-weight: bold\">4</span> │        <span style=\"color: #008080; text-decoration-color: #008080; font-weight: bold\">113.0</span> │       <span style=\"color: #008080; text-decoration-color: #008080; font-weight: bold\">95.0</span> │  <span style=\"color: #008080; text-decoration-color: #008080; font-weight: bold\">2372.0</span> │         <span style=\"color: #008080; text-decoration-color: #008080; font-weight: bold\">15.0</span> │    <span style=\"color: #008080; text-decoration-color: #008080; font-weight: bold\">70</span> │ <span style=\"color: #008000; text-decoration-color: #008000\">Japan </span> │ <span style=\"color: #008000; text-decoration-color: #008000\">Toyota    </span> │ <span style=\"color: #008000; text-decoration-color: #008000\">Corolla  </span> │\n",
       "│ <span style=\"color: #008000; text-decoration-color: #008000\">Datsun PL510                </span> │    <span style=\"color: #008080; text-decoration-color: #008080; font-weight: bold\">27.0</span> │         <span style=\"color: #008080; text-decoration-color: #008080; font-weight: bold\">4</span> │         <span style=\"color: #008080; text-decoration-color: #008080; font-weight: bold\">97.0</span> │       <span style=\"color: #008080; text-decoration-color: #008080; font-weight: bold\">88.0</span> │  <span style=\"color: #008080; text-decoration-color: #008080; font-weight: bold\">2130.0</span> │         <span style=\"color: #008080; text-decoration-color: #008080; font-weight: bold\">14.5</span> │    <span style=\"color: #008080; text-decoration-color: #008080; font-weight: bold\">70</span> │ <span style=\"color: #008000; text-decoration-color: #008000\">Japan </span> │ <span style=\"color: #008000; text-decoration-color: #008000\">Datsun    </span> │ <span style=\"color: #008000; text-decoration-color: #008000\">PL510    </span> │\n",
       "│ <span style=\"color: #008000; text-decoration-color: #008000\">Volkswagen 1131 Deluxe Sedan</span> │    <span style=\"color: #008080; text-decoration-color: #008080; font-weight: bold\">26.0</span> │         <span style=\"color: #008080; text-decoration-color: #008080; font-weight: bold\">4</span> │         <span style=\"color: #008080; text-decoration-color: #008080; font-weight: bold\">97.0</span> │       <span style=\"color: #008080; text-decoration-color: #008080; font-weight: bold\">46.0</span> │  <span style=\"color: #008080; text-decoration-color: #008080; font-weight: bold\">1835.0</span> │         <span style=\"color: #008080; text-decoration-color: #008080; font-weight: bold\">20.5</span> │    <span style=\"color: #008080; text-decoration-color: #008080; font-weight: bold\">70</span> │ <span style=\"color: #008000; text-decoration-color: #008000\">Europe</span> │ <span style=\"color: #008000; text-decoration-color: #008000\">Volkswagen</span> │ <span style=\"color: #008000; text-decoration-color: #008000\">1131     </span> │\n",
       "│ <span style=\"color: #008000; text-decoration-color: #008000\">Peugeot 504                 </span> │    <span style=\"color: #008080; text-decoration-color: #008080; font-weight: bold\">25.0</span> │         <span style=\"color: #008080; text-decoration-color: #008080; font-weight: bold\">4</span> │        <span style=\"color: #008080; text-decoration-color: #008080; font-weight: bold\">110.0</span> │       <span style=\"color: #008080; text-decoration-color: #008080; font-weight: bold\">87.0</span> │  <span style=\"color: #008080; text-decoration-color: #008080; font-weight: bold\">2672.0</span> │         <span style=\"color: #008080; text-decoration-color: #008080; font-weight: bold\">17.5</span> │    <span style=\"color: #008080; text-decoration-color: #008080; font-weight: bold\">70</span> │ <span style=\"color: #008000; text-decoration-color: #008000\">Europe</span> │ <span style=\"color: #008000; text-decoration-color: #008000\">Peugeot   </span> │ <span style=\"color: #008000; text-decoration-color: #008000\">504      </span> │\n",
       "│ <span style=\"color: #008000; text-decoration-color: #008000\">Audi 100 LS                 </span> │    <span style=\"color: #008080; text-decoration-color: #008080; font-weight: bold\">24.0</span> │         <span style=\"color: #008080; text-decoration-color: #008080; font-weight: bold\">4</span> │        <span style=\"color: #008080; text-decoration-color: #008080; font-weight: bold\">107.0</span> │       <span style=\"color: #008080; text-decoration-color: #008080; font-weight: bold\">90.0</span> │  <span style=\"color: #008080; text-decoration-color: #008080; font-weight: bold\">2430.0</span> │         <span style=\"color: #008080; text-decoration-color: #008080; font-weight: bold\">14.5</span> │    <span style=\"color: #008080; text-decoration-color: #008080; font-weight: bold\">70</span> │ <span style=\"color: #008000; text-decoration-color: #008000\">Europe</span> │ <span style=\"color: #008000; text-decoration-color: #008000\">Audi      </span> │ <span style=\"color: #008000; text-decoration-color: #008000\">100      </span> │\n",
       "│ <span style=\"color: #008000; text-decoration-color: #008000\">Saab 99e                    </span> │    <span style=\"color: #008080; text-decoration-color: #008080; font-weight: bold\">25.0</span> │         <span style=\"color: #008080; text-decoration-color: #008080; font-weight: bold\">4</span> │        <span style=\"color: #008080; text-decoration-color: #008080; font-weight: bold\">104.0</span> │       <span style=\"color: #008080; text-decoration-color: #008080; font-weight: bold\">95.0</span> │  <span style=\"color: #008080; text-decoration-color: #008080; font-weight: bold\">2375.0</span> │         <span style=\"color: #008080; text-decoration-color: #008080; font-weight: bold\">17.5</span> │    <span style=\"color: #008080; text-decoration-color: #008080; font-weight: bold\">70</span> │ <span style=\"color: #008000; text-decoration-color: #008000\">Europe</span> │ <span style=\"color: #008000; text-decoration-color: #008000\">Saab      </span> │ <span style=\"color: #008000; text-decoration-color: #008000\">99e      </span> │\n",
       "│ <span style=\"color: #008000; text-decoration-color: #008000\">BMW 2002                    </span> │    <span style=\"color: #008080; text-decoration-color: #008080; font-weight: bold\">26.0</span> │         <span style=\"color: #008080; text-decoration-color: #008080; font-weight: bold\">4</span> │        <span style=\"color: #008080; text-decoration-color: #008080; font-weight: bold\">121.0</span> │      <span style=\"color: #008080; text-decoration-color: #008080; font-weight: bold\">113.0</span> │  <span style=\"color: #008080; text-decoration-color: #008080; font-weight: bold\">2234.0</span> │         <span style=\"color: #008080; text-decoration-color: #008080; font-weight: bold\">12.5</span> │    <span style=\"color: #008080; text-decoration-color: #008080; font-weight: bold\">70</span> │ <span style=\"color: #008000; text-decoration-color: #008000\">Europe</span> │ <span style=\"color: #008000; text-decoration-color: #008000\">BMW       </span> │ <span style=\"color: #008000; text-decoration-color: #008000\">2002     </span> │\n",
       "│ <span style=\"color: #008000; text-decoration-color: #008000\">Datsun PL510                </span> │    <span style=\"color: #008080; text-decoration-color: #008080; font-weight: bold\">27.0</span> │         <span style=\"color: #008080; text-decoration-color: #008080; font-weight: bold\">4</span> │         <span style=\"color: #008080; text-decoration-color: #008080; font-weight: bold\">97.0</span> │       <span style=\"color: #008080; text-decoration-color: #008080; font-weight: bold\">88.0</span> │  <span style=\"color: #008080; text-decoration-color: #008080; font-weight: bold\">2130.0</span> │         <span style=\"color: #008080; text-decoration-color: #008080; font-weight: bold\">14.5</span> │    <span style=\"color: #008080; text-decoration-color: #008080; font-weight: bold\">71</span> │ <span style=\"color: #008000; text-decoration-color: #008000\">Japan </span> │ <span style=\"color: #008000; text-decoration-color: #008000\">Datsun    </span> │ <span style=\"color: #008000; text-decoration-color: #008000\">PL510    </span> │\n",
       "│ <span style=\"color: #008000; text-decoration-color: #008000\">Chevrolet Vega 2300         </span> │    <span style=\"color: #008080; text-decoration-color: #008080; font-weight: bold\">28.0</span> │         <span style=\"color: #008080; text-decoration-color: #008080; font-weight: bold\">4</span> │        <span style=\"color: #008080; text-decoration-color: #008080; font-weight: bold\">140.0</span> │       <span style=\"color: #008080; text-decoration-color: #008080; font-weight: bold\">90.0</span> │  <span style=\"color: #008080; text-decoration-color: #008080; font-weight: bold\">2264.0</span> │         <span style=\"color: #008080; text-decoration-color: #008080; font-weight: bold\">15.5</span> │    <span style=\"color: #008080; text-decoration-color: #008080; font-weight: bold\">71</span> │ <span style=\"color: #008000; text-decoration-color: #008000\">US    </span> │ <span style=\"color: #008000; text-decoration-color: #008000\">Chevrolet </span> │ <span style=\"color: #008000; text-decoration-color: #008000\">Vega     </span> │\n",
       "│ <span style=\"color: #008000; text-decoration-color: #008000\">Toyota Corolla              </span> │    <span style=\"color: #008080; text-decoration-color: #008080; font-weight: bold\">25.0</span> │         <span style=\"color: #008080; text-decoration-color: #008080; font-weight: bold\">4</span> │        <span style=\"color: #008080; text-decoration-color: #008080; font-weight: bold\">113.0</span> │       <span style=\"color: #008080; text-decoration-color: #008080; font-weight: bold\">95.0</span> │  <span style=\"color: #008080; text-decoration-color: #008080; font-weight: bold\">2228.0</span> │         <span style=\"color: #008080; text-decoration-color: #008080; font-weight: bold\">14.0</span> │    <span style=\"color: #008080; text-decoration-color: #008080; font-weight: bold\">71</span> │ <span style=\"color: #008000; text-decoration-color: #008000\">Japan </span> │ <span style=\"color: #008000; text-decoration-color: #008000\">Toyota    </span> │ <span style=\"color: #008000; text-decoration-color: #008000\">Corolla  </span> │\n",
       "│ <span style=\"color: #7f7f7f; text-decoration-color: #7f7f7f\">…</span>                            │       <span style=\"color: #7f7f7f; text-decoration-color: #7f7f7f\">…</span> │         <span style=\"color: #7f7f7f; text-decoration-color: #7f7f7f\">…</span> │            <span style=\"color: #7f7f7f; text-decoration-color: #7f7f7f\">…</span> │          <span style=\"color: #7f7f7f; text-decoration-color: #7f7f7f\">…</span> │       <span style=\"color: #7f7f7f; text-decoration-color: #7f7f7f\">…</span> │            <span style=\"color: #7f7f7f; text-decoration-color: #7f7f7f\">…</span> │     <span style=\"color: #7f7f7f; text-decoration-color: #7f7f7f\">…</span> │ <span style=\"color: #7f7f7f; text-decoration-color: #7f7f7f\">…</span>      │ <span style=\"color: #7f7f7f; text-decoration-color: #7f7f7f\">…</span>          │ <span style=\"color: #7f7f7f; text-decoration-color: #7f7f7f\">…</span>         │\n",
       "└──────────────────────────────┴─────────┴───────────┴──────────────┴────────────┴─────────┴──────────────┴───────┴────────┴────────────┴───────────┘\n",
       "</pre>\n"
      ],
      "text/plain": [
       "┏━━━━━━━━━━━━━━━━━━━━━━━━━━━━━━┳━━━━━━━━━┳━━━━━━━━━━━┳━━━━━━━━━━━━━━┳━━━━━━━━━━━━┳━━━━━━━━━┳━━━━━━━━━━━━━━┳━━━━━━━┳━━━━━━━━┳━━━━━━━━━━━━┳━━━━━━━━━━━┓\n",
       "┃\u001b[1m \u001b[0m\u001b[1mCar\u001b[0m\u001b[1m                         \u001b[0m\u001b[1m \u001b[0m┃\u001b[1m \u001b[0m\u001b[1mMPG\u001b[0m\u001b[1m    \u001b[0m\u001b[1m \u001b[0m┃\u001b[1m \u001b[0m\u001b[1mCylinders\u001b[0m\u001b[1m \u001b[0m┃\u001b[1m \u001b[0m\u001b[1mDisplacement\u001b[0m\u001b[1m \u001b[0m┃\u001b[1m \u001b[0m\u001b[1mHorsepower\u001b[0m\u001b[1m \u001b[0m┃\u001b[1m \u001b[0m\u001b[1mWeight\u001b[0m\u001b[1m \u001b[0m\u001b[1m \u001b[0m┃\u001b[1m \u001b[0m\u001b[1mAcceleration\u001b[0m\u001b[1m \u001b[0m┃\u001b[1m \u001b[0m\u001b[1mModel\u001b[0m\u001b[1m \u001b[0m┃\u001b[1m \u001b[0m\u001b[1mOrigin\u001b[0m\u001b[1m \u001b[0m┃\u001b[1m \u001b[0m\u001b[1mMake\u001b[0m\u001b[1m      \u001b[0m\u001b[1m \u001b[0m┃\u001b[1m \u001b[0m\u001b[1mModelName\u001b[0m\u001b[1m \u001b[0m┃\n",
       "┡━━━━━━━━━━━━━━━━━━━━━━━━━━━━━━╇━━━━━━━━━╇━━━━━━━━━━━╇━━━━━━━━━━━━━━╇━━━━━━━━━━━━╇━━━━━━━━━╇━━━━━━━━━━━━━━╇━━━━━━━╇━━━━━━━━╇━━━━━━━━━━━━╇━━━━━━━━━━━┩\n",
       "│ \u001b[2mstring\u001b[0m                       │ \u001b[2mfloat64\u001b[0m │ \u001b[2mint64\u001b[0m     │ \u001b[2mfloat64\u001b[0m      │ \u001b[2mfloat64\u001b[0m    │ \u001b[2mfloat64\u001b[0m │ \u001b[2mfloat64\u001b[0m      │ \u001b[2mint64\u001b[0m │ \u001b[2mstring\u001b[0m │ \u001b[2mstring\u001b[0m     │ \u001b[2mstring\u001b[0m    │\n",
       "├──────────────────────────────┼─────────┼───────────┼──────────────┼────────────┼─────────┼──────────────┼───────┼────────┼────────────┼───────────┤\n",
       "│ \u001b[32mToyota Corolla Mark ii      \u001b[0m │    \u001b[1;36m24.0\u001b[0m │         \u001b[1;36m4\u001b[0m │        \u001b[1;36m113.0\u001b[0m │       \u001b[1;36m95.0\u001b[0m │  \u001b[1;36m2372.0\u001b[0m │         \u001b[1;36m15.0\u001b[0m │    \u001b[1;36m70\u001b[0m │ \u001b[32mJapan \u001b[0m │ \u001b[32mToyota    \u001b[0m │ \u001b[32mCorolla  \u001b[0m │\n",
       "│ \u001b[32mDatsun PL510                \u001b[0m │    \u001b[1;36m27.0\u001b[0m │         \u001b[1;36m4\u001b[0m │         \u001b[1;36m97.0\u001b[0m │       \u001b[1;36m88.0\u001b[0m │  \u001b[1;36m2130.0\u001b[0m │         \u001b[1;36m14.5\u001b[0m │    \u001b[1;36m70\u001b[0m │ \u001b[32mJapan \u001b[0m │ \u001b[32mDatsun    \u001b[0m │ \u001b[32mPL510    \u001b[0m │\n",
       "│ \u001b[32mVolkswagen 1131 Deluxe Sedan\u001b[0m │    \u001b[1;36m26.0\u001b[0m │         \u001b[1;36m4\u001b[0m │         \u001b[1;36m97.0\u001b[0m │       \u001b[1;36m46.0\u001b[0m │  \u001b[1;36m1835.0\u001b[0m │         \u001b[1;36m20.5\u001b[0m │    \u001b[1;36m70\u001b[0m │ \u001b[32mEurope\u001b[0m │ \u001b[32mVolkswagen\u001b[0m │ \u001b[32m1131     \u001b[0m │\n",
       "│ \u001b[32mPeugeot 504                 \u001b[0m │    \u001b[1;36m25.0\u001b[0m │         \u001b[1;36m4\u001b[0m │        \u001b[1;36m110.0\u001b[0m │       \u001b[1;36m87.0\u001b[0m │  \u001b[1;36m2672.0\u001b[0m │         \u001b[1;36m17.5\u001b[0m │    \u001b[1;36m70\u001b[0m │ \u001b[32mEurope\u001b[0m │ \u001b[32mPeugeot   \u001b[0m │ \u001b[32m504      \u001b[0m │\n",
       "│ \u001b[32mAudi 100 LS                 \u001b[0m │    \u001b[1;36m24.0\u001b[0m │         \u001b[1;36m4\u001b[0m │        \u001b[1;36m107.0\u001b[0m │       \u001b[1;36m90.0\u001b[0m │  \u001b[1;36m2430.0\u001b[0m │         \u001b[1;36m14.5\u001b[0m │    \u001b[1;36m70\u001b[0m │ \u001b[32mEurope\u001b[0m │ \u001b[32mAudi      \u001b[0m │ \u001b[32m100      \u001b[0m │\n",
       "│ \u001b[32mSaab 99e                    \u001b[0m │    \u001b[1;36m25.0\u001b[0m │         \u001b[1;36m4\u001b[0m │        \u001b[1;36m104.0\u001b[0m │       \u001b[1;36m95.0\u001b[0m │  \u001b[1;36m2375.0\u001b[0m │         \u001b[1;36m17.5\u001b[0m │    \u001b[1;36m70\u001b[0m │ \u001b[32mEurope\u001b[0m │ \u001b[32mSaab      \u001b[0m │ \u001b[32m99e      \u001b[0m │\n",
       "│ \u001b[32mBMW 2002                    \u001b[0m │    \u001b[1;36m26.0\u001b[0m │         \u001b[1;36m4\u001b[0m │        \u001b[1;36m121.0\u001b[0m │      \u001b[1;36m113.0\u001b[0m │  \u001b[1;36m2234.0\u001b[0m │         \u001b[1;36m12.5\u001b[0m │    \u001b[1;36m70\u001b[0m │ \u001b[32mEurope\u001b[0m │ \u001b[32mBMW       \u001b[0m │ \u001b[32m2002     \u001b[0m │\n",
       "│ \u001b[32mDatsun PL510                \u001b[0m │    \u001b[1;36m27.0\u001b[0m │         \u001b[1;36m4\u001b[0m │         \u001b[1;36m97.0\u001b[0m │       \u001b[1;36m88.0\u001b[0m │  \u001b[1;36m2130.0\u001b[0m │         \u001b[1;36m14.5\u001b[0m │    \u001b[1;36m71\u001b[0m │ \u001b[32mJapan \u001b[0m │ \u001b[32mDatsun    \u001b[0m │ \u001b[32mPL510    \u001b[0m │\n",
       "│ \u001b[32mChevrolet Vega 2300         \u001b[0m │    \u001b[1;36m28.0\u001b[0m │         \u001b[1;36m4\u001b[0m │        \u001b[1;36m140.0\u001b[0m │       \u001b[1;36m90.0\u001b[0m │  \u001b[1;36m2264.0\u001b[0m │         \u001b[1;36m15.5\u001b[0m │    \u001b[1;36m71\u001b[0m │ \u001b[32mUS    \u001b[0m │ \u001b[32mChevrolet \u001b[0m │ \u001b[32mVega     \u001b[0m │\n",
       "│ \u001b[32mToyota Corolla              \u001b[0m │    \u001b[1;36m25.0\u001b[0m │         \u001b[1;36m4\u001b[0m │        \u001b[1;36m113.0\u001b[0m │       \u001b[1;36m95.0\u001b[0m │  \u001b[1;36m2228.0\u001b[0m │         \u001b[1;36m14.0\u001b[0m │    \u001b[1;36m71\u001b[0m │ \u001b[32mJapan \u001b[0m │ \u001b[32mToyota    \u001b[0m │ \u001b[32mCorolla  \u001b[0m │\n",
       "│ \u001b[2m…\u001b[0m                            │       \u001b[2m…\u001b[0m │         \u001b[2m…\u001b[0m │            \u001b[2m…\u001b[0m │          \u001b[2m…\u001b[0m │       \u001b[2m…\u001b[0m │            \u001b[2m…\u001b[0m │     \u001b[2m…\u001b[0m │ \u001b[2m…\u001b[0m      │ \u001b[2m…\u001b[0m          │ \u001b[2m…\u001b[0m         │\n",
       "└──────────────────────────────┴─────────┴───────────┴──────────────┴────────────┴─────────┴──────────────┴───────┴────────┴────────────┴───────────┘"
      ]
     },
     "execution_count": 27,
     "metadata": {},
     "output_type": "execute_result"
    }
   ],
   "source": [
    "cars.filter(\n",
    "    (cars['MPG'] > 0) & (cars['Cylinders'] < 5)\n",
    ")"
   ]
  },
  {
   "cell_type": "code",
   "execution_count": 28,
   "id": "6fb1ba99-f12a-4585-b6aa-2ecba3f24ab2",
   "metadata": {
    "tags": []
   },
   "outputs": [
    {
     "data": {
      "text/html": [
       "<pre style=\"white-space:pre;overflow-x:auto;line-height:normal;font-family:Menlo,'DejaVu Sans Mono',consolas,'Courier New',monospace\">┏━━━━━━━━━━━━━━━━━━━━━━━━━━━━━━┳━━━━━━━━━┳━━━━━━━━━━━┳━━━━━━━━━━━━━━┳━━━━━━━━━━━━┳━━━━━━━━━┳━━━━━━━━━━━━━━┳━━━━━━━┳━━━━━━━━┳━━━━━━━━━━━━┳━━━━━━━━━━━┓\n",
       "┃<span style=\"font-weight: bold\"> Car                          </span>┃<span style=\"font-weight: bold\"> MPG     </span>┃<span style=\"font-weight: bold\"> Cylinders </span>┃<span style=\"font-weight: bold\"> Displacement </span>┃<span style=\"font-weight: bold\"> Horsepower </span>┃<span style=\"font-weight: bold\"> Weight  </span>┃<span style=\"font-weight: bold\"> Acceleration </span>┃<span style=\"font-weight: bold\"> Model </span>┃<span style=\"font-weight: bold\"> Origin </span>┃<span style=\"font-weight: bold\"> Make       </span>┃<span style=\"font-weight: bold\"> ModelName </span>┃\n",
       "┡━━━━━━━━━━━━━━━━━━━━━━━━━━━━━━╇━━━━━━━━━╇━━━━━━━━━━━╇━━━━━━━━━━━━━━╇━━━━━━━━━━━━╇━━━━━━━━━╇━━━━━━━━━━━━━━╇━━━━━━━╇━━━━━━━━╇━━━━━━━━━━━━╇━━━━━━━━━━━┩\n",
       "│ <span style=\"color: #7f7f7f; text-decoration-color: #7f7f7f\">string</span>                       │ <span style=\"color: #7f7f7f; text-decoration-color: #7f7f7f\">float64</span> │ <span style=\"color: #7f7f7f; text-decoration-color: #7f7f7f\">int64</span>     │ <span style=\"color: #7f7f7f; text-decoration-color: #7f7f7f\">float64</span>      │ <span style=\"color: #7f7f7f; text-decoration-color: #7f7f7f\">float64</span>    │ <span style=\"color: #7f7f7f; text-decoration-color: #7f7f7f\">float64</span> │ <span style=\"color: #7f7f7f; text-decoration-color: #7f7f7f\">float64</span>      │ <span style=\"color: #7f7f7f; text-decoration-color: #7f7f7f\">int64</span> │ <span style=\"color: #7f7f7f; text-decoration-color: #7f7f7f\">string</span> │ <span style=\"color: #7f7f7f; text-decoration-color: #7f7f7f\">string</span>     │ <span style=\"color: #7f7f7f; text-decoration-color: #7f7f7f\">string</span>    │\n",
       "├──────────────────────────────┼─────────┼───────────┼──────────────┼────────────┼─────────┼──────────────┼───────┼────────┼────────────┼───────────┤\n",
       "│ <span style=\"color: #008000; text-decoration-color: #008000\">Toyota Corolla Mark ii      </span> │    <span style=\"color: #008080; text-decoration-color: #008080; font-weight: bold\">24.0</span> │         <span style=\"color: #008080; text-decoration-color: #008080; font-weight: bold\">4</span> │        <span style=\"color: #008080; text-decoration-color: #008080; font-weight: bold\">113.0</span> │       <span style=\"color: #008080; text-decoration-color: #008080; font-weight: bold\">95.0</span> │  <span style=\"color: #008080; text-decoration-color: #008080; font-weight: bold\">2372.0</span> │         <span style=\"color: #008080; text-decoration-color: #008080; font-weight: bold\">15.0</span> │    <span style=\"color: #008080; text-decoration-color: #008080; font-weight: bold\">70</span> │ <span style=\"color: #008000; text-decoration-color: #008000\">Japan </span> │ <span style=\"color: #008000; text-decoration-color: #008000\">Toyota    </span> │ <span style=\"color: #008000; text-decoration-color: #008000\">Corolla  </span> │\n",
       "│ <span style=\"color: #008000; text-decoration-color: #008000\">Datsun PL510                </span> │    <span style=\"color: #008080; text-decoration-color: #008080; font-weight: bold\">27.0</span> │         <span style=\"color: #008080; text-decoration-color: #008080; font-weight: bold\">4</span> │         <span style=\"color: #008080; text-decoration-color: #008080; font-weight: bold\">97.0</span> │       <span style=\"color: #008080; text-decoration-color: #008080; font-weight: bold\">88.0</span> │  <span style=\"color: #008080; text-decoration-color: #008080; font-weight: bold\">2130.0</span> │         <span style=\"color: #008080; text-decoration-color: #008080; font-weight: bold\">14.5</span> │    <span style=\"color: #008080; text-decoration-color: #008080; font-weight: bold\">70</span> │ <span style=\"color: #008000; text-decoration-color: #008000\">Japan </span> │ <span style=\"color: #008000; text-decoration-color: #008000\">Datsun    </span> │ <span style=\"color: #008000; text-decoration-color: #008000\">PL510    </span> │\n",
       "│ <span style=\"color: #008000; text-decoration-color: #008000\">Volkswagen 1131 Deluxe Sedan</span> │    <span style=\"color: #008080; text-decoration-color: #008080; font-weight: bold\">26.0</span> │         <span style=\"color: #008080; text-decoration-color: #008080; font-weight: bold\">4</span> │         <span style=\"color: #008080; text-decoration-color: #008080; font-weight: bold\">97.0</span> │       <span style=\"color: #008080; text-decoration-color: #008080; font-weight: bold\">46.0</span> │  <span style=\"color: #008080; text-decoration-color: #008080; font-weight: bold\">1835.0</span> │         <span style=\"color: #008080; text-decoration-color: #008080; font-weight: bold\">20.5</span> │    <span style=\"color: #008080; text-decoration-color: #008080; font-weight: bold\">70</span> │ <span style=\"color: #008000; text-decoration-color: #008000\">Europe</span> │ <span style=\"color: #008000; text-decoration-color: #008000\">Volkswagen</span> │ <span style=\"color: #008000; text-decoration-color: #008000\">1131     </span> │\n",
       "│ <span style=\"color: #008000; text-decoration-color: #008000\">Peugeot 504                 </span> │    <span style=\"color: #008080; text-decoration-color: #008080; font-weight: bold\">25.0</span> │         <span style=\"color: #008080; text-decoration-color: #008080; font-weight: bold\">4</span> │        <span style=\"color: #008080; text-decoration-color: #008080; font-weight: bold\">110.0</span> │       <span style=\"color: #008080; text-decoration-color: #008080; font-weight: bold\">87.0</span> │  <span style=\"color: #008080; text-decoration-color: #008080; font-weight: bold\">2672.0</span> │         <span style=\"color: #008080; text-decoration-color: #008080; font-weight: bold\">17.5</span> │    <span style=\"color: #008080; text-decoration-color: #008080; font-weight: bold\">70</span> │ <span style=\"color: #008000; text-decoration-color: #008000\">Europe</span> │ <span style=\"color: #008000; text-decoration-color: #008000\">Peugeot   </span> │ <span style=\"color: #008000; text-decoration-color: #008000\">504      </span> │\n",
       "│ <span style=\"color: #008000; text-decoration-color: #008000\">Audi 100 LS                 </span> │    <span style=\"color: #008080; text-decoration-color: #008080; font-weight: bold\">24.0</span> │         <span style=\"color: #008080; text-decoration-color: #008080; font-weight: bold\">4</span> │        <span style=\"color: #008080; text-decoration-color: #008080; font-weight: bold\">107.0</span> │       <span style=\"color: #008080; text-decoration-color: #008080; font-weight: bold\">90.0</span> │  <span style=\"color: #008080; text-decoration-color: #008080; font-weight: bold\">2430.0</span> │         <span style=\"color: #008080; text-decoration-color: #008080; font-weight: bold\">14.5</span> │    <span style=\"color: #008080; text-decoration-color: #008080; font-weight: bold\">70</span> │ <span style=\"color: #008000; text-decoration-color: #008000\">Europe</span> │ <span style=\"color: #008000; text-decoration-color: #008000\">Audi      </span> │ <span style=\"color: #008000; text-decoration-color: #008000\">100      </span> │\n",
       "│ <span style=\"color: #008000; text-decoration-color: #008000\">Saab 99e                    </span> │    <span style=\"color: #008080; text-decoration-color: #008080; font-weight: bold\">25.0</span> │         <span style=\"color: #008080; text-decoration-color: #008080; font-weight: bold\">4</span> │        <span style=\"color: #008080; text-decoration-color: #008080; font-weight: bold\">104.0</span> │       <span style=\"color: #008080; text-decoration-color: #008080; font-weight: bold\">95.0</span> │  <span style=\"color: #008080; text-decoration-color: #008080; font-weight: bold\">2375.0</span> │         <span style=\"color: #008080; text-decoration-color: #008080; font-weight: bold\">17.5</span> │    <span style=\"color: #008080; text-decoration-color: #008080; font-weight: bold\">70</span> │ <span style=\"color: #008000; text-decoration-color: #008000\">Europe</span> │ <span style=\"color: #008000; text-decoration-color: #008000\">Saab      </span> │ <span style=\"color: #008000; text-decoration-color: #008000\">99e      </span> │\n",
       "│ <span style=\"color: #008000; text-decoration-color: #008000\">BMW 2002                    </span> │    <span style=\"color: #008080; text-decoration-color: #008080; font-weight: bold\">26.0</span> │         <span style=\"color: #008080; text-decoration-color: #008080; font-weight: bold\">4</span> │        <span style=\"color: #008080; text-decoration-color: #008080; font-weight: bold\">121.0</span> │      <span style=\"color: #008080; text-decoration-color: #008080; font-weight: bold\">113.0</span> │  <span style=\"color: #008080; text-decoration-color: #008080; font-weight: bold\">2234.0</span> │         <span style=\"color: #008080; text-decoration-color: #008080; font-weight: bold\">12.5</span> │    <span style=\"color: #008080; text-decoration-color: #008080; font-weight: bold\">70</span> │ <span style=\"color: #008000; text-decoration-color: #008000\">Europe</span> │ <span style=\"color: #008000; text-decoration-color: #008000\">BMW       </span> │ <span style=\"color: #008000; text-decoration-color: #008000\">2002     </span> │\n",
       "│ <span style=\"color: #008000; text-decoration-color: #008000\">Datsun PL510                </span> │    <span style=\"color: #008080; text-decoration-color: #008080; font-weight: bold\">27.0</span> │         <span style=\"color: #008080; text-decoration-color: #008080; font-weight: bold\">4</span> │         <span style=\"color: #008080; text-decoration-color: #008080; font-weight: bold\">97.0</span> │       <span style=\"color: #008080; text-decoration-color: #008080; font-weight: bold\">88.0</span> │  <span style=\"color: #008080; text-decoration-color: #008080; font-weight: bold\">2130.0</span> │         <span style=\"color: #008080; text-decoration-color: #008080; font-weight: bold\">14.5</span> │    <span style=\"color: #008080; text-decoration-color: #008080; font-weight: bold\">71</span> │ <span style=\"color: #008000; text-decoration-color: #008000\">Japan </span> │ <span style=\"color: #008000; text-decoration-color: #008000\">Datsun    </span> │ <span style=\"color: #008000; text-decoration-color: #008000\">PL510    </span> │\n",
       "│ <span style=\"color: #008000; text-decoration-color: #008000\">Chevrolet Vega 2300         </span> │    <span style=\"color: #008080; text-decoration-color: #008080; font-weight: bold\">28.0</span> │         <span style=\"color: #008080; text-decoration-color: #008080; font-weight: bold\">4</span> │        <span style=\"color: #008080; text-decoration-color: #008080; font-weight: bold\">140.0</span> │       <span style=\"color: #008080; text-decoration-color: #008080; font-weight: bold\">90.0</span> │  <span style=\"color: #008080; text-decoration-color: #008080; font-weight: bold\">2264.0</span> │         <span style=\"color: #008080; text-decoration-color: #008080; font-weight: bold\">15.5</span> │    <span style=\"color: #008080; text-decoration-color: #008080; font-weight: bold\">71</span> │ <span style=\"color: #008000; text-decoration-color: #008000\">US    </span> │ <span style=\"color: #008000; text-decoration-color: #008000\">Chevrolet </span> │ <span style=\"color: #008000; text-decoration-color: #008000\">Vega     </span> │\n",
       "│ <span style=\"color: #008000; text-decoration-color: #008000\">Toyota Corolla              </span> │    <span style=\"color: #008080; text-decoration-color: #008080; font-weight: bold\">25.0</span> │         <span style=\"color: #008080; text-decoration-color: #008080; font-weight: bold\">4</span> │        <span style=\"color: #008080; text-decoration-color: #008080; font-weight: bold\">113.0</span> │       <span style=\"color: #008080; text-decoration-color: #008080; font-weight: bold\">95.0</span> │  <span style=\"color: #008080; text-decoration-color: #008080; font-weight: bold\">2228.0</span> │         <span style=\"color: #008080; text-decoration-color: #008080; font-weight: bold\">14.0</span> │    <span style=\"color: #008080; text-decoration-color: #008080; font-weight: bold\">71</span> │ <span style=\"color: #008000; text-decoration-color: #008000\">Japan </span> │ <span style=\"color: #008000; text-decoration-color: #008000\">Toyota    </span> │ <span style=\"color: #008000; text-decoration-color: #008000\">Corolla  </span> │\n",
       "│ <span style=\"color: #7f7f7f; text-decoration-color: #7f7f7f\">…</span>                            │       <span style=\"color: #7f7f7f; text-decoration-color: #7f7f7f\">…</span> │         <span style=\"color: #7f7f7f; text-decoration-color: #7f7f7f\">…</span> │            <span style=\"color: #7f7f7f; text-decoration-color: #7f7f7f\">…</span> │          <span style=\"color: #7f7f7f; text-decoration-color: #7f7f7f\">…</span> │       <span style=\"color: #7f7f7f; text-decoration-color: #7f7f7f\">…</span> │            <span style=\"color: #7f7f7f; text-decoration-color: #7f7f7f\">…</span> │     <span style=\"color: #7f7f7f; text-decoration-color: #7f7f7f\">…</span> │ <span style=\"color: #7f7f7f; text-decoration-color: #7f7f7f\">…</span>      │ <span style=\"color: #7f7f7f; text-decoration-color: #7f7f7f\">…</span>          │ <span style=\"color: #7f7f7f; text-decoration-color: #7f7f7f\">…</span>         │\n",
       "└──────────────────────────────┴─────────┴───────────┴──────────────┴────────────┴─────────┴──────────────┴───────┴────────┴────────────┴───────────┘\n",
       "</pre>\n"
      ],
      "text/plain": [
       "┏━━━━━━━━━━━━━━━━━━━━━━━━━━━━━━┳━━━━━━━━━┳━━━━━━━━━━━┳━━━━━━━━━━━━━━┳━━━━━━━━━━━━┳━━━━━━━━━┳━━━━━━━━━━━━━━┳━━━━━━━┳━━━━━━━━┳━━━━━━━━━━━━┳━━━━━━━━━━━┓\n",
       "┃\u001b[1m \u001b[0m\u001b[1mCar\u001b[0m\u001b[1m                         \u001b[0m\u001b[1m \u001b[0m┃\u001b[1m \u001b[0m\u001b[1mMPG\u001b[0m\u001b[1m    \u001b[0m\u001b[1m \u001b[0m┃\u001b[1m \u001b[0m\u001b[1mCylinders\u001b[0m\u001b[1m \u001b[0m┃\u001b[1m \u001b[0m\u001b[1mDisplacement\u001b[0m\u001b[1m \u001b[0m┃\u001b[1m \u001b[0m\u001b[1mHorsepower\u001b[0m\u001b[1m \u001b[0m┃\u001b[1m \u001b[0m\u001b[1mWeight\u001b[0m\u001b[1m \u001b[0m\u001b[1m \u001b[0m┃\u001b[1m \u001b[0m\u001b[1mAcceleration\u001b[0m\u001b[1m \u001b[0m┃\u001b[1m \u001b[0m\u001b[1mModel\u001b[0m\u001b[1m \u001b[0m┃\u001b[1m \u001b[0m\u001b[1mOrigin\u001b[0m\u001b[1m \u001b[0m┃\u001b[1m \u001b[0m\u001b[1mMake\u001b[0m\u001b[1m      \u001b[0m\u001b[1m \u001b[0m┃\u001b[1m \u001b[0m\u001b[1mModelName\u001b[0m\u001b[1m \u001b[0m┃\n",
       "┡━━━━━━━━━━━━━━━━━━━━━━━━━━━━━━╇━━━━━━━━━╇━━━━━━━━━━━╇━━━━━━━━━━━━━━╇━━━━━━━━━━━━╇━━━━━━━━━╇━━━━━━━━━━━━━━╇━━━━━━━╇━━━━━━━━╇━━━━━━━━━━━━╇━━━━━━━━━━━┩\n",
       "│ \u001b[2mstring\u001b[0m                       │ \u001b[2mfloat64\u001b[0m │ \u001b[2mint64\u001b[0m     │ \u001b[2mfloat64\u001b[0m      │ \u001b[2mfloat64\u001b[0m    │ \u001b[2mfloat64\u001b[0m │ \u001b[2mfloat64\u001b[0m      │ \u001b[2mint64\u001b[0m │ \u001b[2mstring\u001b[0m │ \u001b[2mstring\u001b[0m     │ \u001b[2mstring\u001b[0m    │\n",
       "├──────────────────────────────┼─────────┼───────────┼──────────────┼────────────┼─────────┼──────────────┼───────┼────────┼────────────┼───────────┤\n",
       "│ \u001b[32mToyota Corolla Mark ii      \u001b[0m │    \u001b[1;36m24.0\u001b[0m │         \u001b[1;36m4\u001b[0m │        \u001b[1;36m113.0\u001b[0m │       \u001b[1;36m95.0\u001b[0m │  \u001b[1;36m2372.0\u001b[0m │         \u001b[1;36m15.0\u001b[0m │    \u001b[1;36m70\u001b[0m │ \u001b[32mJapan \u001b[0m │ \u001b[32mToyota    \u001b[0m │ \u001b[32mCorolla  \u001b[0m │\n",
       "│ \u001b[32mDatsun PL510                \u001b[0m │    \u001b[1;36m27.0\u001b[0m │         \u001b[1;36m4\u001b[0m │         \u001b[1;36m97.0\u001b[0m │       \u001b[1;36m88.0\u001b[0m │  \u001b[1;36m2130.0\u001b[0m │         \u001b[1;36m14.5\u001b[0m │    \u001b[1;36m70\u001b[0m │ \u001b[32mJapan \u001b[0m │ \u001b[32mDatsun    \u001b[0m │ \u001b[32mPL510    \u001b[0m │\n",
       "│ \u001b[32mVolkswagen 1131 Deluxe Sedan\u001b[0m │    \u001b[1;36m26.0\u001b[0m │         \u001b[1;36m4\u001b[0m │         \u001b[1;36m97.0\u001b[0m │       \u001b[1;36m46.0\u001b[0m │  \u001b[1;36m1835.0\u001b[0m │         \u001b[1;36m20.5\u001b[0m │    \u001b[1;36m70\u001b[0m │ \u001b[32mEurope\u001b[0m │ \u001b[32mVolkswagen\u001b[0m │ \u001b[32m1131     \u001b[0m │\n",
       "│ \u001b[32mPeugeot 504                 \u001b[0m │    \u001b[1;36m25.0\u001b[0m │         \u001b[1;36m4\u001b[0m │        \u001b[1;36m110.0\u001b[0m │       \u001b[1;36m87.0\u001b[0m │  \u001b[1;36m2672.0\u001b[0m │         \u001b[1;36m17.5\u001b[0m │    \u001b[1;36m70\u001b[0m │ \u001b[32mEurope\u001b[0m │ \u001b[32mPeugeot   \u001b[0m │ \u001b[32m504      \u001b[0m │\n",
       "│ \u001b[32mAudi 100 LS                 \u001b[0m │    \u001b[1;36m24.0\u001b[0m │         \u001b[1;36m4\u001b[0m │        \u001b[1;36m107.0\u001b[0m │       \u001b[1;36m90.0\u001b[0m │  \u001b[1;36m2430.0\u001b[0m │         \u001b[1;36m14.5\u001b[0m │    \u001b[1;36m70\u001b[0m │ \u001b[32mEurope\u001b[0m │ \u001b[32mAudi      \u001b[0m │ \u001b[32m100      \u001b[0m │\n",
       "│ \u001b[32mSaab 99e                    \u001b[0m │    \u001b[1;36m25.0\u001b[0m │         \u001b[1;36m4\u001b[0m │        \u001b[1;36m104.0\u001b[0m │       \u001b[1;36m95.0\u001b[0m │  \u001b[1;36m2375.0\u001b[0m │         \u001b[1;36m17.5\u001b[0m │    \u001b[1;36m70\u001b[0m │ \u001b[32mEurope\u001b[0m │ \u001b[32mSaab      \u001b[0m │ \u001b[32m99e      \u001b[0m │\n",
       "│ \u001b[32mBMW 2002                    \u001b[0m │    \u001b[1;36m26.0\u001b[0m │         \u001b[1;36m4\u001b[0m │        \u001b[1;36m121.0\u001b[0m │      \u001b[1;36m113.0\u001b[0m │  \u001b[1;36m2234.0\u001b[0m │         \u001b[1;36m12.5\u001b[0m │    \u001b[1;36m70\u001b[0m │ \u001b[32mEurope\u001b[0m │ \u001b[32mBMW       \u001b[0m │ \u001b[32m2002     \u001b[0m │\n",
       "│ \u001b[32mDatsun PL510                \u001b[0m │    \u001b[1;36m27.0\u001b[0m │         \u001b[1;36m4\u001b[0m │         \u001b[1;36m97.0\u001b[0m │       \u001b[1;36m88.0\u001b[0m │  \u001b[1;36m2130.0\u001b[0m │         \u001b[1;36m14.5\u001b[0m │    \u001b[1;36m71\u001b[0m │ \u001b[32mJapan \u001b[0m │ \u001b[32mDatsun    \u001b[0m │ \u001b[32mPL510    \u001b[0m │\n",
       "│ \u001b[32mChevrolet Vega 2300         \u001b[0m │    \u001b[1;36m28.0\u001b[0m │         \u001b[1;36m4\u001b[0m │        \u001b[1;36m140.0\u001b[0m │       \u001b[1;36m90.0\u001b[0m │  \u001b[1;36m2264.0\u001b[0m │         \u001b[1;36m15.5\u001b[0m │    \u001b[1;36m71\u001b[0m │ \u001b[32mUS    \u001b[0m │ \u001b[32mChevrolet \u001b[0m │ \u001b[32mVega     \u001b[0m │\n",
       "│ \u001b[32mToyota Corolla              \u001b[0m │    \u001b[1;36m25.0\u001b[0m │         \u001b[1;36m4\u001b[0m │        \u001b[1;36m113.0\u001b[0m │       \u001b[1;36m95.0\u001b[0m │  \u001b[1;36m2228.0\u001b[0m │         \u001b[1;36m14.0\u001b[0m │    \u001b[1;36m71\u001b[0m │ \u001b[32mJapan \u001b[0m │ \u001b[32mToyota    \u001b[0m │ \u001b[32mCorolla  \u001b[0m │\n",
       "│ \u001b[2m…\u001b[0m                            │       \u001b[2m…\u001b[0m │         \u001b[2m…\u001b[0m │            \u001b[2m…\u001b[0m │          \u001b[2m…\u001b[0m │       \u001b[2m…\u001b[0m │            \u001b[2m…\u001b[0m │     \u001b[2m…\u001b[0m │ \u001b[2m…\u001b[0m      │ \u001b[2m…\u001b[0m          │ \u001b[2m…\u001b[0m         │\n",
       "└──────────────────────────────┴─────────┴───────────┴──────────────┴────────────┴─────────┴──────────────┴───────┴────────┴────────────┴───────────┘"
      ]
     },
     "execution_count": 28,
     "metadata": {},
     "output_type": "execute_result"
    }
   ],
   "source": [
    "min_mpg = 0\n",
    "max_cyl = 5\n",
    "condition = (cars['MPG'] > min_mpg) & (cars['Cylinders'] < max_cyl)\n",
    "\n",
    "cars.filter(condition)"
   ]
  },
  {
   "cell_type": "markdown",
   "id": "8ca26d42-6d34-4fc4-9b6c-f15b294d4ce2",
   "metadata": {},
   "source": [
    "<a id=\"pandas_to_ibis\">"
   ]
  },
  {
   "cell_type": "markdown",
   "id": "5d483a89-5958-4406-b6c7-95f5e855c4b5",
   "metadata": {},
   "source": [
    "## Convert Pandas dataframe to Ibis table expression"
   ]
  },
  {
   "cell_type": "markdown",
   "id": "f37ee6a4-d69d-4f93-b674-532cff43ab2a",
   "metadata": {},
   "source": [
    "[[back to top]](#back_to_top)"
   ]
  },
  {
   "cell_type": "code",
   "execution_count": 29,
   "id": "c19b8c82-7cea-4f4b-b1df-76c620f34fa8",
   "metadata": {},
   "outputs": [],
   "source": [
    "data = pd.DataFrame({'k1': ['one'] * 3 + ['two'] * 4 + ['three'] * 1, 'k2': [3, 2, 1, 3, 3, 4, 4, 1]})"
   ]
  },
  {
   "cell_type": "code",
   "execution_count": 30,
   "id": "686ed10d-21b1-4adb-8f19-2e124f1dce9e",
   "metadata": {},
   "outputs": [
    {
     "data": {
      "text/html": [
       "<div>\n",
       "<style scoped>\n",
       "    .dataframe tbody tr th:only-of-type {\n",
       "        vertical-align: middle;\n",
       "    }\n",
       "\n",
       "    .dataframe tbody tr th {\n",
       "        vertical-align: top;\n",
       "    }\n",
       "\n",
       "    .dataframe thead th {\n",
       "        text-align: right;\n",
       "    }\n",
       "</style>\n",
       "<table border=\"1\" class=\"dataframe\">\n",
       "  <thead>\n",
       "    <tr style=\"text-align: right;\">\n",
       "      <th></th>\n",
       "      <th>k1</th>\n",
       "      <th>k2</th>\n",
       "    </tr>\n",
       "  </thead>\n",
       "  <tbody>\n",
       "    <tr>\n",
       "      <th>0</th>\n",
       "      <td>one</td>\n",
       "      <td>3</td>\n",
       "    </tr>\n",
       "    <tr>\n",
       "      <th>1</th>\n",
       "      <td>one</td>\n",
       "      <td>2</td>\n",
       "    </tr>\n",
       "    <tr>\n",
       "      <th>2</th>\n",
       "      <td>one</td>\n",
       "      <td>1</td>\n",
       "    </tr>\n",
       "    <tr>\n",
       "      <th>3</th>\n",
       "      <td>two</td>\n",
       "      <td>3</td>\n",
       "    </tr>\n",
       "    <tr>\n",
       "      <th>4</th>\n",
       "      <td>two</td>\n",
       "      <td>3</td>\n",
       "    </tr>\n",
       "    <tr>\n",
       "      <th>5</th>\n",
       "      <td>two</td>\n",
       "      <td>4</td>\n",
       "    </tr>\n",
       "    <tr>\n",
       "      <th>6</th>\n",
       "      <td>two</td>\n",
       "      <td>4</td>\n",
       "    </tr>\n",
       "    <tr>\n",
       "      <th>7</th>\n",
       "      <td>three</td>\n",
       "      <td>1</td>\n",
       "    </tr>\n",
       "  </tbody>\n",
       "</table>\n",
       "</div>"
      ],
      "text/plain": [
       "      k1  k2\n",
       "0    one   3\n",
       "1    one   2\n",
       "2    one   1\n",
       "3    two   3\n",
       "4    two   3\n",
       "5    two   4\n",
       "6    two   4\n",
       "7  three   1"
      ]
     },
     "execution_count": 30,
     "metadata": {},
     "output_type": "execute_result"
    }
   ],
   "source": [
    "data"
   ]
  },
  {
   "cell_type": "code",
   "execution_count": 31,
   "id": "16d484aa-20a6-49cf-bc6a-723a92f25f7a",
   "metadata": {},
   "outputs": [],
   "source": [
    "ibis_data = ibis.memtable(data)"
   ]
  },
  {
   "cell_type": "code",
   "execution_count": 32,
   "id": "4a8c58f5-2505-4f54-93be-eb9d69c6fb3a",
   "metadata": {},
   "outputs": [
    {
     "data": {
      "text/html": [
       "<pre style=\"white-space:pre;overflow-x:auto;line-height:normal;font-family:Menlo,'DejaVu Sans Mono',consolas,'Courier New',monospace\">┏━━━━━━━━┳━━━━━━━┓\n",
       "┃<span style=\"font-weight: bold\"> k1     </span>┃<span style=\"font-weight: bold\"> k2    </span>┃\n",
       "┡━━━━━━━━╇━━━━━━━┩\n",
       "│ <span style=\"color: #7f7f7f; text-decoration-color: #7f7f7f\">string</span> │ <span style=\"color: #7f7f7f; text-decoration-color: #7f7f7f\">int64</span> │\n",
       "├────────┼───────┤\n",
       "│ <span style=\"color: #008000; text-decoration-color: #008000\">one   </span> │     <span style=\"color: #008080; text-decoration-color: #008080; font-weight: bold\">3</span> │\n",
       "│ <span style=\"color: #008000; text-decoration-color: #008000\">one   </span> │     <span style=\"color: #008080; text-decoration-color: #008080; font-weight: bold\">2</span> │\n",
       "│ <span style=\"color: #008000; text-decoration-color: #008000\">one   </span> │     <span style=\"color: #008080; text-decoration-color: #008080; font-weight: bold\">1</span> │\n",
       "│ <span style=\"color: #008000; text-decoration-color: #008000\">two   </span> │     <span style=\"color: #008080; text-decoration-color: #008080; font-weight: bold\">3</span> │\n",
       "│ <span style=\"color: #008000; text-decoration-color: #008000\">two   </span> │     <span style=\"color: #008080; text-decoration-color: #008080; font-weight: bold\">3</span> │\n",
       "│ <span style=\"color: #008000; text-decoration-color: #008000\">two   </span> │     <span style=\"color: #008080; text-decoration-color: #008080; font-weight: bold\">4</span> │\n",
       "│ <span style=\"color: #008000; text-decoration-color: #008000\">two   </span> │     <span style=\"color: #008080; text-decoration-color: #008080; font-weight: bold\">4</span> │\n",
       "│ <span style=\"color: #008000; text-decoration-color: #008000\">three </span> │     <span style=\"color: #008080; text-decoration-color: #008080; font-weight: bold\">1</span> │\n",
       "└────────┴───────┘\n",
       "</pre>\n"
      ],
      "text/plain": [
       "┏━━━━━━━━┳━━━━━━━┓\n",
       "┃\u001b[1m \u001b[0m\u001b[1mk1\u001b[0m\u001b[1m    \u001b[0m\u001b[1m \u001b[0m┃\u001b[1m \u001b[0m\u001b[1mk2\u001b[0m\u001b[1m   \u001b[0m\u001b[1m \u001b[0m┃\n",
       "┡━━━━━━━━╇━━━━━━━┩\n",
       "│ \u001b[2mstring\u001b[0m │ \u001b[2mint64\u001b[0m │\n",
       "├────────┼───────┤\n",
       "│ \u001b[32mone   \u001b[0m │     \u001b[1;36m3\u001b[0m │\n",
       "│ \u001b[32mone   \u001b[0m │     \u001b[1;36m2\u001b[0m │\n",
       "│ \u001b[32mone   \u001b[0m │     \u001b[1;36m1\u001b[0m │\n",
       "│ \u001b[32mtwo   \u001b[0m │     \u001b[1;36m3\u001b[0m │\n",
       "│ \u001b[32mtwo   \u001b[0m │     \u001b[1;36m3\u001b[0m │\n",
       "│ \u001b[32mtwo   \u001b[0m │     \u001b[1;36m4\u001b[0m │\n",
       "│ \u001b[32mtwo   \u001b[0m │     \u001b[1;36m4\u001b[0m │\n",
       "│ \u001b[32mthree \u001b[0m │     \u001b[1;36m1\u001b[0m │\n",
       "└────────┴───────┘"
      ]
     },
     "execution_count": 32,
     "metadata": {},
     "output_type": "execute_result"
    }
   ],
   "source": [
    "ibis_data"
   ]
  },
  {
   "cell_type": "markdown",
   "id": "ac65523d-efbe-474c-9f0a-5d70c5a62a36",
   "metadata": {},
   "source": [
    "<a id=\"distinct\">"
   ]
  },
  {
   "cell_type": "markdown",
   "id": "1d04da82-8052-41cd-8b29-126dec36de04",
   "metadata": {},
   "source": [
    "## Obtain distinct values in column(s)"
   ]
  },
  {
   "cell_type": "markdown",
   "id": "9c7906ed-b3b1-4da1-aaf8-1f07d2ae9234",
   "metadata": {},
   "source": [
    "[[back to top]](#back_to_top)"
   ]
  },
  {
   "cell_type": "markdown",
   "id": "1a619cd6-9203-4850-b434-f925bd06684b",
   "metadata": {},
   "source": [
    "Distinct values in specific column"
   ]
  },
  {
   "cell_type": "code",
   "execution_count": 33,
   "id": "cbe6c8fe-4405-4d46-9155-94fdc79e794f",
   "metadata": {},
   "outputs": [
    {
     "data": {
      "text/html": [
       "<pre style=\"white-space:pre;overflow-x:auto;line-height:normal;font-family:Menlo,'DejaVu Sans Mono',consolas,'Courier New',monospace\">┏━━━━━━━━┓\n",
       "┃<span style=\"font-weight: bold\"> k1     </span>┃\n",
       "┡━━━━━━━━┩\n",
       "│ <span style=\"color: #7f7f7f; text-decoration-color: #7f7f7f\">string</span> │\n",
       "├────────┤\n",
       "│ <span style=\"color: #008000; text-decoration-color: #008000\">one   </span> │\n",
       "│ <span style=\"color: #008000; text-decoration-color: #008000\">two   </span> │\n",
       "│ <span style=\"color: #008000; text-decoration-color: #008000\">three </span> │\n",
       "└────────┘\n",
       "</pre>\n"
      ],
      "text/plain": [
       "┏━━━━━━━━┓\n",
       "┃\u001b[1m \u001b[0m\u001b[1mk1\u001b[0m\u001b[1m    \u001b[0m\u001b[1m \u001b[0m┃\n",
       "┡━━━━━━━━┩\n",
       "│ \u001b[2mstring\u001b[0m │\n",
       "├────────┤\n",
       "│ \u001b[32mone   \u001b[0m │\n",
       "│ \u001b[32mtwo   \u001b[0m │\n",
       "│ \u001b[32mthree \u001b[0m │\n",
       "└────────┘"
      ]
     },
     "execution_count": 33,
     "metadata": {},
     "output_type": "execute_result"
    }
   ],
   "source": [
    "ibis_data.select(\"k1\").distinct()"
   ]
  },
  {
   "cell_type": "markdown",
   "id": "9649c74e-4b68-4757-a9a0-c797bf52927b",
   "metadata": {},
   "source": [
    "or across all columns"
   ]
  },
  {
   "cell_type": "code",
   "execution_count": 34,
   "id": "d8da7ba3-9c69-4ca1-b154-21c785044b89",
   "metadata": {},
   "outputs": [
    {
     "data": {
      "text/html": [
       "<pre style=\"white-space:pre;overflow-x:auto;line-height:normal;font-family:Menlo,'DejaVu Sans Mono',consolas,'Courier New',monospace\">┏━━━━━━━━┳━━━━━━━┓\n",
       "┃<span style=\"font-weight: bold\"> k1     </span>┃<span style=\"font-weight: bold\"> k2    </span>┃\n",
       "┡━━━━━━━━╇━━━━━━━┩\n",
       "│ <span style=\"color: #7f7f7f; text-decoration-color: #7f7f7f\">string</span> │ <span style=\"color: #7f7f7f; text-decoration-color: #7f7f7f\">int64</span> │\n",
       "├────────┼───────┤\n",
       "│ <span style=\"color: #008000; text-decoration-color: #008000\">one   </span> │     <span style=\"color: #008080; text-decoration-color: #008080; font-weight: bold\">3</span> │\n",
       "│ <span style=\"color: #008000; text-decoration-color: #008000\">one   </span> │     <span style=\"color: #008080; text-decoration-color: #008080; font-weight: bold\">2</span> │\n",
       "│ <span style=\"color: #008000; text-decoration-color: #008000\">one   </span> │     <span style=\"color: #008080; text-decoration-color: #008080; font-weight: bold\">1</span> │\n",
       "│ <span style=\"color: #008000; text-decoration-color: #008000\">two   </span> │     <span style=\"color: #008080; text-decoration-color: #008080; font-weight: bold\">3</span> │\n",
       "│ <span style=\"color: #008000; text-decoration-color: #008000\">two   </span> │     <span style=\"color: #008080; text-decoration-color: #008080; font-weight: bold\">4</span> │\n",
       "│ <span style=\"color: #008000; text-decoration-color: #008000\">three </span> │     <span style=\"color: #008080; text-decoration-color: #008080; font-weight: bold\">1</span> │\n",
       "└────────┴───────┘\n",
       "</pre>\n"
      ],
      "text/plain": [
       "┏━━━━━━━━┳━━━━━━━┓\n",
       "┃\u001b[1m \u001b[0m\u001b[1mk1\u001b[0m\u001b[1m    \u001b[0m\u001b[1m \u001b[0m┃\u001b[1m \u001b[0m\u001b[1mk2\u001b[0m\u001b[1m   \u001b[0m\u001b[1m \u001b[0m┃\n",
       "┡━━━━━━━━╇━━━━━━━┩\n",
       "│ \u001b[2mstring\u001b[0m │ \u001b[2mint64\u001b[0m │\n",
       "├────────┼───────┤\n",
       "│ \u001b[32mone   \u001b[0m │     \u001b[1;36m3\u001b[0m │\n",
       "│ \u001b[32mone   \u001b[0m │     \u001b[1;36m2\u001b[0m │\n",
       "│ \u001b[32mone   \u001b[0m │     \u001b[1;36m1\u001b[0m │\n",
       "│ \u001b[32mtwo   \u001b[0m │     \u001b[1;36m3\u001b[0m │\n",
       "│ \u001b[32mtwo   \u001b[0m │     \u001b[1;36m4\u001b[0m │\n",
       "│ \u001b[32mthree \u001b[0m │     \u001b[1;36m1\u001b[0m │\n",
       "└────────┴───────┘"
      ]
     },
     "execution_count": 34,
     "metadata": {},
     "output_type": "execute_result"
    }
   ],
   "source": [
    "ibis_data.distinct()"
   ]
  },
  {
   "cell_type": "markdown",
   "id": "9d9f0ec0-1719-4ac3-bc18-7dbb9d938c4f",
   "metadata": {},
   "source": [
    "<a id=\"duplicates\">"
   ]
  },
  {
   "cell_type": "markdown",
   "id": "cacebc6b-43ab-4976-9b22-2b926f108e03",
   "metadata": {},
   "source": [
    "## Find Duplicate Values"
   ]
  },
  {
   "cell_type": "markdown",
   "id": "3f079a0d-e4c9-4eae-b333-d36eb697de48",
   "metadata": {},
   "source": [
    "[[back to top]](#back_to_top)"
   ]
  },
  {
   "cell_type": "code",
   "execution_count": 35,
   "id": "d506123e-7c9f-4390-b8f8-2b3b2dcd21ee",
   "metadata": {},
   "outputs": [
    {
     "data": {
      "text/html": [
       "<pre style=\"white-space:pre;overflow-x:auto;line-height:normal;font-family:Menlo,'DejaVu Sans Mono',consolas,'Courier New',monospace\">┏━━━━━━━━┳━━━━━━━┓\n",
       "┃<span style=\"font-weight: bold\"> k1     </span>┃<span style=\"font-weight: bold\"> Count </span>┃\n",
       "┡━━━━━━━━╇━━━━━━━┩\n",
       "│ <span style=\"color: #7f7f7f; text-decoration-color: #7f7f7f\">string</span> │ <span style=\"color: #7f7f7f; text-decoration-color: #7f7f7f\">int64</span> │\n",
       "├────────┼───────┤\n",
       "│ <span style=\"color: #008000; text-decoration-color: #008000\">one   </span> │     <span style=\"color: #008080; text-decoration-color: #008080; font-weight: bold\">3</span> │\n",
       "│ <span style=\"color: #008000; text-decoration-color: #008000\">two   </span> │     <span style=\"color: #008080; text-decoration-color: #008080; font-weight: bold\">4</span> │\n",
       "└────────┴───────┘\n",
       "</pre>\n"
      ],
      "text/plain": [
       "┏━━━━━━━━┳━━━━━━━┓\n",
       "┃\u001b[1m \u001b[0m\u001b[1mk1\u001b[0m\u001b[1m    \u001b[0m\u001b[1m \u001b[0m┃\u001b[1m \u001b[0m\u001b[1mCount\u001b[0m\u001b[1m \u001b[0m┃\n",
       "┡━━━━━━━━╇━━━━━━━┩\n",
       "│ \u001b[2mstring\u001b[0m │ \u001b[2mint64\u001b[0m │\n",
       "├────────┼───────┤\n",
       "│ \u001b[32mone   \u001b[0m │     \u001b[1;36m3\u001b[0m │\n",
       "│ \u001b[32mtwo   \u001b[0m │     \u001b[1;36m4\u001b[0m │\n",
       "└────────┴───────┘"
      ]
     },
     "execution_count": 35,
     "metadata": {},
     "output_type": "execute_result"
    }
   ],
   "source": [
    "(\n",
    "    ibis_data\n",
    "    .group_by('k1')\n",
    "    .count()\n",
    "    .relabel({'count': 'Count'})\n",
    "    .filter(_.Count > 1)\n",
    ")"
   ]
  },
  {
   "cell_type": "markdown",
   "id": "bb9e92c3-6001-4af3-9288-7ffbe438dbcd",
   "metadata": {},
   "source": [
    "<a id=\"perc_of_rows\">"
   ]
  },
  {
   "cell_type": "markdown",
   "id": "97d7d2b4-b94e-4085-a626-1fd377f0de39",
   "metadata": {},
   "source": [
    "## Percent of Rows"
   ]
  },
  {
   "cell_type": "markdown",
   "id": "6070ff10-8c1b-464f-b820-4e6578e2d470",
   "metadata": {},
   "source": [
    "[[back to top]](#back_to_top)"
   ]
  },
  {
   "cell_type": "code",
   "execution_count": 36,
   "id": "6940829d-7715-4d82-aeb0-31a6e50a4a3a",
   "metadata": {},
   "outputs": [],
   "source": [
    "data = pd.DataFrame(\n",
    "    {'group': [80, 70, 75, 75],\n",
    "     'ounces': [20, 30, 25, 25],\n",
    "     'size': [100, 100, 100, 100]\n",
    "    }\n",
    ")"
   ]
  },
  {
   "cell_type": "code",
   "execution_count": 37,
   "id": "5efc90be-83c1-4c12-ba30-465e670561dc",
   "metadata": {},
   "outputs": [],
   "source": [
    "ibis_data = ibis.memtable(data)"
   ]
  },
  {
   "cell_type": "code",
   "execution_count": 38,
   "id": "98a939d8-60dc-4b55-9322-283f32aee606",
   "metadata": {},
   "outputs": [
    {
     "data": {
      "text/html": [
       "<pre style=\"white-space:pre;overflow-x:auto;line-height:normal;font-family:Menlo,'DejaVu Sans Mono',consolas,'Courier New',monospace\">┏━━━━━━━┳━━━━━━━━┳━━━━━━━┓\n",
       "┃<span style=\"font-weight: bold\"> group </span>┃<span style=\"font-weight: bold\"> ounces </span>┃<span style=\"font-weight: bold\"> size  </span>┃\n",
       "┡━━━━━━━╇━━━━━━━━╇━━━━━━━┩\n",
       "│ <span style=\"color: #7f7f7f; text-decoration-color: #7f7f7f\">int64</span> │ <span style=\"color: #7f7f7f; text-decoration-color: #7f7f7f\">int64</span>  │ <span style=\"color: #7f7f7f; text-decoration-color: #7f7f7f\">int64</span> │\n",
       "├───────┼────────┼───────┤\n",
       "│    <span style=\"color: #008080; text-decoration-color: #008080; font-weight: bold\">80</span> │     <span style=\"color: #008080; text-decoration-color: #008080; font-weight: bold\">20</span> │   <span style=\"color: #008080; text-decoration-color: #008080; font-weight: bold\">100</span> │\n",
       "│    <span style=\"color: #008080; text-decoration-color: #008080; font-weight: bold\">70</span> │     <span style=\"color: #008080; text-decoration-color: #008080; font-weight: bold\">30</span> │   <span style=\"color: #008080; text-decoration-color: #008080; font-weight: bold\">100</span> │\n",
       "│    <span style=\"color: #008080; text-decoration-color: #008080; font-weight: bold\">75</span> │     <span style=\"color: #008080; text-decoration-color: #008080; font-weight: bold\">25</span> │   <span style=\"color: #008080; text-decoration-color: #008080; font-weight: bold\">100</span> │\n",
       "│    <span style=\"color: #008080; text-decoration-color: #008080; font-weight: bold\">75</span> │     <span style=\"color: #008080; text-decoration-color: #008080; font-weight: bold\">25</span> │   <span style=\"color: #008080; text-decoration-color: #008080; font-weight: bold\">100</span> │\n",
       "└───────┴────────┴───────┘\n",
       "</pre>\n"
      ],
      "text/plain": [
       "┏━━━━━━━┳━━━━━━━━┳━━━━━━━┓\n",
       "┃\u001b[1m \u001b[0m\u001b[1mgroup\u001b[0m\u001b[1m \u001b[0m┃\u001b[1m \u001b[0m\u001b[1mounces\u001b[0m\u001b[1m \u001b[0m┃\u001b[1m \u001b[0m\u001b[1msize\u001b[0m\u001b[1m \u001b[0m\u001b[1m \u001b[0m┃\n",
       "┡━━━━━━━╇━━━━━━━━╇━━━━━━━┩\n",
       "│ \u001b[2mint64\u001b[0m │ \u001b[2mint64\u001b[0m  │ \u001b[2mint64\u001b[0m │\n",
       "├───────┼────────┼───────┤\n",
       "│    \u001b[1;36m80\u001b[0m │     \u001b[1;36m20\u001b[0m │   \u001b[1;36m100\u001b[0m │\n",
       "│    \u001b[1;36m70\u001b[0m │     \u001b[1;36m30\u001b[0m │   \u001b[1;36m100\u001b[0m │\n",
       "│    \u001b[1;36m75\u001b[0m │     \u001b[1;36m25\u001b[0m │   \u001b[1;36m100\u001b[0m │\n",
       "│    \u001b[1;36m75\u001b[0m │     \u001b[1;36m25\u001b[0m │   \u001b[1;36m100\u001b[0m │\n",
       "└───────┴────────┴───────┘"
      ]
     },
     "execution_count": 38,
     "metadata": {},
     "output_type": "execute_result"
    }
   ],
   "source": [
    "ibis_data"
   ]
  },
  {
   "cell_type": "code",
   "execution_count": 39,
   "id": "2db53ef5-a550-463d-821f-2a2af7431a93",
   "metadata": {},
   "outputs": [
    {
     "data": {
      "text/html": [
       "<pre style=\"white-space:pre;overflow-x:auto;line-height:normal;font-family:Menlo,'DejaVu Sans Mono',consolas,'Courier New',monospace\">┏━━━━━━━━━━━━┳━━━━━━━━━━━━━┳━━━━━━━━━━━┓\n",
       "┃<span style=\"font-weight: bold\"> group_perc </span>┃<span style=\"font-weight: bold\"> ounces_perc </span>┃<span style=\"font-weight: bold\"> size_perc </span>┃\n",
       "┡━━━━━━━━━━━━╇━━━━━━━━━━━━━╇━━━━━━━━━━━┩\n",
       "│ <span style=\"color: #7f7f7f; text-decoration-color: #7f7f7f\">float64</span>    │ <span style=\"color: #7f7f7f; text-decoration-color: #7f7f7f\">float64</span>     │ <span style=\"color: #7f7f7f; text-decoration-color: #7f7f7f\">float64</span>   │\n",
       "├────────────┼─────────────┼───────────┤\n",
       "│       <span style=\"color: #008080; text-decoration-color: #008080; font-weight: bold\">40.0</span> │        <span style=\"color: #008080; text-decoration-color: #008080; font-weight: bold\">10.0</span> │      <span style=\"color: #008080; text-decoration-color: #008080; font-weight: bold\">50.0</span> │\n",
       "│       <span style=\"color: #008080; text-decoration-color: #008080; font-weight: bold\">35.0</span> │        <span style=\"color: #008080; text-decoration-color: #008080; font-weight: bold\">15.0</span> │      <span style=\"color: #008080; text-decoration-color: #008080; font-weight: bold\">50.0</span> │\n",
       "│       <span style=\"color: #008080; text-decoration-color: #008080; font-weight: bold\">37.5</span> │        <span style=\"color: #008080; text-decoration-color: #008080; font-weight: bold\">12.5</span> │      <span style=\"color: #008080; text-decoration-color: #008080; font-weight: bold\">50.0</span> │\n",
       "│       <span style=\"color: #008080; text-decoration-color: #008080; font-weight: bold\">37.5</span> │        <span style=\"color: #008080; text-decoration-color: #008080; font-weight: bold\">12.5</span> │      <span style=\"color: #008080; text-decoration-color: #008080; font-weight: bold\">50.0</span> │\n",
       "└────────────┴─────────────┴───────────┘\n",
       "</pre>\n"
      ],
      "text/plain": [
       "┏━━━━━━━━━━━━┳━━━━━━━━━━━━━┳━━━━━━━━━━━┓\n",
       "┃\u001b[1m \u001b[0m\u001b[1mgroup_perc\u001b[0m\u001b[1m \u001b[0m┃\u001b[1m \u001b[0m\u001b[1mounces_perc\u001b[0m\u001b[1m \u001b[0m┃\u001b[1m \u001b[0m\u001b[1msize_perc\u001b[0m\u001b[1m \u001b[0m┃\n",
       "┡━━━━━━━━━━━━╇━━━━━━━━━━━━━╇━━━━━━━━━━━┩\n",
       "│ \u001b[2mfloat64\u001b[0m    │ \u001b[2mfloat64\u001b[0m     │ \u001b[2mfloat64\u001b[0m   │\n",
       "├────────────┼─────────────┼───────────┤\n",
       "│       \u001b[1;36m40.0\u001b[0m │        \u001b[1;36m10.0\u001b[0m │      \u001b[1;36m50.0\u001b[0m │\n",
       "│       \u001b[1;36m35.0\u001b[0m │        \u001b[1;36m15.0\u001b[0m │      \u001b[1;36m50.0\u001b[0m │\n",
       "│       \u001b[1;36m37.5\u001b[0m │        \u001b[1;36m12.5\u001b[0m │      \u001b[1;36m50.0\u001b[0m │\n",
       "│       \u001b[1;36m37.5\u001b[0m │        \u001b[1;36m12.5\u001b[0m │      \u001b[1;36m50.0\u001b[0m │\n",
       "└────────────┴─────────────┴───────────┘"
      ]
     },
     "execution_count": 39,
     "metadata": {},
     "output_type": "execute_result"
    }
   ],
   "source": [
    "(\n",
    "    ibis_data\n",
    "    .mutate(group_perc=_.group / (_.group + _.ounces + _.size) * 100)\n",
    "    .mutate(ounces_perc=_.ounces / (_.group + _.ounces + _.size) * 100)\n",
    "    .mutate(size_perc=_.size / (_.group + _.ounces + _.size) * 100)\n",
    "    .select(s.contains('perc'))\n",
    ")"
   ]
  },
  {
   "cell_type": "markdown",
   "id": "d2e0dc93-641a-43bf-8298-e1808bc7b5da",
   "metadata": {},
   "source": [
    "<a id=\"perc_of_columns\">"
   ]
  },
  {
   "cell_type": "markdown",
   "id": "e27452f0-fa6d-49e4-a121-e5ce3248ada7",
   "metadata": {},
   "source": [
    "## Percent of Columns"
   ]
  },
  {
   "cell_type": "markdown",
   "id": "9e97a770-902d-4214-aee2-3f75f0211dd7",
   "metadata": {},
   "source": [
    "[[back to top]](#back_to_top)"
   ]
  },
  {
   "cell_type": "code",
   "execution_count": 40,
   "id": "a42871c8-123c-4da3-9df0-0a6f26e43f95",
   "metadata": {},
   "outputs": [
    {
     "data": {
      "text/html": [
       "<pre style=\"white-space:pre;overflow-x:auto;line-height:normal;font-family:Menlo,'DejaVu Sans Mono',consolas,'Courier New',monospace\">┏━━━━━━━━━━━━┳━━━━━━━━━━━━━┳━━━━━━━━━━━┓\n",
       "┃<span style=\"font-weight: bold\"> group_perc </span>┃<span style=\"font-weight: bold\"> ounces_perc </span>┃<span style=\"font-weight: bold\"> size_perc </span>┃\n",
       "┡━━━━━━━━━━━━╇━━━━━━━━━━━━━╇━━━━━━━━━━━┩\n",
       "│ <span style=\"color: #7f7f7f; text-decoration-color: #7f7f7f\">float64</span>    │ <span style=\"color: #7f7f7f; text-decoration-color: #7f7f7f\">float64</span>     │ <span style=\"color: #7f7f7f; text-decoration-color: #7f7f7f\">float64</span>   │\n",
       "├────────────┼─────────────┼───────────┤\n",
       "│  <span style=\"color: #008080; text-decoration-color: #008080; font-weight: bold\">26.666667</span> │        <span style=\"color: #008080; text-decoration-color: #008080; font-weight: bold\">20.0</span> │      <span style=\"color: #008080; text-decoration-color: #008080; font-weight: bold\">25.0</span> │\n",
       "│  <span style=\"color: #008080; text-decoration-color: #008080; font-weight: bold\">23.333333</span> │        <span style=\"color: #008080; text-decoration-color: #008080; font-weight: bold\">30.0</span> │      <span style=\"color: #008080; text-decoration-color: #008080; font-weight: bold\">25.0</span> │\n",
       "│  <span style=\"color: #008080; text-decoration-color: #008080; font-weight: bold\">25.000000</span> │        <span style=\"color: #008080; text-decoration-color: #008080; font-weight: bold\">25.0</span> │      <span style=\"color: #008080; text-decoration-color: #008080; font-weight: bold\">25.0</span> │\n",
       "│  <span style=\"color: #008080; text-decoration-color: #008080; font-weight: bold\">25.000000</span> │        <span style=\"color: #008080; text-decoration-color: #008080; font-weight: bold\">25.0</span> │      <span style=\"color: #008080; text-decoration-color: #008080; font-weight: bold\">25.0</span> │\n",
       "└────────────┴─────────────┴───────────┘\n",
       "</pre>\n"
      ],
      "text/plain": [
       "┏━━━━━━━━━━━━┳━━━━━━━━━━━━━┳━━━━━━━━━━━┓\n",
       "┃\u001b[1m \u001b[0m\u001b[1mgroup_perc\u001b[0m\u001b[1m \u001b[0m┃\u001b[1m \u001b[0m\u001b[1mounces_perc\u001b[0m\u001b[1m \u001b[0m┃\u001b[1m \u001b[0m\u001b[1msize_perc\u001b[0m\u001b[1m \u001b[0m┃\n",
       "┡━━━━━━━━━━━━╇━━━━━━━━━━━━━╇━━━━━━━━━━━┩\n",
       "│ \u001b[2mfloat64\u001b[0m    │ \u001b[2mfloat64\u001b[0m     │ \u001b[2mfloat64\u001b[0m   │\n",
       "├────────────┼─────────────┼───────────┤\n",
       "│  \u001b[1;36m26.666667\u001b[0m │        \u001b[1;36m20.0\u001b[0m │      \u001b[1;36m25.0\u001b[0m │\n",
       "│  \u001b[1;36m23.333333\u001b[0m │        \u001b[1;36m30.0\u001b[0m │      \u001b[1;36m25.0\u001b[0m │\n",
       "│  \u001b[1;36m25.000000\u001b[0m │        \u001b[1;36m25.0\u001b[0m │      \u001b[1;36m25.0\u001b[0m │\n",
       "│  \u001b[1;36m25.000000\u001b[0m │        \u001b[1;36m25.0\u001b[0m │      \u001b[1;36m25.0\u001b[0m │\n",
       "└────────────┴─────────────┴───────────┘"
      ]
     },
     "execution_count": 40,
     "metadata": {},
     "output_type": "execute_result"
    }
   ],
   "source": [
    "(\n",
    "    ibis_data\n",
    "    .mutate(group_perc=_.group / (_.group.sum()) * 100)\n",
    "    .mutate(ounces_perc=_.ounces / (_.ounces.sum()) * 100)\n",
    "    .mutate(size_perc=_.size / (_.size.sum()) * 100)\n",
    "    .select(s.contains('perc'))\n",
    ")"
   ]
  }
 ],
 "metadata": {
  "kernelspec": {
   "display_name": "Py3.9 (sql_dev)",
   "language": "python",
   "name": "sql_dev"
  },
  "language_info": {
   "codemirror_mode": {
    "name": "ipython",
    "version": 3
   },
   "file_extension": ".py",
   "mimetype": "text/x-python",
   "name": "python",
   "nbconvert_exporter": "python",
   "pygments_lexer": "ipython3",
   "version": "3.9.13"
  }
 },
 "nbformat": 4,
 "nbformat_minor": 5
}
