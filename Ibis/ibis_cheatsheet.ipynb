{
 "cells": [
  {
   "cell_type": "markdown",
   "id": "db87c60c-979a-4a21-9487-504c78594827",
   "metadata": {},
   "source": [
    "<a id=\"back_to_top\">"
   ]
  },
  {
   "cell_type": "markdown",
   "id": "e5281fba-7134-4721-a038-fd1927c5976f",
   "metadata": {},
   "source": [
    "# Ibis Cheat Sheet"
   ]
  },
  {
   "cell_type": "markdown",
   "id": "835b0c10-de4d-4197-bfed-d545949ef39a",
   "metadata": {},
   "source": [
    "#### Table of Contents"
   ]
  },
  {
   "cell_type": "markdown",
   "id": "e14a3d25-560b-4251-a3b1-89899435035e",
   "metadata": {},
   "source": [
    "- [Reading a local csv file](#csv)\n",
    "- [Viewing schema](#schema)\n",
    "- [Number of rows and columns](#rows_columns)\n",
    "- [Selecting certain columns](#selecting_columns)\n",
    "- [Creating new column based on value from another column using mutate and split() combination](#split)\n",
    "- [Creating new column using CASE statements](#case)\n",
    "- [Running Total / Cumulative Sum](#running_total)\n",
    "- [Aggregations / Summarizations](#aggregations)\n",
    "- [Filtering](#filtering)"
   ]
  },
  {
   "cell_type": "code",
   "execution_count": 1,
   "id": "457a923b-2a91-4d23-bbd2-583887a194b1",
   "metadata": {
    "tags": []
   },
   "outputs": [],
   "source": [
    "import ibis\n",
    "ibis.options.interactive = True\n",
    "\n",
    "# create a DuckDB client\n",
    "client = ibis.duckdb.connect()"
   ]
  },
  {
   "cell_type": "markdown",
   "id": "a45ca71b-4a69-491b-8957-cbb3c85da213",
   "metadata": {},
   "source": [
    "## Reading a CSV file"
   ]
  },
  {
   "cell_type": "markdown",
   "id": "53600349-0e20-47b8-943a-16d3d7c50a0c",
   "metadata": {},
   "source": [
    "[[back to top]](#back_to_top)"
   ]
  },
  {
   "cell_type": "code",
   "execution_count": 2,
   "id": "9d064956-c71b-44a2-97dd-ea0eabfc935f",
   "metadata": {
    "tags": []
   },
   "outputs": [],
   "source": [
    "# read in a local CSV file as an Ibis table\n",
    "cars = client.read_csv('./data/cars.csv')"
   ]
  },
  {
   "cell_type": "code",
   "execution_count": 3,
   "id": "00f6afc8-15d6-4fb8-b724-4ffecbd98013",
   "metadata": {
    "tags": []
   },
   "outputs": [
    {
     "data": {
      "text/html": [
       "<pre style=\"white-space:pre;overflow-x:auto;line-height:normal;font-family:Menlo,'DejaVu Sans Mono',consolas,'Courier New',monospace\">┏━━━━━━━━━━━━━━━━━━━━━━━━━━━┳━━━━━━━━━┳━━━━━━━━━━━┳━━━━━━━━━━━━━━┳━━━━━━━━━━━━┳━━━━━━━━━┳━━━━━━━━━━━━━━┳━━━━━━━┳━━━━━━━━┓\n",
       "┃<span style=\"font-weight: bold\"> Car                       </span>┃<span style=\"font-weight: bold\"> MPG     </span>┃<span style=\"font-weight: bold\"> Cylinders </span>┃<span style=\"font-weight: bold\"> Displacement </span>┃<span style=\"font-weight: bold\"> Horsepower </span>┃<span style=\"font-weight: bold\"> Weight  </span>┃<span style=\"font-weight: bold\"> Acceleration </span>┃<span style=\"font-weight: bold\"> Model </span>┃<span style=\"font-weight: bold\"> Origin </span>┃\n",
       "┡━━━━━━━━━━━━━━━━━━━━━━━━━━━╇━━━━━━━━━╇━━━━━━━━━━━╇━━━━━━━━━━━━━━╇━━━━━━━━━━━━╇━━━━━━━━━╇━━━━━━━━━━━━━━╇━━━━━━━╇━━━━━━━━┩\n",
       "│ <span style=\"color: #7f7f7f; text-decoration-color: #7f7f7f\">string</span>                    │ <span style=\"color: #7f7f7f; text-decoration-color: #7f7f7f\">float64</span> │ <span style=\"color: #7f7f7f; text-decoration-color: #7f7f7f\">int64</span>     │ <span style=\"color: #7f7f7f; text-decoration-color: #7f7f7f\">float64</span>      │ <span style=\"color: #7f7f7f; text-decoration-color: #7f7f7f\">float64</span>    │ <span style=\"color: #7f7f7f; text-decoration-color: #7f7f7f\">float64</span> │ <span style=\"color: #7f7f7f; text-decoration-color: #7f7f7f\">float64</span>      │ <span style=\"color: #7f7f7f; text-decoration-color: #7f7f7f\">int64</span> │ <span style=\"color: #7f7f7f; text-decoration-color: #7f7f7f\">string</span> │\n",
       "├───────────────────────────┼─────────┼───────────┼──────────────┼────────────┼─────────┼──────────────┼───────┼────────┤\n",
       "│ Chevrolet Chevelle Malibu │    <span style=\"color: #008080; text-decoration-color: #008080; font-weight: bold\">18.0</span> │         <span style=\"color: #008080; text-decoration-color: #008080; font-weight: bold\">8</span> │        <span style=\"color: #008080; text-decoration-color: #008080; font-weight: bold\">307.0</span> │      <span style=\"color: #008080; text-decoration-color: #008080; font-weight: bold\">130.0</span> │  <span style=\"color: #008080; text-decoration-color: #008080; font-weight: bold\">3504.0</span> │         <span style=\"color: #008080; text-decoration-color: #008080; font-weight: bold\">12.0</span> │    <span style=\"color: #008080; text-decoration-color: #008080; font-weight: bold\">70</span> │ US     │\n",
       "│ Buick Skylark 320         │    <span style=\"color: #008080; text-decoration-color: #008080; font-weight: bold\">15.0</span> │         <span style=\"color: #008080; text-decoration-color: #008080; font-weight: bold\">8</span> │        <span style=\"color: #008080; text-decoration-color: #008080; font-weight: bold\">350.0</span> │      <span style=\"color: #008080; text-decoration-color: #008080; font-weight: bold\">165.0</span> │  <span style=\"color: #008080; text-decoration-color: #008080; font-weight: bold\">3693.0</span> │         <span style=\"color: #008080; text-decoration-color: #008080; font-weight: bold\">11.5</span> │    <span style=\"color: #008080; text-decoration-color: #008080; font-weight: bold\">70</span> │ US     │\n",
       "│ Plymouth Satellite        │    <span style=\"color: #008080; text-decoration-color: #008080; font-weight: bold\">18.0</span> │         <span style=\"color: #008080; text-decoration-color: #008080; font-weight: bold\">8</span> │        <span style=\"color: #008080; text-decoration-color: #008080; font-weight: bold\">318.0</span> │      <span style=\"color: #008080; text-decoration-color: #008080; font-weight: bold\">150.0</span> │  <span style=\"color: #008080; text-decoration-color: #008080; font-weight: bold\">3436.0</span> │         <span style=\"color: #008080; text-decoration-color: #008080; font-weight: bold\">11.0</span> │    <span style=\"color: #008080; text-decoration-color: #008080; font-weight: bold\">70</span> │ US     │\n",
       "│ AMC Rebel SST             │    <span style=\"color: #008080; text-decoration-color: #008080; font-weight: bold\">16.0</span> │         <span style=\"color: #008080; text-decoration-color: #008080; font-weight: bold\">8</span> │        <span style=\"color: #008080; text-decoration-color: #008080; font-weight: bold\">304.0</span> │      <span style=\"color: #008080; text-decoration-color: #008080; font-weight: bold\">150.0</span> │  <span style=\"color: #008080; text-decoration-color: #008080; font-weight: bold\">3433.0</span> │         <span style=\"color: #008080; text-decoration-color: #008080; font-weight: bold\">12.0</span> │    <span style=\"color: #008080; text-decoration-color: #008080; font-weight: bold\">70</span> │ US     │\n",
       "│ Ford Torino               │    <span style=\"color: #008080; text-decoration-color: #008080; font-weight: bold\">17.0</span> │         <span style=\"color: #008080; text-decoration-color: #008080; font-weight: bold\">8</span> │        <span style=\"color: #008080; text-decoration-color: #008080; font-weight: bold\">302.0</span> │      <span style=\"color: #008080; text-decoration-color: #008080; font-weight: bold\">140.0</span> │  <span style=\"color: #008080; text-decoration-color: #008080; font-weight: bold\">3449.0</span> │         <span style=\"color: #008080; text-decoration-color: #008080; font-weight: bold\">10.5</span> │    <span style=\"color: #008080; text-decoration-color: #008080; font-weight: bold\">70</span> │ US     │\n",
       "└───────────────────────────┴─────────┴───────────┴──────────────┴────────────┴─────────┴──────────────┴───────┴────────┘\n",
       "</pre>\n"
      ],
      "text/plain": [
       "┏━━━━━━━━━━━━━━━━━━━━━━━━━━━┳━━━━━━━━━┳━━━━━━━━━━━┳━━━━━━━━━━━━━━┳━━━━━━━━━━━━┳━━━━━━━━━┳━━━━━━━━━━━━━━┳━━━━━━━┳━━━━━━━━┓\n",
       "┃\u001b[1m \u001b[0m\u001b[1mCar\u001b[0m\u001b[1m                      \u001b[0m\u001b[1m \u001b[0m┃\u001b[1m \u001b[0m\u001b[1mMPG\u001b[0m\u001b[1m    \u001b[0m\u001b[1m \u001b[0m┃\u001b[1m \u001b[0m\u001b[1mCylinders\u001b[0m\u001b[1m \u001b[0m┃\u001b[1m \u001b[0m\u001b[1mDisplacement\u001b[0m\u001b[1m \u001b[0m┃\u001b[1m \u001b[0m\u001b[1mHorsepower\u001b[0m\u001b[1m \u001b[0m┃\u001b[1m \u001b[0m\u001b[1mWeight\u001b[0m\u001b[1m \u001b[0m\u001b[1m \u001b[0m┃\u001b[1m \u001b[0m\u001b[1mAcceleration\u001b[0m\u001b[1m \u001b[0m┃\u001b[1m \u001b[0m\u001b[1mModel\u001b[0m\u001b[1m \u001b[0m┃\u001b[1m \u001b[0m\u001b[1mOrigin\u001b[0m\u001b[1m \u001b[0m┃\n",
       "┡━━━━━━━━━━━━━━━━━━━━━━━━━━━╇━━━━━━━━━╇━━━━━━━━━━━╇━━━━━━━━━━━━━━╇━━━━━━━━━━━━╇━━━━━━━━━╇━━━━━━━━━━━━━━╇━━━━━━━╇━━━━━━━━┩\n",
       "│ \u001b[2mstring\u001b[0m                    │ \u001b[2mfloat64\u001b[0m │ \u001b[2mint64\u001b[0m     │ \u001b[2mfloat64\u001b[0m      │ \u001b[2mfloat64\u001b[0m    │ \u001b[2mfloat64\u001b[0m │ \u001b[2mfloat64\u001b[0m      │ \u001b[2mint64\u001b[0m │ \u001b[2mstring\u001b[0m │\n",
       "├───────────────────────────┼─────────┼───────────┼──────────────┼────────────┼─────────┼──────────────┼───────┼────────┤\n",
       "│ Chevrolet Chevelle Malibu │    \u001b[1;36m18.0\u001b[0m │         \u001b[1;36m8\u001b[0m │        \u001b[1;36m307.0\u001b[0m │      \u001b[1;36m130.0\u001b[0m │  \u001b[1;36m3504.0\u001b[0m │         \u001b[1;36m12.0\u001b[0m │    \u001b[1;36m70\u001b[0m │ US     │\n",
       "│ Buick Skylark 320         │    \u001b[1;36m15.0\u001b[0m │         \u001b[1;36m8\u001b[0m │        \u001b[1;36m350.0\u001b[0m │      \u001b[1;36m165.0\u001b[0m │  \u001b[1;36m3693.0\u001b[0m │         \u001b[1;36m11.5\u001b[0m │    \u001b[1;36m70\u001b[0m │ US     │\n",
       "│ Plymouth Satellite        │    \u001b[1;36m18.0\u001b[0m │         \u001b[1;36m8\u001b[0m │        \u001b[1;36m318.0\u001b[0m │      \u001b[1;36m150.0\u001b[0m │  \u001b[1;36m3436.0\u001b[0m │         \u001b[1;36m11.0\u001b[0m │    \u001b[1;36m70\u001b[0m │ US     │\n",
       "│ AMC Rebel SST             │    \u001b[1;36m16.0\u001b[0m │         \u001b[1;36m8\u001b[0m │        \u001b[1;36m304.0\u001b[0m │      \u001b[1;36m150.0\u001b[0m │  \u001b[1;36m3433.0\u001b[0m │         \u001b[1;36m12.0\u001b[0m │    \u001b[1;36m70\u001b[0m │ US     │\n",
       "│ Ford Torino               │    \u001b[1;36m17.0\u001b[0m │         \u001b[1;36m8\u001b[0m │        \u001b[1;36m302.0\u001b[0m │      \u001b[1;36m140.0\u001b[0m │  \u001b[1;36m3449.0\u001b[0m │         \u001b[1;36m10.5\u001b[0m │    \u001b[1;36m70\u001b[0m │ US     │\n",
       "└───────────────────────────┴─────────┴───────────┴──────────────┴────────────┴─────────┴──────────────┴───────┴────────┘"
      ]
     },
     "execution_count": 3,
     "metadata": {},
     "output_type": "execute_result"
    }
   ],
   "source": [
    "cars.head()"
   ]
  },
  {
   "cell_type": "markdown",
   "id": "02a829b1-12ce-4d1c-b0dc-1c1b0bf48cbc",
   "metadata": {},
   "source": [
    "<a id=\"schema\">"
   ]
  },
  {
   "cell_type": "markdown",
   "id": "5b3300fe-3c24-4f4d-83d4-4c9509230f65",
   "metadata": {},
   "source": [
    "## Viewing Schema"
   ]
  },
  {
   "cell_type": "markdown",
   "id": "be93f3c1-d6dc-4fdb-9dbc-3557f252576c",
   "metadata": {},
   "source": [
    "[[back to top]](#back_to_top)"
   ]
  },
  {
   "cell_type": "code",
   "execution_count": 4,
   "id": "f8123534-77e8-47f3-8393-43053ca1c977",
   "metadata": {
    "tags": []
   },
   "outputs": [
    {
     "data": {
      "text/plain": [
       "ibis.Schema {\n",
       "  Car           string\n",
       "  MPG           float64\n",
       "  Cylinders     int64\n",
       "  Displacement  float64\n",
       "  Horsepower    float64\n",
       "  Weight        float64\n",
       "  Acceleration  float64\n",
       "  Model         int64\n",
       "  Origin        string\n",
       "}"
      ]
     },
     "execution_count": 4,
     "metadata": {},
     "output_type": "execute_result"
    }
   ],
   "source": [
    "cars.schema()"
   ]
  },
  {
   "cell_type": "markdown",
   "id": "4ed637d4-1867-4bcc-b67b-1c758f9aa5e5",
   "metadata": {},
   "source": [
    "<a id=\"rows_columns\">"
   ]
  },
  {
   "cell_type": "markdown",
   "id": "b1bcf1bd-c791-4563-a3ca-7d67795a2e4b",
   "metadata": {},
   "source": [
    "## Number of Rows and Columns"
   ]
  },
  {
   "cell_type": "markdown",
   "id": "2d7b0c29-1e9e-487d-a27c-3ab0d6608549",
   "metadata": {},
   "source": [
    "[[back to top]](#back_to_top)"
   ]
  },
  {
   "cell_type": "markdown",
   "id": "80502993-5140-4319-ad68-18c84035deb0",
   "metadata": {},
   "source": [
    "\\# of rows:"
   ]
  },
  {
   "cell_type": "code",
   "execution_count": 5,
   "id": "93cd9ac2-dc59-4d4d-9bd2-bb386c6f46a2",
   "metadata": {
    "tags": []
   },
   "outputs": [
    {
     "data": {
      "text/html": [
       "<pre style=\"white-space:pre;overflow-x:auto;line-height:normal;font-family:Menlo,'DejaVu Sans Mono',consolas,'Courier New',monospace\"></pre>\n"
      ],
      "text/plain": []
     },
     "metadata": {},
     "output_type": "display_data"
    },
    {
     "data": {
      "text/plain": [
       "\u001b[1;36m406\u001b[0m"
      ]
     },
     "execution_count": 5,
     "metadata": {},
     "output_type": "execute_result"
    }
   ],
   "source": [
    "cars.count()"
   ]
  },
  {
   "cell_type": "markdown",
   "id": "b141f1ec-ceb9-4ffd-9902-4d674d5aef96",
   "metadata": {},
   "source": [
    "\\# of Columns:"
   ]
  },
  {
   "cell_type": "code",
   "execution_count": 6,
   "id": "98bef9cc-9b6f-42f8-89fc-1a04de413fca",
   "metadata": {
    "tags": []
   },
   "outputs": [
    {
     "data": {
      "text/plain": [
       "9"
      ]
     },
     "execution_count": 6,
     "metadata": {},
     "output_type": "execute_result"
    }
   ],
   "source": [
    "len(cars.schema())"
   ]
  },
  {
   "cell_type": "markdown",
   "id": "1f73233a-abbf-426d-8272-23613f68c8f2",
   "metadata": {},
   "source": [
    "<a id=\"selecting_columns\">"
   ]
  },
  {
   "cell_type": "markdown",
   "id": "f8b39e1e-fbfa-446e-9d2e-3c8a69eb33d4",
   "metadata": {},
   "source": [
    "## Selecting Certain Columns"
   ]
  },
  {
   "cell_type": "markdown",
   "id": "84b91b9b-defa-4aed-aac7-e14801a281b0",
   "metadata": {},
   "source": [
    "[[back to top]](#back_to_top)"
   ]
  },
  {
   "cell_type": "code",
   "execution_count": 7,
   "id": "3c4abcab-12d6-484a-aa08-295a6b904a5c",
   "metadata": {
    "tags": []
   },
   "outputs": [
    {
     "data": {
      "text/html": [
       "<pre style=\"white-space:pre;overflow-x:auto;line-height:normal;font-family:Menlo,'DejaVu Sans Mono',consolas,'Courier New',monospace\">┏━━━━━━━━┳━━━━━━━━━━━━━━━━━━━━━━━━━━━┳━━━━━━━━━┓\n",
       "┃<span style=\"font-weight: bold\"> Origin </span>┃<span style=\"font-weight: bold\"> Car                       </span>┃<span style=\"font-weight: bold\"> MPG     </span>┃\n",
       "┡━━━━━━━━╇━━━━━━━━━━━━━━━━━━━━━━━━━━━╇━━━━━━━━━┩\n",
       "│ <span style=\"color: #7f7f7f; text-decoration-color: #7f7f7f\">string</span> │ <span style=\"color: #7f7f7f; text-decoration-color: #7f7f7f\">string</span>                    │ <span style=\"color: #7f7f7f; text-decoration-color: #7f7f7f\">float64</span> │\n",
       "├────────┼───────────────────────────┼─────────┤\n",
       "│ US     │ Chevrolet Chevelle Malibu │    <span style=\"color: #008080; text-decoration-color: #008080; font-weight: bold\">18.0</span> │\n",
       "│ US     │ Buick Skylark 320         │    <span style=\"color: #008080; text-decoration-color: #008080; font-weight: bold\">15.0</span> │\n",
       "│ US     │ Plymouth Satellite        │    <span style=\"color: #008080; text-decoration-color: #008080; font-weight: bold\">18.0</span> │\n",
       "│ US     │ AMC Rebel SST             │    <span style=\"color: #008080; text-decoration-color: #008080; font-weight: bold\">16.0</span> │\n",
       "│ US     │ Ford Torino               │    <span style=\"color: #008080; text-decoration-color: #008080; font-weight: bold\">17.0</span> │\n",
       "└────────┴───────────────────────────┴─────────┘\n",
       "</pre>\n"
      ],
      "text/plain": [
       "┏━━━━━━━━┳━━━━━━━━━━━━━━━━━━━━━━━━━━━┳━━━━━━━━━┓\n",
       "┃\u001b[1m \u001b[0m\u001b[1mOrigin\u001b[0m\u001b[1m \u001b[0m┃\u001b[1m \u001b[0m\u001b[1mCar\u001b[0m\u001b[1m                      \u001b[0m\u001b[1m \u001b[0m┃\u001b[1m \u001b[0m\u001b[1mMPG\u001b[0m\u001b[1m    \u001b[0m\u001b[1m \u001b[0m┃\n",
       "┡━━━━━━━━╇━━━━━━━━━━━━━━━━━━━━━━━━━━━╇━━━━━━━━━┩\n",
       "│ \u001b[2mstring\u001b[0m │ \u001b[2mstring\u001b[0m                    │ \u001b[2mfloat64\u001b[0m │\n",
       "├────────┼───────────────────────────┼─────────┤\n",
       "│ US     │ Chevrolet Chevelle Malibu │    \u001b[1;36m18.0\u001b[0m │\n",
       "│ US     │ Buick Skylark 320         │    \u001b[1;36m15.0\u001b[0m │\n",
       "│ US     │ Plymouth Satellite        │    \u001b[1;36m18.0\u001b[0m │\n",
       "│ US     │ AMC Rebel SST             │    \u001b[1;36m16.0\u001b[0m │\n",
       "│ US     │ Ford Torino               │    \u001b[1;36m17.0\u001b[0m │\n",
       "└────────┴───────────────────────────┴─────────┘"
      ]
     },
     "execution_count": 7,
     "metadata": {},
     "output_type": "execute_result"
    }
   ],
   "source": [
    "cars['Origin','Car','MPG'].head()"
   ]
  },
  {
   "cell_type": "markdown",
   "id": "ce57eb83-a7e9-43f4-9832-58b61286dd46",
   "metadata": {},
   "source": [
    "#### Select columns based on their data types"
   ]
  },
  {
   "cell_type": "code",
   "execution_count": 8,
   "id": "40a82cab-db51-40bc-bec7-f25add7e197d",
   "metadata": {
    "tags": []
   },
   "outputs": [
    {
     "data": {
      "text/html": [
       "<pre style=\"white-space:pre;overflow-x:auto;line-height:normal;font-family:Menlo,'DejaVu Sans Mono',consolas,'Courier New',monospace\">┏━━━━━━━━━┳━━━━━━━━━━━━━━┳━━━━━━━━━━━━┳━━━━━━━━━┳━━━━━━━━━━━━━━┓\n",
       "┃<span style=\"font-weight: bold\"> MPG     </span>┃<span style=\"font-weight: bold\"> Displacement </span>┃<span style=\"font-weight: bold\"> Horsepower </span>┃<span style=\"font-weight: bold\"> Weight  </span>┃<span style=\"font-weight: bold\"> Acceleration </span>┃\n",
       "┡━━━━━━━━━╇━━━━━━━━━━━━━━╇━━━━━━━━━━━━╇━━━━━━━━━╇━━━━━━━━━━━━━━┩\n",
       "│ <span style=\"color: #7f7f7f; text-decoration-color: #7f7f7f\">float64</span> │ <span style=\"color: #7f7f7f; text-decoration-color: #7f7f7f\">float64</span>      │ <span style=\"color: #7f7f7f; text-decoration-color: #7f7f7f\">float64</span>    │ <span style=\"color: #7f7f7f; text-decoration-color: #7f7f7f\">float64</span> │ <span style=\"color: #7f7f7f; text-decoration-color: #7f7f7f\">float64</span>      │\n",
       "├─────────┼──────────────┼────────────┼─────────┼──────────────┤\n",
       "│    <span style=\"color: #008080; text-decoration-color: #008080; font-weight: bold\">18.0</span> │        <span style=\"color: #008080; text-decoration-color: #008080; font-weight: bold\">307.0</span> │      <span style=\"color: #008080; text-decoration-color: #008080; font-weight: bold\">130.0</span> │  <span style=\"color: #008080; text-decoration-color: #008080; font-weight: bold\">3504.0</span> │         <span style=\"color: #008080; text-decoration-color: #008080; font-weight: bold\">12.0</span> │\n",
       "│    <span style=\"color: #008080; text-decoration-color: #008080; font-weight: bold\">15.0</span> │        <span style=\"color: #008080; text-decoration-color: #008080; font-weight: bold\">350.0</span> │      <span style=\"color: #008080; text-decoration-color: #008080; font-weight: bold\">165.0</span> │  <span style=\"color: #008080; text-decoration-color: #008080; font-weight: bold\">3693.0</span> │         <span style=\"color: #008080; text-decoration-color: #008080; font-weight: bold\">11.5</span> │\n",
       "│    <span style=\"color: #008080; text-decoration-color: #008080; font-weight: bold\">18.0</span> │        <span style=\"color: #008080; text-decoration-color: #008080; font-weight: bold\">318.0</span> │      <span style=\"color: #008080; text-decoration-color: #008080; font-weight: bold\">150.0</span> │  <span style=\"color: #008080; text-decoration-color: #008080; font-weight: bold\">3436.0</span> │         <span style=\"color: #008080; text-decoration-color: #008080; font-weight: bold\">11.0</span> │\n",
       "│    <span style=\"color: #008080; text-decoration-color: #008080; font-weight: bold\">16.0</span> │        <span style=\"color: #008080; text-decoration-color: #008080; font-weight: bold\">304.0</span> │      <span style=\"color: #008080; text-decoration-color: #008080; font-weight: bold\">150.0</span> │  <span style=\"color: #008080; text-decoration-color: #008080; font-weight: bold\">3433.0</span> │         <span style=\"color: #008080; text-decoration-color: #008080; font-weight: bold\">12.0</span> │\n",
       "│    <span style=\"color: #008080; text-decoration-color: #008080; font-weight: bold\">17.0</span> │        <span style=\"color: #008080; text-decoration-color: #008080; font-weight: bold\">302.0</span> │      <span style=\"color: #008080; text-decoration-color: #008080; font-weight: bold\">140.0</span> │  <span style=\"color: #008080; text-decoration-color: #008080; font-weight: bold\">3449.0</span> │         <span style=\"color: #008080; text-decoration-color: #008080; font-weight: bold\">10.5</span> │\n",
       "│    <span style=\"color: #008080; text-decoration-color: #008080; font-weight: bold\">15.0</span> │        <span style=\"color: #008080; text-decoration-color: #008080; font-weight: bold\">429.0</span> │      <span style=\"color: #008080; text-decoration-color: #008080; font-weight: bold\">198.0</span> │  <span style=\"color: #008080; text-decoration-color: #008080; font-weight: bold\">4341.0</span> │         <span style=\"color: #008080; text-decoration-color: #008080; font-weight: bold\">10.0</span> │\n",
       "│    <span style=\"color: #008080; text-decoration-color: #008080; font-weight: bold\">14.0</span> │        <span style=\"color: #008080; text-decoration-color: #008080; font-weight: bold\">454.0</span> │      <span style=\"color: #008080; text-decoration-color: #008080; font-weight: bold\">220.0</span> │  <span style=\"color: #008080; text-decoration-color: #008080; font-weight: bold\">4354.0</span> │          <span style=\"color: #008080; text-decoration-color: #008080; font-weight: bold\">9.0</span> │\n",
       "│    <span style=\"color: #008080; text-decoration-color: #008080; font-weight: bold\">14.0</span> │        <span style=\"color: #008080; text-decoration-color: #008080; font-weight: bold\">440.0</span> │      <span style=\"color: #008080; text-decoration-color: #008080; font-weight: bold\">215.0</span> │  <span style=\"color: #008080; text-decoration-color: #008080; font-weight: bold\">4312.0</span> │          <span style=\"color: #008080; text-decoration-color: #008080; font-weight: bold\">8.5</span> │\n",
       "│    <span style=\"color: #008080; text-decoration-color: #008080; font-weight: bold\">14.0</span> │        <span style=\"color: #008080; text-decoration-color: #008080; font-weight: bold\">455.0</span> │      <span style=\"color: #008080; text-decoration-color: #008080; font-weight: bold\">225.0</span> │  <span style=\"color: #008080; text-decoration-color: #008080; font-weight: bold\">4425.0</span> │         <span style=\"color: #008080; text-decoration-color: #008080; font-weight: bold\">10.0</span> │\n",
       "│    <span style=\"color: #008080; text-decoration-color: #008080; font-weight: bold\">15.0</span> │        <span style=\"color: #008080; text-decoration-color: #008080; font-weight: bold\">390.0</span> │      <span style=\"color: #008080; text-decoration-color: #008080; font-weight: bold\">190.0</span> │  <span style=\"color: #008080; text-decoration-color: #008080; font-weight: bold\">3850.0</span> │          <span style=\"color: #008080; text-decoration-color: #008080; font-weight: bold\">8.5</span> │\n",
       "│       <span style=\"color: #7f7f7f; text-decoration-color: #7f7f7f\">…</span> │            <span style=\"color: #7f7f7f; text-decoration-color: #7f7f7f\">…</span> │          <span style=\"color: #7f7f7f; text-decoration-color: #7f7f7f\">…</span> │       <span style=\"color: #7f7f7f; text-decoration-color: #7f7f7f\">…</span> │            <span style=\"color: #7f7f7f; text-decoration-color: #7f7f7f\">…</span> │\n",
       "└─────────┴──────────────┴────────────┴─────────┴──────────────┘\n",
       "</pre>\n"
      ],
      "text/plain": [
       "┏━━━━━━━━━┳━━━━━━━━━━━━━━┳━━━━━━━━━━━━┳━━━━━━━━━┳━━━━━━━━━━━━━━┓\n",
       "┃\u001b[1m \u001b[0m\u001b[1mMPG\u001b[0m\u001b[1m    \u001b[0m\u001b[1m \u001b[0m┃\u001b[1m \u001b[0m\u001b[1mDisplacement\u001b[0m\u001b[1m \u001b[0m┃\u001b[1m \u001b[0m\u001b[1mHorsepower\u001b[0m\u001b[1m \u001b[0m┃\u001b[1m \u001b[0m\u001b[1mWeight\u001b[0m\u001b[1m \u001b[0m\u001b[1m \u001b[0m┃\u001b[1m \u001b[0m\u001b[1mAcceleration\u001b[0m\u001b[1m \u001b[0m┃\n",
       "┡━━━━━━━━━╇━━━━━━━━━━━━━━╇━━━━━━━━━━━━╇━━━━━━━━━╇━━━━━━━━━━━━━━┩\n",
       "│ \u001b[2mfloat64\u001b[0m │ \u001b[2mfloat64\u001b[0m      │ \u001b[2mfloat64\u001b[0m    │ \u001b[2mfloat64\u001b[0m │ \u001b[2mfloat64\u001b[0m      │\n",
       "├─────────┼──────────────┼────────────┼─────────┼──────────────┤\n",
       "│    \u001b[1;36m18.0\u001b[0m │        \u001b[1;36m307.0\u001b[0m │      \u001b[1;36m130.0\u001b[0m │  \u001b[1;36m3504.0\u001b[0m │         \u001b[1;36m12.0\u001b[0m │\n",
       "│    \u001b[1;36m15.0\u001b[0m │        \u001b[1;36m350.0\u001b[0m │      \u001b[1;36m165.0\u001b[0m │  \u001b[1;36m3693.0\u001b[0m │         \u001b[1;36m11.5\u001b[0m │\n",
       "│    \u001b[1;36m18.0\u001b[0m │        \u001b[1;36m318.0\u001b[0m │      \u001b[1;36m150.0\u001b[0m │  \u001b[1;36m3436.0\u001b[0m │         \u001b[1;36m11.0\u001b[0m │\n",
       "│    \u001b[1;36m16.0\u001b[0m │        \u001b[1;36m304.0\u001b[0m │      \u001b[1;36m150.0\u001b[0m │  \u001b[1;36m3433.0\u001b[0m │         \u001b[1;36m12.0\u001b[0m │\n",
       "│    \u001b[1;36m17.0\u001b[0m │        \u001b[1;36m302.0\u001b[0m │      \u001b[1;36m140.0\u001b[0m │  \u001b[1;36m3449.0\u001b[0m │         \u001b[1;36m10.5\u001b[0m │\n",
       "│    \u001b[1;36m15.0\u001b[0m │        \u001b[1;36m429.0\u001b[0m │      \u001b[1;36m198.0\u001b[0m │  \u001b[1;36m4341.0\u001b[0m │         \u001b[1;36m10.0\u001b[0m │\n",
       "│    \u001b[1;36m14.0\u001b[0m │        \u001b[1;36m454.0\u001b[0m │      \u001b[1;36m220.0\u001b[0m │  \u001b[1;36m4354.0\u001b[0m │          \u001b[1;36m9.0\u001b[0m │\n",
       "│    \u001b[1;36m14.0\u001b[0m │        \u001b[1;36m440.0\u001b[0m │      \u001b[1;36m215.0\u001b[0m │  \u001b[1;36m4312.0\u001b[0m │          \u001b[1;36m8.5\u001b[0m │\n",
       "│    \u001b[1;36m14.0\u001b[0m │        \u001b[1;36m455.0\u001b[0m │      \u001b[1;36m225.0\u001b[0m │  \u001b[1;36m4425.0\u001b[0m │         \u001b[1;36m10.0\u001b[0m │\n",
       "│    \u001b[1;36m15.0\u001b[0m │        \u001b[1;36m390.0\u001b[0m │      \u001b[1;36m190.0\u001b[0m │  \u001b[1;36m3850.0\u001b[0m │          \u001b[1;36m8.5\u001b[0m │\n",
       "│       \u001b[2m…\u001b[0m │            \u001b[2m…\u001b[0m │          \u001b[2m…\u001b[0m │       \u001b[2m…\u001b[0m │            \u001b[2m…\u001b[0m │\n",
       "└─────────┴──────────────┴────────────┴─────────┴──────────────┘"
      ]
     },
     "execution_count": 8,
     "metadata": {},
     "output_type": "execute_result"
    }
   ],
   "source": [
    "from ibis import selectors as s\n",
    "cars.select(s.of_type('float64'))"
   ]
  },
  {
   "cell_type": "markdown",
   "id": "117686fb-457e-4c43-9891-24919b63a934",
   "metadata": {},
   "source": [
    "#### We can also use boolean logic OR using `|` to select columns with different column types"
   ]
  },
  {
   "cell_type": "code",
   "execution_count": 9,
   "id": "e7de397e-25ad-4e98-b54a-ab7acacbd37c",
   "metadata": {
    "tags": []
   },
   "outputs": [
    {
     "data": {
      "text/html": [
       "<pre style=\"white-space:pre;overflow-x:auto;line-height:normal;font-family:Menlo,'DejaVu Sans Mono',consolas,'Courier New',monospace\">┏━━━━━━━━━━━━━━━━━━━━━━━━━━━┳━━━━━━━━━━━┳━━━━━━━┳━━━━━━━━┓\n",
       "┃<span style=\"font-weight: bold\"> Car                       </span>┃<span style=\"font-weight: bold\"> Cylinders </span>┃<span style=\"font-weight: bold\"> Model </span>┃<span style=\"font-weight: bold\"> Origin </span>┃\n",
       "┡━━━━━━━━━━━━━━━━━━━━━━━━━━━╇━━━━━━━━━━━╇━━━━━━━╇━━━━━━━━┩\n",
       "│ <span style=\"color: #7f7f7f; text-decoration-color: #7f7f7f\">string</span>                    │ <span style=\"color: #7f7f7f; text-decoration-color: #7f7f7f\">int64</span>     │ <span style=\"color: #7f7f7f; text-decoration-color: #7f7f7f\">int64</span> │ <span style=\"color: #7f7f7f; text-decoration-color: #7f7f7f\">string</span> │\n",
       "├───────────────────────────┼───────────┼───────┼────────┤\n",
       "│ Chevrolet Chevelle Malibu │         <span style=\"color: #008080; text-decoration-color: #008080; font-weight: bold\">8</span> │    <span style=\"color: #008080; text-decoration-color: #008080; font-weight: bold\">70</span> │ US     │\n",
       "│ Buick Skylark 320         │         <span style=\"color: #008080; text-decoration-color: #008080; font-weight: bold\">8</span> │    <span style=\"color: #008080; text-decoration-color: #008080; font-weight: bold\">70</span> │ US     │\n",
       "│ Plymouth Satellite        │         <span style=\"color: #008080; text-decoration-color: #008080; font-weight: bold\">8</span> │    <span style=\"color: #008080; text-decoration-color: #008080; font-weight: bold\">70</span> │ US     │\n",
       "│ AMC Rebel SST             │         <span style=\"color: #008080; text-decoration-color: #008080; font-weight: bold\">8</span> │    <span style=\"color: #008080; text-decoration-color: #008080; font-weight: bold\">70</span> │ US     │\n",
       "│ Ford Torino               │         <span style=\"color: #008080; text-decoration-color: #008080; font-weight: bold\">8</span> │    <span style=\"color: #008080; text-decoration-color: #008080; font-weight: bold\">70</span> │ US     │\n",
       "│ Ford Galaxie 500          │         <span style=\"color: #008080; text-decoration-color: #008080; font-weight: bold\">8</span> │    <span style=\"color: #008080; text-decoration-color: #008080; font-weight: bold\">70</span> │ US     │\n",
       "│ Chevrolet Impala          │         <span style=\"color: #008080; text-decoration-color: #008080; font-weight: bold\">8</span> │    <span style=\"color: #008080; text-decoration-color: #008080; font-weight: bold\">70</span> │ US     │\n",
       "│ Plymouth Fury iii         │         <span style=\"color: #008080; text-decoration-color: #008080; font-weight: bold\">8</span> │    <span style=\"color: #008080; text-decoration-color: #008080; font-weight: bold\">70</span> │ US     │\n",
       "│ Pontiac Catalina          │         <span style=\"color: #008080; text-decoration-color: #008080; font-weight: bold\">8</span> │    <span style=\"color: #008080; text-decoration-color: #008080; font-weight: bold\">70</span> │ US     │\n",
       "│ AMC Ambassador DPL        │         <span style=\"color: #008080; text-decoration-color: #008080; font-weight: bold\">8</span> │    <span style=\"color: #008080; text-decoration-color: #008080; font-weight: bold\">70</span> │ US     │\n",
       "│ <span style=\"color: #7f7f7f; text-decoration-color: #7f7f7f\">…</span>                         │         <span style=\"color: #7f7f7f; text-decoration-color: #7f7f7f\">…</span> │     <span style=\"color: #7f7f7f; text-decoration-color: #7f7f7f\">…</span> │ <span style=\"color: #7f7f7f; text-decoration-color: #7f7f7f\">…</span>      │\n",
       "└───────────────────────────┴───────────┴───────┴────────┘\n",
       "</pre>\n"
      ],
      "text/plain": [
       "┏━━━━━━━━━━━━━━━━━━━━━━━━━━━┳━━━━━━━━━━━┳━━━━━━━┳━━━━━━━━┓\n",
       "┃\u001b[1m \u001b[0m\u001b[1mCar\u001b[0m\u001b[1m                      \u001b[0m\u001b[1m \u001b[0m┃\u001b[1m \u001b[0m\u001b[1mCylinders\u001b[0m\u001b[1m \u001b[0m┃\u001b[1m \u001b[0m\u001b[1mModel\u001b[0m\u001b[1m \u001b[0m┃\u001b[1m \u001b[0m\u001b[1mOrigin\u001b[0m\u001b[1m \u001b[0m┃\n",
       "┡━━━━━━━━━━━━━━━━━━━━━━━━━━━╇━━━━━━━━━━━╇━━━━━━━╇━━━━━━━━┩\n",
       "│ \u001b[2mstring\u001b[0m                    │ \u001b[2mint64\u001b[0m     │ \u001b[2mint64\u001b[0m │ \u001b[2mstring\u001b[0m │\n",
       "├───────────────────────────┼───────────┼───────┼────────┤\n",
       "│ Chevrolet Chevelle Malibu │         \u001b[1;36m8\u001b[0m │    \u001b[1;36m70\u001b[0m │ US     │\n",
       "│ Buick Skylark 320         │         \u001b[1;36m8\u001b[0m │    \u001b[1;36m70\u001b[0m │ US     │\n",
       "│ Plymouth Satellite        │         \u001b[1;36m8\u001b[0m │    \u001b[1;36m70\u001b[0m │ US     │\n",
       "│ AMC Rebel SST             │         \u001b[1;36m8\u001b[0m │    \u001b[1;36m70\u001b[0m │ US     │\n",
       "│ Ford Torino               │         \u001b[1;36m8\u001b[0m │    \u001b[1;36m70\u001b[0m │ US     │\n",
       "│ Ford Galaxie 500          │         \u001b[1;36m8\u001b[0m │    \u001b[1;36m70\u001b[0m │ US     │\n",
       "│ Chevrolet Impala          │         \u001b[1;36m8\u001b[0m │    \u001b[1;36m70\u001b[0m │ US     │\n",
       "│ Plymouth Fury iii         │         \u001b[1;36m8\u001b[0m │    \u001b[1;36m70\u001b[0m │ US     │\n",
       "│ Pontiac Catalina          │         \u001b[1;36m8\u001b[0m │    \u001b[1;36m70\u001b[0m │ US     │\n",
       "│ AMC Ambassador DPL        │         \u001b[1;36m8\u001b[0m │    \u001b[1;36m70\u001b[0m │ US     │\n",
       "│ \u001b[2m…\u001b[0m                         │         \u001b[2m…\u001b[0m │     \u001b[2m…\u001b[0m │ \u001b[2m…\u001b[0m      │\n",
       "└───────────────────────────┴───────────┴───────┴────────┘"
      ]
     },
     "execution_count": 9,
     "metadata": {},
     "output_type": "execute_result"
    }
   ],
   "source": [
    "cars.select(s.of_type('string') | s.of_type('int64'))"
   ]
  },
  {
   "cell_type": "markdown",
   "id": "b9fb5e1d-5d5f-41c1-921a-f0584379b155",
   "metadata": {},
   "source": [
    "<a id=\"split\">"
   ]
  },
  {
   "cell_type": "markdown",
   "id": "0143bea2-dfb7-4453-9c2a-2911ecac54da",
   "metadata": {},
   "source": [
    "## Creating new column based on value from another column using mutate and split() combination"
   ]
  },
  {
   "cell_type": "markdown",
   "id": "531fcc74-0b38-45b3-92f3-fc4b591253af",
   "metadata": {},
   "source": [
    "[[back to top]](#back_to_top)"
   ]
  },
  {
   "cell_type": "markdown",
   "id": "e27f66db-9237-4638-b9a4-9b973f6e0e65",
   "metadata": {},
   "source": [
    "The `Car` column happens to contain both the car's make and model names.  If we want the make, it looks like we just need to extract the first string token after the splitting the string value in the `Car` column based on a single white space.  The model name is the 2nd token.  We will use array index of zero/0 to obtain the make and index of 1 to obtain the model name."
   ]
  },
  {
   "cell_type": "code",
   "execution_count": 10,
   "id": "9807c034-898c-42bd-b8c1-8064f98e6736",
   "metadata": {
    "tags": []
   },
   "outputs": [],
   "source": [
    "cars = cars.mutate(Make=cars.Car.split(' ')[0])\n",
    "cars = cars.mutate(ModelName=cars.Car.split(' ')[1])"
   ]
  },
  {
   "cell_type": "code",
   "execution_count": 11,
   "id": "0860794d-118b-4033-8c47-daac13e3861f",
   "metadata": {
    "tags": []
   },
   "outputs": [
    {
     "data": {
      "text/html": [
       "<pre style=\"white-space:pre;overflow-x:auto;line-height:normal;font-family:Menlo,'DejaVu Sans Mono',consolas,'Courier New',monospace\">┏━━━━━━━━━━━━━━━━━━━━━━━━━━━┳━━━━━━━━━┳━━━━━━━━━━━┳━━━━━━━━━━━━━━┳━━━━━━━━━━━━┳━━━━━━━━━┳━━━━━━━━━━━━━━┳━━━━━━━┳━━━━━━━━┳━━━━━━━━━━━┳━━━━━━━━━━━┓\n",
       "┃<span style=\"font-weight: bold\"> Car                       </span>┃<span style=\"font-weight: bold\"> MPG     </span>┃<span style=\"font-weight: bold\"> Cylinders </span>┃<span style=\"font-weight: bold\"> Displacement </span>┃<span style=\"font-weight: bold\"> Horsepower </span>┃<span style=\"font-weight: bold\"> Weight  </span>┃<span style=\"font-weight: bold\"> Acceleration </span>┃<span style=\"font-weight: bold\"> Model </span>┃<span style=\"font-weight: bold\"> Origin </span>┃<span style=\"font-weight: bold\"> Make      </span>┃<span style=\"font-weight: bold\"> ModelName </span>┃\n",
       "┡━━━━━━━━━━━━━━━━━━━━━━━━━━━╇━━━━━━━━━╇━━━━━━━━━━━╇━━━━━━━━━━━━━━╇━━━━━━━━━━━━╇━━━━━━━━━╇━━━━━━━━━━━━━━╇━━━━━━━╇━━━━━━━━╇━━━━━━━━━━━╇━━━━━━━━━━━┩\n",
       "│ <span style=\"color: #7f7f7f; text-decoration-color: #7f7f7f\">string</span>                    │ <span style=\"color: #7f7f7f; text-decoration-color: #7f7f7f\">float64</span> │ <span style=\"color: #7f7f7f; text-decoration-color: #7f7f7f\">int64</span>     │ <span style=\"color: #7f7f7f; text-decoration-color: #7f7f7f\">float64</span>      │ <span style=\"color: #7f7f7f; text-decoration-color: #7f7f7f\">float64</span>    │ <span style=\"color: #7f7f7f; text-decoration-color: #7f7f7f\">float64</span> │ <span style=\"color: #7f7f7f; text-decoration-color: #7f7f7f\">float64</span>      │ <span style=\"color: #7f7f7f; text-decoration-color: #7f7f7f\">int64</span> │ <span style=\"color: #7f7f7f; text-decoration-color: #7f7f7f\">string</span> │ <span style=\"color: #7f7f7f; text-decoration-color: #7f7f7f\">string</span>    │ <span style=\"color: #7f7f7f; text-decoration-color: #7f7f7f\">string</span>    │\n",
       "├───────────────────────────┼─────────┼───────────┼──────────────┼────────────┼─────────┼──────────────┼───────┼────────┼───────────┼───────────┤\n",
       "│ Chevrolet Chevelle Malibu │    <span style=\"color: #008080; text-decoration-color: #008080; font-weight: bold\">18.0</span> │         <span style=\"color: #008080; text-decoration-color: #008080; font-weight: bold\">8</span> │        <span style=\"color: #008080; text-decoration-color: #008080; font-weight: bold\">307.0</span> │      <span style=\"color: #008080; text-decoration-color: #008080; font-weight: bold\">130.0</span> │  <span style=\"color: #008080; text-decoration-color: #008080; font-weight: bold\">3504.0</span> │         <span style=\"color: #008080; text-decoration-color: #008080; font-weight: bold\">12.0</span> │    <span style=\"color: #008080; text-decoration-color: #008080; font-weight: bold\">70</span> │ US     │ Chevrolet │ Chevelle  │\n",
       "│ Buick Skylark 320         │    <span style=\"color: #008080; text-decoration-color: #008080; font-weight: bold\">15.0</span> │         <span style=\"color: #008080; text-decoration-color: #008080; font-weight: bold\">8</span> │        <span style=\"color: #008080; text-decoration-color: #008080; font-weight: bold\">350.0</span> │      <span style=\"color: #008080; text-decoration-color: #008080; font-weight: bold\">165.0</span> │  <span style=\"color: #008080; text-decoration-color: #008080; font-weight: bold\">3693.0</span> │         <span style=\"color: #008080; text-decoration-color: #008080; font-weight: bold\">11.5</span> │    <span style=\"color: #008080; text-decoration-color: #008080; font-weight: bold\">70</span> │ US     │ Buick     │ Skylark   │\n",
       "│ Plymouth Satellite        │    <span style=\"color: #008080; text-decoration-color: #008080; font-weight: bold\">18.0</span> │         <span style=\"color: #008080; text-decoration-color: #008080; font-weight: bold\">8</span> │        <span style=\"color: #008080; text-decoration-color: #008080; font-weight: bold\">318.0</span> │      <span style=\"color: #008080; text-decoration-color: #008080; font-weight: bold\">150.0</span> │  <span style=\"color: #008080; text-decoration-color: #008080; font-weight: bold\">3436.0</span> │         <span style=\"color: #008080; text-decoration-color: #008080; font-weight: bold\">11.0</span> │    <span style=\"color: #008080; text-decoration-color: #008080; font-weight: bold\">70</span> │ US     │ Plymouth  │ Satellite │\n",
       "│ AMC Rebel SST             │    <span style=\"color: #008080; text-decoration-color: #008080; font-weight: bold\">16.0</span> │         <span style=\"color: #008080; text-decoration-color: #008080; font-weight: bold\">8</span> │        <span style=\"color: #008080; text-decoration-color: #008080; font-weight: bold\">304.0</span> │      <span style=\"color: #008080; text-decoration-color: #008080; font-weight: bold\">150.0</span> │  <span style=\"color: #008080; text-decoration-color: #008080; font-weight: bold\">3433.0</span> │         <span style=\"color: #008080; text-decoration-color: #008080; font-weight: bold\">12.0</span> │    <span style=\"color: #008080; text-decoration-color: #008080; font-weight: bold\">70</span> │ US     │ AMC       │ Rebel     │\n",
       "│ Ford Torino               │    <span style=\"color: #008080; text-decoration-color: #008080; font-weight: bold\">17.0</span> │         <span style=\"color: #008080; text-decoration-color: #008080; font-weight: bold\">8</span> │        <span style=\"color: #008080; text-decoration-color: #008080; font-weight: bold\">302.0</span> │      <span style=\"color: #008080; text-decoration-color: #008080; font-weight: bold\">140.0</span> │  <span style=\"color: #008080; text-decoration-color: #008080; font-weight: bold\">3449.0</span> │         <span style=\"color: #008080; text-decoration-color: #008080; font-weight: bold\">10.5</span> │    <span style=\"color: #008080; text-decoration-color: #008080; font-weight: bold\">70</span> │ US     │ Ford      │ Torino    │\n",
       "└───────────────────────────┴─────────┴───────────┴──────────────┴────────────┴─────────┴──────────────┴───────┴────────┴───────────┴───────────┘\n",
       "</pre>\n"
      ],
      "text/plain": [
       "┏━━━━━━━━━━━━━━━━━━━━━━━━━━━┳━━━━━━━━━┳━━━━━━━━━━━┳━━━━━━━━━━━━━━┳━━━━━━━━━━━━┳━━━━━━━━━┳━━━━━━━━━━━━━━┳━━━━━━━┳━━━━━━━━┳━━━━━━━━━━━┳━━━━━━━━━━━┓\n",
       "┃\u001b[1m \u001b[0m\u001b[1mCar\u001b[0m\u001b[1m                      \u001b[0m\u001b[1m \u001b[0m┃\u001b[1m \u001b[0m\u001b[1mMPG\u001b[0m\u001b[1m    \u001b[0m\u001b[1m \u001b[0m┃\u001b[1m \u001b[0m\u001b[1mCylinders\u001b[0m\u001b[1m \u001b[0m┃\u001b[1m \u001b[0m\u001b[1mDisplacement\u001b[0m\u001b[1m \u001b[0m┃\u001b[1m \u001b[0m\u001b[1mHorsepower\u001b[0m\u001b[1m \u001b[0m┃\u001b[1m \u001b[0m\u001b[1mWeight\u001b[0m\u001b[1m \u001b[0m\u001b[1m \u001b[0m┃\u001b[1m \u001b[0m\u001b[1mAcceleration\u001b[0m\u001b[1m \u001b[0m┃\u001b[1m \u001b[0m\u001b[1mModel\u001b[0m\u001b[1m \u001b[0m┃\u001b[1m \u001b[0m\u001b[1mOrigin\u001b[0m\u001b[1m \u001b[0m┃\u001b[1m \u001b[0m\u001b[1mMake\u001b[0m\u001b[1m     \u001b[0m\u001b[1m \u001b[0m┃\u001b[1m \u001b[0m\u001b[1mModelName\u001b[0m\u001b[1m \u001b[0m┃\n",
       "┡━━━━━━━━━━━━━━━━━━━━━━━━━━━╇━━━━━━━━━╇━━━━━━━━━━━╇━━━━━━━━━━━━━━╇━━━━━━━━━━━━╇━━━━━━━━━╇━━━━━━━━━━━━━━╇━━━━━━━╇━━━━━━━━╇━━━━━━━━━━━╇━━━━━━━━━━━┩\n",
       "│ \u001b[2mstring\u001b[0m                    │ \u001b[2mfloat64\u001b[0m │ \u001b[2mint64\u001b[0m     │ \u001b[2mfloat64\u001b[0m      │ \u001b[2mfloat64\u001b[0m    │ \u001b[2mfloat64\u001b[0m │ \u001b[2mfloat64\u001b[0m      │ \u001b[2mint64\u001b[0m │ \u001b[2mstring\u001b[0m │ \u001b[2mstring\u001b[0m    │ \u001b[2mstring\u001b[0m    │\n",
       "├───────────────────────────┼─────────┼───────────┼──────────────┼────────────┼─────────┼──────────────┼───────┼────────┼───────────┼───────────┤\n",
       "│ Chevrolet Chevelle Malibu │    \u001b[1;36m18.0\u001b[0m │         \u001b[1;36m8\u001b[0m │        \u001b[1;36m307.0\u001b[0m │      \u001b[1;36m130.0\u001b[0m │  \u001b[1;36m3504.0\u001b[0m │         \u001b[1;36m12.0\u001b[0m │    \u001b[1;36m70\u001b[0m │ US     │ Chevrolet │ Chevelle  │\n",
       "│ Buick Skylark 320         │    \u001b[1;36m15.0\u001b[0m │         \u001b[1;36m8\u001b[0m │        \u001b[1;36m350.0\u001b[0m │      \u001b[1;36m165.0\u001b[0m │  \u001b[1;36m3693.0\u001b[0m │         \u001b[1;36m11.5\u001b[0m │    \u001b[1;36m70\u001b[0m │ US     │ Buick     │ Skylark   │\n",
       "│ Plymouth Satellite        │    \u001b[1;36m18.0\u001b[0m │         \u001b[1;36m8\u001b[0m │        \u001b[1;36m318.0\u001b[0m │      \u001b[1;36m150.0\u001b[0m │  \u001b[1;36m3436.0\u001b[0m │         \u001b[1;36m11.0\u001b[0m │    \u001b[1;36m70\u001b[0m │ US     │ Plymouth  │ Satellite │\n",
       "│ AMC Rebel SST             │    \u001b[1;36m16.0\u001b[0m │         \u001b[1;36m8\u001b[0m │        \u001b[1;36m304.0\u001b[0m │      \u001b[1;36m150.0\u001b[0m │  \u001b[1;36m3433.0\u001b[0m │         \u001b[1;36m12.0\u001b[0m │    \u001b[1;36m70\u001b[0m │ US     │ AMC       │ Rebel     │\n",
       "│ Ford Torino               │    \u001b[1;36m17.0\u001b[0m │         \u001b[1;36m8\u001b[0m │        \u001b[1;36m302.0\u001b[0m │      \u001b[1;36m140.0\u001b[0m │  \u001b[1;36m3449.0\u001b[0m │         \u001b[1;36m10.5\u001b[0m │    \u001b[1;36m70\u001b[0m │ US     │ Ford      │ Torino    │\n",
       "└───────────────────────────┴─────────┴───────────┴──────────────┴────────────┴─────────┴──────────────┴───────┴────────┴───────────┴───────────┘"
      ]
     },
     "execution_count": 11,
     "metadata": {},
     "output_type": "execute_result"
    }
   ],
   "source": [
    "cars.head()"
   ]
  },
  {
   "cell_type": "markdown",
   "id": "29cf9e41-9437-4cba-96af-6db0c898c6aa",
   "metadata": {},
   "source": [
    "<a id=\"case\">"
   ]
  },
  {
   "cell_type": "markdown",
   "id": "3ac4f01a-4853-421b-9334-98cc02652fd7",
   "metadata": {},
   "source": [
    "## Creating new column using CASE statements"
   ]
  },
  {
   "cell_type": "markdown",
   "id": "7a0cac70-33e1-46bc-9660-562c49ebe633",
   "metadata": {},
   "source": [
    "[[back to top]](#back_to_top)"
   ]
  },
  {
   "cell_type": "code",
   "execution_count": 12,
   "id": "fba99bc8-9e21-46ee-8604-64b4783127ff",
   "metadata": {
    "tags": []
   },
   "outputs": [],
   "source": [
    "foods = client.read_csv('./data/food.csv')"
   ]
  },
  {
   "cell_type": "code",
   "execution_count": 13,
   "id": "c1a66ff6-7062-4ab5-a5a5-a9b86b3d4b0d",
   "metadata": {
    "tags": []
   },
   "outputs": [
    {
     "data": {
      "text/html": [
       "<pre style=\"white-space:pre;overflow-x:auto;line-height:normal;font-family:Menlo,'DejaVu Sans Mono',consolas,'Courier New',monospace\">┏━━━━━━━━━━━━━┳━━━━━━━━━┓\n",
       "┃<span style=\"font-weight: bold\"> food        </span>┃<span style=\"font-weight: bold\"> ounces  </span>┃\n",
       "┡━━━━━━━━━━━━━╇━━━━━━━━━┩\n",
       "│ <span style=\"color: #7f7f7f; text-decoration-color: #7f7f7f\">string</span>      │ <span style=\"color: #7f7f7f; text-decoration-color: #7f7f7f\">float64</span> │\n",
       "├─────────────┼─────────┤\n",
       "│ bacon       │     <span style=\"color: #008080; text-decoration-color: #008080; font-weight: bold\">4.0</span> │\n",
       "│ pulled pork │     <span style=\"color: #008080; text-decoration-color: #008080; font-weight: bold\">3.0</span> │\n",
       "│ bacon       │    <span style=\"color: #008080; text-decoration-color: #008080; font-weight: bold\">12.0</span> │\n",
       "│ pastrami    │     <span style=\"color: #008080; text-decoration-color: #008080; font-weight: bold\">6.0</span> │\n",
       "│ corned beef │     <span style=\"color: #008080; text-decoration-color: #008080; font-weight: bold\">7.5</span> │\n",
       "│ bacon       │     <span style=\"color: #008080; text-decoration-color: #008080; font-weight: bold\">8.0</span> │\n",
       "│ pastrami    │     <span style=\"color: #008080; text-decoration-color: #008080; font-weight: bold\">3.0</span> │\n",
       "│ honey ham   │     <span style=\"color: #008080; text-decoration-color: #008080; font-weight: bold\">5.0</span> │\n",
       "│ nova lox    │     <span style=\"color: #008080; text-decoration-color: #008080; font-weight: bold\">6.0</span> │\n",
       "└─────────────┴─────────┘\n",
       "</pre>\n"
      ],
      "text/plain": [
       "┏━━━━━━━━━━━━━┳━━━━━━━━━┓\n",
       "┃\u001b[1m \u001b[0m\u001b[1mfood\u001b[0m\u001b[1m       \u001b[0m\u001b[1m \u001b[0m┃\u001b[1m \u001b[0m\u001b[1mounces\u001b[0m\u001b[1m \u001b[0m\u001b[1m \u001b[0m┃\n",
       "┡━━━━━━━━━━━━━╇━━━━━━━━━┩\n",
       "│ \u001b[2mstring\u001b[0m      │ \u001b[2mfloat64\u001b[0m │\n",
       "├─────────────┼─────────┤\n",
       "│ bacon       │     \u001b[1;36m4.0\u001b[0m │\n",
       "│ pulled pork │     \u001b[1;36m3.0\u001b[0m │\n",
       "│ bacon       │    \u001b[1;36m12.0\u001b[0m │\n",
       "│ pastrami    │     \u001b[1;36m6.0\u001b[0m │\n",
       "│ corned beef │     \u001b[1;36m7.5\u001b[0m │\n",
       "│ bacon       │     \u001b[1;36m8.0\u001b[0m │\n",
       "│ pastrami    │     \u001b[1;36m3.0\u001b[0m │\n",
       "│ honey ham   │     \u001b[1;36m5.0\u001b[0m │\n",
       "│ nova lox    │     \u001b[1;36m6.0\u001b[0m │\n",
       "└─────────────┴─────────┘"
      ]
     },
     "execution_count": 13,
     "metadata": {},
     "output_type": "execute_result"
    }
   ],
   "source": [
    "foods"
   ]
  },
  {
   "cell_type": "code",
   "execution_count": 14,
   "id": "03d5fed7-391d-4e61-a024-40a4a0545359",
   "metadata": {
    "tags": []
   },
   "outputs": [],
   "source": [
    "case = (\n",
    "    foods.food\n",
    "    .case()\n",
    "    .when('bacon', 'pig')\n",
    "    .when('pulled pork', 'pig')\n",
    "    .when('pastrami', 'cow')\n",
    "    .when('corned beef', 'cow')\n",
    "    .when('honey ham', 'pig')\n",
    "    .else_('salmon')\n",
    "    .end()\n",
    ")\n",
    "\n",
    "foods = foods.mutate(animal=case)"
   ]
  },
  {
   "cell_type": "code",
   "execution_count": 15,
   "id": "a4e3a561-e41e-4665-b226-c414a4472854",
   "metadata": {
    "tags": []
   },
   "outputs": [
    {
     "data": {
      "text/html": [
       "<pre style=\"white-space:pre;overflow-x:auto;line-height:normal;font-family:Menlo,'DejaVu Sans Mono',consolas,'Courier New',monospace\">┏━━━━━━━━━━━━━┳━━━━━━━━━┳━━━━━━━━┓\n",
       "┃<span style=\"font-weight: bold\"> food        </span>┃<span style=\"font-weight: bold\"> ounces  </span>┃<span style=\"font-weight: bold\"> animal </span>┃\n",
       "┡━━━━━━━━━━━━━╇━━━━━━━━━╇━━━━━━━━┩\n",
       "│ <span style=\"color: #7f7f7f; text-decoration-color: #7f7f7f\">string</span>      │ <span style=\"color: #7f7f7f; text-decoration-color: #7f7f7f\">float64</span> │ <span style=\"color: #7f7f7f; text-decoration-color: #7f7f7f\">string</span> │\n",
       "├─────────────┼─────────┼────────┤\n",
       "│ bacon       │     <span style=\"color: #008080; text-decoration-color: #008080; font-weight: bold\">4.0</span> │ pig    │\n",
       "│ pulled pork │     <span style=\"color: #008080; text-decoration-color: #008080; font-weight: bold\">3.0</span> │ pig    │\n",
       "│ bacon       │    <span style=\"color: #008080; text-decoration-color: #008080; font-weight: bold\">12.0</span> │ pig    │\n",
       "│ pastrami    │     <span style=\"color: #008080; text-decoration-color: #008080; font-weight: bold\">6.0</span> │ cow    │\n",
       "│ corned beef │     <span style=\"color: #008080; text-decoration-color: #008080; font-weight: bold\">7.5</span> │ cow    │\n",
       "│ bacon       │     <span style=\"color: #008080; text-decoration-color: #008080; font-weight: bold\">8.0</span> │ pig    │\n",
       "│ pastrami    │     <span style=\"color: #008080; text-decoration-color: #008080; font-weight: bold\">3.0</span> │ cow    │\n",
       "│ honey ham   │     <span style=\"color: #008080; text-decoration-color: #008080; font-weight: bold\">5.0</span> │ pig    │\n",
       "│ nova lox    │     <span style=\"color: #008080; text-decoration-color: #008080; font-weight: bold\">6.0</span> │ salmon │\n",
       "└─────────────┴─────────┴────────┘\n",
       "</pre>\n"
      ],
      "text/plain": [
       "┏━━━━━━━━━━━━━┳━━━━━━━━━┳━━━━━━━━┓\n",
       "┃\u001b[1m \u001b[0m\u001b[1mfood\u001b[0m\u001b[1m       \u001b[0m\u001b[1m \u001b[0m┃\u001b[1m \u001b[0m\u001b[1mounces\u001b[0m\u001b[1m \u001b[0m\u001b[1m \u001b[0m┃\u001b[1m \u001b[0m\u001b[1manimal\u001b[0m\u001b[1m \u001b[0m┃\n",
       "┡━━━━━━━━━━━━━╇━━━━━━━━━╇━━━━━━━━┩\n",
       "│ \u001b[2mstring\u001b[0m      │ \u001b[2mfloat64\u001b[0m │ \u001b[2mstring\u001b[0m │\n",
       "├─────────────┼─────────┼────────┤\n",
       "│ bacon       │     \u001b[1;36m4.0\u001b[0m │ pig    │\n",
       "│ pulled pork │     \u001b[1;36m3.0\u001b[0m │ pig    │\n",
       "│ bacon       │    \u001b[1;36m12.0\u001b[0m │ pig    │\n",
       "│ pastrami    │     \u001b[1;36m6.0\u001b[0m │ cow    │\n",
       "│ corned beef │     \u001b[1;36m7.5\u001b[0m │ cow    │\n",
       "│ bacon       │     \u001b[1;36m8.0\u001b[0m │ pig    │\n",
       "│ pastrami    │     \u001b[1;36m3.0\u001b[0m │ cow    │\n",
       "│ honey ham   │     \u001b[1;36m5.0\u001b[0m │ pig    │\n",
       "│ nova lox    │     \u001b[1;36m6.0\u001b[0m │ salmon │\n",
       "└─────────────┴─────────┴────────┘"
      ]
     },
     "execution_count": 15,
     "metadata": {},
     "output_type": "execute_result"
    }
   ],
   "source": [
    "foods"
   ]
  },
  {
   "cell_type": "markdown",
   "id": "d0a324a1-e58c-4b8f-97c0-707898787fec",
   "metadata": {},
   "source": [
    "<a id=\"running_total\">"
   ]
  },
  {
   "cell_type": "markdown",
   "id": "2114ca61-4927-4511-9dd2-7e628070e6e9",
   "metadata": {},
   "source": [
    "## Running Total / Cumulative Sum"
   ]
  },
  {
   "cell_type": "markdown",
   "id": "16ef3124-c3e1-4c96-b7ba-8ea5ae20dcbb",
   "metadata": {},
   "source": [
    "[[back to top]](#back_to_top)"
   ]
  },
  {
   "cell_type": "markdown",
   "id": "d0a601a7-d389-41cb-b029-c001bd15b612",
   "metadata": {},
   "source": [
    "Let's calculate running total or cumulative sum of MPG by country of origin."
   ]
  },
  {
   "cell_type": "code",
   "execution_count": 16,
   "id": "dab9b145-979e-4487-afdb-aa5c5d595649",
   "metadata": {
    "tags": []
   },
   "outputs": [],
   "source": [
    "# Define running total calculation\n",
    "window_spec = ibis.window(\n",
    "    order_by='MPG',\n",
    "    group_by='Origin'\n",
    ")\n",
    "\n",
    "running_total = cars['MPG'].cumsum().over(window_spec).name('running_total')\n",
    "\n",
    "# Apply running_total window spec.  If we want space in column name, we can do a \"relable\" to rename the column\n",
    "cars_cumulative_mpg = cars['Origin','MPG'].mutate(running_total=running_total).relabel(dict(running_total='Running Total'))"
   ]
  },
  {
   "cell_type": "code",
   "execution_count": 17,
   "id": "43e38e76-1ae0-465a-8fa9-1c05093f6e26",
   "metadata": {
    "tags": []
   },
   "outputs": [
    {
     "data": {
      "text/html": [
       "<pre style=\"white-space:pre;overflow-x:auto;line-height:normal;font-family:Menlo,'DejaVu Sans Mono',consolas,'Courier New',monospace\">┏━━━━━━━━┳━━━━━━━━━┳━━━━━━━━━━━━━━━┓\n",
       "┃<span style=\"font-weight: bold\"> Origin </span>┃<span style=\"font-weight: bold\"> MPG     </span>┃<span style=\"font-weight: bold\"> Running Total </span>┃\n",
       "┡━━━━━━━━╇━━━━━━━━━╇━━━━━━━━━━━━━━━┩\n",
       "│ <span style=\"color: #7f7f7f; text-decoration-color: #7f7f7f\">string</span> │ <span style=\"color: #7f7f7f; text-decoration-color: #7f7f7f\">float64</span> │ <span style=\"color: #7f7f7f; text-decoration-color: #7f7f7f\">float64</span>       │\n",
       "├────────┼─────────┼───────────────┤\n",
       "│ US     │     <span style=\"color: #008080; text-decoration-color: #008080; font-weight: bold\">0.0</span> │           <span style=\"color: #008080; text-decoration-color: #008080; font-weight: bold\">0.0</span> │\n",
       "│ US     │     <span style=\"color: #008080; text-decoration-color: #008080; font-weight: bold\">0.0</span> │           <span style=\"color: #008080; text-decoration-color: #008080; font-weight: bold\">0.0</span> │\n",
       "│ US     │     <span style=\"color: #008080; text-decoration-color: #008080; font-weight: bold\">0.0</span> │           <span style=\"color: #008080; text-decoration-color: #008080; font-weight: bold\">0.0</span> │\n",
       "│ US     │     <span style=\"color: #008080; text-decoration-color: #008080; font-weight: bold\">0.0</span> │           <span style=\"color: #008080; text-decoration-color: #008080; font-weight: bold\">0.0</span> │\n",
       "│ US     │     <span style=\"color: #008080; text-decoration-color: #008080; font-weight: bold\">0.0</span> │           <span style=\"color: #008080; text-decoration-color: #008080; font-weight: bold\">0.0</span> │\n",
       "│ US     │     <span style=\"color: #008080; text-decoration-color: #008080; font-weight: bold\">9.0</span> │           <span style=\"color: #008080; text-decoration-color: #008080; font-weight: bold\">9.0</span> │\n",
       "│ US     │    <span style=\"color: #008080; text-decoration-color: #008080; font-weight: bold\">10.0</span> │          <span style=\"color: #008080; text-decoration-color: #008080; font-weight: bold\">19.0</span> │\n",
       "│ US     │    <span style=\"color: #008080; text-decoration-color: #008080; font-weight: bold\">10.0</span> │          <span style=\"color: #008080; text-decoration-color: #008080; font-weight: bold\">29.0</span> │\n",
       "│ US     │    <span style=\"color: #008080; text-decoration-color: #008080; font-weight: bold\">11.0</span> │          <span style=\"color: #008080; text-decoration-color: #008080; font-weight: bold\">40.0</span> │\n",
       "│ US     │    <span style=\"color: #008080; text-decoration-color: #008080; font-weight: bold\">11.0</span> │          <span style=\"color: #008080; text-decoration-color: #008080; font-weight: bold\">51.0</span> │\n",
       "│ <span style=\"color: #7f7f7f; text-decoration-color: #7f7f7f\">…</span>      │       <span style=\"color: #7f7f7f; text-decoration-color: #7f7f7f\">…</span> │             <span style=\"color: #7f7f7f; text-decoration-color: #7f7f7f\">…</span> │\n",
       "└────────┴─────────┴───────────────┘\n",
       "</pre>\n"
      ],
      "text/plain": [
       "┏━━━━━━━━┳━━━━━━━━━┳━━━━━━━━━━━━━━━┓\n",
       "┃\u001b[1m \u001b[0m\u001b[1mOrigin\u001b[0m\u001b[1m \u001b[0m┃\u001b[1m \u001b[0m\u001b[1mMPG\u001b[0m\u001b[1m    \u001b[0m\u001b[1m \u001b[0m┃\u001b[1m \u001b[0m\u001b[1mRunning Total\u001b[0m\u001b[1m \u001b[0m┃\n",
       "┡━━━━━━━━╇━━━━━━━━━╇━━━━━━━━━━━━━━━┩\n",
       "│ \u001b[2mstring\u001b[0m │ \u001b[2mfloat64\u001b[0m │ \u001b[2mfloat64\u001b[0m       │\n",
       "├────────┼─────────┼───────────────┤\n",
       "│ US     │     \u001b[1;36m0.0\u001b[0m │           \u001b[1;36m0.0\u001b[0m │\n",
       "│ US     │     \u001b[1;36m0.0\u001b[0m │           \u001b[1;36m0.0\u001b[0m │\n",
       "│ US     │     \u001b[1;36m0.0\u001b[0m │           \u001b[1;36m0.0\u001b[0m │\n",
       "│ US     │     \u001b[1;36m0.0\u001b[0m │           \u001b[1;36m0.0\u001b[0m │\n",
       "│ US     │     \u001b[1;36m0.0\u001b[0m │           \u001b[1;36m0.0\u001b[0m │\n",
       "│ US     │     \u001b[1;36m9.0\u001b[0m │           \u001b[1;36m9.0\u001b[0m │\n",
       "│ US     │    \u001b[1;36m10.0\u001b[0m │          \u001b[1;36m19.0\u001b[0m │\n",
       "│ US     │    \u001b[1;36m10.0\u001b[0m │          \u001b[1;36m29.0\u001b[0m │\n",
       "│ US     │    \u001b[1;36m11.0\u001b[0m │          \u001b[1;36m40.0\u001b[0m │\n",
       "│ US     │    \u001b[1;36m11.0\u001b[0m │          \u001b[1;36m51.0\u001b[0m │\n",
       "│ \u001b[2m…\u001b[0m      │       \u001b[2m…\u001b[0m │             \u001b[2m…\u001b[0m │\n",
       "└────────┴─────────┴───────────────┘"
      ]
     },
     "execution_count": 17,
     "metadata": {},
     "output_type": "execute_result"
    }
   ],
   "source": [
    "cars_cumulative_mpg.filter(cars_cumulative_mpg['Origin'] == 'US')"
   ]
  },
  {
   "cell_type": "code",
   "execution_count": 18,
   "id": "ce2d5017-5ea9-4d49-aa96-7fb0bbe0a71c",
   "metadata": {
    "tags": []
   },
   "outputs": [
    {
     "data": {
      "text/html": [
       "<pre style=\"white-space:pre;overflow-x:auto;line-height:normal;font-family:Menlo,'DejaVu Sans Mono',consolas,'Courier New',monospace\">┏━━━━━━━━┳━━━━━━━━━┳━━━━━━━━━━━━━━━┓\n",
       "┃<span style=\"font-weight: bold\"> Origin </span>┃<span style=\"font-weight: bold\"> MPG     </span>┃<span style=\"font-weight: bold\"> Running Total </span>┃\n",
       "┡━━━━━━━━╇━━━━━━━━━╇━━━━━━━━━━━━━━━┩\n",
       "│ <span style=\"color: #7f7f7f; text-decoration-color: #7f7f7f\">string</span> │ <span style=\"color: #7f7f7f; text-decoration-color: #7f7f7f\">float64</span> │ <span style=\"color: #7f7f7f; text-decoration-color: #7f7f7f\">float64</span>       │\n",
       "├────────┼─────────┼───────────────┤\n",
       "│ Japan  │    <span style=\"color: #008080; text-decoration-color: #008080; font-weight: bold\">18.0</span> │          <span style=\"color: #008080; text-decoration-color: #008080; font-weight: bold\">18.0</span> │\n",
       "│ Japan  │    <span style=\"color: #008080; text-decoration-color: #008080; font-weight: bold\">19.0</span> │          <span style=\"color: #008080; text-decoration-color: #008080; font-weight: bold\">37.0</span> │\n",
       "│ Japan  │    <span style=\"color: #008080; text-decoration-color: #008080; font-weight: bold\">19.0</span> │          <span style=\"color: #008080; text-decoration-color: #008080; font-weight: bold\">56.0</span> │\n",
       "│ Japan  │    <span style=\"color: #008080; text-decoration-color: #008080; font-weight: bold\">20.0</span> │          <span style=\"color: #008080; text-decoration-color: #008080; font-weight: bold\">76.0</span> │\n",
       "│ Japan  │    <span style=\"color: #008080; text-decoration-color: #008080; font-weight: bold\">20.0</span> │          <span style=\"color: #008080; text-decoration-color: #008080; font-weight: bold\">96.0</span> │\n",
       "│ Japan  │    <span style=\"color: #008080; text-decoration-color: #008080; font-weight: bold\">21.1</span> │         <span style=\"color: #008080; text-decoration-color: #008080; font-weight: bold\">117.1</span> │\n",
       "│ Japan  │    <span style=\"color: #008080; text-decoration-color: #008080; font-weight: bold\">21.5</span> │         <span style=\"color: #008080; text-decoration-color: #008080; font-weight: bold\">138.6</span> │\n",
       "│ Japan  │    <span style=\"color: #008080; text-decoration-color: #008080; font-weight: bold\">22.0</span> │         <span style=\"color: #008080; text-decoration-color: #008080; font-weight: bold\">160.6</span> │\n",
       "│ Japan  │    <span style=\"color: #008080; text-decoration-color: #008080; font-weight: bold\">22.0</span> │         <span style=\"color: #008080; text-decoration-color: #008080; font-weight: bold\">182.6</span> │\n",
       "│ Japan  │    <span style=\"color: #008080; text-decoration-color: #008080; font-weight: bold\">23.0</span> │         <span style=\"color: #008080; text-decoration-color: #008080; font-weight: bold\">205.6</span> │\n",
       "│ <span style=\"color: #7f7f7f; text-decoration-color: #7f7f7f\">…</span>      │       <span style=\"color: #7f7f7f; text-decoration-color: #7f7f7f\">…</span> │             <span style=\"color: #7f7f7f; text-decoration-color: #7f7f7f\">…</span> │\n",
       "└────────┴─────────┴───────────────┘\n",
       "</pre>\n"
      ],
      "text/plain": [
       "┏━━━━━━━━┳━━━━━━━━━┳━━━━━━━━━━━━━━━┓\n",
       "┃\u001b[1m \u001b[0m\u001b[1mOrigin\u001b[0m\u001b[1m \u001b[0m┃\u001b[1m \u001b[0m\u001b[1mMPG\u001b[0m\u001b[1m    \u001b[0m\u001b[1m \u001b[0m┃\u001b[1m \u001b[0m\u001b[1mRunning Total\u001b[0m\u001b[1m \u001b[0m┃\n",
       "┡━━━━━━━━╇━━━━━━━━━╇━━━━━━━━━━━━━━━┩\n",
       "│ \u001b[2mstring\u001b[0m │ \u001b[2mfloat64\u001b[0m │ \u001b[2mfloat64\u001b[0m       │\n",
       "├────────┼─────────┼───────────────┤\n",
       "│ Japan  │    \u001b[1;36m18.0\u001b[0m │          \u001b[1;36m18.0\u001b[0m │\n",
       "│ Japan  │    \u001b[1;36m19.0\u001b[0m │          \u001b[1;36m37.0\u001b[0m │\n",
       "│ Japan  │    \u001b[1;36m19.0\u001b[0m │          \u001b[1;36m56.0\u001b[0m │\n",
       "│ Japan  │    \u001b[1;36m20.0\u001b[0m │          \u001b[1;36m76.0\u001b[0m │\n",
       "│ Japan  │    \u001b[1;36m20.0\u001b[0m │          \u001b[1;36m96.0\u001b[0m │\n",
       "│ Japan  │    \u001b[1;36m21.1\u001b[0m │         \u001b[1;36m117.1\u001b[0m │\n",
       "│ Japan  │    \u001b[1;36m21.5\u001b[0m │         \u001b[1;36m138.6\u001b[0m │\n",
       "│ Japan  │    \u001b[1;36m22.0\u001b[0m │         \u001b[1;36m160.6\u001b[0m │\n",
       "│ Japan  │    \u001b[1;36m22.0\u001b[0m │         \u001b[1;36m182.6\u001b[0m │\n",
       "│ Japan  │    \u001b[1;36m23.0\u001b[0m │         \u001b[1;36m205.6\u001b[0m │\n",
       "│ \u001b[2m…\u001b[0m      │       \u001b[2m…\u001b[0m │             \u001b[2m…\u001b[0m │\n",
       "└────────┴─────────┴───────────────┘"
      ]
     },
     "execution_count": 18,
     "metadata": {},
     "output_type": "execute_result"
    }
   ],
   "source": [
    "cars_cumulative_mpg.filter(cars_cumulative_mpg['Origin'] == 'Japan')"
   ]
  },
  {
   "cell_type": "code",
   "execution_count": 19,
   "id": "c0c41e61-2bc8-40d6-a5f8-a31e464c28fd",
   "metadata": {
    "tags": []
   },
   "outputs": [
    {
     "data": {
      "text/html": [
       "<pre style=\"white-space:pre;overflow-x:auto;line-height:normal;font-family:Menlo,'DejaVu Sans Mono',consolas,'Courier New',monospace\">┏━━━━━━━━┳━━━━━━━━━┳━━━━━━━━━━━━━━━┓\n",
       "┃<span style=\"font-weight: bold\"> Origin </span>┃<span style=\"font-weight: bold\"> MPG     </span>┃<span style=\"font-weight: bold\"> Running Total </span>┃\n",
       "┡━━━━━━━━╇━━━━━━━━━╇━━━━━━━━━━━━━━━┩\n",
       "│ <span style=\"color: #7f7f7f; text-decoration-color: #7f7f7f\">string</span> │ <span style=\"color: #7f7f7f; text-decoration-color: #7f7f7f\">float64</span> │ <span style=\"color: #7f7f7f; text-decoration-color: #7f7f7f\">float64</span>       │\n",
       "├────────┼─────────┼───────────────┤\n",
       "│ Europe │     <span style=\"color: #008080; text-decoration-color: #008080; font-weight: bold\">0.0</span> │           <span style=\"color: #008080; text-decoration-color: #008080; font-weight: bold\">0.0</span> │\n",
       "│ Europe │     <span style=\"color: #008080; text-decoration-color: #008080; font-weight: bold\">0.0</span> │           <span style=\"color: #008080; text-decoration-color: #008080; font-weight: bold\">0.0</span> │\n",
       "│ Europe │     <span style=\"color: #008080; text-decoration-color: #008080; font-weight: bold\">0.0</span> │           <span style=\"color: #008080; text-decoration-color: #008080; font-weight: bold\">0.0</span> │\n",
       "│ Europe │    <span style=\"color: #008080; text-decoration-color: #008080; font-weight: bold\">16.2</span> │          <span style=\"color: #008080; text-decoration-color: #008080; font-weight: bold\">16.2</span> │\n",
       "│ Europe │    <span style=\"color: #008080; text-decoration-color: #008080; font-weight: bold\">16.5</span> │          <span style=\"color: #008080; text-decoration-color: #008080; font-weight: bold\">32.7</span> │\n",
       "│ Europe │    <span style=\"color: #008080; text-decoration-color: #008080; font-weight: bold\">17.0</span> │          <span style=\"color: #008080; text-decoration-color: #008080; font-weight: bold\">49.7</span> │\n",
       "│ Europe │    <span style=\"color: #008080; text-decoration-color: #008080; font-weight: bold\">18.0</span> │          <span style=\"color: #008080; text-decoration-color: #008080; font-weight: bold\">67.7</span> │\n",
       "│ Europe │    <span style=\"color: #008080; text-decoration-color: #008080; font-weight: bold\">19.0</span> │          <span style=\"color: #008080; text-decoration-color: #008080; font-weight: bold\">86.7</span> │\n",
       "│ Europe │    <span style=\"color: #008080; text-decoration-color: #008080; font-weight: bold\">19.0</span> │         <span style=\"color: #008080; text-decoration-color: #008080; font-weight: bold\">105.7</span> │\n",
       "│ Europe │    <span style=\"color: #008080; text-decoration-color: #008080; font-weight: bold\">20.0</span> │         <span style=\"color: #008080; text-decoration-color: #008080; font-weight: bold\">125.7</span> │\n",
       "│ <span style=\"color: #7f7f7f; text-decoration-color: #7f7f7f\">…</span>      │       <span style=\"color: #7f7f7f; text-decoration-color: #7f7f7f\">…</span> │             <span style=\"color: #7f7f7f; text-decoration-color: #7f7f7f\">…</span> │\n",
       "└────────┴─────────┴───────────────┘\n",
       "</pre>\n"
      ],
      "text/plain": [
       "┏━━━━━━━━┳━━━━━━━━━┳━━━━━━━━━━━━━━━┓\n",
       "┃\u001b[1m \u001b[0m\u001b[1mOrigin\u001b[0m\u001b[1m \u001b[0m┃\u001b[1m \u001b[0m\u001b[1mMPG\u001b[0m\u001b[1m    \u001b[0m\u001b[1m \u001b[0m┃\u001b[1m \u001b[0m\u001b[1mRunning Total\u001b[0m\u001b[1m \u001b[0m┃\n",
       "┡━━━━━━━━╇━━━━━━━━━╇━━━━━━━━━━━━━━━┩\n",
       "│ \u001b[2mstring\u001b[0m │ \u001b[2mfloat64\u001b[0m │ \u001b[2mfloat64\u001b[0m       │\n",
       "├────────┼─────────┼───────────────┤\n",
       "│ Europe │     \u001b[1;36m0.0\u001b[0m │           \u001b[1;36m0.0\u001b[0m │\n",
       "│ Europe │     \u001b[1;36m0.0\u001b[0m │           \u001b[1;36m0.0\u001b[0m │\n",
       "│ Europe │     \u001b[1;36m0.0\u001b[0m │           \u001b[1;36m0.0\u001b[0m │\n",
       "│ Europe │    \u001b[1;36m16.2\u001b[0m │          \u001b[1;36m16.2\u001b[0m │\n",
       "│ Europe │    \u001b[1;36m16.5\u001b[0m │          \u001b[1;36m32.7\u001b[0m │\n",
       "│ Europe │    \u001b[1;36m17.0\u001b[0m │          \u001b[1;36m49.7\u001b[0m │\n",
       "│ Europe │    \u001b[1;36m18.0\u001b[0m │          \u001b[1;36m67.7\u001b[0m │\n",
       "│ Europe │    \u001b[1;36m19.0\u001b[0m │          \u001b[1;36m86.7\u001b[0m │\n",
       "│ Europe │    \u001b[1;36m19.0\u001b[0m │         \u001b[1;36m105.7\u001b[0m │\n",
       "│ Europe │    \u001b[1;36m20.0\u001b[0m │         \u001b[1;36m125.7\u001b[0m │\n",
       "│ \u001b[2m…\u001b[0m      │       \u001b[2m…\u001b[0m │             \u001b[2m…\u001b[0m │\n",
       "└────────┴─────────┴───────────────┘"
      ]
     },
     "execution_count": 19,
     "metadata": {},
     "output_type": "execute_result"
    }
   ],
   "source": [
    "cars_cumulative_mpg.filter(cars_cumulative_mpg['Origin'] == 'Europe')"
   ]
  },
  {
   "cell_type": "markdown",
   "id": "5face0d1-f377-4785-b199-104370af57d7",
   "metadata": {},
   "source": [
    "<a id=\"aggregations\">"
   ]
  },
  {
   "cell_type": "markdown",
   "id": "6c2d43d6-502a-4dd8-b635-ed9a0f00d5b6",
   "metadata": {},
   "source": [
    "## Aggregations / Summarizations"
   ]
  },
  {
   "cell_type": "markdown",
   "id": "49a077c6-38aa-41df-b44f-9e39b06cb240",
   "metadata": {},
   "source": [
    "[[back to top]](#back_to_top)"
   ]
  },
  {
   "cell_type": "markdown",
   "id": "c4bef2d9-b3b4-484b-87ea-028a46396a6f",
   "metadata": {},
   "source": [
    "**GOAL:** By country of origin, calculate min mpg, max mpg, and avg mpg."
   ]
  },
  {
   "cell_type": "code",
   "execution_count": 20,
   "id": "8646afb5-6b9b-436d-8b18-046c9d4e4596",
   "metadata": {
    "tags": []
   },
   "outputs": [
    {
     "data": {
      "text/html": [
       "<pre style=\"white-space:pre;overflow-x:auto;line-height:normal;font-family:Menlo,'DejaVu Sans Mono',consolas,'Courier New',monospace\">┏━━━━━━━━┳━━━━━━━━━┳━━━━━━━━━┳━━━━━━━━━━━┓\n",
       "┃<span style=\"font-weight: bold\"> Origin </span>┃<span style=\"font-weight: bold\"> Min MPG </span>┃<span style=\"font-weight: bold\"> Max MPG </span>┃<span style=\"font-weight: bold\"> Avg MPG   </span>┃\n",
       "┡━━━━━━━━╇━━━━━━━━━╇━━━━━━━━━╇━━━━━━━━━━━┩\n",
       "│ <span style=\"color: #7f7f7f; text-decoration-color: #7f7f7f\">string</span> │ <span style=\"color: #7f7f7f; text-decoration-color: #7f7f7f\">float64</span> │ <span style=\"color: #7f7f7f; text-decoration-color: #7f7f7f\">float64</span> │ <span style=\"color: #7f7f7f; text-decoration-color: #7f7f7f\">float64</span>   │\n",
       "├────────┼─────────┼─────────┼───────────┤\n",
       "│ US     │     <span style=\"color: #008080; text-decoration-color: #008080; font-weight: bold\">0.0</span> │    <span style=\"color: #008080; text-decoration-color: #008080; font-weight: bold\">39.0</span> │ <span style=\"color: #008080; text-decoration-color: #008080; font-weight: bold\">19.688189</span> │\n",
       "│ Europe │     <span style=\"color: #008080; text-decoration-color: #008080; font-weight: bold\">0.0</span> │    <span style=\"color: #008080; text-decoration-color: #008080; font-weight: bold\">44.3</span> │ <span style=\"color: #008080; text-decoration-color: #008080; font-weight: bold\">26.745205</span> │\n",
       "│ Japan  │    <span style=\"color: #008080; text-decoration-color: #008080; font-weight: bold\">18.0</span> │    <span style=\"color: #008080; text-decoration-color: #008080; font-weight: bold\">46.6</span> │ <span style=\"color: #008080; text-decoration-color: #008080; font-weight: bold\">30.450633</span> │\n",
       "└────────┴─────────┴─────────┴───────────┘\n",
       "</pre>\n"
      ],
      "text/plain": [
       "┏━━━━━━━━┳━━━━━━━━━┳━━━━━━━━━┳━━━━━━━━━━━┓\n",
       "┃\u001b[1m \u001b[0m\u001b[1mOrigin\u001b[0m\u001b[1m \u001b[0m┃\u001b[1m \u001b[0m\u001b[1mMin MPG\u001b[0m\u001b[1m \u001b[0m┃\u001b[1m \u001b[0m\u001b[1mMax MPG\u001b[0m\u001b[1m \u001b[0m┃\u001b[1m \u001b[0m\u001b[1mAvg MPG\u001b[0m\u001b[1m  \u001b[0m\u001b[1m \u001b[0m┃\n",
       "┡━━━━━━━━╇━━━━━━━━━╇━━━━━━━━━╇━━━━━━━━━━━┩\n",
       "│ \u001b[2mstring\u001b[0m │ \u001b[2mfloat64\u001b[0m │ \u001b[2mfloat64\u001b[0m │ \u001b[2mfloat64\u001b[0m   │\n",
       "├────────┼─────────┼─────────┼───────────┤\n",
       "│ US     │     \u001b[1;36m0.0\u001b[0m │    \u001b[1;36m39.0\u001b[0m │ \u001b[1;36m19.688189\u001b[0m │\n",
       "│ Europe │     \u001b[1;36m0.0\u001b[0m │    \u001b[1;36m44.3\u001b[0m │ \u001b[1;36m26.745205\u001b[0m │\n",
       "│ Japan  │    \u001b[1;36m18.0\u001b[0m │    \u001b[1;36m46.6\u001b[0m │ \u001b[1;36m30.450633\u001b[0m │\n",
       "└────────┴─────────┴─────────┴───────────┘"
      ]
     },
     "execution_count": 20,
     "metadata": {},
     "output_type": "execute_result"
    }
   ],
   "source": [
    "agged = cars.group_by('Origin').aggregate(\n",
    "    min_mpg=cars['MPG'].min().name(\"Min MPG\"),\n",
    "    max_mpg=cars['MPG'].max().name(\"Max MPG\"),\n",
    "    avg_mpg=cars['MPG'].mean().name(\"Avg MPG\"),\n",
    ")\n",
    "\n",
    "agged.relabel(\n",
    "    dict(\n",
    "        min_mpg='Min MPG',\n",
    "        max_mpg='Max MPG',\n",
    "        avg_mpg='Avg MPG',\n",
    "    )\n",
    ").head()"
   ]
  },
  {
   "cell_type": "markdown",
   "id": "29434156-b8ce-4d4e-9923-fd246de14aeb",
   "metadata": {},
   "source": [
    "<a id=\"filtering\">"
   ]
  },
  {
   "cell_type": "markdown",
   "id": "0e6c02b2-2a67-496f-ab52-98fac4664de1",
   "metadata": {},
   "source": [
    "## Filtering"
   ]
  },
  {
   "cell_type": "markdown",
   "id": "432119e5-3853-41a3-8f0c-8898e7ccad04",
   "metadata": {},
   "source": [
    "[[back to top]](#back_to_top)"
   ]
  },
  {
   "cell_type": "code",
   "execution_count": 21,
   "id": "74d5b144-3f90-4c24-87ef-9b9b9f11dff9",
   "metadata": {
    "tags": []
   },
   "outputs": [
    {
     "data": {
      "text/html": [
       "<pre style=\"white-space:pre;overflow-x:auto;line-height:normal;font-family:Menlo,'DejaVu Sans Mono',consolas,'Courier New',monospace\">┏━━━━━━━━━━━━━━━━━━━━━━━━━━━┳━━━━━━━━━┳━━━━━━━━━━━┳━━━━━━━━━━━━━━┳━━━━━━━━━━━━┳━━━━━━━━━┳━━━━━━━━━━━━━━┳━━━━━━━┳━━━━━━━━┳━━━━━━━━━━━┳━━━━━━━━━━━━┓\n",
       "┃<span style=\"font-weight: bold\"> Car                       </span>┃<span style=\"font-weight: bold\"> MPG     </span>┃<span style=\"font-weight: bold\"> Cylinders </span>┃<span style=\"font-weight: bold\"> Displacement </span>┃<span style=\"font-weight: bold\"> Horsepower </span>┃<span style=\"font-weight: bold\"> Weight  </span>┃<span style=\"font-weight: bold\"> Acceleration </span>┃<span style=\"font-weight: bold\"> Model </span>┃<span style=\"font-weight: bold\"> Origin </span>┃<span style=\"font-weight: bold\"> Make      </span>┃<span style=\"font-weight: bold\"> ModelName  </span>┃\n",
       "┡━━━━━━━━━━━━━━━━━━━━━━━━━━━╇━━━━━━━━━╇━━━━━━━━━━━╇━━━━━━━━━━━━━━╇━━━━━━━━━━━━╇━━━━━━━━━╇━━━━━━━━━━━━━━╇━━━━━━━╇━━━━━━━━╇━━━━━━━━━━━╇━━━━━━━━━━━━┩\n",
       "│ <span style=\"color: #7f7f7f; text-decoration-color: #7f7f7f\">string</span>                    │ <span style=\"color: #7f7f7f; text-decoration-color: #7f7f7f\">float64</span> │ <span style=\"color: #7f7f7f; text-decoration-color: #7f7f7f\">int64</span>     │ <span style=\"color: #7f7f7f; text-decoration-color: #7f7f7f\">float64</span>      │ <span style=\"color: #7f7f7f; text-decoration-color: #7f7f7f\">float64</span>    │ <span style=\"color: #7f7f7f; text-decoration-color: #7f7f7f\">float64</span> │ <span style=\"color: #7f7f7f; text-decoration-color: #7f7f7f\">float64</span>      │ <span style=\"color: #7f7f7f; text-decoration-color: #7f7f7f\">int64</span> │ <span style=\"color: #7f7f7f; text-decoration-color: #7f7f7f\">string</span> │ <span style=\"color: #7f7f7f; text-decoration-color: #7f7f7f\">string</span>    │ <span style=\"color: #7f7f7f; text-decoration-color: #7f7f7f\">string</span>     │\n",
       "├───────────────────────────┼─────────┼───────────┼──────────────┼────────────┼─────────┼──────────────┼───────┼────────┼───────────┼────────────┤\n",
       "│ Chevrolet Chevelle Malibu │    <span style=\"color: #008080; text-decoration-color: #008080; font-weight: bold\">18.0</span> │         <span style=\"color: #008080; text-decoration-color: #008080; font-weight: bold\">8</span> │        <span style=\"color: #008080; text-decoration-color: #008080; font-weight: bold\">307.0</span> │      <span style=\"color: #008080; text-decoration-color: #008080; font-weight: bold\">130.0</span> │  <span style=\"color: #008080; text-decoration-color: #008080; font-weight: bold\">3504.0</span> │         <span style=\"color: #008080; text-decoration-color: #008080; font-weight: bold\">12.0</span> │    <span style=\"color: #008080; text-decoration-color: #008080; font-weight: bold\">70</span> │ US     │ Chevrolet │ Chevelle   │\n",
       "│ Buick Skylark 320         │    <span style=\"color: #008080; text-decoration-color: #008080; font-weight: bold\">15.0</span> │         <span style=\"color: #008080; text-decoration-color: #008080; font-weight: bold\">8</span> │        <span style=\"color: #008080; text-decoration-color: #008080; font-weight: bold\">350.0</span> │      <span style=\"color: #008080; text-decoration-color: #008080; font-weight: bold\">165.0</span> │  <span style=\"color: #008080; text-decoration-color: #008080; font-weight: bold\">3693.0</span> │         <span style=\"color: #008080; text-decoration-color: #008080; font-weight: bold\">11.5</span> │    <span style=\"color: #008080; text-decoration-color: #008080; font-weight: bold\">70</span> │ US     │ Buick     │ Skylark    │\n",
       "│ Plymouth Satellite        │    <span style=\"color: #008080; text-decoration-color: #008080; font-weight: bold\">18.0</span> │         <span style=\"color: #008080; text-decoration-color: #008080; font-weight: bold\">8</span> │        <span style=\"color: #008080; text-decoration-color: #008080; font-weight: bold\">318.0</span> │      <span style=\"color: #008080; text-decoration-color: #008080; font-weight: bold\">150.0</span> │  <span style=\"color: #008080; text-decoration-color: #008080; font-weight: bold\">3436.0</span> │         <span style=\"color: #008080; text-decoration-color: #008080; font-weight: bold\">11.0</span> │    <span style=\"color: #008080; text-decoration-color: #008080; font-weight: bold\">70</span> │ US     │ Plymouth  │ Satellite  │\n",
       "│ AMC Rebel SST             │    <span style=\"color: #008080; text-decoration-color: #008080; font-weight: bold\">16.0</span> │         <span style=\"color: #008080; text-decoration-color: #008080; font-weight: bold\">8</span> │        <span style=\"color: #008080; text-decoration-color: #008080; font-weight: bold\">304.0</span> │      <span style=\"color: #008080; text-decoration-color: #008080; font-weight: bold\">150.0</span> │  <span style=\"color: #008080; text-decoration-color: #008080; font-weight: bold\">3433.0</span> │         <span style=\"color: #008080; text-decoration-color: #008080; font-weight: bold\">12.0</span> │    <span style=\"color: #008080; text-decoration-color: #008080; font-weight: bold\">70</span> │ US     │ AMC       │ Rebel      │\n",
       "│ Ford Torino               │    <span style=\"color: #008080; text-decoration-color: #008080; font-weight: bold\">17.0</span> │         <span style=\"color: #008080; text-decoration-color: #008080; font-weight: bold\">8</span> │        <span style=\"color: #008080; text-decoration-color: #008080; font-weight: bold\">302.0</span> │      <span style=\"color: #008080; text-decoration-color: #008080; font-weight: bold\">140.0</span> │  <span style=\"color: #008080; text-decoration-color: #008080; font-weight: bold\">3449.0</span> │         <span style=\"color: #008080; text-decoration-color: #008080; font-weight: bold\">10.5</span> │    <span style=\"color: #008080; text-decoration-color: #008080; font-weight: bold\">70</span> │ US     │ Ford      │ Torino     │\n",
       "│ Ford Galaxie 500          │    <span style=\"color: #008080; text-decoration-color: #008080; font-weight: bold\">15.0</span> │         <span style=\"color: #008080; text-decoration-color: #008080; font-weight: bold\">8</span> │        <span style=\"color: #008080; text-decoration-color: #008080; font-weight: bold\">429.0</span> │      <span style=\"color: #008080; text-decoration-color: #008080; font-weight: bold\">198.0</span> │  <span style=\"color: #008080; text-decoration-color: #008080; font-weight: bold\">4341.0</span> │         <span style=\"color: #008080; text-decoration-color: #008080; font-weight: bold\">10.0</span> │    <span style=\"color: #008080; text-decoration-color: #008080; font-weight: bold\">70</span> │ US     │ Ford      │ Galaxie    │\n",
       "│ Chevrolet Impala          │    <span style=\"color: #008080; text-decoration-color: #008080; font-weight: bold\">14.0</span> │         <span style=\"color: #008080; text-decoration-color: #008080; font-weight: bold\">8</span> │        <span style=\"color: #008080; text-decoration-color: #008080; font-weight: bold\">454.0</span> │      <span style=\"color: #008080; text-decoration-color: #008080; font-weight: bold\">220.0</span> │  <span style=\"color: #008080; text-decoration-color: #008080; font-weight: bold\">4354.0</span> │          <span style=\"color: #008080; text-decoration-color: #008080; font-weight: bold\">9.0</span> │    <span style=\"color: #008080; text-decoration-color: #008080; font-weight: bold\">70</span> │ US     │ Chevrolet │ Impala     │\n",
       "│ Plymouth Fury iii         │    <span style=\"color: #008080; text-decoration-color: #008080; font-weight: bold\">14.0</span> │         <span style=\"color: #008080; text-decoration-color: #008080; font-weight: bold\">8</span> │        <span style=\"color: #008080; text-decoration-color: #008080; font-weight: bold\">440.0</span> │      <span style=\"color: #008080; text-decoration-color: #008080; font-weight: bold\">215.0</span> │  <span style=\"color: #008080; text-decoration-color: #008080; font-weight: bold\">4312.0</span> │          <span style=\"color: #008080; text-decoration-color: #008080; font-weight: bold\">8.5</span> │    <span style=\"color: #008080; text-decoration-color: #008080; font-weight: bold\">70</span> │ US     │ Plymouth  │ Fury       │\n",
       "│ Pontiac Catalina          │    <span style=\"color: #008080; text-decoration-color: #008080; font-weight: bold\">14.0</span> │         <span style=\"color: #008080; text-decoration-color: #008080; font-weight: bold\">8</span> │        <span style=\"color: #008080; text-decoration-color: #008080; font-weight: bold\">455.0</span> │      <span style=\"color: #008080; text-decoration-color: #008080; font-weight: bold\">225.0</span> │  <span style=\"color: #008080; text-decoration-color: #008080; font-weight: bold\">4425.0</span> │         <span style=\"color: #008080; text-decoration-color: #008080; font-weight: bold\">10.0</span> │    <span style=\"color: #008080; text-decoration-color: #008080; font-weight: bold\">70</span> │ US     │ Pontiac   │ Catalina   │\n",
       "│ AMC Ambassador DPL        │    <span style=\"color: #008080; text-decoration-color: #008080; font-weight: bold\">15.0</span> │         <span style=\"color: #008080; text-decoration-color: #008080; font-weight: bold\">8</span> │        <span style=\"color: #008080; text-decoration-color: #008080; font-weight: bold\">390.0</span> │      <span style=\"color: #008080; text-decoration-color: #008080; font-weight: bold\">190.0</span> │  <span style=\"color: #008080; text-decoration-color: #008080; font-weight: bold\">3850.0</span> │          <span style=\"color: #008080; text-decoration-color: #008080; font-weight: bold\">8.5</span> │    <span style=\"color: #008080; text-decoration-color: #008080; font-weight: bold\">70</span> │ US     │ AMC       │ Ambassador │\n",
       "│ <span style=\"color: #7f7f7f; text-decoration-color: #7f7f7f\">…</span>                         │       <span style=\"color: #7f7f7f; text-decoration-color: #7f7f7f\">…</span> │         <span style=\"color: #7f7f7f; text-decoration-color: #7f7f7f\">…</span> │            <span style=\"color: #7f7f7f; text-decoration-color: #7f7f7f\">…</span> │          <span style=\"color: #7f7f7f; text-decoration-color: #7f7f7f\">…</span> │       <span style=\"color: #7f7f7f; text-decoration-color: #7f7f7f\">…</span> │            <span style=\"color: #7f7f7f; text-decoration-color: #7f7f7f\">…</span> │     <span style=\"color: #7f7f7f; text-decoration-color: #7f7f7f\">…</span> │ <span style=\"color: #7f7f7f; text-decoration-color: #7f7f7f\">…</span>      │ <span style=\"color: #7f7f7f; text-decoration-color: #7f7f7f\">…</span>         │ <span style=\"color: #7f7f7f; text-decoration-color: #7f7f7f\">…</span>          │\n",
       "└───────────────────────────┴─────────┴───────────┴──────────────┴────────────┴─────────┴──────────────┴───────┴────────┴───────────┴────────────┘\n",
       "</pre>\n"
      ],
      "text/plain": [
       "┏━━━━━━━━━━━━━━━━━━━━━━━━━━━┳━━━━━━━━━┳━━━━━━━━━━━┳━━━━━━━━━━━━━━┳━━━━━━━━━━━━┳━━━━━━━━━┳━━━━━━━━━━━━━━┳━━━━━━━┳━━━━━━━━┳━━━━━━━━━━━┳━━━━━━━━━━━━┓\n",
       "┃\u001b[1m \u001b[0m\u001b[1mCar\u001b[0m\u001b[1m                      \u001b[0m\u001b[1m \u001b[0m┃\u001b[1m \u001b[0m\u001b[1mMPG\u001b[0m\u001b[1m    \u001b[0m\u001b[1m \u001b[0m┃\u001b[1m \u001b[0m\u001b[1mCylinders\u001b[0m\u001b[1m \u001b[0m┃\u001b[1m \u001b[0m\u001b[1mDisplacement\u001b[0m\u001b[1m \u001b[0m┃\u001b[1m \u001b[0m\u001b[1mHorsepower\u001b[0m\u001b[1m \u001b[0m┃\u001b[1m \u001b[0m\u001b[1mWeight\u001b[0m\u001b[1m \u001b[0m\u001b[1m \u001b[0m┃\u001b[1m \u001b[0m\u001b[1mAcceleration\u001b[0m\u001b[1m \u001b[0m┃\u001b[1m \u001b[0m\u001b[1mModel\u001b[0m\u001b[1m \u001b[0m┃\u001b[1m \u001b[0m\u001b[1mOrigin\u001b[0m\u001b[1m \u001b[0m┃\u001b[1m \u001b[0m\u001b[1mMake\u001b[0m\u001b[1m     \u001b[0m\u001b[1m \u001b[0m┃\u001b[1m \u001b[0m\u001b[1mModelName\u001b[0m\u001b[1m \u001b[0m\u001b[1m \u001b[0m┃\n",
       "┡━━━━━━━━━━━━━━━━━━━━━━━━━━━╇━━━━━━━━━╇━━━━━━━━━━━╇━━━━━━━━━━━━━━╇━━━━━━━━━━━━╇━━━━━━━━━╇━━━━━━━━━━━━━━╇━━━━━━━╇━━━━━━━━╇━━━━━━━━━━━╇━━━━━━━━━━━━┩\n",
       "│ \u001b[2mstring\u001b[0m                    │ \u001b[2mfloat64\u001b[0m │ \u001b[2mint64\u001b[0m     │ \u001b[2mfloat64\u001b[0m      │ \u001b[2mfloat64\u001b[0m    │ \u001b[2mfloat64\u001b[0m │ \u001b[2mfloat64\u001b[0m      │ \u001b[2mint64\u001b[0m │ \u001b[2mstring\u001b[0m │ \u001b[2mstring\u001b[0m    │ \u001b[2mstring\u001b[0m     │\n",
       "├───────────────────────────┼─────────┼───────────┼──────────────┼────────────┼─────────┼──────────────┼───────┼────────┼───────────┼────────────┤\n",
       "│ Chevrolet Chevelle Malibu │    \u001b[1;36m18.0\u001b[0m │         \u001b[1;36m8\u001b[0m │        \u001b[1;36m307.0\u001b[0m │      \u001b[1;36m130.0\u001b[0m │  \u001b[1;36m3504.0\u001b[0m │         \u001b[1;36m12.0\u001b[0m │    \u001b[1;36m70\u001b[0m │ US     │ Chevrolet │ Chevelle   │\n",
       "│ Buick Skylark 320         │    \u001b[1;36m15.0\u001b[0m │         \u001b[1;36m8\u001b[0m │        \u001b[1;36m350.0\u001b[0m │      \u001b[1;36m165.0\u001b[0m │  \u001b[1;36m3693.0\u001b[0m │         \u001b[1;36m11.5\u001b[0m │    \u001b[1;36m70\u001b[0m │ US     │ Buick     │ Skylark    │\n",
       "│ Plymouth Satellite        │    \u001b[1;36m18.0\u001b[0m │         \u001b[1;36m8\u001b[0m │        \u001b[1;36m318.0\u001b[0m │      \u001b[1;36m150.0\u001b[0m │  \u001b[1;36m3436.0\u001b[0m │         \u001b[1;36m11.0\u001b[0m │    \u001b[1;36m70\u001b[0m │ US     │ Plymouth  │ Satellite  │\n",
       "│ AMC Rebel SST             │    \u001b[1;36m16.0\u001b[0m │         \u001b[1;36m8\u001b[0m │        \u001b[1;36m304.0\u001b[0m │      \u001b[1;36m150.0\u001b[0m │  \u001b[1;36m3433.0\u001b[0m │         \u001b[1;36m12.0\u001b[0m │    \u001b[1;36m70\u001b[0m │ US     │ AMC       │ Rebel      │\n",
       "│ Ford Torino               │    \u001b[1;36m17.0\u001b[0m │         \u001b[1;36m8\u001b[0m │        \u001b[1;36m302.0\u001b[0m │      \u001b[1;36m140.0\u001b[0m │  \u001b[1;36m3449.0\u001b[0m │         \u001b[1;36m10.5\u001b[0m │    \u001b[1;36m70\u001b[0m │ US     │ Ford      │ Torino     │\n",
       "│ Ford Galaxie 500          │    \u001b[1;36m15.0\u001b[0m │         \u001b[1;36m8\u001b[0m │        \u001b[1;36m429.0\u001b[0m │      \u001b[1;36m198.0\u001b[0m │  \u001b[1;36m4341.0\u001b[0m │         \u001b[1;36m10.0\u001b[0m │    \u001b[1;36m70\u001b[0m │ US     │ Ford      │ Galaxie    │\n",
       "│ Chevrolet Impala          │    \u001b[1;36m14.0\u001b[0m │         \u001b[1;36m8\u001b[0m │        \u001b[1;36m454.0\u001b[0m │      \u001b[1;36m220.0\u001b[0m │  \u001b[1;36m4354.0\u001b[0m │          \u001b[1;36m9.0\u001b[0m │    \u001b[1;36m70\u001b[0m │ US     │ Chevrolet │ Impala     │\n",
       "│ Plymouth Fury iii         │    \u001b[1;36m14.0\u001b[0m │         \u001b[1;36m8\u001b[0m │        \u001b[1;36m440.0\u001b[0m │      \u001b[1;36m215.0\u001b[0m │  \u001b[1;36m4312.0\u001b[0m │          \u001b[1;36m8.5\u001b[0m │    \u001b[1;36m70\u001b[0m │ US     │ Plymouth  │ Fury       │\n",
       "│ Pontiac Catalina          │    \u001b[1;36m14.0\u001b[0m │         \u001b[1;36m8\u001b[0m │        \u001b[1;36m455.0\u001b[0m │      \u001b[1;36m225.0\u001b[0m │  \u001b[1;36m4425.0\u001b[0m │         \u001b[1;36m10.0\u001b[0m │    \u001b[1;36m70\u001b[0m │ US     │ Pontiac   │ Catalina   │\n",
       "│ AMC Ambassador DPL        │    \u001b[1;36m15.0\u001b[0m │         \u001b[1;36m8\u001b[0m │        \u001b[1;36m390.0\u001b[0m │      \u001b[1;36m190.0\u001b[0m │  \u001b[1;36m3850.0\u001b[0m │          \u001b[1;36m8.5\u001b[0m │    \u001b[1;36m70\u001b[0m │ US     │ AMC       │ Ambassador │\n",
       "│ \u001b[2m…\u001b[0m                         │       \u001b[2m…\u001b[0m │         \u001b[2m…\u001b[0m │            \u001b[2m…\u001b[0m │          \u001b[2m…\u001b[0m │       \u001b[2m…\u001b[0m │            \u001b[2m…\u001b[0m │     \u001b[2m…\u001b[0m │ \u001b[2m…\u001b[0m      │ \u001b[2m…\u001b[0m         │ \u001b[2m…\u001b[0m          │\n",
       "└───────────────────────────┴─────────┴───────────┴──────────────┴────────────┴─────────┴──────────────┴───────┴────────┴───────────┴────────────┘"
      ]
     },
     "execution_count": 21,
     "metadata": {},
     "output_type": "execute_result"
    }
   ],
   "source": [
    "cars"
   ]
  },
  {
   "cell_type": "markdown",
   "id": "0e848ac0-c4b1-4557-bf1a-c07a8e00d59b",
   "metadata": {},
   "source": [
    "When using `filter()` and multiple conditions, you need to wrap each condition with parenthesis.  When using boolean logic, use `&` and `|` symbols for `AND` or `OR` logic, respectively."
   ]
  },
  {
   "cell_type": "code",
   "execution_count": 22,
   "id": "fe133723-6c99-4d48-bfb7-d88d8b3534cb",
   "metadata": {
    "tags": []
   },
   "outputs": [
    {
     "data": {
      "text/html": [
       "<pre style=\"white-space:pre;overflow-x:auto;line-height:normal;font-family:Menlo,'DejaVu Sans Mono',consolas,'Courier New',monospace\"></pre>\n"
      ],
      "text/plain": []
     },
     "metadata": {},
     "output_type": "display_data"
    },
    {
     "data": {
      "text/plain": [
       "\u001b[1;36m29.118750000000002\u001b[0m"
      ]
     },
     "execution_count": 22,
     "metadata": {},
     "output_type": "execute_result"
    }
   ],
   "source": [
    "cars.filter(\n",
    "    (cars['MPG'] > 0)\n",
    "    & (cars['Cylinders'] < 5)\n",
    ")['MPG'].mean()"
   ]
  },
  {
   "cell_type": "code",
   "execution_count": 23,
   "id": "cf8495e9-44b3-42e0-ad99-46612a86a704",
   "metadata": {
    "tags": []
   },
   "outputs": [
    {
     "data": {
      "text/html": [
       "<pre style=\"white-space:pre;overflow-x:auto;line-height:normal;font-family:Menlo,'DejaVu Sans Mono',consolas,'Courier New',monospace\">┏━━━━━━━━━━━━━━━━━━━━━━━━━━━━━━┳━━━━━━━━━┳━━━━━━━━━━━┳━━━━━━━━━━━━━━┳━━━━━━━━━━━━┳━━━━━━━━━┳━━━━━━━━━━━━━━┳━━━━━━━┳━━━━━━━━┳━━━━━━━━━━━━┳━━━━━━━━━━━┓\n",
       "┃<span style=\"font-weight: bold\"> Car                          </span>┃<span style=\"font-weight: bold\"> MPG     </span>┃<span style=\"font-weight: bold\"> Cylinders </span>┃<span style=\"font-weight: bold\"> Displacement </span>┃<span style=\"font-weight: bold\"> Horsepower </span>┃<span style=\"font-weight: bold\"> Weight  </span>┃<span style=\"font-weight: bold\"> Acceleration </span>┃<span style=\"font-weight: bold\"> Model </span>┃<span style=\"font-weight: bold\"> Origin </span>┃<span style=\"font-weight: bold\"> Make       </span>┃<span style=\"font-weight: bold\"> ModelName </span>┃\n",
       "┡━━━━━━━━━━━━━━━━━━━━━━━━━━━━━━╇━━━━━━━━━╇━━━━━━━━━━━╇━━━━━━━━━━━━━━╇━━━━━━━━━━━━╇━━━━━━━━━╇━━━━━━━━━━━━━━╇━━━━━━━╇━━━━━━━━╇━━━━━━━━━━━━╇━━━━━━━━━━━┩\n",
       "│ <span style=\"color: #7f7f7f; text-decoration-color: #7f7f7f\">string</span>                       │ <span style=\"color: #7f7f7f; text-decoration-color: #7f7f7f\">float64</span> │ <span style=\"color: #7f7f7f; text-decoration-color: #7f7f7f\">int64</span>     │ <span style=\"color: #7f7f7f; text-decoration-color: #7f7f7f\">float64</span>      │ <span style=\"color: #7f7f7f; text-decoration-color: #7f7f7f\">float64</span>    │ <span style=\"color: #7f7f7f; text-decoration-color: #7f7f7f\">float64</span> │ <span style=\"color: #7f7f7f; text-decoration-color: #7f7f7f\">float64</span>      │ <span style=\"color: #7f7f7f; text-decoration-color: #7f7f7f\">int64</span> │ <span style=\"color: #7f7f7f; text-decoration-color: #7f7f7f\">string</span> │ <span style=\"color: #7f7f7f; text-decoration-color: #7f7f7f\">string</span>     │ <span style=\"color: #7f7f7f; text-decoration-color: #7f7f7f\">string</span>    │\n",
       "├──────────────────────────────┼─────────┼───────────┼──────────────┼────────────┼─────────┼──────────────┼───────┼────────┼────────────┼───────────┤\n",
       "│ Toyota Corolla Mark ii       │    <span style=\"color: #008080; text-decoration-color: #008080; font-weight: bold\">24.0</span> │         <span style=\"color: #008080; text-decoration-color: #008080; font-weight: bold\">4</span> │        <span style=\"color: #008080; text-decoration-color: #008080; font-weight: bold\">113.0</span> │       <span style=\"color: #008080; text-decoration-color: #008080; font-weight: bold\">95.0</span> │  <span style=\"color: #008080; text-decoration-color: #008080; font-weight: bold\">2372.0</span> │         <span style=\"color: #008080; text-decoration-color: #008080; font-weight: bold\">15.0</span> │    <span style=\"color: #008080; text-decoration-color: #008080; font-weight: bold\">70</span> │ Japan  │ Toyota     │ Corolla   │\n",
       "│ Datsun PL510                 │    <span style=\"color: #008080; text-decoration-color: #008080; font-weight: bold\">27.0</span> │         <span style=\"color: #008080; text-decoration-color: #008080; font-weight: bold\">4</span> │         <span style=\"color: #008080; text-decoration-color: #008080; font-weight: bold\">97.0</span> │       <span style=\"color: #008080; text-decoration-color: #008080; font-weight: bold\">88.0</span> │  <span style=\"color: #008080; text-decoration-color: #008080; font-weight: bold\">2130.0</span> │         <span style=\"color: #008080; text-decoration-color: #008080; font-weight: bold\">14.5</span> │    <span style=\"color: #008080; text-decoration-color: #008080; font-weight: bold\">70</span> │ Japan  │ Datsun     │ PL510     │\n",
       "│ Volkswagen 1131 Deluxe Sedan │    <span style=\"color: #008080; text-decoration-color: #008080; font-weight: bold\">26.0</span> │         <span style=\"color: #008080; text-decoration-color: #008080; font-weight: bold\">4</span> │         <span style=\"color: #008080; text-decoration-color: #008080; font-weight: bold\">97.0</span> │       <span style=\"color: #008080; text-decoration-color: #008080; font-weight: bold\">46.0</span> │  <span style=\"color: #008080; text-decoration-color: #008080; font-weight: bold\">1835.0</span> │         <span style=\"color: #008080; text-decoration-color: #008080; font-weight: bold\">20.5</span> │    <span style=\"color: #008080; text-decoration-color: #008080; font-weight: bold\">70</span> │ Europe │ Volkswagen │ 1131      │\n",
       "│ Peugeot 504                  │    <span style=\"color: #008080; text-decoration-color: #008080; font-weight: bold\">25.0</span> │         <span style=\"color: #008080; text-decoration-color: #008080; font-weight: bold\">4</span> │        <span style=\"color: #008080; text-decoration-color: #008080; font-weight: bold\">110.0</span> │       <span style=\"color: #008080; text-decoration-color: #008080; font-weight: bold\">87.0</span> │  <span style=\"color: #008080; text-decoration-color: #008080; font-weight: bold\">2672.0</span> │         <span style=\"color: #008080; text-decoration-color: #008080; font-weight: bold\">17.5</span> │    <span style=\"color: #008080; text-decoration-color: #008080; font-weight: bold\">70</span> │ Europe │ Peugeot    │ 504       │\n",
       "│ Audi 100 LS                  │    <span style=\"color: #008080; text-decoration-color: #008080; font-weight: bold\">24.0</span> │         <span style=\"color: #008080; text-decoration-color: #008080; font-weight: bold\">4</span> │        <span style=\"color: #008080; text-decoration-color: #008080; font-weight: bold\">107.0</span> │       <span style=\"color: #008080; text-decoration-color: #008080; font-weight: bold\">90.0</span> │  <span style=\"color: #008080; text-decoration-color: #008080; font-weight: bold\">2430.0</span> │         <span style=\"color: #008080; text-decoration-color: #008080; font-weight: bold\">14.5</span> │    <span style=\"color: #008080; text-decoration-color: #008080; font-weight: bold\">70</span> │ Europe │ Audi       │ 100       │\n",
       "│ Saab 99e                     │    <span style=\"color: #008080; text-decoration-color: #008080; font-weight: bold\">25.0</span> │         <span style=\"color: #008080; text-decoration-color: #008080; font-weight: bold\">4</span> │        <span style=\"color: #008080; text-decoration-color: #008080; font-weight: bold\">104.0</span> │       <span style=\"color: #008080; text-decoration-color: #008080; font-weight: bold\">95.0</span> │  <span style=\"color: #008080; text-decoration-color: #008080; font-weight: bold\">2375.0</span> │         <span style=\"color: #008080; text-decoration-color: #008080; font-weight: bold\">17.5</span> │    <span style=\"color: #008080; text-decoration-color: #008080; font-weight: bold\">70</span> │ Europe │ Saab       │ 99e       │\n",
       "│ BMW 2002                     │    <span style=\"color: #008080; text-decoration-color: #008080; font-weight: bold\">26.0</span> │         <span style=\"color: #008080; text-decoration-color: #008080; font-weight: bold\">4</span> │        <span style=\"color: #008080; text-decoration-color: #008080; font-weight: bold\">121.0</span> │      <span style=\"color: #008080; text-decoration-color: #008080; font-weight: bold\">113.0</span> │  <span style=\"color: #008080; text-decoration-color: #008080; font-weight: bold\">2234.0</span> │         <span style=\"color: #008080; text-decoration-color: #008080; font-weight: bold\">12.5</span> │    <span style=\"color: #008080; text-decoration-color: #008080; font-weight: bold\">70</span> │ Europe │ BMW        │ 2002      │\n",
       "│ Datsun PL510                 │    <span style=\"color: #008080; text-decoration-color: #008080; font-weight: bold\">27.0</span> │         <span style=\"color: #008080; text-decoration-color: #008080; font-weight: bold\">4</span> │         <span style=\"color: #008080; text-decoration-color: #008080; font-weight: bold\">97.0</span> │       <span style=\"color: #008080; text-decoration-color: #008080; font-weight: bold\">88.0</span> │  <span style=\"color: #008080; text-decoration-color: #008080; font-weight: bold\">2130.0</span> │         <span style=\"color: #008080; text-decoration-color: #008080; font-weight: bold\">14.5</span> │    <span style=\"color: #008080; text-decoration-color: #008080; font-weight: bold\">71</span> │ Japan  │ Datsun     │ PL510     │\n",
       "│ Chevrolet Vega 2300          │    <span style=\"color: #008080; text-decoration-color: #008080; font-weight: bold\">28.0</span> │         <span style=\"color: #008080; text-decoration-color: #008080; font-weight: bold\">4</span> │        <span style=\"color: #008080; text-decoration-color: #008080; font-weight: bold\">140.0</span> │       <span style=\"color: #008080; text-decoration-color: #008080; font-weight: bold\">90.0</span> │  <span style=\"color: #008080; text-decoration-color: #008080; font-weight: bold\">2264.0</span> │         <span style=\"color: #008080; text-decoration-color: #008080; font-weight: bold\">15.5</span> │    <span style=\"color: #008080; text-decoration-color: #008080; font-weight: bold\">71</span> │ US     │ Chevrolet  │ Vega      │\n",
       "│ Toyota Corolla               │    <span style=\"color: #008080; text-decoration-color: #008080; font-weight: bold\">25.0</span> │         <span style=\"color: #008080; text-decoration-color: #008080; font-weight: bold\">4</span> │        <span style=\"color: #008080; text-decoration-color: #008080; font-weight: bold\">113.0</span> │       <span style=\"color: #008080; text-decoration-color: #008080; font-weight: bold\">95.0</span> │  <span style=\"color: #008080; text-decoration-color: #008080; font-weight: bold\">2228.0</span> │         <span style=\"color: #008080; text-decoration-color: #008080; font-weight: bold\">14.0</span> │    <span style=\"color: #008080; text-decoration-color: #008080; font-weight: bold\">71</span> │ Japan  │ Toyota     │ Corolla   │\n",
       "│ <span style=\"color: #7f7f7f; text-decoration-color: #7f7f7f\">…</span>                            │       <span style=\"color: #7f7f7f; text-decoration-color: #7f7f7f\">…</span> │         <span style=\"color: #7f7f7f; text-decoration-color: #7f7f7f\">…</span> │            <span style=\"color: #7f7f7f; text-decoration-color: #7f7f7f\">…</span> │          <span style=\"color: #7f7f7f; text-decoration-color: #7f7f7f\">…</span> │       <span style=\"color: #7f7f7f; text-decoration-color: #7f7f7f\">…</span> │            <span style=\"color: #7f7f7f; text-decoration-color: #7f7f7f\">…</span> │     <span style=\"color: #7f7f7f; text-decoration-color: #7f7f7f\">…</span> │ <span style=\"color: #7f7f7f; text-decoration-color: #7f7f7f\">…</span>      │ <span style=\"color: #7f7f7f; text-decoration-color: #7f7f7f\">…</span>          │ <span style=\"color: #7f7f7f; text-decoration-color: #7f7f7f\">…</span>         │\n",
       "└──────────────────────────────┴─────────┴───────────┴──────────────┴────────────┴─────────┴──────────────┴───────┴────────┴────────────┴───────────┘\n",
       "</pre>\n"
      ],
      "text/plain": [
       "┏━━━━━━━━━━━━━━━━━━━━━━━━━━━━━━┳━━━━━━━━━┳━━━━━━━━━━━┳━━━━━━━━━━━━━━┳━━━━━━━━━━━━┳━━━━━━━━━┳━━━━━━━━━━━━━━┳━━━━━━━┳━━━━━━━━┳━━━━━━━━━━━━┳━━━━━━━━━━━┓\n",
       "┃\u001b[1m \u001b[0m\u001b[1mCar\u001b[0m\u001b[1m                         \u001b[0m\u001b[1m \u001b[0m┃\u001b[1m \u001b[0m\u001b[1mMPG\u001b[0m\u001b[1m    \u001b[0m\u001b[1m \u001b[0m┃\u001b[1m \u001b[0m\u001b[1mCylinders\u001b[0m\u001b[1m \u001b[0m┃\u001b[1m \u001b[0m\u001b[1mDisplacement\u001b[0m\u001b[1m \u001b[0m┃\u001b[1m \u001b[0m\u001b[1mHorsepower\u001b[0m\u001b[1m \u001b[0m┃\u001b[1m \u001b[0m\u001b[1mWeight\u001b[0m\u001b[1m \u001b[0m\u001b[1m \u001b[0m┃\u001b[1m \u001b[0m\u001b[1mAcceleration\u001b[0m\u001b[1m \u001b[0m┃\u001b[1m \u001b[0m\u001b[1mModel\u001b[0m\u001b[1m \u001b[0m┃\u001b[1m \u001b[0m\u001b[1mOrigin\u001b[0m\u001b[1m \u001b[0m┃\u001b[1m \u001b[0m\u001b[1mMake\u001b[0m\u001b[1m      \u001b[0m\u001b[1m \u001b[0m┃\u001b[1m \u001b[0m\u001b[1mModelName\u001b[0m\u001b[1m \u001b[0m┃\n",
       "┡━━━━━━━━━━━━━━━━━━━━━━━━━━━━━━╇━━━━━━━━━╇━━━━━━━━━━━╇━━━━━━━━━━━━━━╇━━━━━━━━━━━━╇━━━━━━━━━╇━━━━━━━━━━━━━━╇━━━━━━━╇━━━━━━━━╇━━━━━━━━━━━━╇━━━━━━━━━━━┩\n",
       "│ \u001b[2mstring\u001b[0m                       │ \u001b[2mfloat64\u001b[0m │ \u001b[2mint64\u001b[0m     │ \u001b[2mfloat64\u001b[0m      │ \u001b[2mfloat64\u001b[0m    │ \u001b[2mfloat64\u001b[0m │ \u001b[2mfloat64\u001b[0m      │ \u001b[2mint64\u001b[0m │ \u001b[2mstring\u001b[0m │ \u001b[2mstring\u001b[0m     │ \u001b[2mstring\u001b[0m    │\n",
       "├──────────────────────────────┼─────────┼───────────┼──────────────┼────────────┼─────────┼──────────────┼───────┼────────┼────────────┼───────────┤\n",
       "│ Toyota Corolla Mark ii       │    \u001b[1;36m24.0\u001b[0m │         \u001b[1;36m4\u001b[0m │        \u001b[1;36m113.0\u001b[0m │       \u001b[1;36m95.0\u001b[0m │  \u001b[1;36m2372.0\u001b[0m │         \u001b[1;36m15.0\u001b[0m │    \u001b[1;36m70\u001b[0m │ Japan  │ Toyota     │ Corolla   │\n",
       "│ Datsun PL510                 │    \u001b[1;36m27.0\u001b[0m │         \u001b[1;36m4\u001b[0m │         \u001b[1;36m97.0\u001b[0m │       \u001b[1;36m88.0\u001b[0m │  \u001b[1;36m2130.0\u001b[0m │         \u001b[1;36m14.5\u001b[0m │    \u001b[1;36m70\u001b[0m │ Japan  │ Datsun     │ PL510     │\n",
       "│ Volkswagen 1131 Deluxe Sedan │    \u001b[1;36m26.0\u001b[0m │         \u001b[1;36m4\u001b[0m │         \u001b[1;36m97.0\u001b[0m │       \u001b[1;36m46.0\u001b[0m │  \u001b[1;36m1835.0\u001b[0m │         \u001b[1;36m20.5\u001b[0m │    \u001b[1;36m70\u001b[0m │ Europe │ Volkswagen │ 1131      │\n",
       "│ Peugeot 504                  │    \u001b[1;36m25.0\u001b[0m │         \u001b[1;36m4\u001b[0m │        \u001b[1;36m110.0\u001b[0m │       \u001b[1;36m87.0\u001b[0m │  \u001b[1;36m2672.0\u001b[0m │         \u001b[1;36m17.5\u001b[0m │    \u001b[1;36m70\u001b[0m │ Europe │ Peugeot    │ 504       │\n",
       "│ Audi 100 LS                  │    \u001b[1;36m24.0\u001b[0m │         \u001b[1;36m4\u001b[0m │        \u001b[1;36m107.0\u001b[0m │       \u001b[1;36m90.0\u001b[0m │  \u001b[1;36m2430.0\u001b[0m │         \u001b[1;36m14.5\u001b[0m │    \u001b[1;36m70\u001b[0m │ Europe │ Audi       │ 100       │\n",
       "│ Saab 99e                     │    \u001b[1;36m25.0\u001b[0m │         \u001b[1;36m4\u001b[0m │        \u001b[1;36m104.0\u001b[0m │       \u001b[1;36m95.0\u001b[0m │  \u001b[1;36m2375.0\u001b[0m │         \u001b[1;36m17.5\u001b[0m │    \u001b[1;36m70\u001b[0m │ Europe │ Saab       │ 99e       │\n",
       "│ BMW 2002                     │    \u001b[1;36m26.0\u001b[0m │         \u001b[1;36m4\u001b[0m │        \u001b[1;36m121.0\u001b[0m │      \u001b[1;36m113.0\u001b[0m │  \u001b[1;36m2234.0\u001b[0m │         \u001b[1;36m12.5\u001b[0m │    \u001b[1;36m70\u001b[0m │ Europe │ BMW        │ 2002      │\n",
       "│ Datsun PL510                 │    \u001b[1;36m27.0\u001b[0m │         \u001b[1;36m4\u001b[0m │         \u001b[1;36m97.0\u001b[0m │       \u001b[1;36m88.0\u001b[0m │  \u001b[1;36m2130.0\u001b[0m │         \u001b[1;36m14.5\u001b[0m │    \u001b[1;36m71\u001b[0m │ Japan  │ Datsun     │ PL510     │\n",
       "│ Chevrolet Vega 2300          │    \u001b[1;36m28.0\u001b[0m │         \u001b[1;36m4\u001b[0m │        \u001b[1;36m140.0\u001b[0m │       \u001b[1;36m90.0\u001b[0m │  \u001b[1;36m2264.0\u001b[0m │         \u001b[1;36m15.5\u001b[0m │    \u001b[1;36m71\u001b[0m │ US     │ Chevrolet  │ Vega      │\n",
       "│ Toyota Corolla               │    \u001b[1;36m25.0\u001b[0m │         \u001b[1;36m4\u001b[0m │        \u001b[1;36m113.0\u001b[0m │       \u001b[1;36m95.0\u001b[0m │  \u001b[1;36m2228.0\u001b[0m │         \u001b[1;36m14.0\u001b[0m │    \u001b[1;36m71\u001b[0m │ Japan  │ Toyota     │ Corolla   │\n",
       "│ \u001b[2m…\u001b[0m                            │       \u001b[2m…\u001b[0m │         \u001b[2m…\u001b[0m │            \u001b[2m…\u001b[0m │          \u001b[2m…\u001b[0m │       \u001b[2m…\u001b[0m │            \u001b[2m…\u001b[0m │     \u001b[2m…\u001b[0m │ \u001b[2m…\u001b[0m      │ \u001b[2m…\u001b[0m          │ \u001b[2m…\u001b[0m         │\n",
       "└──────────────────────────────┴─────────┴───────────┴──────────────┴────────────┴─────────┴──────────────┴───────┴────────┴────────────┴───────────┘"
      ]
     },
     "execution_count": 23,
     "metadata": {},
     "output_type": "execute_result"
    }
   ],
   "source": [
    "cars.filter(\n",
    "    (cars['MPG'] > 0) & (cars['Cylinders'] < 5)\n",
    ")"
   ]
  },
  {
   "cell_type": "code",
   "execution_count": 24,
   "id": "6fb1ba99-f12a-4585-b6aa-2ecba3f24ab2",
   "metadata": {
    "tags": []
   },
   "outputs": [
    {
     "data": {
      "text/html": [
       "<pre style=\"white-space:pre;overflow-x:auto;line-height:normal;font-family:Menlo,'DejaVu Sans Mono',consolas,'Courier New',monospace\">┏━━━━━━━━━━━━━━━━━━━━━━━━━━━━━━┳━━━━━━━━━┳━━━━━━━━━━━┳━━━━━━━━━━━━━━┳━━━━━━━━━━━━┳━━━━━━━━━┳━━━━━━━━━━━━━━┳━━━━━━━┳━━━━━━━━┳━━━━━━━━━━━━┳━━━━━━━━━━━┓\n",
       "┃<span style=\"font-weight: bold\"> Car                          </span>┃<span style=\"font-weight: bold\"> MPG     </span>┃<span style=\"font-weight: bold\"> Cylinders </span>┃<span style=\"font-weight: bold\"> Displacement </span>┃<span style=\"font-weight: bold\"> Horsepower </span>┃<span style=\"font-weight: bold\"> Weight  </span>┃<span style=\"font-weight: bold\"> Acceleration </span>┃<span style=\"font-weight: bold\"> Model </span>┃<span style=\"font-weight: bold\"> Origin </span>┃<span style=\"font-weight: bold\"> Make       </span>┃<span style=\"font-weight: bold\"> ModelName </span>┃\n",
       "┡━━━━━━━━━━━━━━━━━━━━━━━━━━━━━━╇━━━━━━━━━╇━━━━━━━━━━━╇━━━━━━━━━━━━━━╇━━━━━━━━━━━━╇━━━━━━━━━╇━━━━━━━━━━━━━━╇━━━━━━━╇━━━━━━━━╇━━━━━━━━━━━━╇━━━━━━━━━━━┩\n",
       "│ <span style=\"color: #7f7f7f; text-decoration-color: #7f7f7f\">string</span>                       │ <span style=\"color: #7f7f7f; text-decoration-color: #7f7f7f\">float64</span> │ <span style=\"color: #7f7f7f; text-decoration-color: #7f7f7f\">int64</span>     │ <span style=\"color: #7f7f7f; text-decoration-color: #7f7f7f\">float64</span>      │ <span style=\"color: #7f7f7f; text-decoration-color: #7f7f7f\">float64</span>    │ <span style=\"color: #7f7f7f; text-decoration-color: #7f7f7f\">float64</span> │ <span style=\"color: #7f7f7f; text-decoration-color: #7f7f7f\">float64</span>      │ <span style=\"color: #7f7f7f; text-decoration-color: #7f7f7f\">int64</span> │ <span style=\"color: #7f7f7f; text-decoration-color: #7f7f7f\">string</span> │ <span style=\"color: #7f7f7f; text-decoration-color: #7f7f7f\">string</span>     │ <span style=\"color: #7f7f7f; text-decoration-color: #7f7f7f\">string</span>    │\n",
       "├──────────────────────────────┼─────────┼───────────┼──────────────┼────────────┼─────────┼──────────────┼───────┼────────┼────────────┼───────────┤\n",
       "│ Toyota Corolla Mark ii       │    <span style=\"color: #008080; text-decoration-color: #008080; font-weight: bold\">24.0</span> │         <span style=\"color: #008080; text-decoration-color: #008080; font-weight: bold\">4</span> │        <span style=\"color: #008080; text-decoration-color: #008080; font-weight: bold\">113.0</span> │       <span style=\"color: #008080; text-decoration-color: #008080; font-weight: bold\">95.0</span> │  <span style=\"color: #008080; text-decoration-color: #008080; font-weight: bold\">2372.0</span> │         <span style=\"color: #008080; text-decoration-color: #008080; font-weight: bold\">15.0</span> │    <span style=\"color: #008080; text-decoration-color: #008080; font-weight: bold\">70</span> │ Japan  │ Toyota     │ Corolla   │\n",
       "│ Datsun PL510                 │    <span style=\"color: #008080; text-decoration-color: #008080; font-weight: bold\">27.0</span> │         <span style=\"color: #008080; text-decoration-color: #008080; font-weight: bold\">4</span> │         <span style=\"color: #008080; text-decoration-color: #008080; font-weight: bold\">97.0</span> │       <span style=\"color: #008080; text-decoration-color: #008080; font-weight: bold\">88.0</span> │  <span style=\"color: #008080; text-decoration-color: #008080; font-weight: bold\">2130.0</span> │         <span style=\"color: #008080; text-decoration-color: #008080; font-weight: bold\">14.5</span> │    <span style=\"color: #008080; text-decoration-color: #008080; font-weight: bold\">70</span> │ Japan  │ Datsun     │ PL510     │\n",
       "│ Volkswagen 1131 Deluxe Sedan │    <span style=\"color: #008080; text-decoration-color: #008080; font-weight: bold\">26.0</span> │         <span style=\"color: #008080; text-decoration-color: #008080; font-weight: bold\">4</span> │         <span style=\"color: #008080; text-decoration-color: #008080; font-weight: bold\">97.0</span> │       <span style=\"color: #008080; text-decoration-color: #008080; font-weight: bold\">46.0</span> │  <span style=\"color: #008080; text-decoration-color: #008080; font-weight: bold\">1835.0</span> │         <span style=\"color: #008080; text-decoration-color: #008080; font-weight: bold\">20.5</span> │    <span style=\"color: #008080; text-decoration-color: #008080; font-weight: bold\">70</span> │ Europe │ Volkswagen │ 1131      │\n",
       "│ Peugeot 504                  │    <span style=\"color: #008080; text-decoration-color: #008080; font-weight: bold\">25.0</span> │         <span style=\"color: #008080; text-decoration-color: #008080; font-weight: bold\">4</span> │        <span style=\"color: #008080; text-decoration-color: #008080; font-weight: bold\">110.0</span> │       <span style=\"color: #008080; text-decoration-color: #008080; font-weight: bold\">87.0</span> │  <span style=\"color: #008080; text-decoration-color: #008080; font-weight: bold\">2672.0</span> │         <span style=\"color: #008080; text-decoration-color: #008080; font-weight: bold\">17.5</span> │    <span style=\"color: #008080; text-decoration-color: #008080; font-weight: bold\">70</span> │ Europe │ Peugeot    │ 504       │\n",
       "│ Audi 100 LS                  │    <span style=\"color: #008080; text-decoration-color: #008080; font-weight: bold\">24.0</span> │         <span style=\"color: #008080; text-decoration-color: #008080; font-weight: bold\">4</span> │        <span style=\"color: #008080; text-decoration-color: #008080; font-weight: bold\">107.0</span> │       <span style=\"color: #008080; text-decoration-color: #008080; font-weight: bold\">90.0</span> │  <span style=\"color: #008080; text-decoration-color: #008080; font-weight: bold\">2430.0</span> │         <span style=\"color: #008080; text-decoration-color: #008080; font-weight: bold\">14.5</span> │    <span style=\"color: #008080; text-decoration-color: #008080; font-weight: bold\">70</span> │ Europe │ Audi       │ 100       │\n",
       "│ Saab 99e                     │    <span style=\"color: #008080; text-decoration-color: #008080; font-weight: bold\">25.0</span> │         <span style=\"color: #008080; text-decoration-color: #008080; font-weight: bold\">4</span> │        <span style=\"color: #008080; text-decoration-color: #008080; font-weight: bold\">104.0</span> │       <span style=\"color: #008080; text-decoration-color: #008080; font-weight: bold\">95.0</span> │  <span style=\"color: #008080; text-decoration-color: #008080; font-weight: bold\">2375.0</span> │         <span style=\"color: #008080; text-decoration-color: #008080; font-weight: bold\">17.5</span> │    <span style=\"color: #008080; text-decoration-color: #008080; font-weight: bold\">70</span> │ Europe │ Saab       │ 99e       │\n",
       "│ BMW 2002                     │    <span style=\"color: #008080; text-decoration-color: #008080; font-weight: bold\">26.0</span> │         <span style=\"color: #008080; text-decoration-color: #008080; font-weight: bold\">4</span> │        <span style=\"color: #008080; text-decoration-color: #008080; font-weight: bold\">121.0</span> │      <span style=\"color: #008080; text-decoration-color: #008080; font-weight: bold\">113.0</span> │  <span style=\"color: #008080; text-decoration-color: #008080; font-weight: bold\">2234.0</span> │         <span style=\"color: #008080; text-decoration-color: #008080; font-weight: bold\">12.5</span> │    <span style=\"color: #008080; text-decoration-color: #008080; font-weight: bold\">70</span> │ Europe │ BMW        │ 2002      │\n",
       "│ Datsun PL510                 │    <span style=\"color: #008080; text-decoration-color: #008080; font-weight: bold\">27.0</span> │         <span style=\"color: #008080; text-decoration-color: #008080; font-weight: bold\">4</span> │         <span style=\"color: #008080; text-decoration-color: #008080; font-weight: bold\">97.0</span> │       <span style=\"color: #008080; text-decoration-color: #008080; font-weight: bold\">88.0</span> │  <span style=\"color: #008080; text-decoration-color: #008080; font-weight: bold\">2130.0</span> │         <span style=\"color: #008080; text-decoration-color: #008080; font-weight: bold\">14.5</span> │    <span style=\"color: #008080; text-decoration-color: #008080; font-weight: bold\">71</span> │ Japan  │ Datsun     │ PL510     │\n",
       "│ Chevrolet Vega 2300          │    <span style=\"color: #008080; text-decoration-color: #008080; font-weight: bold\">28.0</span> │         <span style=\"color: #008080; text-decoration-color: #008080; font-weight: bold\">4</span> │        <span style=\"color: #008080; text-decoration-color: #008080; font-weight: bold\">140.0</span> │       <span style=\"color: #008080; text-decoration-color: #008080; font-weight: bold\">90.0</span> │  <span style=\"color: #008080; text-decoration-color: #008080; font-weight: bold\">2264.0</span> │         <span style=\"color: #008080; text-decoration-color: #008080; font-weight: bold\">15.5</span> │    <span style=\"color: #008080; text-decoration-color: #008080; font-weight: bold\">71</span> │ US     │ Chevrolet  │ Vega      │\n",
       "│ Toyota Corolla               │    <span style=\"color: #008080; text-decoration-color: #008080; font-weight: bold\">25.0</span> │         <span style=\"color: #008080; text-decoration-color: #008080; font-weight: bold\">4</span> │        <span style=\"color: #008080; text-decoration-color: #008080; font-weight: bold\">113.0</span> │       <span style=\"color: #008080; text-decoration-color: #008080; font-weight: bold\">95.0</span> │  <span style=\"color: #008080; text-decoration-color: #008080; font-weight: bold\">2228.0</span> │         <span style=\"color: #008080; text-decoration-color: #008080; font-weight: bold\">14.0</span> │    <span style=\"color: #008080; text-decoration-color: #008080; font-weight: bold\">71</span> │ Japan  │ Toyota     │ Corolla   │\n",
       "│ <span style=\"color: #7f7f7f; text-decoration-color: #7f7f7f\">…</span>                            │       <span style=\"color: #7f7f7f; text-decoration-color: #7f7f7f\">…</span> │         <span style=\"color: #7f7f7f; text-decoration-color: #7f7f7f\">…</span> │            <span style=\"color: #7f7f7f; text-decoration-color: #7f7f7f\">…</span> │          <span style=\"color: #7f7f7f; text-decoration-color: #7f7f7f\">…</span> │       <span style=\"color: #7f7f7f; text-decoration-color: #7f7f7f\">…</span> │            <span style=\"color: #7f7f7f; text-decoration-color: #7f7f7f\">…</span> │     <span style=\"color: #7f7f7f; text-decoration-color: #7f7f7f\">…</span> │ <span style=\"color: #7f7f7f; text-decoration-color: #7f7f7f\">…</span>      │ <span style=\"color: #7f7f7f; text-decoration-color: #7f7f7f\">…</span>          │ <span style=\"color: #7f7f7f; text-decoration-color: #7f7f7f\">…</span>         │\n",
       "└──────────────────────────────┴─────────┴───────────┴──────────────┴────────────┴─────────┴──────────────┴───────┴────────┴────────────┴───────────┘\n",
       "</pre>\n"
      ],
      "text/plain": [
       "┏━━━━━━━━━━━━━━━━━━━━━━━━━━━━━━┳━━━━━━━━━┳━━━━━━━━━━━┳━━━━━━━━━━━━━━┳━━━━━━━━━━━━┳━━━━━━━━━┳━━━━━━━━━━━━━━┳━━━━━━━┳━━━━━━━━┳━━━━━━━━━━━━┳━━━━━━━━━━━┓\n",
       "┃\u001b[1m \u001b[0m\u001b[1mCar\u001b[0m\u001b[1m                         \u001b[0m\u001b[1m \u001b[0m┃\u001b[1m \u001b[0m\u001b[1mMPG\u001b[0m\u001b[1m    \u001b[0m\u001b[1m \u001b[0m┃\u001b[1m \u001b[0m\u001b[1mCylinders\u001b[0m\u001b[1m \u001b[0m┃\u001b[1m \u001b[0m\u001b[1mDisplacement\u001b[0m\u001b[1m \u001b[0m┃\u001b[1m \u001b[0m\u001b[1mHorsepower\u001b[0m\u001b[1m \u001b[0m┃\u001b[1m \u001b[0m\u001b[1mWeight\u001b[0m\u001b[1m \u001b[0m\u001b[1m \u001b[0m┃\u001b[1m \u001b[0m\u001b[1mAcceleration\u001b[0m\u001b[1m \u001b[0m┃\u001b[1m \u001b[0m\u001b[1mModel\u001b[0m\u001b[1m \u001b[0m┃\u001b[1m \u001b[0m\u001b[1mOrigin\u001b[0m\u001b[1m \u001b[0m┃\u001b[1m \u001b[0m\u001b[1mMake\u001b[0m\u001b[1m      \u001b[0m\u001b[1m \u001b[0m┃\u001b[1m \u001b[0m\u001b[1mModelName\u001b[0m\u001b[1m \u001b[0m┃\n",
       "┡━━━━━━━━━━━━━━━━━━━━━━━━━━━━━━╇━━━━━━━━━╇━━━━━━━━━━━╇━━━━━━━━━━━━━━╇━━━━━━━━━━━━╇━━━━━━━━━╇━━━━━━━━━━━━━━╇━━━━━━━╇━━━━━━━━╇━━━━━━━━━━━━╇━━━━━━━━━━━┩\n",
       "│ \u001b[2mstring\u001b[0m                       │ \u001b[2mfloat64\u001b[0m │ \u001b[2mint64\u001b[0m     │ \u001b[2mfloat64\u001b[0m      │ \u001b[2mfloat64\u001b[0m    │ \u001b[2mfloat64\u001b[0m │ \u001b[2mfloat64\u001b[0m      │ \u001b[2mint64\u001b[0m │ \u001b[2mstring\u001b[0m │ \u001b[2mstring\u001b[0m     │ \u001b[2mstring\u001b[0m    │\n",
       "├──────────────────────────────┼─────────┼───────────┼──────────────┼────────────┼─────────┼──────────────┼───────┼────────┼────────────┼───────────┤\n",
       "│ Toyota Corolla Mark ii       │    \u001b[1;36m24.0\u001b[0m │         \u001b[1;36m4\u001b[0m │        \u001b[1;36m113.0\u001b[0m │       \u001b[1;36m95.0\u001b[0m │  \u001b[1;36m2372.0\u001b[0m │         \u001b[1;36m15.0\u001b[0m │    \u001b[1;36m70\u001b[0m │ Japan  │ Toyota     │ Corolla   │\n",
       "│ Datsun PL510                 │    \u001b[1;36m27.0\u001b[0m │         \u001b[1;36m4\u001b[0m │         \u001b[1;36m97.0\u001b[0m │       \u001b[1;36m88.0\u001b[0m │  \u001b[1;36m2130.0\u001b[0m │         \u001b[1;36m14.5\u001b[0m │    \u001b[1;36m70\u001b[0m │ Japan  │ Datsun     │ PL510     │\n",
       "│ Volkswagen 1131 Deluxe Sedan │    \u001b[1;36m26.0\u001b[0m │         \u001b[1;36m4\u001b[0m │         \u001b[1;36m97.0\u001b[0m │       \u001b[1;36m46.0\u001b[0m │  \u001b[1;36m1835.0\u001b[0m │         \u001b[1;36m20.5\u001b[0m │    \u001b[1;36m70\u001b[0m │ Europe │ Volkswagen │ 1131      │\n",
       "│ Peugeot 504                  │    \u001b[1;36m25.0\u001b[0m │         \u001b[1;36m4\u001b[0m │        \u001b[1;36m110.0\u001b[0m │       \u001b[1;36m87.0\u001b[0m │  \u001b[1;36m2672.0\u001b[0m │         \u001b[1;36m17.5\u001b[0m │    \u001b[1;36m70\u001b[0m │ Europe │ Peugeot    │ 504       │\n",
       "│ Audi 100 LS                  │    \u001b[1;36m24.0\u001b[0m │         \u001b[1;36m4\u001b[0m │        \u001b[1;36m107.0\u001b[0m │       \u001b[1;36m90.0\u001b[0m │  \u001b[1;36m2430.0\u001b[0m │         \u001b[1;36m14.5\u001b[0m │    \u001b[1;36m70\u001b[0m │ Europe │ Audi       │ 100       │\n",
       "│ Saab 99e                     │    \u001b[1;36m25.0\u001b[0m │         \u001b[1;36m4\u001b[0m │        \u001b[1;36m104.0\u001b[0m │       \u001b[1;36m95.0\u001b[0m │  \u001b[1;36m2375.0\u001b[0m │         \u001b[1;36m17.5\u001b[0m │    \u001b[1;36m70\u001b[0m │ Europe │ Saab       │ 99e       │\n",
       "│ BMW 2002                     │    \u001b[1;36m26.0\u001b[0m │         \u001b[1;36m4\u001b[0m │        \u001b[1;36m121.0\u001b[0m │      \u001b[1;36m113.0\u001b[0m │  \u001b[1;36m2234.0\u001b[0m │         \u001b[1;36m12.5\u001b[0m │    \u001b[1;36m70\u001b[0m │ Europe │ BMW        │ 2002      │\n",
       "│ Datsun PL510                 │    \u001b[1;36m27.0\u001b[0m │         \u001b[1;36m4\u001b[0m │         \u001b[1;36m97.0\u001b[0m │       \u001b[1;36m88.0\u001b[0m │  \u001b[1;36m2130.0\u001b[0m │         \u001b[1;36m14.5\u001b[0m │    \u001b[1;36m71\u001b[0m │ Japan  │ Datsun     │ PL510     │\n",
       "│ Chevrolet Vega 2300          │    \u001b[1;36m28.0\u001b[0m │         \u001b[1;36m4\u001b[0m │        \u001b[1;36m140.0\u001b[0m │       \u001b[1;36m90.0\u001b[0m │  \u001b[1;36m2264.0\u001b[0m │         \u001b[1;36m15.5\u001b[0m │    \u001b[1;36m71\u001b[0m │ US     │ Chevrolet  │ Vega      │\n",
       "│ Toyota Corolla               │    \u001b[1;36m25.0\u001b[0m │         \u001b[1;36m4\u001b[0m │        \u001b[1;36m113.0\u001b[0m │       \u001b[1;36m95.0\u001b[0m │  \u001b[1;36m2228.0\u001b[0m │         \u001b[1;36m14.0\u001b[0m │    \u001b[1;36m71\u001b[0m │ Japan  │ Toyota     │ Corolla   │\n",
       "│ \u001b[2m…\u001b[0m                            │       \u001b[2m…\u001b[0m │         \u001b[2m…\u001b[0m │            \u001b[2m…\u001b[0m │          \u001b[2m…\u001b[0m │       \u001b[2m…\u001b[0m │            \u001b[2m…\u001b[0m │     \u001b[2m…\u001b[0m │ \u001b[2m…\u001b[0m      │ \u001b[2m…\u001b[0m          │ \u001b[2m…\u001b[0m         │\n",
       "└──────────────────────────────┴─────────┴───────────┴──────────────┴────────────┴─────────┴──────────────┴───────┴────────┴────────────┴───────────┘"
      ]
     },
     "execution_count": 24,
     "metadata": {},
     "output_type": "execute_result"
    }
   ],
   "source": [
    "min_mpg = 0\n",
    "max_cyl = 5\n",
    "condition = (cars['MPG'] > min_mpg) & (cars['Cylinders'] < max_cyl)\n",
    "\n",
    "cars.filter(condition)"
   ]
  }
 ],
 "metadata": {
  "kernelspec": {
   "display_name": "Py3.10 (analytics_dev)",
   "language": "python",
   "name": "analytics_dev"
  },
  "language_info": {
   "codemirror_mode": {
    "name": "ipython",
    "version": 3
   },
   "file_extension": ".py",
   "mimetype": "text/x-python",
   "name": "python",
   "nbconvert_exporter": "python",
   "pygments_lexer": "ipython3",
   "version": "3.10.11"
  }
 },
 "nbformat": 4,
 "nbformat_minor": 5
}
